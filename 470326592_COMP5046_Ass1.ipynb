{
  "nbformat": 4,
  "nbformat_minor": 0,
  "metadata": {
    "colab": {
      "name": "470326592_COMP5046_Ass1.ipynb",
      "provenance": [],
      "collapsed_sections": [],
      "toc_visible": true,
      "include_colab_link": true
    },
    "kernelspec": {
      "display_name": "Python 3",
      "name": "python3"
    }
  },
  "cells": [
    {
      "cell_type": "markdown",
      "metadata": {
        "id": "view-in-github",
        "colab_type": "text"
      },
      "source": [
        "<a href=\"https://colab.research.google.com/github/chenmingwei23/Sentiment-Analysis-using-Recurrent-Neural-Networks/blob/main/470326592_COMP5046_Ass1.ipynb\" target=\"_parent\"><img src=\"https://colab.research.google.com/assets/colab-badge.svg\" alt=\"Open In Colab\"/></a>"
      ]
    },
    {
      "cell_type": "markdown",
      "metadata": {
        "id": "MGHoy6KpQDfZ"
      },
      "source": [
        "# COMP5046 Assignment 1\n",
        "*Make sure you change the file name with your unikey.*"
      ]
    },
    {
      "cell_type": "markdown",
      "metadata": {
        "id": "qTf21j_oQIiD"
      },
      "source": [
        "# Readme\n",
        "*If there is something to be noted for the user, please mention here.* \n",
        "\n",
        "*If you are planning to implement a program with Object Oriented Programming style, please check the bottom of the this ipynb file*"
      ]
    },
    {
      "cell_type": "markdown",
      "metadata": {
        "id": "iXbQohXLKSgO"
      },
      "source": [
        "***Visualising the comparison of different results is a good way to justify your decision.***"
      ]
    },
    {
      "cell_type": "markdown",
      "metadata": {
        "id": "34DVNKgqQY21"
      },
      "source": [
        "# 1 - Data Preprocessing"
      ]
    },
    {
      "cell_type": "markdown",
      "metadata": {
        "id": "7cWUxAQrGlq6"
      },
      "source": [
        "## 1.1. Download Dataset"
      ]
    },
    {
      "cell_type": "markdown",
      "metadata": {
        "id": "Lr8o7UZxWf3Y"
      },
      "source": [
        "If you want to know how data has been saved in pickle file: see this [ipynb file](https://drive.google.com/file/d/1ZQUVBzgH7N2EbiyE3WTPx7JNe2eRTs36/view?usp=sharing)"
      ]
    },
    {
      "cell_type": "code",
      "metadata": {
        "colab": {
          "base_uri": "https://localhost:8080/"
        },
        "id": "U7C4snIcNl22",
        "outputId": "1d7af7ae-bd7a-4e0f-847b-70e3f90d741a"
      },
      "source": [
        "!pip install -U -q PyDrive\n",
        "from pydrive.auth import GoogleAuth\n",
        "from pydrive.drive import GoogleDrive\n",
        "from google.colab import auth\n",
        "from oauth2client.client import GoogleCredentials\n",
        "# Authenticate and create the PyDrive client.\n",
        "auth.authenticate_user()\n",
        "gauth = GoogleAuth()\n",
        "gauth.credentials = GoogleCredentials.get_application_default()\n",
        "drive = GoogleDrive(gauth)\n",
        "\n",
        "id = '1lTD6bgRkmwguGAr30v-r0KBPdtnVneLb'\n",
        "downloaded = drive.CreateFile({'id':id}) \n",
        "downloaded.GetContentFile('testing_data.pkl')  \n",
        "\n",
        "id = '1pCUdlZMoj99UZHtqFeza86fvVQfFmDFX'\n",
        "downloaded = drive.CreateFile({'id':id}) \n",
        "downloaded.GetContentFile('training_data.pkl')  \n",
        "\n",
        "\n",
        "\n",
        "\n",
        "import pickle\n",
        "training_data = pickle.load(open(\"training_data.pkl\",\"rb\"))\n",
        "testing_data = pickle.load(open(\"testing_data.pkl\",\"rb\"))\n",
        "\n",
        "print(\"------------------------------------\")\n",
        "print(\"Size of training dataset: {0}\".format(len(training_data)))\n",
        "print(\"Size of testing dataset: {0}\".format(len(testing_data)))\n",
        "print(\"------------------------------------\")\n",
        "\n",
        "print(\"------------------------------------\")\n",
        "print(\"Sample Data\")\n",
        "print(\"LABEL: {0} / SENTENCE: {1}\".format(training_data[0][0], training_data[0][1]))\n",
        "print(\"------------------------------------\")"
      ],
      "execution_count": null,
      "outputs": [
        {
          "output_type": "stream",
          "text": [
            "------------------------------------\n",
            "Size of training dataset: 8000\n",
            "Size of testing dataset: 2000\n",
            "------------------------------------\n",
            "------------------------------------\n",
            "Sample Data\n",
            "LABEL: neg / SENTENCE: hopeless for tmr :(\n",
            "------------------------------------\n"
          ],
          "name": "stdout"
        }
      ]
    },
    {
      "cell_type": "markdown",
      "metadata": {
        "id": "l9gBSgBCQh24"
      },
      "source": [
        "## 1.2. Preprocess data"
      ]
    },
    {
      "cell_type": "markdown",
      "metadata": {
        "id": "8RdKI8E2KRwe"
      },
      "source": [
        "\n",
        "\n",
        "*You are required to describe which data preprocessing techniques were conducted with justification of your decision. *"
      ]
    },
    {
      "cell_type": "code",
      "metadata": {
        "colab": {
          "base_uri": "https://localhost:8080/"
        },
        "id": "emyl1lWxGr12",
        "outputId": "8a4292bd-ad2b-4607-8ed6-09ce62ef728c"
      },
      "source": [
        "# Please comment your code\n",
        "import numpy as np\n",
        "\n",
        "## Here to create text and label list for train and test\n",
        "text_train = [s[1] for s in training_data]\n",
        "text_test = [s[1] for s in testing_data]\n",
        "label_train = [s[0] for s in training_data]\n",
        "label_test = [s[0] for s in testing_data]\n",
        "\n",
        "print(text_test[0])"
      ],
      "execution_count": null,
      "outputs": [
        {
          "output_type": "stream",
          "text": [
            "@AndreaMarySmith very helpful .... Or will be once I stop crying :(\n"
          ],
          "name": "stdout"
        }
      ]
    },
    {
      "cell_type": "markdown",
      "metadata": {
        "id": "tHyQM_axLS87"
      },
      "source": [
        "### **Process emojis, emoticons and punctuations**\n"
      ]
    },
    {
      "cell_type": "code",
      "metadata": {
        "id": "H3NM9HHTCcyw"
      },
      "source": [
        "## Here I used emot library created by Neel Shah.\n",
        "## He has put together a list of emoticons with the corresponding words as well as part of his Github repo. https://github.com/NeelShah18/emot\n",
        "## Because we are going to apply sentiment analysis, the emoticons give some valuable information and so removing them might not be a good solution.\n",
        "## For this reason, I converted the emoticons to specific description words according to Neel's library.\n",
        "EMOTICONS_WORD = {\n",
        "    u\":‑\\)\":\"Happy face or smiley\",\n",
        "    u\":\\)\":\"Happy face or smiley\",\n",
        "    u\":-\\]\":\"Happy face or smiley\",\n",
        "    u\":\\]\":\"Happy face or smiley\",\n",
        "    u\":-3\":\"Happy face smiley\",\n",
        "    u\":3\":\"Happy face smiley\",\n",
        "    u\":->\":\"Happy face smiley\",\n",
        "    u\":>\":\"Happy face smiley\",\n",
        "    u\"8-\\)\":\"Happy face smiley\",\n",
        "    u\":o\\)\":\"Happy face smiley\",\n",
        "    u\":-\\}\":\"Happy face smiley\",\n",
        "    u\":\\}\":\"Happy face smiley\",\n",
        "    u\":-\\)\":\"Happy face smiley\",\n",
        "    u\":c\\)\":\"Happy face smiley\",\n",
        "    u\":\\^\\)\":\"Happy face smiley\",\n",
        "    u\"=\\]\":\"Happy face smiley\",\n",
        "    u\"=\\)\":\"Happy face smiley\",\n",
        "    u\":‑D\":\"Laughing, big grin or laugh with glasses\",\n",
        "    u\":D\":\"Laughing, big grin or laugh with glasses\",\n",
        "    u\"8‑D\":\"Laughing, big grin or laugh with glasses\",\n",
        "    u\"8D\":\"Laughing, big grin or laugh with glasses\",\n",
        "    u\"X‑D\":\"Laughing, big grin or laugh with glasses\",\n",
        "    u\"XD\":\"Laughing, big grin or laugh with glasses\",\n",
        "    u\"=D\":\"Laughing, big grin or laugh with glasses\",\n",
        "    u\"=3\":\"Laughing, big grin or laugh with glasses\",\n",
        "    u\"B\\^D\":\"Laughing, big grin or laugh with glasses\",\n",
        "    u\":-\\)\\)\":\"Very happy\",\n",
        "    u\":‑\\(\":\"Frown, sad, andry or pouting\",\n",
        "    u\":-\\(\":\"Frown, sad, andry or pouting\",\n",
        "    u\":\\(\":\"Frown, sad, andry or pouting\",\n",
        "    u\":‑c\":\"Frown, sad, andry or pouting\",\n",
        "    u\":c\":\"Frown, sad, andry or pouting\",\n",
        "    u\":‑<\":\"Frown, sad, andry or pouting\",\n",
        "    u\":<\":\"Frown, sad, andry or pouting\",\n",
        "    u\":‑\\[\":\"Frown, sad, andry or pouting\",\n",
        "    u\":\\[\":\"Frown, sad, andry or pouting\",\n",
        "    u\":-\\|\\|\":\"Frown, sad, andry or pouting\",\n",
        "    u\">:\\[\":\"Frown, sad, andry or pouting\",\n",
        "    u\":\\{\":\"Frown, sad, andry or pouting\",\n",
        "    u\":@\":\"Frown, sad, andry or pouting\",\n",
        "    u\">:\\(\":\"Frown, sad, andry or pouting\",\n",
        "    u\":'‑\\(\":\"Crying\",\n",
        "    u\":'\\(\":\"Crying\",\n",
        "    u\":'‑\\)\":\"Tears of happiness\",\n",
        "    u\":'\\)\":\"Tears of happiness\",\n",
        "    u\"D‑':\":\"Horror\",\n",
        "    u\"D:<\":\"Disgust\",\n",
        "    u\"D:\":\"Sadness\",\n",
        "    u\"D8\":\"Great dismay\",\n",
        "    u\"D;\":\"Great dismay\",\n",
        "    u\"D=\":\"Great dismay\",\n",
        "    u\"DX\":\"Great dismay\",\n",
        "    u\":‑O\":\"Surprise\",\n",
        "    u\":O\":\"Surprise\",\n",
        "    u\":‑o\":\"Surprise\",\n",
        "    u\":o\":\"Surprise\",\n",
        "    u\":-0\":\"Shock\",\n",
        "    u\"8‑0\":\"Yawn\",\n",
        "    u\">:O\":\"Yawn\",\n",
        "    u\":-\\*\":\"Kiss\",\n",
        "    u\":\\*\":\"Kiss\",\n",
        "    u\":X\":\"Kiss\",\n",
        "    u\";‑\\)\":\"Wink or smirk\",\n",
        "    u\";\\)\":\"Wink or smirk\",\n",
        "    u\"\\*-\\)\":\"Wink or smirk\",\n",
        "    u\"\\*\\)\":\"Wink or smirk\",\n",
        "    u\";‑\\]\":\"Wink or smirk\",\n",
        "    u\";\\]\":\"Wink or smirk\",\n",
        "    u\";\\^\\)\":\"Wink or smirk\",\n",
        "    u\":‑,\":\"Wink or smirk\",\n",
        "    u\";D\":\"Wink or smirk\",\n",
        "    u\":‑P\":\"Tongue sticking out, cheeky, playful or blowing a raspberry\",\n",
        "    u\":P\":\"Tongue sticking out, cheeky, playful or blowing a raspberry\",\n",
        "    u\"X‑P\":\"Tongue sticking out, cheeky, playful or blowing a raspberry\",\n",
        "    u\"XP\":\"Tongue sticking out, cheeky, playful or blowing a raspberry\",\n",
        "    u\":‑Þ\":\"Tongue sticking out, cheeky, playful or blowing a raspberry\",\n",
        "    u\":Þ\":\"Tongue sticking out, cheeky, playful or blowing a raspberry\",\n",
        "    u\":b\":\"Tongue sticking out, cheeky, playful or blowing a raspberry\",\n",
        "    u\"d:\":\"Tongue sticking out, cheeky, playful or blowing a raspberry\",\n",
        "    u\"=p\":\"Tongue sticking out, cheeky, playful or blowing a raspberry\",\n",
        "    u\">:P\":\"Tongue sticking out, cheeky, playful or blowing a raspberry\",\n",
        "    u\":‑/\":\"Skeptical, annoyed, undecided, uneasy or hesitant\",\n",
        "    u\":/\":\"Skeptical, annoyed, undecided, uneasy or hesitant\",\n",
        "    u\":-[.]\":\"Skeptical, annoyed, undecided, uneasy or hesitant\",\n",
        "    u\">:[(\\\\\\)]\":\"Skeptical, annoyed, undecided, uneasy or hesitant\",\n",
        "    u\">:/\":\"Skeptical, annoyed, undecided, uneasy or hesitant\",\n",
        "    u\":[(\\\\\\)]\":\"Skeptical, annoyed, undecided, uneasy or hesitant\",\n",
        "    u\"=/\":\"Skeptical, annoyed, undecided, uneasy or hesitant\",\n",
        "    u\"=[(\\\\\\)]\":\"Skeptical, annoyed, undecided, uneasy or hesitant\",\n",
        "    u\":L\":\"Skeptical, annoyed, undecided, uneasy or hesitant\",\n",
        "    u\"=L\":\"Skeptical, annoyed, undecided, uneasy or hesitant\",\n",
        "    u\":S\":\"Skeptical, annoyed, undecided, uneasy or hesitant\",\n",
        "    u\":‑\\|\":\"Straight face\",\n",
        "    u\":\\|\":\"Straight face\",\n",
        "    u\":$\":\"Embarrassed or blushing\",\n",
        "    u\":‑x\":\"Sealed lips or wearing braces or tongue-tied\",\n",
        "    u\":x\":\"Sealed lips or wearing braces or tongue-tied\",\n",
        "    u\":‑#\":\"Sealed lips or wearing braces or tongue-tied\",\n",
        "    u\":#\":\"Sealed lips or wearing braces or tongue-tied\",\n",
        "    u\":‑&\":\"Sealed lips or wearing braces or tongue-tied\",\n",
        "    u\":&\":\"Sealed lips or wearing braces or tongue-tied\",\n",
        "    u\"O:‑\\)\":\"Angel, saint or innocent\",\n",
        "    u\"O:\\)\":\"Angel, saint or innocent\",\n",
        "    u\"0:‑3\":\"Angel, saint or innocent\",\n",
        "    u\"0:3\":\"Angel, saint or innocent\",\n",
        "    u\"0:‑\\)\":\"Angel, saint or innocent\",\n",
        "    u\"0:\\)\":\"Angel, saint or innocent\",\n",
        "    u\":‑b\":\"Tongue sticking out, cheeky, playful or blowing a raspberry\",\n",
        "    u\"0;\\^\\)\":\"Angel, saint or innocent\",\n",
        "    u\">:‑\\)\":\"Evil or devilish\",\n",
        "    u\">:\\)\":\"Evil or devilish\",\n",
        "    u\"\\}:‑\\)\":\"Evil or devilish\",\n",
        "    u\"\\}:\\)\":\"Evil or devilish\",\n",
        "    u\"3:‑\\)\":\"Evil or devilish\",\n",
        "    u\"3:\\)\":\"Evil or devilish\",\n",
        "    u\">;\\)\":\"Evil or devilish\",\n",
        "    u\"\\|;‑\\)\":\"Cool\",\n",
        "    u\"\\|‑O\":\"Bored\",\n",
        "    u\":‑J\":\"Tongue-in-cheek\",\n",
        "    u\"#‑\\)\":\"Party all night\",\n",
        "    u\"%‑\\)\":\"Drunk or confused\",\n",
        "    u\"%\\)\":\"Drunk or confused\",\n",
        "    u\":-###..\":\"Being sick\",\n",
        "    u\":###..\":\"Being sick\",\n",
        "    u\"<:‑\\|\":\"Dump\",\n",
        "    u\"\\(>_<\\)\":\"Troubled\",\n",
        "    u\"\\(>_<\\)>\":\"Troubled\",\n",
        "    u\"\\(';'\\)\":\"Baby\",\n",
        "    u\"\\(\\^\\^>``\":\"Nervous or Embarrassed or Troubled or Shy or Sweat drop\",\n",
        "    u\"\\(\\^_\\^;\\)\":\"Nervous or Embarrassed or Troubled or Shy or Sweat drop\",\n",
        "    u\"\\(-_-;\\)\":\"Nervous or Embarrassed or Troubled or Shy or Sweat drop\",\n",
        "    u\"\\(~_~;\\) \\(・\\.・;\\)\":\"Nervous or Embarrassed or Troubled or Shy or Sweat drop\",\n",
        "    u\"\\(-_-\\)zzz\":\"Sleeping\",\n",
        "    u\"\\(\\^_-\\)\":\"Wink\",\n",
        "    u\"\\(\\(\\+_\\+\\)\\)\":\"Confused\",\n",
        "    u\"\\(\\+o\\+\\)\":\"Confused\",\n",
        "    u\"\\(o\\|o\\)\":\"Ultraman\",\n",
        "    u\"\\^_\\^\":\"Joyful\",\n",
        "    u\"\\(\\^_\\^\\)/\":\"Joyful\",\n",
        "    u\"\\(\\^O\\^\\)／\":\"Joyful\",\n",
        "    u\"\\(\\^o\\^\\)／\":\"Joyful\",\n",
        "    u\"\\(__\\)\":\"Kowtow as a sign of respect, or dogeza for apology\",\n",
        "    u\"_\\(\\._\\.\\)_\":\"Kowtow as a sign of respect, or dogeza for apology\",\n",
        "    u\"<\\(_ _\\)>\":\"Kowtow as a sign of respect, or dogeza for apology\",\n",
        "    u\"<m\\(__\\)m>\":\"Kowtow as a sign of respect, or dogeza for apology\",\n",
        "    u\"m\\(__\\)m\":\"Kowtow as a sign of respect, or dogeza for apology\",\n",
        "    u\"m\\(_ _\\)m\":\"Kowtow as a sign of respect, or dogeza for apology\",\n",
        "    u\"\\('_'\\)\":\"Sad or Crying\",\n",
        "    u\"\\(/_;\\)\":\"Sad or Crying\",\n",
        "    u\"\\(T_T\\) \\(;_;\\)\":\"Sad or Crying\",\n",
        "    u\"\\(;_;\":\"Sad of Crying\",\n",
        "    u\"\\(;_:\\)\":\"Sad or Crying\",\n",
        "    u\"\\(;O;\\)\":\"Sad or Crying\",\n",
        "    u\"\\(:_;\\)\":\"Sad or Crying\",\n",
        "    u\"\\(ToT\\)\":\"Sad or Crying\",\n",
        "    u\";_;\":\"Sad or Crying\",\n",
        "    u\";-;\":\"Sad or Crying\",\n",
        "    u\";n;\":\"Sad or Crying\",\n",
        "    u\";;\":\"Sad or Crying\",\n",
        "    u\"Q\\.Q\":\"Sad or Crying\",\n",
        "    u\"T\\.T\":\"Sad or Crying\",\n",
        "    u\"QQ\":\"Sad or Crying\",\n",
        "    u\"Q_Q\":\"Sad or Crying\",\n",
        "    u\"\\(-\\.-\\)\":\"Shame\",\n",
        "    u\"\\(-_-\\)\":\"Shame\",\n",
        "    u\"\\(一一\\)\":\"Shame\",\n",
        "    u\"\\(；一_一\\)\":\"Shame\",\n",
        "    u\"\\(=_=\\)\":\"Tired\",\n",
        "    u\"\\(=\\^\\·\\^=\\)\":\"cat\",\n",
        "    u\"\\(=\\^\\·\\·\\^=\\)\":\"cat\",\n",
        "    u\"=_\\^=\t\":\"cat\",\n",
        "    u\"\\(\\.\\.\\)\":\"Looking down\",\n",
        "    u\"\\(\\._\\.\\)\":\"Looking down\",\n",
        "    u\"\\^m\\^\":\"Giggling with hand covering mouth\",\n",
        "    u\"\\(\\・\\・?\":\"Confusion\",\n",
        "    u\"\\(?_?\\)\":\"Confusion\",\n",
        "    u\">\\^_\\^<\":\"Normal Laugh\",\n",
        "    u\"<\\^!\\^>\":\"Normal Laugh\",\n",
        "    u\"\\^/\\^\":\"Normal Laugh\",\n",
        "    u\"\\（\\*\\^_\\^\\*）\" :\"Normal Laugh\",\n",
        "    u\"\\(\\^<\\^\\) \\(\\^\\.\\^\\)\":\"Normal Laugh\",\n",
        "    u\"\\(^\\^\\)\":\"Normal Laugh\",\n",
        "    u\"\\(\\^\\.\\^\\)\":\"Normal Laugh\",\n",
        "    u\"\\(\\^_\\^\\.\\)\":\"Normal Laugh\",\n",
        "    u\"\\(\\^_\\^\\)\":\"Normal Laugh\",\n",
        "    u\"\\(\\^\\^\\)\":\"Normal Laugh\",\n",
        "    u\"\\(\\^J\\^\\)\":\"Normal Laugh\",\n",
        "    u\"\\(\\*\\^\\.\\^\\*\\)\":\"Normal Laugh\",\n",
        "    u\"\\(\\^—\\^\\）\":\"Normal Laugh\",\n",
        "    u\"\\(#\\^\\.\\^#\\)\":\"Normal Laugh\",\n",
        "    u\"\\（\\^—\\^\\）\":\"Waving\",\n",
        "    u\"\\(;_;\\)/~~~\":\"Waving\",\n",
        "    u\"\\(\\^\\.\\^\\)/~~~\":\"Waving\",\n",
        "    u\"\\(-_-\\)/~~~ \\($\\·\\·\\)/~~~\":\"Waving\",\n",
        "    u\"\\(T_T\\)/~~~\":\"Waving\",\n",
        "    u\"\\(ToT\\)/~~~\":\"Waving\",\n",
        "    u\"\\(\\*\\^0\\^\\*\\)\":\"Excited\",\n",
        "    u\"\\(\\*_\\*\\)\":\"Amazed\",\n",
        "    u\"\\(\\*_\\*;\":\"Amazed\",\n",
        "    u\"\\(\\+_\\+\\) \\(@_@\\)\":\"Amazed\",\n",
        "    u\"\\(\\*\\^\\^\\)v\":\"Laughing,Cheerful\",\n",
        "    u\"\\(\\^_\\^\\)v\":\"Laughing,Cheerful\",\n",
        "    u\"\\(\\(d[-_-]b\\)\\)\":\"Headphones,Listening to music\",\n",
        "    u'\\(-\"-\\)':\"Worried\",\n",
        "    u\"\\(ーー;\\)\":\"Worried\",\n",
        "    u\"\\(\\^0_0\\^\\)\":\"Eyeglasses\",\n",
        "    u\"\\(\\＾ｖ\\＾\\)\":\"Happy\",\n",
        "    u\"\\(\\＾ｕ\\＾\\)\":\"Happy\",\n",
        "    u\"\\(\\^\\)o\\(\\^\\)\":\"Happy\",\n",
        "    u\"\\(\\^O\\^\\)\":\"Happy\",\n",
        "    u\"\\(\\^o\\^\\)\":\"Happy\",\n",
        "    u\"\\)\\^o\\^\\(\":\"Happy\",\n",
        "    u\":O o_O\":\"Surprised\",\n",
        "    u\"o_0\":\"Surprised\",\n",
        "    u\"o\\.O\":\"Surpised\",\n",
        "    u\"\\(o\\.o\\)\":\"Surprised\",\n",
        "    u\"oO\":\"Surprised\",\n",
        "    u\"\\(\\*￣m￣\\)\":\"Dissatisfied\",\n",
        "    u\"\\(‘A`\\)\":\"Snubbed or Deflated\"\n",
        "}\n",
        "\n",
        "EMOTICONS = r\"\"\"\n",
        "    (?:\n",
        "      [<>]?\n",
        "      [:;=8]                     # eyes\n",
        "      [\\-o\\*\\']?                 # optional nose\n",
        "      [\\)\\]\\(\\[dDpP/\\:\\}\\{@\\|\\\\] # mouth\n",
        "      |\n",
        "      [\\)\\]\\(\\[dDpP/\\:\\}\\{@\\|\\\\] # mouth\n",
        "      [\\-o\\*\\']?                 # optional nose\n",
        "      [:;=8]                     # eyes\n",
        "      [<>]?\n",
        "      |\n",
        "      <3                         # heart\n",
        "    )\"\"\"\n",
        "\n",
        "contraction_dict = {\"ain't\": \"is not\", \"aren't\": \"are not\",\"can't\": \"cannot\", \"'cause\": \"because\", \"could've\": \"could have\", \n",
        "                    \"couldn't\": \"could not\", \"didn't\": \"did not\",  \"doesn't\": \"does not\", \"don't\": \"do not\", \"hadn't\": \"had not\", \n",
        "                    \"hasn't\": \"has not\", \"haven't\": \"have not\", \"he'd\": \"he would\",\"he'll\": \"he will\", \"he's\": \"he is\", \"how'd\": \"how did\", \n",
        "                    \"how'd'y\": \"how do you\", \"how'll\": \"how will\", \"how's\": \"how is\",  \"I'd\": \"I would\", \"I'd've\": \"I would have\", \n",
        "                    \"I'll\": \"I will\", \"I'll've\": \"I will have\",\"I'm\": \"I am\", \"I've\": \"I have\", \"i'd\": \"i would\", \"i'd've\": \"i would have\", \n",
        "                    \"i'll\": \"i will\",  \"i'll've\": \"i will have\",\"i'm\": \"i am\", \"i've\": \"i have\", \"isn't\": \"is not\", \"it'd\": \"it would\", \n",
        "                    \"it'd've\": \"it would have\", \"it'll\": \"it will\", \"it'll've\": \"it will have\",\"it's\": \"it is\", \"let's\": \"let us\", \n",
        "                    \"ma'am\": \"madam\", \"mayn't\": \"may not\", \"might've\": \"might have\",\"mightn't\": \"might not\",\"mightn't've\": \"might not have\", \n",
        "                    \"must've\": \"must have\", \"mustn't\": \"must not\", \"mustn't've\": \"must not have\", \"needn't\": \"need not\", \"needn't've\": \"need not have\",\n",
        "                    \"o'clock\": \"of the clock\", \"oughtn't\": \"ought not\", \"oughtn't've\": \"ought not have\", \"shan't\": \"shall not\", \"sha'n't\": \"shall not\", \n",
        "                    \"shan't've\": \"shall not have\", \"she'd\": \"she would\", \"she'd've\": \"she would have\", \"she'll\": \"she will\", \"she'll've\": \"she will have\", \n",
        "                    \"she's\": \"she is\", \"should've\": \"should have\", \"shouldn't\": \"should not\", \"shouldn't've\": \"should not have\", \"so've\": \"so have\",\n",
        "                    \"so's\": \"so as\", \"this's\": \"this is\",\"that'd\": \"that would\", \"that'd've\": \"that would have\", \"that's\": \"that is\", \"there'd\": \"there would\", \n",
        "                    \"there'd've\": \"there would have\", \"there's\": \"there is\", \"here's\": \"here is\",\"they'd\": \"they would\", \"they'd've\": \"they would have\", \n",
        "                    \"they'll\": \"they will\", \"they'll've\": \"they will have\", \"they're\": \"they are\", \"they've\": \"they have\", \"to've\": \"to have\", \"wasn't\": \"was not\", \n",
        "                    \"we'd\": \"we would\", \"we'd've\": \"we would have\", \"we'll\": \"we will\", \"we'll've\": \"we will have\", \"we're\": \"we are\", \"we've\": \"we have\", \n",
        "                    \"weren't\": \"were not\", \"what'll\": \"what will\", \"what'll've\": \"what will have\", \"what're\": \"what are\",  \"what's\": \"what is\", \"what've\": \"what have\", \n",
        "                    \"when's\": \"when is\", \"when've\": \"when have\", \"where'd\": \"where did\", \"where's\": \"where is\", \"where've\": \"where have\", \"who'll\": \"who will\", \n",
        "                    \"who'll've\": \"who will have\", \"who's\": \"who is\", \"who've\": \"who have\", \"why's\": \"why is\", \"why've\": \"why have\", \"will've\": \"will have\", \n",
        "                    \"won't\": \"will not\", \"won't've\": \"will not have\", \"would've\": \"would have\", \"wouldn't\": \"would not\", \"wouldn't've\": \"would not have\", \n",
        "                    \"y'all\": \"you all\", \"y'all'd\": \"you all would\",\"y'all'd've\": \"you all would have\",\"y'all're\": \"you all are\",\"y'all've\": \"you all have\",\n",
        "                    \"you'd\": \"you would\", \"you'd've\": \"you would have\", \"you'll\": \"you will\", \"you'll've\": \"you will have\", \"you're\": \"you are\", \"you've\": \"you have\"} \n",
        "\n",
        "puncts = [',', '.', '\"', ':', ')', '(', '-', '!', '?', '|', ';', \"'\", '$', '&', '/', '[', ']', '>', '%', '=', '#', '*', '+', '\\\\', '•',  '~', '@', '£', \n",
        " '·', '_', '{', '}', '©', '^', '®', '`',  '<', '→', '°', '€', '™', '›',  '♥', '←', '×', '§', '″', '′', 'Â', '█', '½', 'à', '…', \n",
        " '“', '★', '”', '–', '●', 'â', '►', '−', '¢', '²', '¬', '░', '¶', '↑', '±', '¿', '▾', '═', '¦', '║', '―', '¥', '▓', '—', '‹', '─', \n",
        " '▒', '：', '¼', '⊕', '▼', '▪', '†', '■', '’', '▀', '¨', '▄', '♫', '☆', 'é', '¯', '♦', '¤', '▲', 'è', '¸', '¾', 'Ã', '⋅', '‘', '∞', \n",
        " '∙', '）', '↓', '、', '│', '（', '»', '，', '♪', '╩', '╚', '³', '・', '╦', '╣', '╔', '╗', '▬', '❤', 'ï', 'Ø', '¹', '≤', '‡', '√', ]"
      ],
      "execution_count": null,
      "outputs": []
    },
    {
      "cell_type": "code",
      "metadata": {
        "colab": {
          "base_uri": "https://localhost:8080/"
        },
        "id": "p4cynDq9LW2t",
        "outputId": "9e7c29cc-e28f-47f2-92c1-7d3875ba3be3"
      },
      "source": [
        "import re\n",
        "\n",
        "## Here to remove the punctuation\n",
        "## Replace the contraction first \n",
        "def remove_punctuation(text):\n",
        "    x = str(text)\n",
        "    #Remove user name first!\n",
        "    x = re.sub('@[^\\s]+','',x)\n",
        "    #Remove \\n\n",
        "    x = re.sub(\"\\n\",\"\",x)\n",
        "    for word, initial in contraction_dict.items():\n",
        "      x = x.replace(word, initial)\n",
        "    for punct in puncts:\n",
        "        if punct in x:\n",
        "            x = x.replace(punct, '')\n",
        "    return x\n",
        "\n",
        "## Here to convert emoticons to words\n",
        "def convert_emoticons(text):\n",
        "    for emot in EMOTICONS_WORD:\n",
        "      text = re.sub(u'('+emot+')', \"_\".join(EMOTICONS_WORD[emot].replace(\",\",\"\").split()), text)\n",
        "    return text\n",
        "\n",
        "\n",
        "##  Here to remove emoticons\n",
        "def remove_emoticons(text):\n",
        "   emoticon_pattern = re.compile(EMOTICONS, re.VERBOSE)\n",
        "   return emoticon_pattern.sub(r'', text)\n",
        "\n",
        "## Here to convert emojis\n",
        "## Reference : https://gist.github.com/slowkow/7a7f61f495e3dbb7e3d767f97bd7304b\n",
        "def remove_emoji(string):\n",
        "    emoji_pattern = re.compile(\"[\"\n",
        "                  u\"\\U0001F600-\\U0001F64F\"  # emoticons\n",
        "                  u\"\\U0001F300-\\U0001F5FF\"  # symbols & pictographs\n",
        "                  u\"\\U0001F680-\\U0001F6FF\"  # transport & map symbols\n",
        "                  u\"\\U0001F1E0-\\U0001F1FF\"  # flags (iOS)\n",
        "                  u\"\\U00002500-\\U00002BEF\"  # chinese char\n",
        "                  u\"\\U00002702-\\U000027B0\"\n",
        "                  u\"\\U00002702-\\U000027B0\"\n",
        "                  u\"\\U000024C2-\\U0001F251\"\n",
        "                  u\"\\U0001f926-\\U0001f937\"\n",
        "                  u\"\\U00010000-\\U0010ffff\"\n",
        "                  u\"\\u2640-\\u2642\"\n",
        "                  u\"\\u2600-\\u2B55\"\n",
        "                  u\"\\u200d\"\n",
        "                  u\"\\u23cf\"\n",
        "                  u\"\\u23e9\"\n",
        "                  u\"\\u231a\"\n",
        "                  u\"\\ufe0f\"  # dingbats\n",
        "                  u\"\\u3030\"\n",
        "                  \"]+\", flags=re.UNICODE)\n",
        "    return emoji_pattern.sub(r'', string)\n",
        "\n",
        "## The punctuation removal's order is:\n",
        "##        1. Remove emojis\n",
        "##        2. Convert emoticons to its represented word\n",
        "##        3. Remove punctuations\n",
        "## Defferences between remove_with_emotioncons & remove_without_emoticons:\n",
        "##      text = \"It ain't a nice day[] :(\"\n",
        "##      remove_with_emoticons(text) = It is not a nice day Frownsadandryorpouting\n",
        "##      remove_without_emoticons = It is not a nice day\n",
        "def remove_with_emoticons(text):\n",
        "  text = remove_emoji(text)\n",
        "  text = convert_emoticons(text)\n",
        "  text = remove_punctuation(text)\n",
        "  return text\n",
        "\n",
        "def remove_without_emoticons(text):\n",
        "  text = remove_emoji(text)\n",
        "  text = remove_emoticons(text)\n",
        "  text = remove_punctuation(text)\n",
        "  return text\n",
        "\n",
        "## text_train and text_test with emoticons convereted are for lexicon embeddinga and RNN sequenc model\n",
        "text_train_withemoticons = [remove_with_emoticons(s) for s in text_train]\n",
        "text_test_withemoticons = [remove_with_emoticons(s) for s in text_test]\n",
        "\n",
        "## text_train and text_test without emoticons are for CBOW training section\n",
        "text_train_withoutemoticons = [remove_without_emoticons(s) for s in text_train]\n",
        "text_test_withoutemoticons = [remove_without_emoticons(s) for s in text_test]\n",
        "\n",
        "print(text_train[:5])\n",
        "print(text_train_withoutemoticons[:5])\n"
      ],
      "execution_count": null,
      "outputs": [
        {
          "output_type": "stream",
          "text": [
            "['hopeless for tmr :(', \"Everything in the kids section of IKEA is so cute. Shame I'm nearly 19 in 2 months :(\", '@Hegelbon That heart sliding into the waste basket. :(', '“@ketchBurning: I hate Japanese call him \"bani\" :( :(”\\n\\nMe too', 'Dang starting next week I have \"work\" :(']\n",
            "['hopeless for tmr ', 'Everything in the kids section of IKEA is so cute Shame I am nearly 19 in 2 months ', ' That heart sliding into the waste basket ', ' I hate Japanese call him bani  Me too', 'Dang starting next week I have work ']\n"
          ],
          "name": "stdout"
        }
      ]
    },
    {
      "cell_type": "markdown",
      "metadata": {
        "id": "8-hqmL7Zwy3C"
      },
      "source": [
        "### **Lower Casing**\n"
      ]
    },
    {
      "cell_type": "code",
      "metadata": {
        "id": "sqzQoippw6Lk"
      },
      "source": [
        "## Case-Folding\n",
        "text_train_lc = [s.lower() for s in text_train_withemoticons]\n",
        "text_test_lc = [s.lower() for s in text_test_withemoticons]\n",
        "\n",
        "text_train_withoutemoticons = [s.lower() for s in text_train_withoutemoticons]\n",
        "text_test_withoutemoticons = [s.lower() for s in text_test_withoutemoticons]\n"
      ],
      "execution_count": null,
      "outputs": []
    },
    {
      "cell_type": "markdown",
      "metadata": {
        "id": "9mv0aIjvFUpv"
      },
      "source": [
        "### **Remove numbers**"
      ]
    },
    {
      "cell_type": "code",
      "metadata": {
        "colab": {
          "base_uri": "https://localhost:8080/"
        },
        "id": "tJGVkU_rFUCU",
        "outputId": "71d609cd-f3a4-4cad-df92-6df4ea438aed"
      },
      "source": [
        "def remove_numbers(text):\n",
        "  text_nonum = re.sub(r'\\d+', '', text)\n",
        "  return text_nonum\n",
        "\n",
        "text_train_rn = [remove_numbers(s) for s in text_train_lc]\n",
        "text_test_rn = [remove_numbers(s) for s in text_test_lc]\n",
        "\n",
        "print(text_train_rn[:5])\n",
        "print(text_test_rn[:5])"
      ],
      "execution_count": null,
      "outputs": [
        {
          "output_type": "stream",
          "text": [
            "['hopeless for tmr frownsadandryorpouting', 'everything in the kids section of ikea is so cute shame i am nearly  in  months frownsadandryorpouting', ' that heart sliding into the waste basket frownsadandryorpouting', ' i hate japanese call him bani frownsadandryorpouting frownsadandryorpoutingme too', 'dang starting next week i have work frownsadandryorpouting']\n",
            "[' very helpful  or will be once i stop crying frownsadandryorpouting', ' otl nevermind frownsadandryorpouting at least i got jeon so', 'and as soon as i tweeted that she planted her claws in my thigh for traction and zoomed away frownsadandryorpouting', ' damnit frownsadandryorpouting', ' i used to be prypv  wish i could relive those days and become nycpv buy there is no way to communicate with nyc or usa klm frownsadandryorpouting']\n"
          ],
          "name": "stdout"
        }
      ]
    },
    {
      "cell_type": "markdown",
      "metadata": {
        "id": "64WeiutB76rF"
      },
      "source": [
        "### **Remove URLs** "
      ]
    },
    {
      "cell_type": "code",
      "metadata": {
        "id": "DaQhEWVf797x"
      },
      "source": [
        "def remove_urls(text):\n",
        "    url_pattern = re.compile(r'https?\\S+|www\\S+')\n",
        "    return url_pattern.sub(r'', text)\n",
        "\n",
        "text_train_ru = [remove_urls(s) for s in text_train_rn]\n",
        "text_test_ru = [remove_urls(s) for s in text_test_rn]"
      ],
      "execution_count": null,
      "outputs": []
    },
    {
      "cell_type": "markdown",
      "metadata": {
        "id": "aDDyRm0WCdFs"
      },
      "source": [
        "### **Tokenization**"
      ]
    },
    {
      "cell_type": "code",
      "metadata": {
        "colab": {
          "base_uri": "https://localhost:8080/"
        },
        "id": "xSY271cTCvj1",
        "outputId": "e3ac346e-080e-4991-d9e0-3d56a8607be9"
      },
      "source": [
        "import nltk\n",
        "nltk.download('punkt')\n",
        "\n",
        "from nltk.tokenize import word_tokenize\n",
        "\n",
        "text_train_tk = [word_tokenize(s) for s in text_train_ru]\n",
        "text_test_tk = [word_tokenize(s) for s in text_test_ru]\n",
        "\n",
        "print(text_test_tk[:5])"
      ],
      "execution_count": null,
      "outputs": [
        {
          "output_type": "stream",
          "text": [
            "[nltk_data] Downloading package punkt to /root/nltk_data...\n",
            "[nltk_data]   Package punkt is already up-to-date!\n",
            "[['very', 'helpful', 'or', 'will', 'be', 'once', 'i', 'stop', 'crying', 'frownsadandryorpouting'], ['otl', 'nevermind', 'frownsadandryorpouting', 'at', 'least', 'i', 'got', 'jeon', 'so'], ['and', 'as', 'soon', 'as', 'i', 'tweeted', 'that', 'she', 'planted', 'her', 'claws', 'in', 'my', 'thigh', 'for', 'traction', 'and', 'zoomed', 'away', 'frownsadandryorpouting'], ['damnit', 'frownsadandryorpouting'], ['i', 'used', 'to', 'be', 'prypv', 'wish', 'i', 'could', 'relive', 'those', 'days', 'and', 'become', 'nycpv', 'buy', 'there', 'is', 'no', 'way', 'to', 'communicate', 'with', 'nyc', 'or', 'usa', 'klm', 'frownsadandryorpouting']]\n"
          ],
          "name": "stdout"
        }
      ]
    },
    {
      "cell_type": "markdown",
      "metadata": {
        "id": "ijgTS6KOw5z8"
      },
      "source": [
        "### **Remove stopwords**"
      ]
    },
    {
      "cell_type": "code",
      "metadata": {
        "colab": {
          "base_uri": "https://localhost:8080/"
        },
        "id": "cr4xXR_mDOyO",
        "outputId": "8256f956-73ad-4885-e3d9-a788d23d3dc7"
      },
      "source": [
        "nltk.download('stopwords')\n",
        "from nltk.corpus import stopwords as sw\n",
        "\n",
        "stop_words = sw.words()\n",
        "\n",
        "text_train_ns=[]\n",
        "for tokens in text_train_tk:\n",
        "    filtered_sentence = [w for w in tokens if not w in stop_words]\n",
        "    text_train_ns.append(filtered_sentence)\n",
        "\n",
        "text_test_ns=[]\n",
        "for tokens in text_test_tk:\n",
        "    filtered_sentence = [w for w in tokens if not w in stop_words]\n",
        "    text_test_ns.append(filtered_sentence)\n",
        "\n",
        "print(text_train_ns[0])"
      ],
      "execution_count": null,
      "outputs": [
        {
          "output_type": "stream",
          "text": [
            "[nltk_data] Downloading package stopwords to /root/nltk_data...\n",
            "[nltk_data]   Package stopwords is already up-to-date!\n",
            "['hopeless', 'tmr', 'frownsadandryorpouting']\n"
          ],
          "name": "stdout"
        }
      ]
    },
    {
      "cell_type": "markdown",
      "metadata": {
        "id": "2lQiw409DOSc"
      },
      "source": [
        "### **Lemmatisation**"
      ]
    },
    {
      "cell_type": "code",
      "metadata": {
        "colab": {
          "base_uri": "https://localhost:8080/"
        },
        "id": "XJWoijZTDysc",
        "outputId": "42262052-70e0-4d72-e9f1-81f5ade82f9f"
      },
      "source": [
        "nltk.download('wordnet')\n",
        "\n",
        "from nltk.stem import WordNetLemmatizer\n",
        "\n",
        "lemmatizer = WordNetLemmatizer()\n",
        "\n",
        "text_train_le = []\n",
        "for tokens in text_train_ns:\n",
        "    lemma_sentence = [lemmatizer.lemmatize(w) for w in tokens ]\n",
        "    text_train_le.append(lemma_sentence)\n",
        "\n",
        "text_test_le = []\n",
        "for tokens in text_test_ns:\n",
        "    lemma_sentence = [lemmatizer.lemmatize(w) for w in tokens ]\n",
        "    text_test_le.append(lemma_sentence)"
      ],
      "execution_count": null,
      "outputs": [
        {
          "output_type": "stream",
          "text": [
            "[nltk_data] Downloading package wordnet to /root/nltk_data...\n",
            "[nltk_data]   Package wordnet is already up-to-date!\n"
          ],
          "name": "stdout"
        }
      ]
    },
    {
      "cell_type": "code",
      "metadata": {
        "colab": {
          "base_uri": "https://localhost:8080/"
        },
        "id": "xkaD6E2nFJfU",
        "outputId": "2c65ec38-4423-4d02-cc57-69e21d56f046"
      },
      "source": [
        "print(text_train_le[0])"
      ],
      "execution_count": null,
      "outputs": [
        {
          "output_type": "stream",
          "text": [
            "['hopeless', 'tmr', 'frownsadandryorpouting']\n"
          ],
          "name": "stdout"
        }
      ]
    },
    {
      "cell_type": "markdown",
      "metadata": {
        "id": "8NRVnsjsRhp-"
      },
      "source": [
        "### **Label encoding**"
      ]
    },
    {
      "cell_type": "code",
      "metadata": {
        "colab": {
          "base_uri": "https://localhost:8080/"
        },
        "id": "AQLQ4WV4RnZZ",
        "outputId": "b9245ba5-2d90-4fd9-f39a-5f6f11fff4ee"
      },
      "source": [
        "import numpy as np\n",
        "\n",
        "from sklearn.preprocessing import LabelEncoder\n",
        "\n",
        "unique_labels = np.unique(label_train)\n",
        "\n",
        "lEnc = LabelEncoder()\n",
        "# Please encode the labels (Do NOT add new lines of code in this section)\n",
        "label_train_encoded = lEnc.fit_transform(label_train)\n",
        "label_test_encoded = lEnc.transform(label_test)\n",
        "\n",
        "\n",
        "n_class = len(unique_labels)\n",
        "print(unique_labels)\n",
        "print(lEnc.transform(unique_labels))"
      ],
      "execution_count": null,
      "outputs": [
        {
          "output_type": "stream",
          "text": [
            "['neg' 'pos']\n",
            "[0 1]\n"
          ],
          "name": "stdout"
        }
      ]
    },
    {
      "cell_type": "markdown",
      "metadata": {
        "id": "LIu_lkJwQ55g"
      },
      "source": [
        "# 2 - Model Implementation"
      ]
    },
    {
      "cell_type": "markdown",
      "metadata": {
        "id": "daDvAftceIvr"
      },
      "source": [
        "## 2.1. Word Embeddings\n",
        "\n",
        "In this section, I implemented the CBOW class by meself at first. But the training exectuting time is too long. Thus, I used gensim.models.word2vec learned from lab 2 and train the model as well."
      ]
    },
    {
      "cell_type": "code",
      "metadata": {
        "id": "3cM4rlYkHefJ",
        "colab": {
          "base_uri": "https://localhost:8080/"
        },
        "outputId": "effe1527-eee7-4fce-8e83-1a25b32cd636"
      },
      "source": [
        "## In this section, I will implement Word2VEc with CBOW\n",
        "## I will use \n",
        "import lxml\n",
        "from lxml import etree\n",
        "import nltk\n",
        "nltk.download('punkt')\n",
        "from nltk.tokenize import sent_tokenize\n",
        "import torch\n",
        "import torch.nn as nn\n",
        "import torch.optim as optim\n",
        "from random import shuffle\n",
        "import numpy as np\n",
        "from gensim.models import Word2Vec\n",
        "import pprint\n"
      ],
      "execution_count": null,
      "outputs": [
        {
          "output_type": "stream",
          "text": [
            "[nltk_data] Downloading package punkt to /root/nltk_data...\n",
            "[nltk_data]   Package punkt is already up-to-date!\n"
          ],
          "name": "stdout"
        }
      ]
    },
    {
      "cell_type": "markdown",
      "metadata": {
        "id": "lgG15lt1gdt_"
      },
      "source": [
        "#### **Download and use the TED script data from Google Drive**\n",
        "The reason why I choose to use TED script is because the original twitter dataset is to small for word embedding training. TED dataset can have more that 20,000,000 words in total. This is a good dataset to train the model, which can enhance the accuracy.\n",
        "\n",
        "After download the TED script data, add the original NLTK Twitter data together to make the dataset bigger. "
      ]
    },
    {
      "cell_type": "code",
      "metadata": {
        "id": "5upkr6cXgcXr"
      },
      "source": [
        "id = '1B47OiEiG2Lo1jUY6hy_zMmHBxfKQuJ8-'\n",
        "downloaded = drive.CreateFile({'id':id}) \n",
        "downloaded.GetContentFile('ted_en-20160408.xml')  \n",
        "targetXML=open('ted_en-20160408.xml', 'r', encoding='UTF8')\n",
        "\n",
        "target_text = etree.parse(targetXML)\n",
        "parse_text = '\\n'.join(target_text.xpath('//content/text()'))"
      ],
      "execution_count": null,
      "outputs": []
    },
    {
      "cell_type": "markdown",
      "metadata": {
        "id": "ypqQOyGrgdIj"
      },
      "source": [
        "#### Data Preprocessing for Word Embeddings"
      ]
    },
    {
      "cell_type": "code",
      "metadata": {
        "colab": {
          "base_uri": "https://localhost:8080/"
        },
        "id": "3LByzHLiNinu",
        "outputId": "760af5ac-c1eb-496b-fc83-463166e01d9f"
      },
      "source": [
        "content_text = re.sub(r'\\([^)]*\\)', '', parse_text)\n",
        "\n",
        "# Tokenising the sentence to process it by using NLTK library\n",
        "sent_text=sent_tokenize(content_text)\n",
        "\n",
        "# Removing punctuation and changing all characters to lower case\n",
        "normalized_text = []\n",
        "for string in sent_text:\n",
        "     tokens = re.sub(r\"[^a-z0-9]+\", \" \", string.lower())\n",
        "     normalized_text.append(tokens)\n",
        "normalized_text = normalized_text + text_train_withoutemoticons + text_test_withoutemoticons\n",
        "\n",
        "## Tokenising each sentence to process individual word\n",
        "## In my situation, I met a problem where world_tokenize would split the word such as \"gonna\" and \"wanna\" into \"gon\" \"na\" and \"wan\" \"na\".\n",
        "## However, I'm using split() to split the normalised_text in my word_dict. In my word_dict, it's  \"gonna\" not \"gon\" \"na\".\n",
        "## Thus, I will simplly use split() here instead of word_tonkenize()\n",
        "tokenize = lambda x: x.split()\n",
        "sentences=[]\n",
        "sentences=[tokenize(sentence) for sentence in normalized_text]\n",
        "\n",
        "# Prints only 10 (tokenised) sentences\n",
        "print(sentences[:10])\n",
        "## make dictionary so that we can reference each index of unique word\n",
        "word_list = \" \".join(normalized_text).split()\n",
        "word_list = list(set(word_list))\n",
        "\n",
        "word_dict = {w: i for i, w in enumerate(word_list)}"
      ],
      "execution_count": null,
      "outputs": [
        {
          "output_type": "stream",
          "text": [
            "[['here', 'are', 'two', 'reasons', 'companies', 'fail', 'they', 'only', 'do', 'more', 'of', 'the', 'same', 'or', 'they', 'only', 'do', 'what', 's', 'new'], ['to', 'me', 'the', 'real', 'real', 'solution', 'to', 'quality', 'growth', 'is', 'figuring', 'out', 'the', 'balance', 'between', 'two', 'activities', 'exploration', 'and', 'exploitation'], ['both', 'are', 'necessary', 'but', 'it', 'can', 'be', 'too', 'much', 'of', 'a', 'good', 'thing'], ['consider', 'facit'], ['i', 'm', 'actually', 'old', 'enough', 'to', 'remember', 'them'], ['facit', 'was', 'a', 'fantastic', 'company'], ['they', 'were', 'born', 'deep', 'in', 'the', 'swedish', 'forest', 'and', 'they', 'made', 'the', 'best', 'mechanical', 'calculators', 'in', 'the', 'world'], ['everybody', 'used', 'them'], ['and', 'what', 'did', 'facit', 'do', 'when', 'the', 'electronic', 'calculator', 'came', 'along'], ['they', 'continued', 'doing', 'exactly', 'the', 'same']]\n"
          ],
          "name": "stdout"
        }
      ]
    },
    {
      "cell_type": "code",
      "metadata": {
        "colab": {
          "base_uri": "https://localhost:8080/"
        },
        "id": "KK1fbWoz1TDz",
        "outputId": "80d6b58d-b0f1-49c9-dc88-3c2ecda8dee3"
      },
      "source": [
        "print(len(sentences))"
      ],
      "execution_count": null,
      "outputs": [
        {
          "output_type": "stream",
          "text": [
            "283424\n"
          ],
          "name": "stdout"
        }
      ]
    },
    {
      "cell_type": "markdown",
      "metadata": {
        "id": "jmYTHn7hNZt0"
      },
      "source": [
        "### 2.1.1. CBOW model implemented by myself "
      ]
    },
    {
      "cell_type": "markdown",
      "metadata": {
        "id": "a5fnA8fby0UH"
      },
      "source": [
        "\n",
        "\n",
        "I make the window size = 10. Because this is a TED talk dataset, unlike Tweeet, during talks, people tend to speak more in order to make things clear. Thus, I chose to make the window size to 10. If the window size gets too big, it will increase the executing time.\n",
        "\n",
        "57s"
      ]
    },
    {
      "cell_type": "code",
      "metadata": {
        "colab": {
          "base_uri": "https://localhost:8080/"
        },
        "id": "6QuAgFKznKIr",
        "outputId": "e849fd6c-d725-4c35-e9d2-b11e19b04a9c"
      },
      "source": [
        "cbow = []\n",
        "window_size = 5\n",
        "\n",
        "for s in sentences:\n",
        "    shuffle(sentences)\n",
        "    if len(s) < 2*window_size+1:\n",
        "      continue\n",
        "    if (len(cbow) > 100):\n",
        "      break\n",
        "    for i in range(window_size, len(s) - window_size):\n",
        "        \n",
        "        centre = word_dict[s[i]]\n",
        "        context = []\n",
        "        if i >= window_size and i < len(s) - window_size:\n",
        "          for e in range(-window_size, window_size+1):\n",
        "            if i+e != i:\n",
        "              context.append(word_dict[s[i+e]])            \n",
        "        elif i >= window_size and i >= len(s) - window_size:\n",
        "          for e in range(-window_size, len(s) - i):\n",
        "            if i+e != i:\n",
        "              context.append(word_dict[s[i+e]])\n",
        "        elif i < window_size and i < len(s) - window_size:\n",
        "          for e in range(-i, window_size+1):\n",
        "            if i+e != i:\n",
        "              context.append(word_dict[s[i+e]])\n",
        "        elif i < window_size and i >= len(s) - window_size:\n",
        "          for e in range(-i, len(s) - i):\n",
        "            if i+e != i:\n",
        "              context.append(word_dict[s[i+e]])\n",
        "        if len(context) == 3:\n",
        "          print(len(s))\n",
        "        cbow.append([context, centre])\n",
        "\n",
        "print(len(cbow))\n"
      ],
      "execution_count": null,
      "outputs": [
        {
          "output_type": "stream",
          "text": [
            "103\n"
          ],
          "name": "stdout"
        }
      ]
    },
    {
      "cell_type": "markdown",
      "metadata": {
        "id": "qhAgWf_AmbZ8"
      },
      "source": [
        "#### Build Word Embeddings Model"
      ]
    },
    {
      "cell_type": "markdown",
      "metadata": {
        "id": "AJ8rU7JbiBVS"
      },
      "source": [
        "*You are required to describe how hyperparameters were decided with justification of your decision.*\n",
        "\n",
        "\n",
        "*   voc_size: It is just a variable used to describe the size of the vocabulary's size.\n",
        "*   learning rate: The learning rate is set to 0.1 here because if the learning rate is too small, it needs a bigger epoch as each update can only change a small value.\n",
        "*   batch_size: According to my experiment, I tired batch size from 5 to 50, 25 is the best number which gives smallest loss and fastest executing.\n",
        "*   embedding_size: I tried different embedding size from 2 to 25, if the embedding size goes too big, the execution time becomes long as well. If the embedding size is too small, the loss is too big. The proper value for embedding is around 15.\n",
        "*   no_of_epochs: For the epoch, the larger the better. However, the execution time will become larger. Thus, 5000 is good for this model.\n",
        "\n"
      ]
    },
    {
      "cell_type": "code",
      "metadata": {
        "id": "TVPuwWgvNjOU"
      },
      "source": [
        "voc_size = len(word_list)\n",
        "learning_rate = 0.1\n",
        "batch_size = 50\n",
        "embedding_size = 20\n",
        "no_of_epochs = 5000"
      ],
      "execution_count": null,
      "outputs": []
    },
    {
      "cell_type": "code",
      "metadata": {
        "id": "hcxI1LA0xb5B"
      },
      "source": [
        "import numpy as np\n",
        "def prepare_batch(data_temp):\n",
        "    inputs = []\n",
        "    labels = []\n",
        "\n",
        "    for data_sample in data_temp:\n",
        "        inputs.append(data_sample[0])\n",
        "        labels.append(data_sample[1])  \n",
        "    return np.array(inputs), np.array(labels)"
      ],
      "execution_count": null,
      "outputs": []
    },
    {
      "cell_type": "code",
      "metadata": {
        "id": "fgxLdR2IxeLb"
      },
      "source": [
        "class CBOW(nn.Module):\n",
        "    def __init__(self, voc_size, embedding_size):\n",
        "        super(CBOW, self).__init__()\n",
        "        self.emb = nn.Embedding(voc_size, embedding_size)\n",
        "        self.linear1 = nn.Linear(embedding_size, voc_size, bias=False)\n",
        "\n",
        "    def forward(self, x):\n",
        "        hidden = self.emb(x)\n",
        "        v_hat = torch.mean(hidden, dim=1)\n",
        "        out = self.linear1(v_hat)\n",
        "        return out\n"
      ],
      "execution_count": null,
      "outputs": []
    },
    {
      "cell_type": "markdown",
      "metadata": {
        "id": "LNys5HOdISK-"
      },
      "source": [
        "#### Train Word Embeddings Model\n",
        "\n",
        "Execution time: Approximately 7 minutes"
      ]
    },
    {
      "cell_type": "code",
      "metadata": {
        "colab": {
          "base_uri": "https://localhost:8080/"
        },
        "id": "Ae8i7Z2kIef-",
        "outputId": "3b2f6a62-8178-48d0-d664-6c04f21309ac"
      },
      "source": [
        "## Create the cbow model\n",
        "cbow_model = CBOW(voc_size, embedding_size)\n",
        "## Use Pytorch’s CrossEntropyLoss here\n",
        "criterion = nn.CrossEntropyLoss()\n",
        "## Use SGD optimizer here to optimize \n",
        "optimiser = optim.SGD(cbow_model.parameters(), lr=learning_rate)\n",
        "\n",
        "for epoch in range(no_of_epochs):\n",
        "\n",
        "    shuffle(cbow)\n",
        "    loss_sum = 0\n",
        "\n",
        "    for ind in range(0,len(cbow),batch_size):\n",
        "        data_temp = cbow[ind : min(ind+batch_size, len(cbow))]\n",
        "        inputs_temp, labels_temp = prepare_batch(data_temp)\n",
        "\n",
        "        inputs_torch = torch.LongTensor(inputs_temp)\n",
        "        labels_torch = torch.LongTensor(labels_temp)\n",
        "\n",
        "        optimiser.zero_grad()    \n",
        "        outputs = cbow_model(inputs_torch)\n",
        "\n",
        "        loss = criterion(outputs, labels_torch)\n",
        "        loss.backward()\n",
        "        optimiser.step()\n",
        "\n",
        "        loss_sum += loss.item()\n",
        "\n",
        "    if epoch % 500 == 499: \n",
        "        print('Epoch: %d, loss: %.4f' %(epoch + 1, loss_sum))"
      ],
      "execution_count": null,
      "outputs": [
        {
          "output_type": "stream",
          "text": [
            "Epoch: 500, loss: 13.1062\n",
            "Epoch: 1000, loss: 2.3964\n",
            "Epoch: 1500, loss: 1.3747\n",
            "Epoch: 2000, loss: 0.7798\n",
            "Epoch: 2500, loss: 0.5061\n",
            "Epoch: 3000, loss: 0.4690\n",
            "Epoch: 3500, loss: 0.2830\n",
            "Epoch: 4000, loss: 0.2545\n",
            "Epoch: 4500, loss: 0.2484\n",
            "Epoch: 5000, loss: 0.2064\n"
          ],
          "name": "stdout"
        }
      ]
    },
    {
      "cell_type": "markdown",
      "metadata": {
        "id": "zDF6LFb5OOfw"
      },
      "source": [
        "### 2.1.2. CBOW model using gensim.models.word2vec\n",
        "\n",
        "This is the model that I used for word embedding in all the following sections.\n"
      ]
    },
    {
      "cell_type": "markdown",
      "metadata": {
        "id": "uMx4aNnTO7LO"
      },
      "source": [
        "#### Preprocessing\n",
        "\n",
        "In this model, I use TED scipts dataset to train the model. I want to compare the models which implemented by me from above section."
      ]
    },
    {
      "cell_type": "markdown",
      "metadata": {
        "id": "ED52Po61SDJ8"
      },
      "source": [
        "####  Build the model\n",
        "\n",
        "hyperparameters decisions:\n",
        "\n",
        "\n",
        "*   size: set to 200 to increase the accuracy. Can't make it too big because bigger size requires larger dataset.\n",
        "*   min_count: Word which appears less than 3 times will be treated as garbage.\n",
        "*   window: same as previous section.\n",
        "*   workers: 4. To improve the executing time.\n",
        "*   sg： paramenter for choosing CBOW moodel.\n",
        "\n"
      ]
    },
    {
      "cell_type": "code",
      "metadata": {
        "id": "mJ2ukXenSClc"
      },
      "source": [
        "# init word2vec class\n",
        "cbow_model = Word2Vec(size=120,min_count=3,window=14,workers=4,sg=0)\n",
        "cbow_model.build_vocab(sentences)"
      ],
      "execution_count": null,
      "outputs": []
    },
    {
      "cell_type": "markdown",
      "metadata": {
        "id": "QXCVeNpDZ52c"
      },
      "source": [
        "#### Train the model\n",
        "\n",
        "*   sentences: train with the sentences data preprocessed by previous section\n",
        "*   total_example:  Count of sentences.\n",
        "*   epoch: Number of iterations (epochs) over the corpus. 10 iterations is good enough.\n",
        "*   report_delay: Seconds to wait before reporting progress.\n",
        "*   compute_loss: Set tp true to see the final loss of the model. The loss can be bit because it is actually the sum of every epoch's loss.\n",
        "\n",
        "\n",
        "Execution time for this section: 90s.\n"
      ]
    },
    {
      "cell_type": "code",
      "metadata": {
        "colab": {
          "base_uri": "https://localhost:8080/"
        },
        "id": "9bSuhXGGUwW4",
        "outputId": "58a0e732-72b3-4b12-b029-a5ba2cbb72df"
      },
      "source": [
        "cbow_model.train(sentences,total_examples=cbow_model.corpus_count,epochs=10,report_delay=1,compute_loss = True)\n",
        "training_loss = cbow_model.get_latest_training_loss()\n",
        "print(training_loss)"
      ],
      "execution_count": null,
      "outputs": [
        {
          "output_type": "stream",
          "text": [
            "14234954.0\n"
          ],
          "name": "stdout"
        }
      ]
    },
    {
      "cell_type": "code",
      "metadata": {
        "colab": {
          "base_uri": "https://localhost:8080/"
        },
        "id": "I3qiTXAE1rqw",
        "outputId": "de13e3b2-39d7-4775-86ed-ec181935db9f"
      },
      "source": [
        "print(cbow_model.wv['man'])"
      ],
      "execution_count": null,
      "outputs": [
        {
          "output_type": "stream",
          "text": [
            "[-5.4170126e-01 -5.2110844e+00  1.3627224e+00  3.8040823e-01\n",
            "  3.7437376e-01 -7.9364341e-01 -2.8674278e-01  3.3084598e+00\n",
            "  1.1990448e+00  8.2167268e-01 -1.2027617e+00 -1.1929119e+00\n",
            "  3.1544983e+00 -3.5591011e+00  6.8504252e-02  1.5728794e+00\n",
            " -1.6204369e+00  1.0789050e+00  1.7920346e+00 -6.8356562e-01\n",
            "  8.6778477e-02  3.0280361e+00  1.7762953e+00 -6.3605286e-02\n",
            "  2.8622234e-01 -8.8769001e-01  1.7185143e+00 -6.9801487e-02\n",
            "  1.5332454e+00 -3.3113927e-01  4.0364373e-03 -9.7478998e-01\n",
            " -3.3282821e+00  7.5332695e-01  8.7899995e-01  1.0849777e+00\n",
            "  1.8036468e+00  1.2210861e+00  1.7178631e-01  3.2566744e-01\n",
            " -1.2578123e+00 -6.5835029e-01 -2.2846668e+00 -2.3982737e+00\n",
            "  1.2854517e+00 -7.1217066e-01 -7.4666208e-01  4.4421753e-01\n",
            " -1.0329610e+00  1.2051090e+00  1.2344044e+00  4.1062827e+00\n",
            "  1.7274361e+00  8.2451212e-01  1.2769604e-01  5.2406926e+00\n",
            " -2.4824922e+00 -2.2760220e+00 -2.4082885e+00  7.2698885e-01\n",
            " -7.6889408e-01 -2.3824179e+00 -9.0489930e-01  1.3245488e+00\n",
            "  1.4030239e-01 -3.5074322e+00  9.3567932e-01 -2.2375093e+00\n",
            " -3.7166018e-02  9.0230173e-01 -1.0767998e+00 -4.8623759e-01\n",
            " -9.0221089e-01 -3.1474323e+00 -4.0024132e-01 -1.8904132e+00\n",
            " -1.6283805e+00 -6.5953654e-01 -9.4090021e-01 -2.0212761e-01\n",
            "  2.4511223e+00 -2.5596323e+00 -6.2735444e-01 -1.5245777e+00\n",
            "  2.6995568e+00  1.6437297e+00 -8.1656021e-01  6.1833870e-01\n",
            " -1.4372352e+00  3.9381152e-01  1.6413817e+00  3.6711454e-01\n",
            " -6.7775869e-01  2.2927992e-01 -3.0744205e+00 -2.1998901e-02\n",
            " -1.1362474e+00 -9.2859322e-01 -4.7019606e+00  2.5281596e-01\n",
            " -1.1001858e+00 -1.2743981e+00 -3.0157499e+00  2.8170347e+00\n",
            " -5.1296961e-01 -1.7736573e+00 -4.2629242e-01 -3.7355056e-01\n",
            "  3.6752719e-02  1.9378315e-01  9.1868794e-01  4.7158906e-01\n",
            " -2.6107364e+00  2.0177832e+00  1.4906445e+00 -3.4876664e+00\n",
            " -4.1266486e-01  9.5481765e-01 -7.9817080e-01 -1.8337730e+00]\n"
          ],
          "name": "stdout"
        }
      ]
    },
    {
      "cell_type": "code",
      "metadata": {
        "colab": {
          "base_uri": "https://localhost:8080/"
        },
        "id": "imbrXFR7ZfE6",
        "outputId": "25e597bd-f406-44c2-f57a-c66183ec7915"
      },
      "source": [
        "similar_words=cbow_model.wv.most_similar(\"baby\")\n",
        "pprint.pprint(similar_words)"
      ],
      "execution_count": null,
      "outputs": [
        {
          "output_type": "stream",
          "text": [
            "[('child', 0.619963526725769),\n",
            " ('girl', 0.5880016088485718),\n",
            " ('boomers', 0.5752394199371338),\n",
            " ('mother', 0.5690854787826538),\n",
            " ('pregnancy', 0.5506044626235962),\n",
            " ('gaga', 0.541638195514679),\n",
            " ('teeth', 0.541024923324585),\n",
            " ('babies', 0.5362480878829956),\n",
            " ('goat', 0.5313705801963806),\n",
            " ('sister', 0.5231849551200867)]\n"
          ],
          "name": "stdout"
        }
      ]
    },
    {
      "cell_type": "markdown",
      "metadata": {
        "id": "T0ap96aeGlIk"
      },
      "source": [
        "## 2.2. Lexicon Embeddings"
      ]
    },
    {
      "cell_type": "markdown",
      "metadata": {
        "id": "d16v3oKaGlI0"
      },
      "source": [
        "### 2.2.1. Lexicon-based Embedding"
      ]
    },
    {
      "cell_type": "markdown",
      "metadata": {
        "id": "AKbLnN-3GlI1"
      },
      "source": [
        "*[Optional] You are required to describe why you would like to use more than one-dimensional embedding.*"
      ]
    },
    {
      "cell_type": "code",
      "metadata": {
        "id": "i2CUCL1cGlI2",
        "colab": {
          "base_uri": "https://localhost:8080/"
        },
        "outputId": "baa3faf6-da4b-4474-bee9-a2818f2307ab"
      },
      "source": [
        "# Download the opinion_lexicon dictionary from nltk\n",
        "from nltk.corpus import opinion_lexicon\n",
        "nltk.download('opinion_lexicon')\n"
      ],
      "execution_count": null,
      "outputs": [
        {
          "output_type": "stream",
          "text": [
            "[nltk_data] Downloading package opinion_lexicon to /root/nltk_data...\n",
            "[nltk_data]   Package opinion_lexicon is already up-to-date!\n"
          ],
          "name": "stdout"
        },
        {
          "output_type": "execute_result",
          "data": {
            "text/plain": [
              "True"
            ]
          },
          "metadata": {
            "tags": []
          },
          "execution_count": 144
        }
      ]
    },
    {
      "cell_type": "markdown",
      "metadata": {
        "id": "43EtNBuzSDA4"
      },
      "source": [
        "#### Get word_list for Twitter data"
      ]
    },
    {
      "cell_type": "code",
      "metadata": {
        "id": "qOKVdTD-SIRO"
      },
      "source": [
        "word_set = set() \n",
        "for sent in text_train_le:  \n",
        "    for word in sent:\n",
        "        word_set.add(word)\n",
        "word_set.add('[PAD]')\n",
        "word_set.add('[UNKOWN]')"
      ],
      "execution_count": null,
      "outputs": []
    },
    {
      "cell_type": "code",
      "metadata": {
        "id": "EReT8rnHSCCa"
      },
      "source": [
        "word_list = list(word_set) \n",
        "word_list.sort()\n",
        "\n",
        "word_index = {}\n",
        "ind = 0\n",
        "for word in word_list:\n",
        "    word_index[word] = ind\n",
        "    ind += 1\n",
        "\n",
        "print(word_index)\n",
        "print(len(word_list))\n"
      ],
      "execution_count": null,
      "outputs": []
    },
    {
      "cell_type": "markdown",
      "metadata": {
        "id": "oslFnEAoPpTL"
      },
      "source": [
        "#### Lexicon embeddings \n",
        "\n",
        "Do the lexicon embedding by assigning each word a category index\n",
        "\n",
        "*  not_in_dict: 0\n",
        "*  negative: 1\n",
        "*  positive: *2*\n",
        "\n",
        "Approximately executing time for this section is: 2m34s.\n"
      ]
    },
    {
      "cell_type": "code",
      "metadata": {
        "id": "Y8gwA0Z_PQ6t"
      },
      "source": [
        "lexi_dict = {}\n",
        "for word in word_list:\n",
        "  if word in opinion_lexicon.negative():\n",
        "    lexi_dict[word_index[word]] = 1\n",
        "  elif word in opinion_lexicon.positive():\n",
        "    lexi_dict[word_index[word]] = 2\n",
        "  else:\n",
        "    lexi_dict[word_index[word]] = 0\n",
        "\n",
        "print(lexi_dict)"
      ],
      "execution_count": null,
      "outputs": []
    },
    {
      "cell_type": "markdown",
      "metadata": {
        "id": "tlCeWT8eeLnd"
      },
      "source": [
        "## 2.3. Bi-directional RNN Sequence model"
      ]
    },
    {
      "cell_type": "markdown",
      "metadata": {
        "id": "fwA-NN3EJ4Ig"
      },
      "source": [
        "### 2.3.1. Apply/Import Word Embedding and Lexicon Embedding"
      ]
    },
    {
      "cell_type": "markdown",
      "metadata": {
        "id": "Vyr7jWAGWAS7"
      },
      "source": [
        "Adding lexicon embedding's classes into word dictionary."
      ]
    },
    {
      "cell_type": "code",
      "metadata": {
        "id": "Wqhwd8hiVVjL"
      },
      "source": [
        "word_index[9766] = 0\n",
        "word_index[9767] = 1\n",
        "word_index[9768] = 2"
      ],
      "execution_count": null,
      "outputs": []
    },
    {
      "cell_type": "markdown",
      "metadata": {
        "id": "WpHTrmfowLcB"
      },
      "source": [
        "#### Padding\n",
        "\n",
        "The length of each sentence in the Twitter dataset varys from 1 to 19.\n",
        "* For length = 19, there is only 0.03%.\n",
        "* For length = 18, there is only 0.05%.\n",
        "* For length = 17, there is only 0.05%\n",
        "* For length = 16, there is only 0.2%.\n",
        "* ...\n",
        "\n",
        "Below is the actual percentage data for each length of the sentence.\n",
        "\n",
        "[1.3375%, 11.8%, 15.0375%, 14.675%, 11.2%, 8.8375%, 7.375%, 7.2%, 5.525%, 5.6125%, 4.5625%, 3.1625%, 1.9%, 0.925%, 0.4375%, 0.275%, 0.05%, 0.05%, 0.0375%]\n",
        "\n",
        "\n",
        "Thus, I choose 18 as my sequence length.\n",
        "\n",
        "Because in this section, I want to combine two embeddings: lexicon embedding and word embedding. Just simplly add the lexicon embedding number to the end of the sentence. The final size of a sequence is 18+18=36.\n",
        " \n",
        "For example,\n",
        "\n",
        "['hopeless', 'tmr', 'frownsadandryorpouting']\n",
        "\n",
        "->\n",
        "\n",
        "[3906, 8632, 3053, 0, 0, 0, 0, 0, 0, 0, 0, 0, 0, 0, 0, 0, 0, 0, 1, 0, 0, 0, 0, 0, 0, 0, 0, 0, 0, 0, 0, 0, 0, 0, 0, 0]"
      ]
    },
    {
      "cell_type": "code",
      "metadata": {
        "id": "DlIJ9L95v0j2"
      },
      "source": [
        "seq_length = 18\n",
        "\n",
        "def encode_and_add_padding(sentences, seq_length, word_index):\n",
        "    sent_encoded = []\n",
        "    for sent in sentences:\n",
        "        temp_encoded = [word_index[word] if word in word_index else word_index['[UNKOWN]'] for word in sent]\n",
        "        if len(temp_encoded) < seq_length:\n",
        "            temp_encoded += [word_index['[PAD]']] * (seq_length - len(temp_encoded))\n",
        "        else:\n",
        "            temp_encoded = temp_encoded[:seq_length]\n",
        "        for s in range(18):\n",
        "          temp_encoded.append(lexi_dict[temp_encoded[s]])\n",
        "        \n",
        "        sent_encoded.append(temp_encoded)\n",
        "\n",
        "         \n",
        "    return sent_encoded\n",
        "\n",
        "train_pad_encoded = encode_and_add_padding(text_train_le, seq_length, word_index )\n",
        "test_pad_encoded = encode_and_add_padding(text_test_le, seq_length, word_index )\n",
        "\n",
        "print(train_pad_encoded[0:100])\n",
        "print(text_train_le[0:100])"
      ],
      "execution_count": null,
      "outputs": []
    },
    {
      "cell_type": "markdown",
      "metadata": {
        "id": "1VPn7otZ0rkP"
      },
      "source": [
        "#### Embedding lookup table"
      ]
    },
    {
      "cell_type": "code",
      "metadata": {
        "colab": {
          "base_uri": "https://localhost:8080/"
        },
        "id": "yGk6U8p-1TOU",
        "outputId": "2e7c3e49-b5b6-4be4-d4ce-6639c1b3874d"
      },
      "source": [
        "import numpy as np\n",
        "emb_dim = 120\n",
        "emb_table = []\n",
        "count = 0\n",
        "for word in enumerate(word_list):\n",
        "    #print(word[1])\n",
        "    if word[1] in cbow_model.wv.vocab:\n",
        "        count = count + 1\n",
        "        emb_table.append(cbow_model.wv[word[1]])\n",
        "    else:\n",
        "        emb_table.append([0]*emb_dim)\n",
        "emb_table = np.array(emb_table)\n",
        "print(count)\n",
        "print(emb_table[2])"
      ],
      "execution_count": null,
      "outputs": [
        {
          "output_type": "stream",
          "text": [
            "5468\n",
            "[-0.28241345 -0.10544896 -0.14104694 -0.21511017  0.04580319 -0.18814008\n",
            " -0.15510978  0.14754431  0.23394822  0.32365882 -0.07999504  0.020554\n",
            "  0.25255927 -0.15511537  0.03181538 -0.12329264  0.04726523 -0.00854806\n",
            " -0.03687858 -0.01126571 -0.08283217  0.04650865 -0.08902138 -0.13999195\n",
            " -0.01687707 -0.27591351  0.00770412  0.29727647  0.07548182 -0.12989923\n",
            "  0.52068043 -0.22997883 -0.15439878  0.15712848  0.031958   -0.01015226\n",
            " -0.19919933  0.25919199  0.08236402 -0.3869144   0.16096243  0.07103205\n",
            "  0.16621841  0.00680116 -0.14871147  0.11126444  0.13826278 -0.05115153\n",
            "  0.13005637 -0.25507882 -0.30627757 -0.02346124 -0.1685731   0.24868815\n",
            "  0.10900147  0.23874912  0.0569873  -0.04031371  0.06383377  0.04026775\n",
            " -0.12827654  0.16940846 -0.02729299  0.03050441 -0.18415217 -0.02975106\n",
            "  0.0663992   0.03702991  0.20324665  0.17088893 -0.31054145  0.33265826\n",
            " -0.10887024 -0.11674632  0.50147629  0.29244736 -0.21093516 -0.02558828\n",
            "  0.29694366 -0.09039949 -0.08583562  0.33218169  0.05295656 -0.00371892\n",
            "  0.08750775 -0.02193291  0.10142273 -0.17973772 -0.08077931  0.16268356\n",
            " -0.26897135  0.10379691 -0.11987917  0.13510287 -0.16771244 -0.11180735\n",
            "  0.56420404 -0.17019986 -0.24708059  0.00547128  0.03500382  0.10159203\n",
            " -0.35927278 -0.23209983 -0.21722829 -0.09024099 -0.02636599 -0.27671418\n",
            "  0.16751967 -0.2307695   0.30469197  0.1279873   0.18675868  0.25638658\n",
            "  0.13131732 -0.17716475 -0.03081183  0.08998107  0.13513264  0.31884471]\n"
          ],
          "name": "stdout"
        }
      ]
    },
    {
      "cell_type": "markdown",
      "metadata": {
        "id": "DpYCL17JKZxl"
      },
      "source": [
        "### 2.3.2. Build Sequence Model\n",
        "\n",
        "Use CBOW model implemented in the previous section to transform the vector.\n"
      ]
    },
    {
      "cell_type": "markdown",
      "metadata": {
        "id": "R204UIyDKhZ4"
      },
      "source": [
        "*You are required to describe how hyperparameters were decided with justification of your decision.*\n",
        "\n",
        "hyperparameters decision:\n",
        "\n",
        "* vocb_size: The dictionary size\n",
        "* n_hidden: I choose 100 as it is the best number I have tried from 10 to 300.\n",
        "* learning_rate: According to secion 3.3 Hyperparameter Testing, I choose the learning rate to be 0.001.\n",
        "* batch_size: The best batch_size to be 4000 which can improve the execution time of the training."
      ]
    },
    {
      "cell_type": "code",
      "metadata": {
        "id": "5DN9IQf3Ax7e"
      },
      "source": [
        "vocab_size = len(word_list)\n",
        "n_hidden = 100\n",
        "learning_rate = 0.001\n",
        "batch_size = 4000\n",
        "total_epoch = 14"
      ],
      "execution_count": null,
      "outputs": []
    },
    {
      "cell_type": "code",
      "metadata": {
        "id": "13eCtR_SLUG6"
      },
      "source": [
        "# Please comment your code\n",
        "import torch\n",
        "#You can enable GPU here (cuda); or just CPU\n",
        "device = torch.device(\"cuda\" if torch.cuda.is_available() else \"cpu\")\n",
        "\n",
        "import torch.nn as nn\n",
        "import torch.nn.functional as F\n",
        "from sklearn.metrics import accuracy_score\n",
        "\n",
        "\n",
        "class Bi_RNN_Model(nn.Module):\n",
        "    def __init__(self):\n",
        "        super(Bi_RNN_Model, self).__init__()\n",
        "        # A simple lookup table that stores embeddings of a fixed dictionary and size.\n",
        "        self.emb = nn.Embedding(vocab_size, emb_dim)\n",
        "        self.emb.weight.data.copy_(torch.from_numpy(emb_table))\n",
        "        self.emb.weight.requires_grad = False\n",
        "        # set the bidirectional to True\n",
        "        self.rnn = nn.RNN(emb_dim, n_hidden, batch_first=True, bidirectional=True)\n",
        "        self.linear = nn.Linear(2*n_hidden, n_class)\n",
        "\n",
        "    def forward(self, x):    \n",
        "        x = self.emb(x)    \n",
        "        x, h_n = self.rnn(x)\n",
        "        # concat the last hidden state from two direction\n",
        "        hidden_out = torch.cat((h_n[0,:,:],h_n[1,:,:]),1)\n",
        "        output = self.linear(hidden_out)\n",
        "        return output\n",
        "\n"
      ],
      "execution_count": null,
      "outputs": []
    },
    {
      "cell_type": "markdown",
      "metadata": {
        "id": "6BaOiaGRLW7R"
      },
      "source": [
        "### 2.3.3. Train Sequence Model\n",
        "\n",
        "Note that it will not be marked if you do not display the Training Loss and the Number of Epochs in the Assignment 1 ipynb.\n"
      ]
    },
    {
      "cell_type": "code",
      "metadata": {
        "id": "lVQnUSX1LZ6C",
        "colab": {
          "base_uri": "https://localhost:8080/"
        },
        "outputId": "f056f8be-2e83-413b-ff0a-05c59ca8f002"
      },
      "source": [
        "criterion = nn.CrossEntropyLoss()\n",
        "model = Bi_RNN_Model().to(device)\n",
        "optimizer = optim.Adam(model.parameters(), lr=learning_rate)\n",
        "\n",
        "for epoch in range(total_epoch):\n",
        "    train_loss = 0\n",
        "    for ind in range(0,len(train_pad_encoded),batch_size):\n",
        "        input_batch = train_pad_encoded[ind:min(ind+batch_size, len(train_pad_encoded))]\n",
        "        target_batch = label_train_encoded[ind:min(ind+batch_size, len(train_pad_encoded))]\n",
        "        input_batch_torch = torch.from_numpy(np.array(input_batch)).to(device)\n",
        "        target_batch_torch = torch.from_numpy(np.array(target_batch)).view(-1).to(device)\n",
        "\n",
        "        model.train()\n",
        "        optimizer.zero_grad()\n",
        "        outputs = model(input_batch_torch) \n",
        "        loss = criterion(outputs, target_batch_torch)\n",
        "        loss.backward()\n",
        "        optimizer.step()\n",
        "        \n",
        "        train_loss += loss.item()\n",
        "    predicted = torch.argmax(outputs, -1)\n",
        "    acc = accuracy_score(predicted.cpu().numpy(),target_batch_torch.cpu().numpy())\n",
        "    print('Epoch: %d, loss: %.5f, train_acc: %.2f' %(epoch + 1, loss.item(), acc))\n",
        "\n",
        "print('Finished Training')"
      ],
      "execution_count": null,
      "outputs": [
        {
          "output_type": "stream",
          "text": [
            "Epoch: 1, loss: 0.80775, train_acc: 0.21\n",
            "Epoch: 2, loss: 0.78768, train_acc: 0.25\n",
            "Epoch: 3, loss: 0.75641, train_acc: 0.31\n",
            "Epoch: 4, loss: 0.72558, train_acc: 0.41\n",
            "Epoch: 5, loss: 0.69826, train_acc: 0.47\n",
            "Epoch: 6, loss: 0.67512, train_acc: 0.51\n",
            "Epoch: 7, loss: 0.65595, train_acc: 0.54\n",
            "Epoch: 8, loss: 0.64033, train_acc: 0.56\n",
            "Epoch: 9, loss: 0.62777, train_acc: 0.57\n",
            "Epoch: 10, loss: 0.61784, train_acc: 0.58\n",
            "Epoch: 11, loss: 0.61017, train_acc: 0.59\n",
            "Epoch: 12, loss: 0.60443, train_acc: 0.59\n",
            "Epoch: 13, loss: 0.60033, train_acc: 0.60\n",
            "Epoch: 14, loss: 0.59763, train_acc: 0.60\n",
            "Finished Training\n"
          ],
          "name": "stdout"
        }
      ]
    },
    {
      "cell_type": "markdown",
      "metadata": {
        "id": "a4mpRpocePLN"
      },
      "source": [
        "# 3 - Evaluation\n"
      ]
    },
    {
      "cell_type": "markdown",
      "metadata": {
        "id": "lbLBzHObsvvM"
      },
      "source": [
        "## 3.1. Word Embedding Evaluation\n",
        "You are to apply Semantic-Syntactic word relationship tests for the trained word embeddings and visualise the result of Semantic-Syntactic word relationship tests.\n",
        "Note that it will not be marked if you do not display it in the ipynb file.\n"
      ]
    },
    {
      "cell_type": "markdown",
      "metadata": {
        "id": "MSIUsb7qtQEf"
      },
      "source": [
        "(*Please show your empirical evidence*)"
      ]
    },
    {
      "cell_type": "code",
      "metadata": {
        "id": "tCrcXwcGsuuo",
        "colab": {
          "base_uri": "https://localhost:8080/"
        },
        "outputId": "c7563911-9cab-43dc-d097-f49bb3a8f30c"
      },
      "source": [
        "#The stanfordnlp glove github provides the google analogy test test questions files\n",
        "!git clone https://github.com/stanfordnlp/GloVe.git"
      ],
      "execution_count": null,
      "outputs": [
        {
          "output_type": "stream",
          "text": [
            "Cloning into 'GloVe'...\n",
            "remote: Enumerating objects: 595, done.\u001b[K\n",
            "remote: Counting objects: 100% (3/3), done.\u001b[K\n",
            "remote: Compressing objects: 100% (3/3), done.\u001b[K\n",
            "remote: Total 595 (delta 0), reused 1 (delta 0), pack-reused 592\u001b[K\n",
            "Receiving objects: 100% (595/595), 222.33 KiB | 5.70 MiB/s, done.\n",
            "Resolving deltas: 100% (338/338), done.\n"
          ],
          "name": "stdout"
        }
      ]
    },
    {
      "cell_type": "code",
      "metadata": {
        "id": "KYWfxIw64mJX"
      },
      "source": [
        "vocab_words = []\n",
        "vocab_size = 0\n",
        "vectors = {}\n",
        "vocab={}\n",
        "ivocab={}\n",
        "vector_dim = 0\n",
        "W = []\n",
        "W_norm = []\n",
        "\n",
        "def get_W(vectors_file):\n",
        "  with open(vectors_file, 'r') as f:\n",
        "    for line in f.readlines()[1:]:  \n",
        "      vals = line.rstrip().split(' ')\n",
        "      vectors[vals[0]] = [float(x) for x in vals[1:]]\n",
        "\n",
        "  vocab_words=list(vectors.keys())\n",
        "  vocab_size = len(vocab_words)\n",
        "  # print(\"Vocab size: \",str(vocab_size))\n",
        "\n",
        "  vocab = {w: idx for idx, w in enumerate(vocab_words)}\n",
        "  ivocab = {idx: w for idx, w in enumerate(vocab_words)}\n",
        "  vector_dim = len(vectors[ivocab[0]])\n",
        "  W = np.zeros((vocab_size, vector_dim))\n",
        "  for word, v in vectors.items():\n",
        "      if word == '<unk>':\n",
        "          continue\n",
        "      W[vocab[word], :] = v\n",
        "\n",
        "  # normalize each word vector to unit length\n",
        "  # Vectors are usually normalized to unit length before they are used for similarity calculation, making cosine similarity and dot-product equivalent.\n",
        "  W_norm = np.zeros(W.shape)\n",
        "  d = (np.sum(W ** 2, 1) ** (0.5))\n",
        "  W_norm = (W.T / d).T\n",
        "  return vocab, W_norm\n"
      ],
      "execution_count": null,
      "outputs": []
    },
    {
      "cell_type": "code",
      "metadata": {
        "id": "eAxc058V4tWl"
      },
      "source": [
        "def evaluate_vectors(W, vocab, prefix='./eval/question-data/'):\n",
        "    \"\"\"Evaluate the trained word vectors on a variety of tasks\"\"\"\n",
        "\n",
        "    filenames = [\n",
        "        'capital-common-countries.txt', 'capital-world.txt', 'currency.txt',\n",
        "        'city-in-state.txt', 'family.txt', 'gram1-adjective-to-adverb.txt',\n",
        "        'gram2-opposite.txt', 'gram3-comparative.txt', 'gram4-superlative.txt',\n",
        "        'gram5-present-participle.txt', 'gram6-nationality-adjective.txt',\n",
        "        'gram7-past-tense.txt', 'gram8-plural.txt', 'gram9-plural-verbs.txt',\n",
        "        ]\n",
        "\n",
        "    # to avoid memory overflow, could be increased/decreased\n",
        "    # depending on system and vocab size\n",
        "    split_size = 100\n",
        "\n",
        "    correct_sem = 0; # count correct semantic questions\n",
        "    correct_syn = 0; # count correct syntactic questions\n",
        "    correct_tot = 0 # count correct questions\n",
        "    count_sem = 0; # count all semantic questions\n",
        "    count_syn = 0; # count all syntactic questions\n",
        "    count_tot = 0 # count all questions\n",
        "    full_count = 0 # count all questions, including those with unknown words\n",
        "\n",
        "    for i in range(len(filenames)):\n",
        "        with open('%s/%s' % (prefix, filenames[i]), 'r') as f:\n",
        "            full_data = [line.rstrip().split(' ') for line in f]\n",
        "            full_count += len(full_data)\n",
        "            data = [x for x in full_data if all(word in vocab for word in x)]\n",
        "\n",
        "        if len(data) == 0:\n",
        "            print(\"ERROR: no lines of vocab kept for %s !\" % filenames[i])\n",
        "            print(\"Example missing line:\", full_data[0])\n",
        "            continue\n",
        "\n",
        "        indices = np.array([[vocab[word] for word in row] for row in data])\n",
        "        ind1, ind2, ind3, ind4 = indices.T\n",
        "\n",
        "        predictions = np.zeros((len(indices),))\n",
        "        num_iter = int(np.ceil(len(indices) / float(split_size)))\n",
        "        for j in range(num_iter):\n",
        "            subset = np.arange(j*split_size, min((j + 1)*split_size, len(ind1)))\n",
        "\n",
        "            pred_vec = (W[ind2[subset], :] - W[ind1[subset], :]\n",
        "                +  W[ind3[subset], :])\n",
        "\n",
        "            #cosine similarity if input W has been normalized\n",
        "            dist = np.dot(W, pred_vec.T)\n",
        "\n",
        "\n",
        "            for k in range(len(subset)):\n",
        "                dist[ind1[subset[k]], k] = -np.Inf\n",
        "                dist[ind2[subset[k]], k] = -np.Inf\n",
        "                dist[ind3[subset[k]], k] = -np.Inf\n",
        "\n",
        "            # predicted word index\n",
        "            predictions[subset] = np.argmax(dist, 0).flatten()\n",
        "\n",
        "        \n",
        "        val = (ind4 == predictions) # correct predictions\n",
        "        count_tot = count_tot + len(ind1)\n",
        "        correct_tot = correct_tot + sum(val)\n",
        "        if i < 5:\n",
        "            count_sem = count_sem + len(ind1)\n",
        "            correct_sem = correct_sem + sum(val)\n",
        "        else:\n",
        "            count_syn = count_syn + len(ind1)\n",
        "            correct_syn = correct_syn + sum(val)\n",
        "\n",
        "    print('Semantic accuracy: %.2f%%  (%i/%i)' % (100 * correct_sem / float(count_sem), correct_sem, count_sem))\n",
        "    print('Syntactic accuracy: %.2f%%  (%i/%i)' % (100 * correct_syn / float(count_syn), correct_syn, count_syn))\n",
        "    print('Total accuracy: %.2f%%  (%i/%i)' % (100 * correct_tot / float(count_tot), correct_tot, count_tot))\n",
        "    return correct_tot/count_tot, correct_sem/count_tot, correct_syn/count_tot"
      ],
      "execution_count": null,
      "outputs": []
    },
    {
      "cell_type": "markdown",
      "metadata": {
        "id": "XXuKL5Z7cgf6"
      },
      "source": [
        "#### Testing accuracy on  Symmetric context with different vector dimension and window size\n",
        "\n",
        "Create 30 models with different vector dimension. Save the vectors to the specific file. \n",
        "\n",
        "Creat 16 models with different window size.\n",
        "\n",
        "\n",
        "Execution time: 35 minutes"
      ]
    },
    {
      "cell_type": "code",
      "metadata": {
        "id": "kS3GYNL8c0JP"
      },
      "source": [
        "# cbow model with different Vector Dimension from 50 to 300\n",
        "# create vector file for each model\n",
        "wv_cbow_model_vd_1 = Word2Vec(sentences=sentences, size=10, window=2, min_count=10, workers=8, sg=0)\n",
        "wv_cbow_model_vd_1.wv.save_word2vec_format('cbow_w2v_vector_1.txt', binary=False)\n",
        "wv_cbow_model_vd_2 = Word2Vec(sentences=sentences, size=20, window=2, min_count=10, workers=8, sg=0)\n",
        "wv_cbow_model_vd_2.wv.save_word2vec_format('cbow_w2v_vector_2.txt', binary=False)\n",
        "wv_cbow_model_vd_3 = Word2Vec(sentences=sentences, size=30, window=2, min_count=10, workers=8, sg=0)\n",
        "wv_cbow_model_vd_3.wv.save_word2vec_format('cbow_w2v_vector_3.txt', binary=False)\n",
        "wv_cbow_model_vd_4 = Word2Vec(sentences=sentences, size=40, window=2, min_count=10, workers=8, sg=0)\n",
        "wv_cbow_model_vd_4.wv.save_word2vec_format('cbow_w2v_vector_4.txt', binary=False)\n",
        "wv_cbow_model_vd_5 = Word2Vec(sentences=sentences, size=50, window=2, min_count=10, workers=8, sg=0)\n",
        "wv_cbow_model_vd_5.wv.save_word2vec_format('cbow_w2v_vector_5.txt', binary=False)  \n",
        "wv_cbow_model_vd_6 = Word2Vec(sentences=sentences, size=60, window=2, min_count=10, workers=8, sg=0)\n",
        "wv_cbow_model_vd_6.wv.save_word2vec_format('cbow_w2v_vector_6.txt', binary=False)\n",
        "wv_cbow_model_vd_7 = Word2Vec(sentences=sentences, size=70, window=2, min_count=10, workers=8, sg=0)\n",
        "wv_cbow_model_vd_7.wv.save_word2vec_format('cbow_w2v_vector_7.txt', binary=False)\n",
        "wv_cbow_model_vd_8 = Word2Vec(sentences=sentences, size=80, window=2, min_count=10, workers=8, sg=0)\n",
        "wv_cbow_model_vd_8.wv.save_word2vec_format('cbow_w2v_vector_8.txt', binary=False)\n",
        "wv_cbow_model_vd_9 = Word2Vec(sentences=sentences, size=90, window=2, min_count=10, workers=8, sg=0)\n",
        "wv_cbow_model_vd_9.wv.save_word2vec_format('cbow_w2v_vector_9.txt', binary=False)\n",
        "wv_cbow_model_vd_10 = Word2Vec(sentences=sentences, size=100, window=2, min_count=10, workers=8, sg=0)\n",
        "wv_cbow_model_vd_10.wv.save_word2vec_format('cbow_w2v_vector_10.txt', binary=False)\n",
        "wv_cbow_model_vd_11 = Word2Vec(sentences=sentences, size=110, window=2, min_count=10, workers=8, sg=0)\n",
        "wv_cbow_model_vd_11.wv.save_word2vec_format('cbow_w2v_vector_11.txt', binary=False)\n",
        "wv_cbow_model_vd_12 = Word2Vec(sentences=sentences, size=120, window=2, min_count=10, workers=8, sg=0)\n",
        "wv_cbow_model_vd_12.wv.save_word2vec_format('cbow_w2v_vector_12.txt', binary=False)\n",
        "wv_cbow_model_vd_13 = Word2Vec(sentences=sentences, size=130, window=2, min_count=10, workers=8, sg=0)\n",
        "wv_cbow_model_vd_13.wv.save_word2vec_format('cbow_w2v_vector_13.txt', binary=False)\n",
        "wv_cbow_model_vd_14 = Word2Vec(sentences=sentences, size=140, window=2, min_count=10, workers=8, sg=0)\n",
        "wv_cbow_model_vd_14.wv.save_word2vec_format('cbow_w2v_vector_14.txt', binary=False)\n",
        "wv_cbow_model_vd_15 = Word2Vec(sentences=sentences, size=150, window=2, min_count=10, workers=8, sg=0)\n",
        "wv_cbow_model_vd_15.wv.save_word2vec_format('cbow_w2v_vector_15.txt', binary=False)\n",
        "wv_cbow_model_vd_16 = Word2Vec(sentences=sentences, size=160, window=2, min_count=10, workers=8, sg=0)\n",
        "wv_cbow_model_vd_16.wv.save_word2vec_format('cbow_w2v_vector_16.txt', binary=False)\n",
        "wv_cbow_model_vd_17 = Word2Vec(sentences=sentences, size=170, window=2, min_count=10, workers=8, sg=0)\n",
        "wv_cbow_model_vd_17.wv.save_word2vec_format('cbow_w2v_vector_17.txt', binary=False)\n",
        "wv_cbow_model_vd_18 = Word2Vec(sentences=sentences, size=180, window=2, min_count=10, workers=8, sg=0)\n",
        "wv_cbow_model_vd_18.wv.save_word2vec_format('cbow_w2v_vector_18.txt', binary=False)\n",
        "wv_cbow_model_vd_19 = Word2Vec(sentences=sentences, size=190, window=2, min_count=10, workers=8, sg=0)\n",
        "wv_cbow_model_vd_19.wv.save_word2vec_format('cbow_w2v_vector_19.txt', binary=False)\n",
        "wv_cbow_model_vd_20 = Word2Vec(sentences=sentences, size=200, window=2, min_count=10, workers=8, sg=0)\n",
        "wv_cbow_model_vd_20.wv.save_word2vec_format('cbow_w2v_vector_20.txt', binary=False)\n",
        "wv_cbow_model_vd_21 = Word2Vec(sentences=sentences, size=210, window=2, min_count=10, workers=8, sg=0)\n",
        "wv_cbow_model_vd_21.wv.save_word2vec_format('cbow_w2v_vector_21.txt', binary=False)\n",
        "wv_cbow_model_vd_22 = Word2Vec(sentences=sentences, size=220, window=2, min_count=10, workers=8, sg=0)\n",
        "wv_cbow_model_vd_22.wv.save_word2vec_format('cbow_w2v_vector_22.txt', binary=False)\n",
        "wv_cbow_model_vd_23 = Word2Vec(sentences=sentences, size=230, window=2, min_count=10, workers=8, sg=0)\n",
        "wv_cbow_model_vd_23.wv.save_word2vec_format('cbow_w2v_vector_23.txt', binary=False)\n",
        "wv_cbow_model_vd_24 = Word2Vec(sentences=sentences, size=240, window=2, min_count=10, workers=8, sg=0)\n",
        "wv_cbow_model_vd_24.wv.save_word2vec_format('cbow_w2v_vector_24.txt', binary=False)\n",
        "wv_cbow_model_vd_25 = Word2Vec(sentences=sentences, size=250, window=2, min_count=10, workers=8, sg=0)\n",
        "wv_cbow_model_vd_25.wv.save_word2vec_format('cbow_w2v_vector_25.txt', binary=False)  \n",
        "wv_cbow_model_vd_26 = Word2Vec(sentences=sentences, size=260, window=2, min_count=10, workers=8, sg=0)\n",
        "wv_cbow_model_vd_26.wv.save_word2vec_format('cbow_w2v_vector_26.txt', binary=False)\n",
        "wv_cbow_model_vd_27 = Word2Vec(sentences=sentences, size=270, window=2, min_count=10, workers=8, sg=0)\n",
        "wv_cbow_model_vd_7.wv.save_word2vec_format('cbow_w2v_vector_27.txt', binary=False)\n",
        "wv_cbow_model_vd_28 = Word2Vec(sentences=sentences, size=280, window=2, min_count=10, workers=8, sg=0)\n",
        "wv_cbow_model_vd_28.wv.save_word2vec_format('cbow_w2v_vector_28.txt', binary=False)\n",
        "wv_cbow_model_vd_29 = Word2Vec(sentences=sentences, size=290, window=2, min_count=10, workers=8, sg=0)\n",
        "wv_cbow_model_vd_29.wv.save_word2vec_format('cbow_w2v_vector_29.txt', binary=False)\n",
        "wv_cbow_model_vd_30 = Word2Vec(sentences=sentences, size=300, window=2, min_count=10, workers=8, sg=0)\n",
        "wv_cbow_model_vd_30.wv.save_word2vec_format('cbow_w2v_vector_30.txt', binary=False)\n",
        "\n",
        "# create window file for each model\n",
        "wv_cbow_model_wd_1 = Word2Vec(sentences=sentences, size=50, window=1, min_count=1, workers=4, sg=0)\n",
        "wv_cbow_model_wd_1.wv.save_word2vec_format('cbow_w2v_window_1.txt', binary=False)\n",
        "wv_cbow_model_wd_2 = Word2Vec(sentences=sentences, size=50, window=2, min_count=1, workers=4, sg=0)\n",
        "wv_cbow_model_wd_2.wv.save_word2vec_format('cbow_w2v_window_2.txt', binary=False)\n",
        "wv_cbow_model_wd_3 = Word2Vec(sentences=sentences, size=50, window=3, min_count=1, workers=4, sg=0)\n",
        "wv_cbow_model_wd_3.wv.save_word2vec_format('cbow_w2v_window_3.txt', binary=False)\n",
        "wv_cbow_model_wd_4 = Word2Vec(sentences=sentences, size=50, window=4, min_count=1, workers=4, sg=0)\n",
        "wv_cbow_model_wd_4.wv.save_word2vec_format('cbow_w2v_window_4.txt', binary=False)\n",
        "wv_cbow_model_wd_5 = Word2Vec(sentences=sentences, size=50, window=5, min_count=1, workers=4, sg=0)\n",
        "wv_cbow_model_wd_5.wv.save_word2vec_format('cbow_w2v_window_5.txt', binary=False)\n",
        "wv_cbow_model_wd_6 = Word2Vec(sentences=sentences, size=50, window=6, min_count=1, workers=4, sg=0)\n",
        "wv_cbow_model_wd_6.wv.save_word2vec_format('cbow_w2v_window_6.txt', binary=False)\n",
        "wv_cbow_model_wd_7 = Word2Vec(sentences=sentences, size=50, window=7, min_count=1, workers=4, sg=0)\n",
        "wv_cbow_model_wd_7.wv.save_word2vec_format('cbow_w2v_window_7.txt', binary=False)\n",
        "wv_cbow_model_wd_8 = Word2Vec(sentences=sentences, size=50, window=8, min_count=1, workers=4, sg=0)\n",
        "wv_cbow_model_wd_8.wv.save_word2vec_format('cbow_w2v_window_8.txt', binary=False)\n",
        "wv_cbow_model_wd_9 = Word2Vec(sentences=sentences, size=50, window=9, min_count=1, workers=4, sg=0)\n",
        "wv_cbow_model_wd_9.wv.save_word2vec_format('cbow_w2v_window_9.txt', binary=False)\n",
        "wv_cbow_model_wd_10 = Word2Vec(sentences=sentences, size=50, window=10, min_count=1, workers=4, sg=0)\n",
        "wv_cbow_model_wd_10.wv.save_word2vec_format('cbow_w2v_window_10.txt', binary=False)\n",
        "wv_cbow_model_wd_11 = Word2Vec(sentences=sentences, size=50, window=11, min_count=1, workers=4, sg=0)\n",
        "wv_cbow_model_wd_11.wv.save_word2vec_format('cbow_w2v_window_11.txt', binary=False)\n",
        "wv_cbow_model_wd_12 = Word2Vec(sentences=sentences, size=50, window=12, min_count=1, workers=4, sg=0)\n",
        "wv_cbow_model_wd_12.wv.save_word2vec_format('cbow_w2v_window_12.txt', binary=False)\n",
        "wv_cbow_model_wd_13 = Word2Vec(sentences=sentences, size=50, window=13, min_count=1, workers=4, sg=0)\n",
        "wv_cbow_model_wd_13.wv.save_word2vec_format('cbow_w2v_window_13.txt', binary=False)\n",
        "wv_cbow_model_wd_14 = Word2Vec(sentences=sentences, size=50, window=14, min_count=1, workers=4, sg=0)\n",
        "wv_cbow_model_wd_14.wv.save_word2vec_format('cbow_w2v_window_14.txt', binary=False)\n",
        "wv_cbow_model_wd_15 = Word2Vec(sentences=sentences, size=50, window=15, min_count=1, workers=4, sg=0)\n",
        "wv_cbow_model_wd_15.wv.save_word2vec_format('cbow_w2v_window_15.txt', binary=False)\n",
        "wv_cbow_model_wd_16 = Word2Vec(sentences=sentences, size=50, window=16, min_count=1, workers=4, sg=0)\n",
        "wv_cbow_model_wd_16.wv.save_word2vec_format('cbow_w2v_window_16.txt', binary=False)"
      ],
      "execution_count": null,
      "outputs": []
    },
    {
      "cell_type": "markdown",
      "metadata": {
        "id": "_xgbmMHnpqSe"
      },
      "source": [
        "#### Vector Size accuracy relationship diagram\n",
        "\n",
        "Draw the diagram with different vector dimensions. The x-axis would be different vector dimensions from 10 to 300, and the y-axis would be the accuracy. We can see from the testing result, when the vector dimension is 120, the accuracy score becomes the highest. Three lines basically have the same trend and shape. \n",
        "\n"
      ]
    },
    {
      "cell_type": "code",
      "metadata": {
        "colab": {
          "base_uri": "https://localhost:8080/"
        },
        "id": "FngR7nhNWphM",
        "outputId": "24a24eac-638b-47b8-f1b6-102522734c72"
      },
      "source": [
        "# Record the total accuracy of each model \n",
        "accuracy = []\n",
        "accuracy_sem = []\n",
        "accuracy_syn = []\n",
        "\n",
        "# method to update overall accuracy, semantic accuracy and syntactic accuracy to the lists\n",
        "def update_accuracy(file_name):\n",
        "  vocab, W_norm = get_W(file_name)\n",
        "  tot, sem, syn = evaluate_vectors(W_norm, vocab, prefix='/content/GloVe/eval/question-data')\n",
        "  accuracy.append(tot*100)\n",
        "  accuracy_sem.append(sem*100)\n",
        "  accuracy_syn.append(syn*100)\n",
        "\n",
        "print(\"vector dimension is 10:\")\n",
        "update_accuracy('cbow_w2v_vector_1.txt')\n",
        "print(\"\")\n",
        "print(\"vector dimension is 20:\")\n",
        "update_accuracy('cbow_w2v_vector_2.txt')\n",
        "print(\"\")\n",
        "print(\"vector dimension is 30:\")\n",
        "update_accuracy('cbow_w2v_vector_3.txt')\n",
        "print(\"\")\n",
        "print(\"vector dimension is 40:\")\n",
        "update_accuracy('cbow_w2v_vector_4.txt')\n",
        "print(\"\")\n",
        "print(\"vector dimension is 50:\")\n",
        "update_accuracy('cbow_w2v_vector_5.txt')\n",
        "print(\"\")\n",
        "print(\"vector dimension is 60:\")\n",
        "update_accuracy('cbow_w2v_vector_6.txt')\n",
        "print(\"\")\n",
        "print(\"vector dimension is 70:\")\n",
        "update_accuracy('cbow_w2v_vector_7.txt')\n",
        "print(\"\")\n",
        "print(\"vector dimension is 80:\")\n",
        "update_accuracy('cbow_w2v_vector_8.txt')\n",
        "print(\"\")\n",
        "print(\"vector dimension is 90:\")\n",
        "update_accuracy('cbow_w2v_vector_9.txt')\n",
        "print(\"\")\n",
        "print(\"vector dimension is 100:\")\n",
        "update_accuracy('cbow_w2v_vector_10.txt')\n",
        "print(\"\")\n",
        "print(\"vector dimension is 110:\")\n",
        "update_accuracy('cbow_w2v_vector_11.txt')\n",
        "print(\"\")\n",
        "print(\"vector dimension is 120:\")\n",
        "update_accuracy('cbow_w2v_vector_12.txt')\n",
        "print(\"\")\n",
        "print(\"vector dimension is 130:\")\n",
        "update_accuracy('cbow_w2v_vector_13.txt')\n",
        "print(\"\")\n",
        "print(\"vector dimension is 140:\")\n",
        "update_accuracy('cbow_w2v_vector_14.txt')\n",
        "print(\"\")\n",
        "print(\"vector dimension is 150:\")\n",
        "update_accuracy('cbow_w2v_vector_15.txt')\n",
        "print(\"\")\n",
        "print(\"vector dimension is 160:\")\n",
        "update_accuracy('cbow_w2v_vector_16.txt')\n",
        "print(\"\")\n",
        "print(\"vector dimension is 170:\")\n",
        "update_accuracy('cbow_w2v_vector_17.txt')\n",
        "print(\"\")\n",
        "print(\"vector dimension is 180:\")\n",
        "update_accuracy('cbow_w2v_vector_18.txt')\n",
        "print(\"\")\n",
        "print(\"vector dimension is 190:\")\n",
        "update_accuracy('cbow_w2v_vector_19.txt')\n",
        "print(\"\")\n",
        "print(\"vector dimension is 200:\")\n",
        "update_accuracy('cbow_w2v_vector_20.txt')\n",
        "print(\"\")\n",
        "print(\"vector dimension is 210:\")\n",
        "update_accuracy('cbow_w2v_vector_21.txt')\n",
        "print(\"\")\n",
        "print(\"vector dimension is 220:\")\n",
        "update_accuracy('cbow_w2v_vector_22.txt')\n",
        "print(\"\")\n",
        "print(\"vector dimension is 230:\")\n",
        "update_accuracy('cbow_w2v_vector_23.txt')\n",
        "print(\"\")\n",
        "print(\"vector dimension is 240:\")\n",
        "update_accuracy('cbow_w2v_vector_24.txt')\n",
        "print(\"\")\n",
        "print(\"vector dimension is 250:\")\n",
        "update_accuracy('cbow_w2v_vector_25.txt')\n",
        "print(\"\")\n",
        "print(\"vector dimension is 260:\")\n",
        "update_accuracy('cbow_w2v_vector_26.txt')\n",
        "print(\"\")\n",
        "print(\"vector dimension is 270:\")\n",
        "update_accuracy('cbow_w2v_vector_27.txt')\n",
        "print(\"\")\n",
        "print(\"vector dimension is 280:\")\n",
        "update_accuracy('cbow_w2v_vector_28.txt')\n",
        "print(\"\")\n",
        "print(\"vector dimension is 290:\")\n",
        "update_accuracy('cbow_w2v_vector_29.txt')\n",
        "print(\"\")\n",
        "print(\"vector dimension is 300:\")\n",
        "update_accuracy('cbow_w2v_vector_30.txt')\n",
        "print(\"\")"
      ],
      "execution_count": null,
      "outputs": [
        {
          "output_type": "stream",
          "text": [
            "vector dimension is 10:\n",
            "Semantic accuracy: 10.09%  (94/932)\n",
            "Syntactic accuracy: 2.62%  (187/7146)\n",
            "Total accuracy: 3.48%  (281/8078)\n",
            "\n",
            "vector dimension is 20:\n",
            "Semantic accuracy: 14.81%  (138/932)\n",
            "Syntactic accuracy: 7.67%  (548/7146)\n",
            "Total accuracy: 8.49%  (686/8078)\n",
            "\n",
            "vector dimension is 30:\n",
            "Semantic accuracy: 13.09%  (122/932)\n",
            "Syntactic accuracy: 11.57%  (827/7146)\n",
            "Total accuracy: 11.75%  (949/8078)\n",
            "\n",
            "vector dimension is 40:\n",
            "Semantic accuracy: 14.38%  (134/932)\n",
            "Syntactic accuracy: 13.98%  (999/7146)\n",
            "Total accuracy: 14.03%  (1133/8078)\n",
            "\n",
            "vector dimension is 50:\n",
            "Semantic accuracy: 16.85%  (157/932)\n",
            "Syntactic accuracy: 16.13%  (1153/7146)\n",
            "Total accuracy: 16.22%  (1310/8078)\n",
            "\n",
            "vector dimension is 60:\n",
            "Semantic accuracy: 15.99%  (149/932)\n",
            "Syntactic accuracy: 17.53%  (1253/7146)\n",
            "Total accuracy: 17.36%  (1402/8078)\n",
            "\n",
            "vector dimension is 70:\n",
            "Semantic accuracy: 17.27%  (161/932)\n",
            "Syntactic accuracy: 19.02%  (1359/7146)\n",
            "Total accuracy: 18.82%  (1520/8078)\n",
            "\n",
            "vector dimension is 80:\n",
            "Semantic accuracy: 17.92%  (167/932)\n",
            "Syntactic accuracy: 19.75%  (1411/7146)\n",
            "Total accuracy: 19.53%  (1578/8078)\n",
            "\n",
            "vector dimension is 90:\n",
            "Semantic accuracy: 17.38%  (162/932)\n",
            "Syntactic accuracy: 20.22%  (1445/7146)\n",
            "Total accuracy: 19.89%  (1607/8078)\n",
            "\n",
            "vector dimension is 100:\n",
            "Semantic accuracy: 18.03%  (168/932)\n",
            "Syntactic accuracy: 20.35%  (1454/7146)\n",
            "Total accuracy: 20.08%  (1622/8078)\n",
            "\n",
            "vector dimension is 110:\n",
            "Semantic accuracy: 17.17%  (160/932)\n",
            "Syntactic accuracy: 20.71%  (1480/7146)\n",
            "Total accuracy: 20.30%  (1640/8078)\n",
            "\n",
            "vector dimension is 120:\n",
            "Semantic accuracy: 17.92%  (167/932)\n",
            "Syntactic accuracy: 20.56%  (1469/7146)\n",
            "Total accuracy: 20.25%  (1636/8078)\n",
            "\n",
            "vector dimension is 130:\n",
            "Semantic accuracy: 18.13%  (169/932)\n",
            "Syntactic accuracy: 21.17%  (1513/7146)\n",
            "Total accuracy: 20.82%  (1682/8078)\n",
            "\n",
            "vector dimension is 140:\n",
            "Semantic accuracy: 17.81%  (166/932)\n",
            "Syntactic accuracy: 20.82%  (1488/7146)\n",
            "Total accuracy: 20.48%  (1654/8078)\n",
            "\n",
            "vector dimension is 150:\n",
            "Semantic accuracy: 17.17%  (160/932)\n",
            "Syntactic accuracy: 20.46%  (1462/7146)\n",
            "Total accuracy: 20.08%  (1622/8078)\n",
            "\n",
            "vector dimension is 160:\n",
            "Semantic accuracy: 17.27%  (161/932)\n",
            "Syntactic accuracy: 20.00%  (1429/7146)\n",
            "Total accuracy: 19.68%  (1590/8078)\n",
            "\n",
            "vector dimension is 170:\n",
            "Semantic accuracy: 17.49%  (163/932)\n",
            "Syntactic accuracy: 19.82%  (1416/7146)\n",
            "Total accuracy: 19.55%  (1579/8078)\n",
            "\n",
            "vector dimension is 180:\n",
            "Semantic accuracy: 17.27%  (161/932)\n",
            "Syntactic accuracy: 20.03%  (1431/7146)\n",
            "Total accuracy: 19.71%  (1592/8078)\n",
            "\n",
            "vector dimension is 190:\n",
            "Semantic accuracy: 16.09%  (150/932)\n",
            "Syntactic accuracy: 20.39%  (1457/7146)\n",
            "Total accuracy: 19.89%  (1607/8078)\n",
            "\n",
            "vector dimension is 200:\n",
            "Semantic accuracy: 16.74%  (156/932)\n",
            "Syntactic accuracy: 20.61%  (1473/7146)\n",
            "Total accuracy: 20.17%  (1629/8078)\n",
            "\n",
            "vector dimension is 210:\n",
            "Semantic accuracy: 19.10%  (178/932)\n",
            "Syntactic accuracy: 20.61%  (1473/7146)\n",
            "Total accuracy: 20.44%  (1651/8078)\n",
            "\n",
            "vector dimension is 220:\n",
            "Semantic accuracy: 18.03%  (168/932)\n",
            "Syntactic accuracy: 21.03%  (1503/7146)\n",
            "Total accuracy: 20.69%  (1671/8078)\n",
            "\n",
            "vector dimension is 230:\n",
            "Semantic accuracy: 17.06%  (159/932)\n",
            "Syntactic accuracy: 20.26%  (1448/7146)\n",
            "Total accuracy: 19.89%  (1607/8078)\n",
            "\n",
            "vector dimension is 240:\n",
            "Semantic accuracy: 18.88%  (176/932)\n",
            "Syntactic accuracy: 20.19%  (1443/7146)\n",
            "Total accuracy: 20.04%  (1619/8078)\n",
            "\n",
            "vector dimension is 250:\n",
            "Semantic accuracy: 17.38%  (162/932)\n",
            "Syntactic accuracy: 20.60%  (1472/7146)\n",
            "Total accuracy: 20.23%  (1634/8078)\n",
            "\n",
            "vector dimension is 260:\n",
            "Semantic accuracy: 17.38%  (162/932)\n",
            "Syntactic accuracy: 20.45%  (1461/7146)\n",
            "Total accuracy: 20.09%  (1623/8078)\n",
            "\n",
            "vector dimension is 270:\n",
            "Semantic accuracy: 17.27%  (161/932)\n",
            "Syntactic accuracy: 19.02%  (1359/7146)\n",
            "Total accuracy: 18.82%  (1520/8078)\n",
            "\n",
            "vector dimension is 280:\n",
            "Semantic accuracy: 16.52%  (154/932)\n",
            "Syntactic accuracy: 20.65%  (1476/7146)\n",
            "Total accuracy: 20.18%  (1630/8078)\n",
            "\n",
            "vector dimension is 290:\n",
            "Semantic accuracy: 18.03%  (168/932)\n",
            "Syntactic accuracy: 21.42%  (1531/7146)\n",
            "Total accuracy: 21.03%  (1699/8078)\n",
            "\n",
            "vector dimension is 300:\n",
            "Semantic accuracy: 16.63%  (155/932)\n",
            "Syntactic accuracy: 20.47%  (1463/7146)\n",
            "Total accuracy: 20.03%  (1618/8078)\n",
            "\n"
          ],
          "name": "stdout"
        }
      ]
    },
    {
      "cell_type": "code",
      "metadata": {
        "colab": {
          "base_uri": "https://localhost:8080/",
          "height": 279
        },
        "id": "x_ufuwJgpP5t",
        "outputId": "7d9e8577-e592-4fa0-dd63-67d8b43b4556"
      },
      "source": [
        "import matplotlib.pyplot as plt\n",
        "\n",
        "# data to be plotted\n",
        "x = np.arange(10, 310, 10) \n",
        "y_overall = np.array(accuracy)\n",
        "y_sem = np.array(accuracy_sem)\n",
        "y_syn = np.array(accuracy_syn)\n",
        "# plotting\n",
        "\n",
        "plt.xlabel(\"Vector Dimension\") \n",
        "plt.ylabel(\"Accurracy %\") \n",
        "plt.plot(x, y_overall, color =\"green\", label = \"overall\") \n",
        "plt.plot(x, y_sem, color =\"red\", label = \"Semantic\") \n",
        "plt.plot(x, y_syn, color =\"blue\", label = \"Syntactic\") \n",
        "plt.legend()\n",
        "plt.show()"
      ],
      "execution_count": null,
      "outputs": [
        {
          "output_type": "display_data",
          "data": {
            "image/png": "[encoded data removed]",
            "text/plain": [
              "<Figure size 432x288 with 1 Axes>"
            ]
          },
          "metadata": {
            "tags": [],
            "needs_background": "light"
          }
        }
      ]
    },
    {
      "cell_type": "markdown",
      "metadata": {
        "id": "kltfbUfxU-49"
      },
      "source": [
        "#### Window Size accuracy relationship diagram\n",
        "\n",
        "We can see from the testing result, when window size is 14, the accuracy score becomes the highest. Three lines basically have the same trend and shape. "
      ]
    },
    {
      "cell_type": "code",
      "metadata": {
        "colab": {
          "base_uri": "https://localhost:8080/"
        },
        "id": "8A1-w_rXVLJB",
        "outputId": "e2349d40-fe75-42eb-fa62-368120e477a3"
      },
      "source": [
        "#  clear the list\n",
        "accuracy.clear()\n",
        "accuracy_sem.clear()\n",
        "accuracy_syn.clear()\n",
        "\n",
        "print(\"window size is 1:\")\n",
        "update_accuracy('cbow_w2v_window_1.txt')\n",
        "print(\"\")\n",
        "print(\"window size is 2:\")\n",
        "update_accuracy('cbow_w2v_window_2.txt')\n",
        "print(\"\")\n",
        "print(\"window size is 3:\")\n",
        "update_accuracy('cbow_w2v_window_3.txt')\n",
        "print(\"\")\n",
        "print(\"window size is 4:\")\n",
        "update_accuracy('cbow_w2v_window_4.txt')\n",
        "print(\"\")\n",
        "print(\"window size is 5:\")\n",
        "update_accuracy('cbow_w2v_window_5.txt')\n",
        "print(\"\")\n",
        "print(\"window size is 6:\")\n",
        "update_accuracy('cbow_w2v_window_6.txt')\n",
        "print(\"\")\n",
        "print(\"window size is 7:\")\n",
        "update_accuracy('cbow_w2v_window_7.txt')\n",
        "print(\"\")\n",
        "print(\"window size is 8:\")\n",
        "update_accuracy('cbow_w2v_window_8.txt')\n",
        "print(\"\")\n",
        "print(\"window size is 9:\")\n",
        "update_accuracy('cbow_w2v_window_9.txt')\n",
        "print(\"\")\n",
        "print(\"window size is 10:\")\n",
        "update_accuracy('cbow_w2v_window_10.txt')\n",
        "print(\"\")\n",
        "print(\"window size is 11:\")\n",
        "update_accuracy('cbow_w2v_window_11.txt')\n",
        "print(\"\")\n",
        "print(\"window size is 12:\")\n",
        "update_accuracy('cbow_w2v_window_12.txt')\n",
        "print(\"\")\n",
        "print(\"window size is 13:\")\n",
        "update_accuracy('cbow_w2v_window_13.txt')\n",
        "print(\"\")\n",
        "print(\"window size is 14:\")\n",
        "update_accuracy('cbow_w2v_window_14.txt')\n",
        "print(\"\")\n",
        "print(\"window size is 15:\")\n",
        "update_accuracy('cbow_w2v_window_15.txt')\n",
        "print(\"\")\n",
        "print(\"window size is 16:\")\n",
        "update_accuracy('cbow_w2v_window_16.txt')"
      ],
      "execution_count": null,
      "outputs": [
        {
          "output_type": "stream",
          "text": [
            "window size is 1:\n",
            "Semantic accuracy: 5.10%  (217/4257)\n",
            "Syntactic accuracy: 11.33%  (1153/10173)\n",
            "Total accuracy: 9.49%  (1370/14430)\n",
            "\n",
            "window size is 2:\n",
            "Semantic accuracy: 5.36%  (228/4257)\n",
            "Syntactic accuracy: 11.15%  (1134/10173)\n",
            "Total accuracy: 9.44%  (1362/14430)\n",
            "\n",
            "window size is 3:\n",
            "Semantic accuracy: 4.63%  (197/4257)\n",
            "Syntactic accuracy: 11.64%  (1184/10173)\n",
            "Total accuracy: 9.57%  (1381/14430)\n",
            "\n",
            "window size is 4:\n",
            "Semantic accuracy: 4.06%  (173/4257)\n",
            "Syntactic accuracy: 11.70%  (1190/10173)\n",
            "Total accuracy: 9.45%  (1363/14430)\n",
            "\n",
            "window size is 5:\n",
            "Semantic accuracy: 4.04%  (172/4257)\n",
            "Syntactic accuracy: 11.07%  (1126/10173)\n",
            "Total accuracy: 9.00%  (1298/14430)\n",
            "\n",
            "window size is 6:\n",
            "Semantic accuracy: 4.49%  (191/4257)\n",
            "Syntactic accuracy: 11.34%  (1154/10173)\n",
            "Total accuracy: 9.32%  (1345/14430)\n",
            "\n",
            "window size is 7:\n",
            "Semantic accuracy: 5.19%  (221/4257)\n",
            "Syntactic accuracy: 10.61%  (1079/10173)\n",
            "Total accuracy: 9.01%  (1300/14430)\n",
            "\n",
            "window size is 8:\n",
            "Semantic accuracy: 3.66%  (156/4257)\n",
            "Syntactic accuracy: 11.43%  (1163/10173)\n",
            "Total accuracy: 9.14%  (1319/14430)\n",
            "\n",
            "window size is 9:\n",
            "Semantic accuracy: 4.28%  (182/4257)\n",
            "Syntactic accuracy: 11.63%  (1183/10173)\n",
            "Total accuracy: 9.46%  (1365/14430)\n",
            "\n",
            "window size is 10:\n",
            "Semantic accuracy: 4.32%  (184/4257)\n",
            "Syntactic accuracy: 10.70%  (1089/10173)\n",
            "Total accuracy: 8.82%  (1273/14430)\n",
            "\n",
            "window size is 11:\n",
            "Semantic accuracy: 4.51%  (192/4257)\n",
            "Syntactic accuracy: 11.15%  (1134/10173)\n",
            "Total accuracy: 9.19%  (1326/14430)\n",
            "\n",
            "window size is 12:\n",
            "Semantic accuracy: 3.76%  (160/4257)\n",
            "Syntactic accuracy: 10.85%  (1104/10173)\n",
            "Total accuracy: 8.76%  (1264/14430)\n",
            "\n",
            "window size is 13:\n",
            "Semantic accuracy: 4.32%  (184/4257)\n",
            "Syntactic accuracy: 11.78%  (1198/10173)\n",
            "Total accuracy: 9.58%  (1382/14430)\n",
            "\n",
            "window size is 14:\n",
            "Semantic accuracy: 3.97%  (169/4257)\n",
            "Syntactic accuracy: 11.11%  (1130/10173)\n",
            "Total accuracy: 9.00%  (1299/14430)\n",
            "\n",
            "window size is 15:\n",
            "Semantic accuracy: 3.43%  (146/4257)\n",
            "Syntactic accuracy: 11.32%  (1152/10173)\n",
            "Total accuracy: 9.00%  (1298/14430)\n",
            "\n",
            "window size is 16:\n",
            "Semantic accuracy: 3.95%  (168/4257)\n",
            "Syntactic accuracy: 10.90%  (1109/10173)\n",
            "Total accuracy: 8.85%  (1277/14430)\n"
          ],
          "name": "stdout"
        }
      ]
    },
    {
      "cell_type": "code",
      "metadata": {
        "colab": {
          "base_uri": "https://localhost:8080/",
          "height": 283
        },
        "id": "jL7aDsc9WT9K",
        "outputId": "8c22ad3b-92e9-4b0d-bdf3-4788f1e3f809"
      },
      "source": [
        "x = np.arange(1, 17, 1) \n",
        "y_overall = np.array(accuracy)\n",
        "y_sem = np.array(accuracy_sem)\n",
        "y_syn = np.array(accuracy_syn)\n",
        "# plotting\n",
        "\n",
        "plt.xlabel(\"Window Size\") \n",
        "plt.ylabel(\"Accurracy %\") \n",
        "plt.plot(x, y_overall, color =\"green\", label = \"overall\") \n",
        "plt.plot(x, y_sem, color =\"red\", label = \"Semantic\") \n",
        "plt.plot(x, y_syn, color =\"blue\", label = \"Syntactic\") \n",
        "plt.legend()\n",
        "plt.show()"
      ],
      "execution_count": null,
      "outputs": [
        {
          "output_type": "display_data",
          "data": {
            "image/png": "[encoded data removed]",
            "text/plain": [
              "<Figure size 432x288 with 1 Axes>"
            ]
          },
          "metadata": {
            "tags": [],
            "needs_background": "light"
          }
        }
      ]
    },
    {
      "cell_type": "markdown",
      "metadata": {
        "id": "KEW1zMgVMREr"
      },
      "source": [
        "## 3.2. Performance Evaluation\n",
        "\n",
        "\n",
        "The overall precision and recall accuracy looks good, there is not much difference between class 0 and class 1. f1-score is larger than 0.4 which means the model has good prediction result.\n"
      ]
    },
    {
      "cell_type": "code",
      "metadata": {
        "id": "LPHCb-bneTI9",
        "colab": {
          "base_uri": "https://localhost:8080/"
        },
        "outputId": "3ab2d3e4-26c3-47bc-c397-90f84c918fd2"
      },
      "source": [
        "model.eval()\n",
        "outputs = model(torch.from_numpy(np.array(test_pad_encoded)).to(device)) \n",
        "predicted = torch.argmax(outputs, 1)\n",
        "from sklearn.metrics import classification_report\n",
        "print(classification_report(label_test_encoded, predicted.cpu().numpy(),digits=4))"
      ],
      "execution_count": null,
      "outputs": [
        {
          "output_type": "stream",
          "text": [
            "              precision    recall  f1-score   support\n",
            "\n",
            "           0     0.6225    0.6910    0.6550      1000\n",
            "           1     0.6528    0.5810    0.6148      1000\n",
            "\n",
            "    accuracy                         0.6360      2000\n",
            "   macro avg     0.6377    0.6360    0.6349      2000\n",
            "weighted avg     0.6377    0.6360    0.6349      2000\n",
            "\n"
          ],
          "name": "stdout"
        }
      ]
    },
    {
      "cell_type": "markdown",
      "metadata": {
        "id": "P28Z1k36MZuo"
      },
      "source": [
        "## 3.3. Hyperparameter Testing\n",
        "*You are required to draw a graph(y-axis: f1, x-axis: epoch) for test set and explain the optimal number of epochs based on the learning rate you have already chosen.* Note that it will not be marked if you do not display it in the ipynb file.\n"
      ]
    },
    {
      "cell_type": "markdown",
      "metadata": {
        "id": "nysU5L9zu-0Z"
      },
      "source": [
        "According to the testing result, when learning rate is 0.001 and number of epoch is 14, it has the highest f1 score."
      ]
    },
    {
      "cell_type": "code",
      "metadata": {
        "id": "wTLyQEeZMZ2f",
        "colab": {
          "base_uri": "https://localhost:8080/",
          "height": 1000
        },
        "outputId": "8f8f3a64-b360-4839-9a02-157bc9f1f142"
      },
      "source": [
        "# Please comment your code\n",
        "from sklearn.metrics import classification_report\n",
        "from sklearn.metrics import precision_recall_fscore_support as score\n",
        "\n",
        "\n",
        "f1_array = []\n",
        "def get_f1(total_epoch, learning_rate):\n",
        "\n",
        "  criterion = nn.CrossEntropyLoss()\n",
        "  model = Bi_RNN_Model().to(device)\n",
        "  optimizer = optim.Adam(model.parameters(), lr=learning_rate)\n",
        "\n",
        "  for epoch in range(total_epoch):\n",
        "      train_loss = 0\n",
        "      for ind in range(0,len(train_pad_encoded),batch_size):\n",
        "          input_batch = train_pad_encoded[ind:min(ind+batch_size, len(train_pad_encoded))]\n",
        "          target_batch = label_train_encoded[ind:min(ind+batch_size, len(train_pad_encoded))]\n",
        "          input_batch_torch = torch.from_numpy(np.array(input_batch)).to(device)\n",
        "          target_batch_torch = torch.from_numpy(np.array(target_batch)).view(-1).to(device)\n",
        "\n",
        "          model.train()\n",
        "          optimizer.zero_grad()\n",
        "          outputs = model(input_batch_torch) \n",
        "          loss = criterion(outputs, target_batch_torch)\n",
        "          loss.backward()\n",
        "          optimizer.step()\n",
        "          \n",
        "          train_loss += loss.item()\n",
        "  model.eval()\n",
        "  outputs = model(torch.from_numpy(np.array(test_pad_encoded)).to(device)) \n",
        "  predicted = torch.argmax(outputs, 1)\n",
        "  report = classification_report(label_test_encoded, predicted.cpu().numpy(),digits=4)\n",
        "  precision,recall,fscore,support=score(label_test_encoded,predicted.cpu().numpy(),average='macro')\n",
        "  f1_array.append(fscore)\n",
        "\n",
        "\n",
        "def draw_epoch_diagram(learning_rate):\n",
        "  f1_array.clear()\n",
        "  for total_epoch in range(1,20):\n",
        "    get_f1(total_epoch, learning_rate)\n",
        "\n",
        "  x = np.arange(1, 20, 1) \n",
        "  y = np.array(f1_array)\n",
        "  # plotting\n",
        "  plt.title('learning rate: {}'.format(learning_rate))\n",
        "  plt.xlabel(\"# of epoch\") \n",
        "  plt.ylabel(\"f1\") \n",
        "  plt.plot(x, y, color =\"green\") \n",
        "  plt.show()\n",
        "\n",
        "draw_epoch_diagram(0.1)\n",
        "draw_epoch_diagram(0.01)\n",
        "draw_epoch_diagram(0.001)\n",
        "draw_epoch_diagram(0.0001)\n",
        "draw_epoch_diagram(0.00001)"
      ],
      "execution_count": null,
      "outputs": [
        {
          "output_type": "stream",
          "text": [
            "/usr/local/lib/python3.7/dist-packages/sklearn/metrics/_classification.py:1272: UndefinedMetricWarning: Precision and F-score are ill-defined and being set to 0.0 in labels with no predicted samples. Use `zero_division` parameter to control this behavior.\n",
            "  _warn_prf(average, modifier, msg_start, len(result))\n"
          ],
          "name": "stderr"
        },
        {
          "output_type": "display_data",
          "data": {
            "image/png": "[encoded data removed]",
            "text/plain": [
              "<Figure size 432x288 with 1 Axes>"
            ]
          },
          "metadata": {
            "tags": [],
            "needs_background": "light"
          }
        },
        {
          "output_type": "display_data",
          "data": {
            "image/png": "[encoded data removed]",
            "text/plain": [
              "<Figure size 432x288 with 1 Axes>"
            ]
          },
          "metadata": {
            "tags": [],
            "needs_background": "light"
          }
        },
        {
          "output_type": "display_data",
          "data": {
            "image/png": "[encoded data removed]",
            "text/plain": [
              "<Figure size 432x288 with 1 Axes>"
            ]
          },
          "metadata": {
            "tags": [],
            "needs_background": "light"
          }
        },
        {
          "output_type": "display_data",
          "data": {
            "image/png": "[encoded data removed]",
            "text/plain": [
              "<Figure size 432x288 with 1 Axes>"
            ]
          },
          "metadata": {
            "tags": [],
            "needs_background": "light"
          }
        },
        {
          "output_type": "display_data",
          "data": {
            "image/png": "[encoded data removed]",
            "text/plain": [
              "<Figure size 432x288 with 1 Axes>"
            ]
          },
          "metadata": {
            "tags": [],
            "needs_background": "light"
          }
        }
      ]
    },
    {
      "cell_type": "markdown",
      "metadata": {
        "id": "sfv8rWTKPzeb"
      },
      "source": [
        "## Object Oriented Programming codes here"
      ]
    },
    {
      "cell_type": "markdown",
      "metadata": {
        "id": "TS23AjBRSZaX"
      },
      "source": [
        "*You can use multiple code snippets. Just add more if needed* "
      ]
    },
    {
      "cell_type": "code",
      "metadata": {
        "id": "1hVmx4E52dXS"
      },
      "source": [
        "# If you used OOP style, use this section"
      ],
      "execution_count": null,
      "outputs": []
    }
  ]
}