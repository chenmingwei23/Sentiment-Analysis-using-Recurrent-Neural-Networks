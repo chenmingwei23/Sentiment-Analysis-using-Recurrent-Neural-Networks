{
  "nbformat": 4,
  "nbformat_minor": 0,
  "metadata": {
    "colab": {
      "name": "470326592_COMP5046_Ass1.ipynb",
      "provenance": [],
      "collapsed_sections": [],
      "include_colab_link": true
    },
    "kernelspec": {
      "display_name": "Python 3",
      "name": "python3"
    }
  },
  "cells": [
    {
      "cell_type": "markdown",
      "metadata": {
        "id": "view-in-github",
        "colab_type": "text"
      },
      "source": [
        "<a href=\"https://colab.research.google.com/github/chenmingwei23/Sentiment-Analysis-using-Recurrent-Neural-Networks/blob/main/470326592_COMP5046_Ass1.ipynb\" target=\"_parent\"><img src=\"https://colab.research.google.com/assets/colab-badge.svg\" alt=\"Open In Colab\"/></a>"
      ]
    },
    {
      "cell_type": "markdown",
      "metadata": {
        "id": "MGHoy6KpQDfZ"
      },
      "source": [
        "# COMP5046 Assignment 1\n",
        "*Make sure you change the file name with your unikey.*"
      ]
    },
    {
      "cell_type": "markdown",
      "metadata": {
        "id": "qTf21j_oQIiD"
      },
      "source": [
        "# Readme\n",
        "*If there is something to be noted for the user, please mention here.* \n",
        "\n",
        "*If you are planning to implement a program with Object Oriented Programming style, please check the bottom of the this ipynb file*"
      ]
    },
    {
      "cell_type": "markdown",
      "metadata": {
        "id": "iXbQohXLKSgO"
      },
      "source": [
        "***Visualising the comparison of different results is a good way to justify your decision.***"
      ]
    },
    {
      "cell_type": "markdown",
      "metadata": {
        "id": "34DVNKgqQY21"
      },
      "source": [
        "# 1 - Data Preprocessing"
      ]
    },
    {
      "cell_type": "markdown",
      "metadata": {
        "id": "7cWUxAQrGlq6"
      },
      "source": [
        "## 1.1. Download Dataset"
      ]
    },
    {
      "cell_type": "markdown",
      "metadata": {
        "id": "Lr8o7UZxWf3Y"
      },
      "source": [
        "If you want to know how data has been saved in pickle file: see this [ipynb file](https://drive.google.com/file/d/1ZQUVBzgH7N2EbiyE3WTPx7JNe2eRTs36/view?usp=sharing)"
      ]
    },
    {
      "cell_type": "code",
      "metadata": {
        "colab": {
          "base_uri": "https://localhost:8080/"
        },
        "id": "U7C4snIcNl22",
        "outputId": "1d7af7ae-bd7a-4e0f-847b-70e3f90d741a"
      },
      "source": [
        "!pip install -U -q PyDrive\n",
        "from pydrive.auth import GoogleAuth\n",
        "from pydrive.drive import GoogleDrive\n",
        "from google.colab import auth\n",
        "from oauth2client.client import GoogleCredentials\n",
        "# Authenticate and create the PyDrive client.\n",
        "auth.authenticate_user()\n",
        "gauth = GoogleAuth()\n",
        "gauth.credentials = GoogleCredentials.get_application_default()\n",
        "drive = GoogleDrive(gauth)\n",
        "\n",
        "id = '1lTD6bgRkmwguGAr30v-r0KBPdtnVneLb'\n",
        "downloaded = drive.CreateFile({'id':id}) \n",
        "downloaded.GetContentFile('testing_data.pkl')  \n",
        "\n",
        "id = '1pCUdlZMoj99UZHtqFeza86fvVQfFmDFX'\n",
        "downloaded = drive.CreateFile({'id':id}) \n",
        "downloaded.GetContentFile('training_data.pkl')  \n",
        "\n",
        "\n",
        "\n",
        "\n",
        "import pickle\n",
        "training_data = pickle.load(open(\"training_data.pkl\",\"rb\"))\n",
        "testing_data = pickle.load(open(\"testing_data.pkl\",\"rb\"))\n",
        "\n",
        "print(\"------------------------------------\")\n",
        "print(\"Size of training dataset: {0}\".format(len(training_data)))\n",
        "print(\"Size of testing dataset: {0}\".format(len(testing_data)))\n",
        "print(\"------------------------------------\")\n",
        "\n",
        "print(\"------------------------------------\")\n",
        "print(\"Sample Data\")\n",
        "print(\"LABEL: {0} / SENTENCE: {1}\".format(training_data[0][0], training_data[0][1]))\n",
        "print(\"------------------------------------\")"
      ],
      "execution_count": null,
      "outputs": [
        {
          "output_type": "stream",
          "text": [
            "------------------------------------\n",
            "Size of training dataset: 8000\n",
            "Size of testing dataset: 2000\n",
            "------------------------------------\n",
            "------------------------------------\n",
            "Sample Data\n",
            "LABEL: neg / SENTENCE: hopeless for tmr :(\n",
            "------------------------------------\n"
          ],
          "name": "stdout"
        }
      ]
    },
    {
      "cell_type": "markdown",
      "metadata": {
        "id": "l9gBSgBCQh24"
      },
      "source": [
        "## 1.2. Preprocess data"
      ]
    },
    {
      "cell_type": "markdown",
      "metadata": {
        "id": "8RdKI8E2KRwe"
      },
      "source": [
        "\n",
        "\n",
        "*You are required to describe which data preprocessing techniques were conducted with justification of your decision. *"
      ]
    },
    {
      "cell_type": "code",
      "metadata": {
        "colab": {
          "base_uri": "https://localhost:8080/"
        },
        "id": "emyl1lWxGr12",
        "outputId": "8a4292bd-ad2b-4607-8ed6-09ce62ef728c"
      },
      "source": [
        "# Please comment your code\n",
        "import numpy as np\n",
        "\n",
        "## Here to create text and label list for train and test\n",
        "text_train = [s[1] for s in training_data]\n",
        "text_test = [s[1] for s in testing_data]\n",
        "label_train = [s[0] for s in training_data]\n",
        "label_test = [s[0] for s in testing_data]\n",
        "\n",
        "print(text_test[0])"
      ],
      "execution_count": null,
      "outputs": [
        {
          "output_type": "stream",
          "text": [
            "@AndreaMarySmith very helpful .... Or will be once I stop crying :(\n"
          ],
          "name": "stdout"
        }
      ]
    },
    {
      "cell_type": "markdown",
      "metadata": {
        "id": "tHyQM_axLS87"
      },
      "source": [
        "### **Process emojis, emoticons and punctuations**\n"
      ]
    },
    {
      "cell_type": "code",
      "metadata": {
        "id": "H3NM9HHTCcyw"
      },
      "source": [
        "## Here I used emot library created by Neel Shah.\n",
        "## He has put together a list of emoticons with the corresponding words as well as part of his Github repo. https://github.com/NeelShah18/emot\n",
        "## Because we are going to apply sentiment analysis, the emoticons give some valuable information and so removing them might not be a good solution.\n",
        "## For this reason, I converted the emoticons to specific description words according to Neel's library.\n",
        "EMOTICONS_WORD = {\n",
        "    u\":‑\\)\":\"Happy face or smiley\",\n",
        "    u\":\\)\":\"Happy face or smiley\",\n",
        "    u\":-\\]\":\"Happy face or smiley\",\n",
        "    u\":\\]\":\"Happy face or smiley\",\n",
        "    u\":-3\":\"Happy face smiley\",\n",
        "    u\":3\":\"Happy face smiley\",\n",
        "    u\":->\":\"Happy face smiley\",\n",
        "    u\":>\":\"Happy face smiley\",\n",
        "    u\"8-\\)\":\"Happy face smiley\",\n",
        "    u\":o\\)\":\"Happy face smiley\",\n",
        "    u\":-\\}\":\"Happy face smiley\",\n",
        "    u\":\\}\":\"Happy face smiley\",\n",
        "    u\":-\\)\":\"Happy face smiley\",\n",
        "    u\":c\\)\":\"Happy face smiley\",\n",
        "    u\":\\^\\)\":\"Happy face smiley\",\n",
        "    u\"=\\]\":\"Happy face smiley\",\n",
        "    u\"=\\)\":\"Happy face smiley\",\n",
        "    u\":‑D\":\"Laughing, big grin or laugh with glasses\",\n",
        "    u\":D\":\"Laughing, big grin or laugh with glasses\",\n",
        "    u\"8‑D\":\"Laughing, big grin or laugh with glasses\",\n",
        "    u\"8D\":\"Laughing, big grin or laugh with glasses\",\n",
        "    u\"X‑D\":\"Laughing, big grin or laugh with glasses\",\n",
        "    u\"XD\":\"Laughing, big grin or laugh with glasses\",\n",
        "    u\"=D\":\"Laughing, big grin or laugh with glasses\",\n",
        "    u\"=3\":\"Laughing, big grin or laugh with glasses\",\n",
        "    u\"B\\^D\":\"Laughing, big grin or laugh with glasses\",\n",
        "    u\":-\\)\\)\":\"Very happy\",\n",
        "    u\":‑\\(\":\"Frown, sad, andry or pouting\",\n",
        "    u\":-\\(\":\"Frown, sad, andry or pouting\",\n",
        "    u\":\\(\":\"Frown, sad, andry or pouting\",\n",
        "    u\":‑c\":\"Frown, sad, andry or pouting\",\n",
        "    u\":c\":\"Frown, sad, andry or pouting\",\n",
        "    u\":‑<\":\"Frown, sad, andry or pouting\",\n",
        "    u\":<\":\"Frown, sad, andry or pouting\",\n",
        "    u\":‑\\[\":\"Frown, sad, andry or pouting\",\n",
        "    u\":\\[\":\"Frown, sad, andry or pouting\",\n",
        "    u\":-\\|\\|\":\"Frown, sad, andry or pouting\",\n",
        "    u\">:\\[\":\"Frown, sad, andry or pouting\",\n",
        "    u\":\\{\":\"Frown, sad, andry or pouting\",\n",
        "    u\":@\":\"Frown, sad, andry or pouting\",\n",
        "    u\">:\\(\":\"Frown, sad, andry or pouting\",\n",
        "    u\":'‑\\(\":\"Crying\",\n",
        "    u\":'\\(\":\"Crying\",\n",
        "    u\":'‑\\)\":\"Tears of happiness\",\n",
        "    u\":'\\)\":\"Tears of happiness\",\n",
        "    u\"D‑':\":\"Horror\",\n",
        "    u\"D:<\":\"Disgust\",\n",
        "    u\"D:\":\"Sadness\",\n",
        "    u\"D8\":\"Great dismay\",\n",
        "    u\"D;\":\"Great dismay\",\n",
        "    u\"D=\":\"Great dismay\",\n",
        "    u\"DX\":\"Great dismay\",\n",
        "    u\":‑O\":\"Surprise\",\n",
        "    u\":O\":\"Surprise\",\n",
        "    u\":‑o\":\"Surprise\",\n",
        "    u\":o\":\"Surprise\",\n",
        "    u\":-0\":\"Shock\",\n",
        "    u\"8‑0\":\"Yawn\",\n",
        "    u\">:O\":\"Yawn\",\n",
        "    u\":-\\*\":\"Kiss\",\n",
        "    u\":\\*\":\"Kiss\",\n",
        "    u\":X\":\"Kiss\",\n",
        "    u\";‑\\)\":\"Wink or smirk\",\n",
        "    u\";\\)\":\"Wink or smirk\",\n",
        "    u\"\\*-\\)\":\"Wink or smirk\",\n",
        "    u\"\\*\\)\":\"Wink or smirk\",\n",
        "    u\";‑\\]\":\"Wink or smirk\",\n",
        "    u\";\\]\":\"Wink or smirk\",\n",
        "    u\";\\^\\)\":\"Wink or smirk\",\n",
        "    u\":‑,\":\"Wink or smirk\",\n",
        "    u\";D\":\"Wink or smirk\",\n",
        "    u\":‑P\":\"Tongue sticking out, cheeky, playful or blowing a raspberry\",\n",
        "    u\":P\":\"Tongue sticking out, cheeky, playful or blowing a raspberry\",\n",
        "    u\"X‑P\":\"Tongue sticking out, cheeky, playful or blowing a raspberry\",\n",
        "    u\"XP\":\"Tongue sticking out, cheeky, playful or blowing a raspberry\",\n",
        "    u\":‑Þ\":\"Tongue sticking out, cheeky, playful or blowing a raspberry\",\n",
        "    u\":Þ\":\"Tongue sticking out, cheeky, playful or blowing a raspberry\",\n",
        "    u\":b\":\"Tongue sticking out, cheeky, playful or blowing a raspberry\",\n",
        "    u\"d:\":\"Tongue sticking out, cheeky, playful or blowing a raspberry\",\n",
        "    u\"=p\":\"Tongue sticking out, cheeky, playful or blowing a raspberry\",\n",
        "    u\">:P\":\"Tongue sticking out, cheeky, playful or blowing a raspberry\",\n",
        "    u\":‑/\":\"Skeptical, annoyed, undecided, uneasy or hesitant\",\n",
        "    u\":/\":\"Skeptical, annoyed, undecided, uneasy or hesitant\",\n",
        "    u\":-[.]\":\"Skeptical, annoyed, undecided, uneasy or hesitant\",\n",
        "    u\">:[(\\\\\\)]\":\"Skeptical, annoyed, undecided, uneasy or hesitant\",\n",
        "    u\">:/\":\"Skeptical, annoyed, undecided, uneasy or hesitant\",\n",
        "    u\":[(\\\\\\)]\":\"Skeptical, annoyed, undecided, uneasy or hesitant\",\n",
        "    u\"=/\":\"Skeptical, annoyed, undecided, uneasy or hesitant\",\n",
        "    u\"=[(\\\\\\)]\":\"Skeptical, annoyed, undecided, uneasy or hesitant\",\n",
        "    u\":L\":\"Skeptical, annoyed, undecided, uneasy or hesitant\",\n",
        "    u\"=L\":\"Skeptical, annoyed, undecided, uneasy or hesitant\",\n",
        "    u\":S\":\"Skeptical, annoyed, undecided, uneasy or hesitant\",\n",
        "    u\":‑\\|\":\"Straight face\",\n",
        "    u\":\\|\":\"Straight face\",\n",
        "    u\":$\":\"Embarrassed or blushing\",\n",
        "    u\":‑x\":\"Sealed lips or wearing braces or tongue-tied\",\n",
        "    u\":x\":\"Sealed lips or wearing braces or tongue-tied\",\n",
        "    u\":‑#\":\"Sealed lips or wearing braces or tongue-tied\",\n",
        "    u\":#\":\"Sealed lips or wearing braces or tongue-tied\",\n",
        "    u\":‑&\":\"Sealed lips or wearing braces or tongue-tied\",\n",
        "    u\":&\":\"Sealed lips or wearing braces or tongue-tied\",\n",
        "    u\"O:‑\\)\":\"Angel, saint or innocent\",\n",
        "    u\"O:\\)\":\"Angel, saint or innocent\",\n",
        "    u\"0:‑3\":\"Angel, saint or innocent\",\n",
        "    u\"0:3\":\"Angel, saint or innocent\",\n",
        "    u\"0:‑\\)\":\"Angel, saint or innocent\",\n",
        "    u\"0:\\)\":\"Angel, saint or innocent\",\n",
        "    u\":‑b\":\"Tongue sticking out, cheeky, playful or blowing a raspberry\",\n",
        "    u\"0;\\^\\)\":\"Angel, saint or innocent\",\n",
        "    u\">:‑\\)\":\"Evil or devilish\",\n",
        "    u\">:\\)\":\"Evil or devilish\",\n",
        "    u\"\\}:‑\\)\":\"Evil or devilish\",\n",
        "    u\"\\}:\\)\":\"Evil or devilish\",\n",
        "    u\"3:‑\\)\":\"Evil or devilish\",\n",
        "    u\"3:\\)\":\"Evil or devilish\",\n",
        "    u\">;\\)\":\"Evil or devilish\",\n",
        "    u\"\\|;‑\\)\":\"Cool\",\n",
        "    u\"\\|‑O\":\"Bored\",\n",
        "    u\":‑J\":\"Tongue-in-cheek\",\n",
        "    u\"#‑\\)\":\"Party all night\",\n",
        "    u\"%‑\\)\":\"Drunk or confused\",\n",
        "    u\"%\\)\":\"Drunk or confused\",\n",
        "    u\":-###..\":\"Being sick\",\n",
        "    u\":###..\":\"Being sick\",\n",
        "    u\"<:‑\\|\":\"Dump\",\n",
        "    u\"\\(>_<\\)\":\"Troubled\",\n",
        "    u\"\\(>_<\\)>\":\"Troubled\",\n",
        "    u\"\\(';'\\)\":\"Baby\",\n",
        "    u\"\\(\\^\\^>``\":\"Nervous or Embarrassed or Troubled or Shy or Sweat drop\",\n",
        "    u\"\\(\\^_\\^;\\)\":\"Nervous or Embarrassed or Troubled or Shy or Sweat drop\",\n",
        "    u\"\\(-_-;\\)\":\"Nervous or Embarrassed or Troubled or Shy or Sweat drop\",\n",
        "    u\"\\(~_~;\\) \\(・\\.・;\\)\":\"Nervous or Embarrassed or Troubled or Shy or Sweat drop\",\n",
        "    u\"\\(-_-\\)zzz\":\"Sleeping\",\n",
        "    u\"\\(\\^_-\\)\":\"Wink\",\n",
        "    u\"\\(\\(\\+_\\+\\)\\)\":\"Confused\",\n",
        "    u\"\\(\\+o\\+\\)\":\"Confused\",\n",
        "    u\"\\(o\\|o\\)\":\"Ultraman\",\n",
        "    u\"\\^_\\^\":\"Joyful\",\n",
        "    u\"\\(\\^_\\^\\)/\":\"Joyful\",\n",
        "    u\"\\(\\^O\\^\\)／\":\"Joyful\",\n",
        "    u\"\\(\\^o\\^\\)／\":\"Joyful\",\n",
        "    u\"\\(__\\)\":\"Kowtow as a sign of respect, or dogeza for apology\",\n",
        "    u\"_\\(\\._\\.\\)_\":\"Kowtow as a sign of respect, or dogeza for apology\",\n",
        "    u\"<\\(_ _\\)>\":\"Kowtow as a sign of respect, or dogeza for apology\",\n",
        "    u\"<m\\(__\\)m>\":\"Kowtow as a sign of respect, or dogeza for apology\",\n",
        "    u\"m\\(__\\)m\":\"Kowtow as a sign of respect, or dogeza for apology\",\n",
        "    u\"m\\(_ _\\)m\":\"Kowtow as a sign of respect, or dogeza for apology\",\n",
        "    u\"\\('_'\\)\":\"Sad or Crying\",\n",
        "    u\"\\(/_;\\)\":\"Sad or Crying\",\n",
        "    u\"\\(T_T\\) \\(;_;\\)\":\"Sad or Crying\",\n",
        "    u\"\\(;_;\":\"Sad of Crying\",\n",
        "    u\"\\(;_:\\)\":\"Sad or Crying\",\n",
        "    u\"\\(;O;\\)\":\"Sad or Crying\",\n",
        "    u\"\\(:_;\\)\":\"Sad or Crying\",\n",
        "    u\"\\(ToT\\)\":\"Sad or Crying\",\n",
        "    u\";_;\":\"Sad or Crying\",\n",
        "    u\";-;\":\"Sad or Crying\",\n",
        "    u\";n;\":\"Sad or Crying\",\n",
        "    u\";;\":\"Sad or Crying\",\n",
        "    u\"Q\\.Q\":\"Sad or Crying\",\n",
        "    u\"T\\.T\":\"Sad or Crying\",\n",
        "    u\"QQ\":\"Sad or Crying\",\n",
        "    u\"Q_Q\":\"Sad or Crying\",\n",
        "    u\"\\(-\\.-\\)\":\"Shame\",\n",
        "    u\"\\(-_-\\)\":\"Shame\",\n",
        "    u\"\\(一一\\)\":\"Shame\",\n",
        "    u\"\\(；一_一\\)\":\"Shame\",\n",
        "    u\"\\(=_=\\)\":\"Tired\",\n",
        "    u\"\\(=\\^\\·\\^=\\)\":\"cat\",\n",
        "    u\"\\(=\\^\\·\\·\\^=\\)\":\"cat\",\n",
        "    u\"=_\\^=\t\":\"cat\",\n",
        "    u\"\\(\\.\\.\\)\":\"Looking down\",\n",
        "    u\"\\(\\._\\.\\)\":\"Looking down\",\n",
        "    u\"\\^m\\^\":\"Giggling with hand covering mouth\",\n",
        "    u\"\\(\\・\\・?\":\"Confusion\",\n",
        "    u\"\\(?_?\\)\":\"Confusion\",\n",
        "    u\">\\^_\\^<\":\"Normal Laugh\",\n",
        "    u\"<\\^!\\^>\":\"Normal Laugh\",\n",
        "    u\"\\^/\\^\":\"Normal Laugh\",\n",
        "    u\"\\（\\*\\^_\\^\\*）\" :\"Normal Laugh\",\n",
        "    u\"\\(\\^<\\^\\) \\(\\^\\.\\^\\)\":\"Normal Laugh\",\n",
        "    u\"\\(^\\^\\)\":\"Normal Laugh\",\n",
        "    u\"\\(\\^\\.\\^\\)\":\"Normal Laugh\",\n",
        "    u\"\\(\\^_\\^\\.\\)\":\"Normal Laugh\",\n",
        "    u\"\\(\\^_\\^\\)\":\"Normal Laugh\",\n",
        "    u\"\\(\\^\\^\\)\":\"Normal Laugh\",\n",
        "    u\"\\(\\^J\\^\\)\":\"Normal Laugh\",\n",
        "    u\"\\(\\*\\^\\.\\^\\*\\)\":\"Normal Laugh\",\n",
        "    u\"\\(\\^—\\^\\）\":\"Normal Laugh\",\n",
        "    u\"\\(#\\^\\.\\^#\\)\":\"Normal Laugh\",\n",
        "    u\"\\（\\^—\\^\\）\":\"Waving\",\n",
        "    u\"\\(;_;\\)/~~~\":\"Waving\",\n",
        "    u\"\\(\\^\\.\\^\\)/~~~\":\"Waving\",\n",
        "    u\"\\(-_-\\)/~~~ \\($\\·\\·\\)/~~~\":\"Waving\",\n",
        "    u\"\\(T_T\\)/~~~\":\"Waving\",\n",
        "    u\"\\(ToT\\)/~~~\":\"Waving\",\n",
        "    u\"\\(\\*\\^0\\^\\*\\)\":\"Excited\",\n",
        "    u\"\\(\\*_\\*\\)\":\"Amazed\",\n",
        "    u\"\\(\\*_\\*;\":\"Amazed\",\n",
        "    u\"\\(\\+_\\+\\) \\(@_@\\)\":\"Amazed\",\n",
        "    u\"\\(\\*\\^\\^\\)v\":\"Laughing,Cheerful\",\n",
        "    u\"\\(\\^_\\^\\)v\":\"Laughing,Cheerful\",\n",
        "    u\"\\(\\(d[-_-]b\\)\\)\":\"Headphones,Listening to music\",\n",
        "    u'\\(-\"-\\)':\"Worried\",\n",
        "    u\"\\(ーー;\\)\":\"Worried\",\n",
        "    u\"\\(\\^0_0\\^\\)\":\"Eyeglasses\",\n",
        "    u\"\\(\\＾ｖ\\＾\\)\":\"Happy\",\n",
        "    u\"\\(\\＾ｕ\\＾\\)\":\"Happy\",\n",
        "    u\"\\(\\^\\)o\\(\\^\\)\":\"Happy\",\n",
        "    u\"\\(\\^O\\^\\)\":\"Happy\",\n",
        "    u\"\\(\\^o\\^\\)\":\"Happy\",\n",
        "    u\"\\)\\^o\\^\\(\":\"Happy\",\n",
        "    u\":O o_O\":\"Surprised\",\n",
        "    u\"o_0\":\"Surprised\",\n",
        "    u\"o\\.O\":\"Surpised\",\n",
        "    u\"\\(o\\.o\\)\":\"Surprised\",\n",
        "    u\"oO\":\"Surprised\",\n",
        "    u\"\\(\\*￣m￣\\)\":\"Dissatisfied\",\n",
        "    u\"\\(‘A`\\)\":\"Snubbed or Deflated\"\n",
        "}\n",
        "\n",
        "EMOTICONS = r\"\"\"\n",
        "    (?:\n",
        "      [<>]?\n",
        "      [:;=8]                     # eyes\n",
        "      [\\-o\\*\\']?                 # optional nose\n",
        "      [\\)\\]\\(\\[dDpP/\\:\\}\\{@\\|\\\\] # mouth\n",
        "      |\n",
        "      [\\)\\]\\(\\[dDpP/\\:\\}\\{@\\|\\\\] # mouth\n",
        "      [\\-o\\*\\']?                 # optional nose\n",
        "      [:;=8]                     # eyes\n",
        "      [<>]?\n",
        "      |\n",
        "      <3                         # heart\n",
        "    )\"\"\"\n",
        "\n",
        "contraction_dict = {\"ain't\": \"is not\", \"aren't\": \"are not\",\"can't\": \"cannot\", \"'cause\": \"because\", \"could've\": \"could have\", \n",
        "                    \"couldn't\": \"could not\", \"didn't\": \"did not\",  \"doesn't\": \"does not\", \"don't\": \"do not\", \"hadn't\": \"had not\", \n",
        "                    \"hasn't\": \"has not\", \"haven't\": \"have not\", \"he'd\": \"he would\",\"he'll\": \"he will\", \"he's\": \"he is\", \"how'd\": \"how did\", \n",
        "                    \"how'd'y\": \"how do you\", \"how'll\": \"how will\", \"how's\": \"how is\",  \"I'd\": \"I would\", \"I'd've\": \"I would have\", \n",
        "                    \"I'll\": \"I will\", \"I'll've\": \"I will have\",\"I'm\": \"I am\", \"I've\": \"I have\", \"i'd\": \"i would\", \"i'd've\": \"i would have\", \n",
        "                    \"i'll\": \"i will\",  \"i'll've\": \"i will have\",\"i'm\": \"i am\", \"i've\": \"i have\", \"isn't\": \"is not\", \"it'd\": \"it would\", \n",
        "                    \"it'd've\": \"it would have\", \"it'll\": \"it will\", \"it'll've\": \"it will have\",\"it's\": \"it is\", \"let's\": \"let us\", \n",
        "                    \"ma'am\": \"madam\", \"mayn't\": \"may not\", \"might've\": \"might have\",\"mightn't\": \"might not\",\"mightn't've\": \"might not have\", \n",
        "                    \"must've\": \"must have\", \"mustn't\": \"must not\", \"mustn't've\": \"must not have\", \"needn't\": \"need not\", \"needn't've\": \"need not have\",\n",
        "                    \"o'clock\": \"of the clock\", \"oughtn't\": \"ought not\", \"oughtn't've\": \"ought not have\", \"shan't\": \"shall not\", \"sha'n't\": \"shall not\", \n",
        "                    \"shan't've\": \"shall not have\", \"she'd\": \"she would\", \"she'd've\": \"she would have\", \"she'll\": \"she will\", \"she'll've\": \"she will have\", \n",
        "                    \"she's\": \"she is\", \"should've\": \"should have\", \"shouldn't\": \"should not\", \"shouldn't've\": \"should not have\", \"so've\": \"so have\",\n",
        "                    \"so's\": \"so as\", \"this's\": \"this is\",\"that'd\": \"that would\", \"that'd've\": \"that would have\", \"that's\": \"that is\", \"there'd\": \"there would\", \n",
        "                    \"there'd've\": \"there would have\", \"there's\": \"there is\", \"here's\": \"here is\",\"they'd\": \"they would\", \"they'd've\": \"they would have\", \n",
        "                    \"they'll\": \"they will\", \"they'll've\": \"they will have\", \"they're\": \"they are\", \"they've\": \"they have\", \"to've\": \"to have\", \"wasn't\": \"was not\", \n",
        "                    \"we'd\": \"we would\", \"we'd've\": \"we would have\", \"we'll\": \"we will\", \"we'll've\": \"we will have\", \"we're\": \"we are\", \"we've\": \"we have\", \n",
        "                    \"weren't\": \"were not\", \"what'll\": \"what will\", \"what'll've\": \"what will have\", \"what're\": \"what are\",  \"what's\": \"what is\", \"what've\": \"what have\", \n",
        "                    \"when's\": \"when is\", \"when've\": \"when have\", \"where'd\": \"where did\", \"where's\": \"where is\", \"where've\": \"where have\", \"who'll\": \"who will\", \n",
        "                    \"who'll've\": \"who will have\", \"who's\": \"who is\", \"who've\": \"who have\", \"why's\": \"why is\", \"why've\": \"why have\", \"will've\": \"will have\", \n",
        "                    \"won't\": \"will not\", \"won't've\": \"will not have\", \"would've\": \"would have\", \"wouldn't\": \"would not\", \"wouldn't've\": \"would not have\", \n",
        "                    \"y'all\": \"you all\", \"y'all'd\": \"you all would\",\"y'all'd've\": \"you all would have\",\"y'all're\": \"you all are\",\"y'all've\": \"you all have\",\n",
        "                    \"you'd\": \"you would\", \"you'd've\": \"you would have\", \"you'll\": \"you will\", \"you'll've\": \"you will have\", \"you're\": \"you are\", \"you've\": \"you have\"} \n",
        "\n",
        "puncts = [',', '.', '\"', ':', ')', '(', '-', '!', '?', '|', ';', \"'\", '$', '&', '/', '[', ']', '>', '%', '=', '#', '*', '+', '\\\\', '•',  '~', '@', '£', \n",
        " '·', '_', '{', '}', '©', '^', '®', '`',  '<', '→', '°', '€', '™', '›',  '♥', '←', '×', '§', '″', '′', 'Â', '█', '½', 'à', '…', \n",
        " '“', '★', '”', '–', '●', 'â', '►', '−', '¢', '²', '¬', '░', '¶', '↑', '±', '¿', '▾', '═', '¦', '║', '―', '¥', '▓', '—', '‹', '─', \n",
        " '▒', '：', '¼', '⊕', '▼', '▪', '†', '■', '’', '▀', '¨', '▄', '♫', '☆', 'é', '¯', '♦', '¤', '▲', 'è', '¸', '¾', 'Ã', '⋅', '‘', '∞', \n",
        " '∙', '）', '↓', '、', '│', '（', '»', '，', '♪', '╩', '╚', '³', '・', '╦', '╣', '╔', '╗', '▬', '❤', 'ï', 'Ø', '¹', '≤', '‡', '√', ]"
      ],
      "execution_count": null,
      "outputs": []
    },
    {
      "cell_type": "code",
      "metadata": {
        "colab": {
          "base_uri": "https://localhost:8080/"
        },
        "id": "p4cynDq9LW2t",
        "outputId": "9e7c29cc-e28f-47f2-92c1-7d3875ba3be3"
      },
      "source": [
        "import re\n",
        "\n",
        "## Here to remove the punctuation\n",
        "## Replace the contraction first \n",
        "def remove_punctuation(text):\n",
        "    x = str(text)\n",
        "    #Remove user name first!\n",
        "    x = re.sub('@[^\\s]+','',x)\n",
        "    #Remove \\n\n",
        "    x = re.sub(\"\\n\",\"\",x)\n",
        "    for word, initial in contraction_dict.items():\n",
        "      x = x.replace(word, initial)\n",
        "    for punct in puncts:\n",
        "        if punct in x:\n",
        "            x = x.replace(punct, '')\n",
        "    return x\n",
        "\n",
        "## Here to convert emoticons to words\n",
        "def convert_emoticons(text):\n",
        "    for emot in EMOTICONS_WORD:\n",
        "      text = re.sub(u'('+emot+')', \"_\".join(EMOTICONS_WORD[emot].replace(\",\",\"\").split()), text)\n",
        "    return text\n",
        "\n",
        "\n",
        "##  Here to remove emoticons\n",
        "def remove_emoticons(text):\n",
        "   emoticon_pattern = re.compile(EMOTICONS, re.VERBOSE)\n",
        "   return emoticon_pattern.sub(r'', text)\n",
        "\n",
        "## Here to convert emojis\n",
        "## Reference : https://gist.github.com/slowkow/7a7f61f495e3dbb7e3d767f97bd7304b\n",
        "def remove_emoji(string):\n",
        "    emoji_pattern = re.compile(\"[\"\n",
        "                  u\"\\U0001F600-\\U0001F64F\"  # emoticons\n",
        "                  u\"\\U0001F300-\\U0001F5FF\"  # symbols & pictographs\n",
        "                  u\"\\U0001F680-\\U0001F6FF\"  # transport & map symbols\n",
        "                  u\"\\U0001F1E0-\\U0001F1FF\"  # flags (iOS)\n",
        "                  u\"\\U00002500-\\U00002BEF\"  # chinese char\n",
        "                  u\"\\U00002702-\\U000027B0\"\n",
        "                  u\"\\U00002702-\\U000027B0\"\n",
        "                  u\"\\U000024C2-\\U0001F251\"\n",
        "                  u\"\\U0001f926-\\U0001f937\"\n",
        "                  u\"\\U00010000-\\U0010ffff\"\n",
        "                  u\"\\u2640-\\u2642\"\n",
        "                  u\"\\u2600-\\u2B55\"\n",
        "                  u\"\\u200d\"\n",
        "                  u\"\\u23cf\"\n",
        "                  u\"\\u23e9\"\n",
        "                  u\"\\u231a\"\n",
        "                  u\"\\ufe0f\"  # dingbats\n",
        "                  u\"\\u3030\"\n",
        "                  \"]+\", flags=re.UNICODE)\n",
        "    return emoji_pattern.sub(r'', string)\n",
        "\n",
        "## The punctuation removal's order is:\n",
        "##        1. Remove emojis\n",
        "##        2. Convert emoticons to its represented word\n",
        "##        3. Remove punctuations\n",
        "## Defferences between remove_with_emotioncons & remove_without_emoticons:\n",
        "##      text = \"It ain't a nice day[] :(\"\n",
        "##      remove_with_emoticons(text) = It is not a nice day Frownsadandryorpouting\n",
        "##      remove_without_emoticons = It is not a nice day\n",
        "def remove_with_emoticons(text):\n",
        "  text = remove_emoji(text)\n",
        "  text = convert_emoticons(text)\n",
        "  text = remove_punctuation(text)\n",
        "  return text\n",
        "\n",
        "def remove_without_emoticons(text):\n",
        "  text = remove_emoji(text)\n",
        "  text = remove_emoticons(text)\n",
        "  text = remove_punctuation(text)\n",
        "  return text\n",
        "\n",
        "## text_train and text_test with emoticons convereted are for lexicon embeddinga and RNN sequenc model\n",
        "text_train_withemoticons = [remove_with_emoticons(s) for s in text_train]\n",
        "text_test_withemoticons = [remove_with_emoticons(s) for s in text_test]\n",
        "\n",
        "## text_train and text_test without emoticons are for CBOW training section\n",
        "text_train_withoutemoticons = [remove_without_emoticons(s) for s in text_train]\n",
        "text_test_withoutemoticons = [remove_without_emoticons(s) for s in text_test]\n",
        "\n",
        "print(text_train[:5])\n",
        "print(text_train_withoutemoticons[:5])\n"
      ],
      "execution_count": null,
      "outputs": [
        {
          "output_type": "stream",
          "text": [
            "['hopeless for tmr :(', \"Everything in the kids section of IKEA is so cute. Shame I'm nearly 19 in 2 months :(\", '@Hegelbon That heart sliding into the waste basket. :(', '“@ketchBurning: I hate Japanese call him \"bani\" :( :(”\\n\\nMe too', 'Dang starting next week I have \"work\" :(']\n",
            "['hopeless for tmr ', 'Everything in the kids section of IKEA is so cute Shame I am nearly 19 in 2 months ', ' That heart sliding into the waste basket ', ' I hate Japanese call him bani  Me too', 'Dang starting next week I have work ']\n"
          ],
          "name": "stdout"
        }
      ]
    },
    {
      "cell_type": "markdown",
      "metadata": {
        "id": "8-hqmL7Zwy3C"
      },
      "source": [
        "### **Lower Casing**\n"
      ]
    },
    {
      "cell_type": "code",
      "metadata": {
        "id": "sqzQoippw6Lk"
      },
      "source": [
        "## Case-Folding\n",
        "text_train_lc = [s.lower() for s in text_train_withemoticons]\n",
        "text_test_lc = [s.lower() for s in text_test_withemoticons]\n",
        "\n",
        "text_train_withoutemoticons = [s.lower() for s in text_train_withoutemoticons]\n",
        "text_test_withoutemoticons = [s.lower() for s in text_test_withoutemoticons]\n"
      ],
      "execution_count": null,
      "outputs": []
    },
    {
      "cell_type": "markdown",
      "metadata": {
        "id": "9mv0aIjvFUpv"
      },
      "source": [
        "### **Remove numbers**"
      ]
    },
    {
      "cell_type": "code",
      "metadata": {
        "colab": {
          "base_uri": "https://localhost:8080/"
        },
        "id": "tJGVkU_rFUCU",
        "outputId": "71d609cd-f3a4-4cad-df92-6df4ea438aed"
      },
      "source": [
        "def remove_numbers(text):\n",
        "  text_nonum = re.sub(r'\\d+', '', text)\n",
        "  return text_nonum\n",
        "\n",
        "text_train_rn = [remove_numbers(s) for s in text_train_lc]\n",
        "text_test_rn = [remove_numbers(s) for s in text_test_lc]\n",
        "\n",
        "print(text_train_rn[:5])\n",
        "print(text_test_rn[:5])"
      ],
      "execution_count": null,
      "outputs": [
        {
          "output_type": "stream",
          "text": [
            "['hopeless for tmr frownsadandryorpouting', 'everything in the kids section of ikea is so cute shame i am nearly  in  months frownsadandryorpouting', ' that heart sliding into the waste basket frownsadandryorpouting', ' i hate japanese call him bani frownsadandryorpouting frownsadandryorpoutingme too', 'dang starting next week i have work frownsadandryorpouting']\n",
            "[' very helpful  or will be once i stop crying frownsadandryorpouting', ' otl nevermind frownsadandryorpouting at least i got jeon so', 'and as soon as i tweeted that she planted her claws in my thigh for traction and zoomed away frownsadandryorpouting', ' damnit frownsadandryorpouting', ' i used to be prypv  wish i could relive those days and become nycpv buy there is no way to communicate with nyc or usa klm frownsadandryorpouting']\n"
          ],
          "name": "stdout"
        }
      ]
    },
    {
      "cell_type": "markdown",
      "metadata": {
        "id": "64WeiutB76rF"
      },
      "source": [
        "### **Remove URLs** "
      ]
    },
    {
      "cell_type": "code",
      "metadata": {
        "id": "DaQhEWVf797x"
      },
      "source": [
        "def remove_urls(text):\n",
        "    url_pattern = re.compile(r'https?\\S+|www\\S+')\n",
        "    return url_pattern.sub(r'', text)\n",
        "\n",
        "text_train_ru = [remove_urls(s) for s in text_train_rn]\n",
        "text_test_ru = [remove_urls(s) for s in text_test_rn]"
      ],
      "execution_count": null,
      "outputs": []
    },
    {
      "cell_type": "markdown",
      "metadata": {
        "id": "aDDyRm0WCdFs"
      },
      "source": [
        "### **Tokenization**"
      ]
    },
    {
      "cell_type": "code",
      "metadata": {
        "colab": {
          "base_uri": "https://localhost:8080/"
        },
        "id": "xSY271cTCvj1",
        "outputId": "e3ac346e-080e-4991-d9e0-3d56a8607be9"
      },
      "source": [
        "import nltk\n",
        "nltk.download('punkt')\n",
        "\n",
        "from nltk.tokenize import word_tokenize\n",
        "\n",
        "text_train_tk = [word_tokenize(s) for s in text_train_ru]\n",
        "text_test_tk = [word_tokenize(s) for s in text_test_ru]\n",
        "\n",
        "print(text_test_tk[:5])"
      ],
      "execution_count": null,
      "outputs": [
        {
          "output_type": "stream",
          "text": [
            "[nltk_data] Downloading package punkt to /root/nltk_data...\n",
            "[nltk_data]   Package punkt is already up-to-date!\n",
            "[['very', 'helpful', 'or', 'will', 'be', 'once', 'i', 'stop', 'crying', 'frownsadandryorpouting'], ['otl', 'nevermind', 'frownsadandryorpouting', 'at', 'least', 'i', 'got', 'jeon', 'so'], ['and', 'as', 'soon', 'as', 'i', 'tweeted', 'that', 'she', 'planted', 'her', 'claws', 'in', 'my', 'thigh', 'for', 'traction', 'and', 'zoomed', 'away', 'frownsadandryorpouting'], ['damnit', 'frownsadandryorpouting'], ['i', 'used', 'to', 'be', 'prypv', 'wish', 'i', 'could', 'relive', 'those', 'days', 'and', 'become', 'nycpv', 'buy', 'there', 'is', 'no', 'way', 'to', 'communicate', 'with', 'nyc', 'or', 'usa', 'klm', 'frownsadandryorpouting']]\n"
          ],
          "name": "stdout"
        }
      ]
    },
    {
      "cell_type": "markdown",
      "metadata": {
        "id": "ijgTS6KOw5z8"
      },
      "source": [
        "### **Remove stopwords**"
      ]
    },
    {
      "cell_type": "code",
      "metadata": {
        "colab": {
          "base_uri": "https://localhost:8080/"
        },
        "id": "cr4xXR_mDOyO",
        "outputId": "8256f956-73ad-4885-e3d9-a788d23d3dc7"
      },
      "source": [
        "nltk.download('stopwords')\n",
        "from nltk.corpus import stopwords as sw\n",
        "\n",
        "stop_words = sw.words()\n",
        "\n",
        "text_train_ns=[]\n",
        "for tokens in text_train_tk:\n",
        "    filtered_sentence = [w for w in tokens if not w in stop_words]\n",
        "    text_train_ns.append(filtered_sentence)\n",
        "\n",
        "text_test_ns=[]\n",
        "for tokens in text_test_tk:\n",
        "    filtered_sentence = [w for w in tokens if not w in stop_words]\n",
        "    text_test_ns.append(filtered_sentence)\n",
        "\n",
        "print(text_train_ns[0])"
      ],
      "execution_count": null,
      "outputs": [
        {
          "output_type": "stream",
          "text": [
            "[nltk_data] Downloading package stopwords to /root/nltk_data...\n",
            "[nltk_data]   Package stopwords is already up-to-date!\n",
            "['hopeless', 'tmr', 'frownsadandryorpouting']\n"
          ],
          "name": "stdout"
        }
      ]
    },
    {
      "cell_type": "markdown",
      "metadata": {
        "id": "2lQiw409DOSc"
      },
      "source": [
        "### **Lemmatisation**"
      ]
    },
    {
      "cell_type": "code",
      "metadata": {
        "colab": {
          "base_uri": "https://localhost:8080/"
        },
        "id": "XJWoijZTDysc",
        "outputId": "42262052-70e0-4d72-e9f1-81f5ade82f9f"
      },
      "source": [
        "nltk.download('wordnet')\n",
        "\n",
        "from nltk.stem import WordNetLemmatizer\n",
        "\n",
        "lemmatizer = WordNetLemmatizer()\n",
        "\n",
        "text_train_le = []\n",
        "for tokens in text_train_ns:\n",
        "    lemma_sentence = [lemmatizer.lemmatize(w) for w in tokens ]\n",
        "    text_train_le.append(lemma_sentence)\n",
        "\n",
        "text_test_le = []\n",
        "for tokens in text_test_ns:\n",
        "    lemma_sentence = [lemmatizer.lemmatize(w) for w in tokens ]\n",
        "    text_test_le.append(lemma_sentence)"
      ],
      "execution_count": null,
      "outputs": [
        {
          "output_type": "stream",
          "text": [
            "[nltk_data] Downloading package wordnet to /root/nltk_data...\n",
            "[nltk_data]   Package wordnet is already up-to-date!\n"
          ],
          "name": "stdout"
        }
      ]
    },
    {
      "cell_type": "code",
      "metadata": {
        "colab": {
          "base_uri": "https://localhost:8080/"
        },
        "id": "xkaD6E2nFJfU",
        "outputId": "2c65ec38-4423-4d02-cc57-69e21d56f046"
      },
      "source": [
        "print(text_train_le[0])"
      ],
      "execution_count": null,
      "outputs": [
        {
          "output_type": "stream",
          "text": [
            "['hopeless', 'tmr', 'frownsadandryorpouting']\n"
          ],
          "name": "stdout"
        }
      ]
    },
    {
      "cell_type": "markdown",
      "metadata": {
        "id": "8NRVnsjsRhp-"
      },
      "source": [
        "### **Label encoding**"
      ]
    },
    {
      "cell_type": "code",
      "metadata": {
        "colab": {
          "base_uri": "https://localhost:8080/"
        },
        "id": "AQLQ4WV4RnZZ",
        "outputId": "b9245ba5-2d90-4fd9-f39a-5f6f11fff4ee"
      },
      "source": [
        "import numpy as np\n",
        "\n",
        "from sklearn.preprocessing import LabelEncoder\n",
        "\n",
        "unique_labels = np.unique(label_train)\n",
        "\n",
        "lEnc = LabelEncoder()\n",
        "# Please encode the labels (Do NOT add new lines of code in this section)\n",
        "label_train_encoded = lEnc.fit_transform(label_train)\n",
        "label_test_encoded = lEnc.transform(label_test)\n",
        "\n",
        "\n",
        "n_class = len(unique_labels)\n",
        "print(unique_labels)\n",
        "print(lEnc.transform(unique_labels))"
      ],
      "execution_count": null,
      "outputs": [
        {
          "output_type": "stream",
          "text": [
            "['neg' 'pos']\n",
            "[0 1]\n"
          ],
          "name": "stdout"
        }
      ]
    },
    {
      "cell_type": "markdown",
      "metadata": {
        "id": "LIu_lkJwQ55g"
      },
      "source": [
        "# 2 - Model Implementation"
      ]
    },
    {
      "cell_type": "markdown",
      "metadata": {
        "id": "daDvAftceIvr"
      },
      "source": [
        "## 2.1. Word Embeddings\n",
        "\n",
        "In this section, I implemented the CBOW class by meself at first. But the training exectuting time is too long. Thus, I used gensim.models.word2vec learned from lab 2 and train the model as well."
      ]
    },
    {
      "cell_type": "code",
      "metadata": {
        "id": "3cM4rlYkHefJ",
        "colab": {
          "base_uri": "https://localhost:8080/"
        },
        "outputId": "effe1527-eee7-4fce-8e83-1a25b32cd636"
      },
      "source": [
        "## In this section, I will implement Word2VEc with CBOW\n",
        "## I will use \n",
        "import lxml\n",
        "from lxml import etree\n",
        "import nltk\n",
        "nltk.download('punkt')\n",
        "from nltk.tokenize import sent_tokenize\n",
        "import torch\n",
        "import torch.nn as nn\n",
        "import torch.optim as optim\n",
        "from random import shuffle\n",
        "import numpy as np\n",
        "from gensim.models import Word2Vec\n",
        "import pprint\n"
      ],
      "execution_count": null,
      "outputs": [
        {
          "output_type": "stream",
          "text": [
            "[nltk_data] Downloading package punkt to /root/nltk_data...\n",
            "[nltk_data]   Package punkt is already up-to-date!\n"
          ],
          "name": "stdout"
        }
      ]
    },
    {
      "cell_type": "markdown",
      "metadata": {
        "id": "lgG15lt1gdt_"
      },
      "source": [
        "#### **Download and use the TED script data from Google Drive**\n",
        "The reason why I choose to use TED script is because the original twitter dataset is to small for word embedding training. TED dataset can have more that 20,000,000 words in total. This is a good dataset to train the model, which can enhance the accuracy.\n",
        "\n",
        "After download the TED script data, add the original NLTK Twitter data together to make the dataset bigger. "
      ]
    },
    {
      "cell_type": "code",
      "metadata": {
        "id": "5upkr6cXgcXr"
      },
      "source": [
        "id = '1B47OiEiG2Lo1jUY6hy_zMmHBxfKQuJ8-'\n",
        "downloaded = drive.CreateFile({'id':id}) \n",
        "downloaded.GetContentFile('ted_en-20160408.xml')  \n",
        "targetXML=open('ted_en-20160408.xml', 'r', encoding='UTF8')\n",
        "\n",
        "target_text = etree.parse(targetXML)\n",
        "parse_text = '\\n'.join(target_text.xpath('//content/text()'))"
      ],
      "execution_count": null,
      "outputs": []
    },
    {
      "cell_type": "markdown",
      "metadata": {
        "id": "ypqQOyGrgdIj"
      },
      "source": [
        "#### Data Preprocessing for Word Embeddings"
      ]
    },
    {
      "cell_type": "code",
      "metadata": {
        "colab": {
          "base_uri": "https://localhost:8080/"
        },
        "id": "3LByzHLiNinu",
        "outputId": "760af5ac-c1eb-496b-fc83-463166e01d9f"
      },
      "source": [
        "content_text = re.sub(r'\\([^)]*\\)', '', parse_text)\n",
        "\n",
        "# Tokenising the sentence to process it by using NLTK library\n",
        "sent_text=sent_tokenize(content_text)\n",
        "\n",
        "# Removing punctuation and changing all characters to lower case\n",
        "normalized_text = []\n",
        "for string in sent_text:\n",
        "     tokens = re.sub(r\"[^a-z0-9]+\", \" \", string.lower())\n",
        "     normalized_text.append(tokens)\n",
        "normalized_text = normalized_text + text_train_withoutemoticons + text_test_withoutemoticons\n",
        "\n",
        "## Tokenising each sentence to process individual word\n",
        "## In my situation, I met a problem where world_tokenize would split the word such as \"gonna\" and \"wanna\" into \"gon\" \"na\" and \"wan\" \"na\".\n",
        "## However, I'm using split() to split the normalised_text in my word_dict. In my word_dict, it's  \"gonna\" not \"gon\" \"na\".\n",
        "## Thus, I will simplly use split() here instead of word_tonkenize()\n",
        "tokenize = lambda x: x.split()\n",
        "sentences=[]\n",
        "sentences=[tokenize(sentence) for sentence in normalized_text]\n",
        "\n",
        "# Prints only 10 (tokenised) sentences\n",
        "print(sentences[:10])\n",
        "## make dictionary so that we can reference each index of unique word\n",
        "word_list = \" \".join(normalized_text).split()\n",
        "word_list = list(set(word_list))\n",
        "\n",
        "word_dict = {w: i for i, w in enumerate(word_list)}"
      ],
      "execution_count": null,
      "outputs": [
        {
          "output_type": "stream",
          "text": [
            "[['here', 'are', 'two', 'reasons', 'companies', 'fail', 'they', 'only', 'do', 'more', 'of', 'the', 'same', 'or', 'they', 'only', 'do', 'what', 's', 'new'], ['to', 'me', 'the', 'real', 'real', 'solution', 'to', 'quality', 'growth', 'is', 'figuring', 'out', 'the', 'balance', 'between', 'two', 'activities', 'exploration', 'and', 'exploitation'], ['both', 'are', 'necessary', 'but', 'it', 'can', 'be', 'too', 'much', 'of', 'a', 'good', 'thing'], ['consider', 'facit'], ['i', 'm', 'actually', 'old', 'enough', 'to', 'remember', 'them'], ['facit', 'was', 'a', 'fantastic', 'company'], ['they', 'were', 'born', 'deep', 'in', 'the', 'swedish', 'forest', 'and', 'they', 'made', 'the', 'best', 'mechanical', 'calculators', 'in', 'the', 'world'], ['everybody', 'used', 'them'], ['and', 'what', 'did', 'facit', 'do', 'when', 'the', 'electronic', 'calculator', 'came', 'along'], ['they', 'continued', 'doing', 'exactly', 'the', 'same']]\n"
          ],
          "name": "stdout"
        }
      ]
    },
    {
      "cell_type": "code",
      "metadata": {
        "colab": {
          "base_uri": "https://localhost:8080/"
        },
        "id": "KK1fbWoz1TDz",
        "outputId": "80d6b58d-b0f1-49c9-dc88-3c2ecda8dee3"
      },
      "source": [
        "print(len(sentences))"
      ],
      "execution_count": null,
      "outputs": [
        {
          "output_type": "stream",
          "text": [
            "283424\n"
          ],
          "name": "stdout"
        }
      ]
    },
    {
      "cell_type": "markdown",
      "metadata": {
        "id": "jmYTHn7hNZt0"
      },
      "source": [
        "### 2.1.1. CBOW model implemented by myself "
      ]
    },
    {
      "cell_type": "markdown",
      "metadata": {
        "id": "a5fnA8fby0UH"
      },
      "source": [
        "\n",
        "\n",
        "I make the window size = 10. Because this is a TED talk dataset, unlike Tweeet, during talks, people tend to speak more in order to make things clear. Thus, I chose to make the window size to 10. If the window size gets too big, it will increase the executing time.\n",
        "\n",
        "57s"
      ]
    },
    {
      "cell_type": "code",
      "metadata": {
        "colab": {
          "base_uri": "https://localhost:8080/"
        },
        "id": "6QuAgFKznKIr",
        "outputId": "e849fd6c-d725-4c35-e9d2-b11e19b04a9c"
      },
      "source": [
        "cbow = []\n",
        "window_size = 5\n",
        "\n",
        "for s in sentences:\n",
        "    shuffle(sentences)\n",
        "    if len(s) < 2*window_size+1:\n",
        "      continue\n",
        "    if (len(cbow) > 100):\n",
        "      break\n",
        "    for i in range(window_size, len(s) - window_size):\n",
        "        \n",
        "        centre = word_dict[s[i]]\n",
        "        context = []\n",
        "        if i >= window_size and i < len(s) - window_size:\n",
        "          for e in range(-window_size, window_size+1):\n",
        "            if i+e != i:\n",
        "              context.append(word_dict[s[i+e]])            \n",
        "        elif i >= window_size and i >= len(s) - window_size:\n",
        "          for e in range(-window_size, len(s) - i):\n",
        "            if i+e != i:\n",
        "              context.append(word_dict[s[i+e]])\n",
        "        elif i < window_size and i < len(s) - window_size:\n",
        "          for e in range(-i, window_size+1):\n",
        "            if i+e != i:\n",
        "              context.append(word_dict[s[i+e]])\n",
        "        elif i < window_size and i >= len(s) - window_size:\n",
        "          for e in range(-i, len(s) - i):\n",
        "            if i+e != i:\n",
        "              context.append(word_dict[s[i+e]])\n",
        "        if len(context) == 3:\n",
        "          print(len(s))\n",
        "        cbow.append([context, centre])\n",
        "\n",
        "print(len(cbow))\n"
      ],
      "execution_count": null,
      "outputs": [
        {
          "output_type": "stream",
          "text": [
            "103\n"
          ],
          "name": "stdout"
        }
      ]
    },
    {
      "cell_type": "markdown",
      "metadata": {
        "id": "qhAgWf_AmbZ8"
      },
      "source": [
        "#### Build Word Embeddings Model"
      ]
    },
    {
      "cell_type": "markdown",
      "metadata": {
        "id": "AJ8rU7JbiBVS"
      },
      "source": [
        "*You are required to describe how hyperparameters were decided with justification of your decision.*\n",
        "\n",
        "\n",
        "*   voc_size: It is just a variable used to describe the size of the vocabulary's size.\n",
        "*   learning rate: The learning rate is set to 0.1 here because if the learning rate is too small, it needs a bigger epoch as each update can only change a small value.\n",
        "*   batch_size: According to my experiment, I tired batch size from 5 to 50, 25 is the best number which gives smallest loss and fastest executing.\n",
        "*   embedding_size: I tried different embedding size from 2 to 25, if the embedding size goes too big, the execution time becomes long as well. If the embedding size is too small, the loss is too big. The proper value for embedding is around 15.\n",
        "*   no_of_epochs: For the epoch, the larger the better. However, the execution time will become larger. Thus, 5000 is good for this model.\n",
        "\n"
      ]
    },
    {
      "cell_type": "code",
      "metadata": {
        "id": "TVPuwWgvNjOU"
      },
      "source": [
        "voc_size = len(word_list)\n",
        "learning_rate = 0.1\n",
        "batch_size = 50\n",
        "embedding_size = 20\n",
        "no_of_epochs = 5000"
      ],
      "execution_count": null,
      "outputs": []
    },
    {
      "cell_type": "code",
      "metadata": {
        "id": "hcxI1LA0xb5B"
      },
      "source": [
        "import numpy as np\n",
        "def prepare_batch(data_temp):\n",
        "    inputs = []\n",
        "    labels = []\n",
        "\n",
        "    for data_sample in data_temp:\n",
        "        inputs.append(data_sample[0])\n",
        "        labels.append(data_sample[1])  \n",
        "    return np.array(inputs), np.array(labels)"
      ],
      "execution_count": null,
      "outputs": []
    },
    {
      "cell_type": "code",
      "metadata": {
        "id": "fgxLdR2IxeLb"
      },
      "source": [
        "class CBOW(nn.Module):\n",
        "    def __init__(self, voc_size, embedding_size):\n",
        "        super(CBOW, self).__init__()\n",
        "        self.emb = nn.Embedding(voc_size, embedding_size)\n",
        "        self.linear1 = nn.Linear(embedding_size, voc_size, bias=False)\n",
        "\n",
        "    def forward(self, x):\n",
        "        hidden = self.emb(x)\n",
        "        v_hat = torch.mean(hidden, dim=1)\n",
        "        out = self.linear1(v_hat)\n",
        "        return out\n"
      ],
      "execution_count": null,
      "outputs": []
    },
    {
      "cell_type": "markdown",
      "metadata": {
        "id": "LNys5HOdISK-"
      },
      "source": [
        "#### Train Word Embeddings Model\n",
        "\n",
        "Execution time: Approximately 7 minutes"
      ]
    },
    {
      "cell_type": "code",
      "metadata": {
        "colab": {
          "base_uri": "https://localhost:8080/"
        },
        "id": "Ae8i7Z2kIef-",
        "outputId": "3b2f6a62-8178-48d0-d664-6c04f21309ac"
      },
      "source": [
        "## Create the cbow model\n",
        "cbow_model = CBOW(voc_size, embedding_size)\n",
        "## Use Pytorch’s CrossEntropyLoss here\n",
        "criterion = nn.CrossEntropyLoss()\n",
        "## Use SGD optimizer here to optimize \n",
        "optimiser = optim.SGD(cbow_model.parameters(), lr=learning_rate)\n",
        "\n",
        "for epoch in range(no_of_epochs):\n",
        "\n",
        "    shuffle(cbow)\n",
        "    loss_sum = 0\n",
        "\n",
        "    for ind in range(0,len(cbow),batch_size):\n",
        "        data_temp = cbow[ind : min(ind+batch_size, len(cbow))]\n",
        "        inputs_temp, labels_temp = prepare_batch(data_temp)\n",
        "\n",
        "        inputs_torch = torch.LongTensor(inputs_temp)\n",
        "        labels_torch = torch.LongTensor(labels_temp)\n",
        "\n",
        "        optimiser.zero_grad()    \n",
        "        outputs = cbow_model(inputs_torch)\n",
        "\n",
        "        loss = criterion(outputs, labels_torch)\n",
        "        loss.backward()\n",
        "        optimiser.step()\n",
        "\n",
        "        loss_sum += loss.item()\n",
        "\n",
        "    if epoch % 500 == 499: \n",
        "        print('Epoch: %d, loss: %.4f' %(epoch + 1, loss_sum))"
      ],
      "execution_count": null,
      "outputs": [
        {
          "output_type": "stream",
          "text": [
            "Epoch: 500, loss: 13.1062\n",
            "Epoch: 1000, loss: 2.3964\n",
            "Epoch: 1500, loss: 1.3747\n",
            "Epoch: 2000, loss: 0.7798\n",
            "Epoch: 2500, loss: 0.5061\n",
            "Epoch: 3000, loss: 0.4690\n",
            "Epoch: 3500, loss: 0.2830\n",
            "Epoch: 4000, loss: 0.2545\n",
            "Epoch: 4500, loss: 0.2484\n",
            "Epoch: 5000, loss: 0.2064\n"
          ],
          "name": "stdout"
        }
      ]
    },
    {
      "cell_type": "markdown",
      "metadata": {
        "id": "zDF6LFb5OOfw"
      },
      "source": [
        "### 2.1.2. CBOW model using gensim.models.word2vec\n",
        "\n",
        "This is the model that I used for word embedding in all the following sections.\n"
      ]
    },
    {
      "cell_type": "markdown",
      "metadata": {
        "id": "uMx4aNnTO7LO"
      },
      "source": [
        "#### Preprocessing\n",
        "\n",
        "In this model, I use TED scipts dataset to train the model. I want to compare the models which implemented by me from above section."
      ]
    },
    {
      "cell_type": "markdown",
      "metadata": {
        "id": "ED52Po61SDJ8"
      },
      "source": [
        "####  Build the model\n",
        "\n",
        "hyperparameters decisions:\n",
        "\n",
        "\n",
        "*   size: set to 200 to increase the accuracy. Can't make it too big because bigger size requires larger dataset.\n",
        "*   min_count: Word which appears less than 3 times will be treated as garbage.\n",
        "*   window: same as previous section.\n",
        "*   workers: 4. To improve the executing time.\n",
        "*   sg： paramenter for choosing CBOW moodel.\n",
        "\n"
      ]
    },
    {
      "cell_type": "code",
      "metadata": {
        "id": "mJ2ukXenSClc"
      },
      "source": [
        "# init word2vec class\n",
        "cbow_model = Word2Vec(size=120,min_count=3,window=14,workers=4,sg=0)\n",
        "cbow_model.build_vocab(sentences)"
      ],
      "execution_count": null,
      "outputs": []
    },
    {
      "cell_type": "markdown",
      "metadata": {
        "id": "QXCVeNpDZ52c"
      },
      "source": [
        "#### Train the model\n",
        "\n",
        "*   sentences: train with the sentences data preprocessed by previous section\n",
        "*   total_example:  Count of sentences.\n",
        "*   epoch: Number of iterations (epochs) over the corpus. 10 iterations is good enough.\n",
        "*   report_delay: Seconds to wait before reporting progress.\n",
        "*   compute_loss: Set tp true to see the final loss of the model. The loss can be bit because it is actually the sum of every epoch's loss.\n",
        "\n",
        "\n",
        "Execution time for this section: 90s.\n"
      ]
    },
    {
      "cell_type": "code",
      "metadata": {
        "colab": {
          "base_uri": "https://localhost:8080/"
        },
        "id": "9bSuhXGGUwW4",
        "outputId": "58a0e732-72b3-4b12-b029-a5ba2cbb72df"
      },
      "source": [
        "cbow_model.train(sentences,total_examples=cbow_model.corpus_count,epochs=10,report_delay=1,compute_loss = True)\n",
        "training_loss = cbow_model.get_latest_training_loss()\n",
        "print(training_loss)"
      ],
      "execution_count": null,
      "outputs": [
        {
          "output_type": "stream",
          "text": [
            "14234954.0\n"
          ],
          "name": "stdout"
        }
      ]
    },
    {
      "cell_type": "code",
      "metadata": {
        "colab": {
          "base_uri": "https://localhost:8080/"
        },
        "id": "I3qiTXAE1rqw",
        "outputId": "de13e3b2-39d7-4775-86ed-ec181935db9f"
      },
      "source": [
        "print(cbow_model.wv['man'])"
      ],
      "execution_count": null,
      "outputs": [
        {
          "output_type": "stream",
          "text": [
            "[-5.4170126e-01 -5.2110844e+00  1.3627224e+00  3.8040823e-01\n",
            "  3.7437376e-01 -7.9364341e-01 -2.8674278e-01  3.3084598e+00\n",
            "  1.1990448e+00  8.2167268e-01 -1.2027617e+00 -1.1929119e+00\n",
            "  3.1544983e+00 -3.5591011e+00  6.8504252e-02  1.5728794e+00\n",
            " -1.6204369e+00  1.0789050e+00  1.7920346e+00 -6.8356562e-01\n",
            "  8.6778477e-02  3.0280361e+00  1.7762953e+00 -6.3605286e-02\n",
            "  2.8622234e-01 -8.8769001e-01  1.7185143e+00 -6.9801487e-02\n",
            "  1.5332454e+00 -3.3113927e-01  4.0364373e-03 -9.7478998e-01\n",
            " -3.3282821e+00  7.5332695e-01  8.7899995e-01  1.0849777e+00\n",
            "  1.8036468e+00  1.2210861e+00  1.7178631e-01  3.2566744e-01\n",
            " -1.2578123e+00 -6.5835029e-01 -2.2846668e+00 -2.3982737e+00\n",
            "  1.2854517e+00 -7.1217066e-01 -7.4666208e-01  4.4421753e-01\n",
            " -1.0329610e+00  1.2051090e+00  1.2344044e+00  4.1062827e+00\n",
            "  1.7274361e+00  8.2451212e-01  1.2769604e-01  5.2406926e+00\n",
            " -2.4824922e+00 -2.2760220e+00 -2.4082885e+00  7.2698885e-01\n",
            " -7.6889408e-01 -2.3824179e+00 -9.0489930e-01  1.3245488e+00\n",
            "  1.4030239e-01 -3.5074322e+00  9.3567932e-01 -2.2375093e+00\n",
            " -3.7166018e-02  9.0230173e-01 -1.0767998e+00 -4.8623759e-01\n",
            " -9.0221089e-01 -3.1474323e+00 -4.0024132e-01 -1.8904132e+00\n",
            " -1.6283805e+00 -6.5953654e-01 -9.4090021e-01 -2.0212761e-01\n",
            "  2.4511223e+00 -2.5596323e+00 -6.2735444e-01 -1.5245777e+00\n",
            "  2.6995568e+00  1.6437297e+00 -8.1656021e-01  6.1833870e-01\n",
            " -1.4372352e+00  3.9381152e-01  1.6413817e+00  3.6711454e-01\n",
            " -6.7775869e-01  2.2927992e-01 -3.0744205e+00 -2.1998901e-02\n",
            " -1.1362474e+00 -9.2859322e-01 -4.7019606e+00  2.5281596e-01\n",
            " -1.1001858e+00 -1.2743981e+00 -3.0157499e+00  2.8170347e+00\n",
            " -5.1296961e-01 -1.7736573e+00 -4.2629242e-01 -3.7355056e-01\n",
            "  3.6752719e-02  1.9378315e-01  9.1868794e-01  4.7158906e-01\n",
            " -2.6107364e+00  2.0177832e+00  1.4906445e+00 -3.4876664e+00\n",
            " -4.1266486e-01  9.5481765e-01 -7.9817080e-01 -1.8337730e+00]\n"
          ],
          "name": "stdout"
        }
      ]
    },
    {
      "cell_type": "code",
      "metadata": {
        "colab": {
          "base_uri": "https://localhost:8080/"
        },
        "id": "imbrXFR7ZfE6",
        "outputId": "25e597bd-f406-44c2-f57a-c66183ec7915"
      },
      "source": [
        "similar_words=cbow_model.wv.most_similar(\"baby\")\n",
        "pprint.pprint(similar_words)"
      ],
      "execution_count": null,
      "outputs": [
        {
          "output_type": "stream",
          "text": [
            "[('child', 0.619963526725769),\n",
            " ('girl', 0.5880016088485718),\n",
            " ('boomers', 0.5752394199371338),\n",
            " ('mother', 0.5690854787826538),\n",
            " ('pregnancy', 0.5506044626235962),\n",
            " ('gaga', 0.541638195514679),\n",
            " ('teeth', 0.541024923324585),\n",
            " ('babies', 0.5362480878829956),\n",
            " ('goat', 0.5313705801963806),\n",
            " ('sister', 0.5231849551200867)]\n"
          ],
          "name": "stdout"
        }
      ]
    },
    {
      "cell_type": "markdown",
      "metadata": {
        "id": "T0ap96aeGlIk"
      },
      "source": [
        "## 2.2. Lexicon Embeddings"
      ]
    },
    {
      "cell_type": "markdown",
      "metadata": {
        "id": "d16v3oKaGlI0"
      },
      "source": [
        "### 2.2.1. Lexicon-based Embedding"
      ]
    },
    {
      "cell_type": "markdown",
      "metadata": {
        "id": "AKbLnN-3GlI1"
      },
      "source": [
        "*[Optional] You are required to describe why you would like to use more than one-dimensional embedding.*"
      ]
    },
    {
      "cell_type": "code",
      "metadata": {
        "id": "i2CUCL1cGlI2",
        "colab": {
          "base_uri": "https://localhost:8080/"
        },
        "outputId": "baa3faf6-da4b-4474-bee9-a2818f2307ab"
      },
      "source": [
        "# Download the opinion_lexicon dictionary from nltk\n",
        "from nltk.corpus import opinion_lexicon\n",
        "nltk.download('opinion_lexicon')\n"
      ],
      "execution_count": null,
      "outputs": [
        {
          "output_type": "stream",
          "text": [
            "[nltk_data] Downloading package opinion_lexicon to /root/nltk_data...\n",
            "[nltk_data]   Package opinion_lexicon is already up-to-date!\n"
          ],
          "name": "stdout"
        },
        {
          "output_type": "execute_result",
          "data": {
            "text/plain": [
              "True"
            ]
          },
          "metadata": {
            "tags": []
          },
          "execution_count": 144
        }
      ]
    },
    {
      "cell_type": "markdown",
      "metadata": {
        "id": "43EtNBuzSDA4"
      },
      "source": [
        "#### Get word_list for Twitter data"
      ]
    },
    {
      "cell_type": "code",
      "metadata": {
        "id": "qOKVdTD-SIRO"
      },
      "source": [
        "word_set = set() \n",
        "for sent in text_train_le:  \n",
        "    for word in sent:\n",
        "        word_set.add(word)\n",
        "word_set.add('[PAD]')\n",
        "word_set.add('[UNKOWN]')"
      ],
      "execution_count": null,
      "outputs": []
    },
    {
      "cell_type": "code",
      "metadata": {
        "colab": {
          "base_uri": "https://localhost:8080/"
        },
        "id": "EReT8rnHSCCa",
        "outputId": "83fd8d82-5f53-4c53-a0a1-3f165fe9f2d8"
      },
      "source": [
        "word_list = list(word_set) \n",
        "word_list.sort()\n",
        "\n",
        "word_index = {}\n",
        "ind = 0\n",
        "for word in word_list:\n",
        "    word_index[word] = ind\n",
        "    ind += 1\n",
        "\n",
        "print(word_index)\n",
        "print(len(word_list))\n"
      ],
      "execution_count": null,
      "outputs": [
        {
          "output_type": "stream",
          "text": [
            "{'[PAD]': 0, '[UNKOWN]': 1, 'aa': 2, 'aaaaaaaaaaa': 3, 'aaaaaaaaaaaaa': 4, 'aaaaaaaaaaaah': 5, 'aaaaaand': 6, 'aaaaages': 7, 'aaaaahhhhhhhh': 8, 'aaaahh': 9, 'aaaahhh': 10, 'aaahhh': 11, 'aah': 12, 'aahhhh': 13, 'aaj': 14, 'aameenall': 15, 'aapke': 16, 'aaron': 17, 'aarwwi': 18, 'aayegi': 19, 'ab': 20, 'abandoned': 21, 'abandoning': 22, 'abby': 23, 'abbycan': 24, 'abbymill': 25, 'abes': 26, 'abhi': 27, 'abi': 28, 'abit': 29, 'able': 30, 'abligaverins': 31, 'aboard': 32, 'abouty': 33, 'abroad': 34, 'abrupt': 35, 'abscess': 36, 'absent': 37, 'absolute': 38, 'absolutely': 39, 'abstinence': 40, 'abt': 41, 'abu': 42, 'abusive': 43, 'abuti': 44, 'ac': 45, 'academic': 46, 'acads': 47, 'acc': 48, 'accentconfusion': 49, 'accept': 50, 'accepted': 51, 'access': 52, 'accessory': 53, 'accident': 54, 'accidentally': 55, 'accnt': 56, 'accommodate': 57, 'according': 58, 'account': 59, 'accumulated': 60, 'accurate': 61, 'ace': 62, 'acha': 63, 'ache': 64, 'achebe': 65, 'achi': 66, 'achieved': 67, 'achievedin': 68, 'achieving': 69, 'acid': 70, 'ack': 71, 'acne': 72, 'aconfusion': 73, 'acorn': 74, 'acoustic': 75, 'across': 76, 'act': 77, 'action': 78, 'activation': 79, 'active': 80, 'activity': 81, 'actor': 82, 'actress': 83, 'actshappyfaceorsmiley': 84, 'actual': 85, 'actually': 86, 'actuallyand': 87, 'actuallythough': 88, 'adam': 89, 'add': 90, 'added': 91, 'addicted': 92, 'addictedtoanalsex': 93, 'addiction': 94, 'addictive': 95, 'addition': 96, 'addme': 97, 'addmeonbbm': 98, 'addmeonsnapchat': 99, 'address': 100, 'addressing': 101, 'adf': 102, 'adidas': 103, 'adios': 104, 'adisconfusion': 105, 'aditya': 106, 'admin': 107, 'adminmyung': 108, 'adolf': 109, 'adorable': 110, 'adored': 111, 'adrian': 112, 'adu': 113, 'adult': 114, 'advaddict': 115, 'advance': 116, 'advanced': 117, 'adventure': 118, 'advert': 119, 'advice': 120, 'advisory': 121, 'ae': 122, 'aerial': 123, 'afang': 124, 'aff': 125, 'affaraid': 126, 'affect': 127, 'affiliated': 128, 'afford': 129, 'afghanistnwar': 130, 'aflblueshawks': 131, 'afraid': 132, 'africa': 133, 'afridi': 134, 'afropunk': 135, 'aftenoon': 136, 'afterall': 137, 'afternon': 138, 'afternoon': 139, 'afterschool': 140, 'afterwards': 141, 'afterwork': 142, 'aftie': 143, 'agaaaain': 144, 'againand': 145, 'againensoi': 146, 'againfrownsadandryorpouting': 147, 'agains': 148, 'agayhippiehippy': 149, 'age': 150, 'aged': 151, 'agency': 152, 'agent': 153, 'aggregate': 154, 'agh': 155, 'agile': 156, 'agnes': 157, 'agnezmo': 158, 'ago': 159, 'agoconfusion': 160, 'agonising': 161, 'agover': 162, 'agree': 163, 'agreed': 164, 'agrees': 165, 'ah': 166, 'aha': 167, 'ahah': 168, 'ahaha': 169, 'ahahah': 170, 'ahead': 171, 'ahh': 172, 'ahhh': 173, 'ahhhhh': 174, 'ahours': 175, 'ahs': 176, 'aich': 177, 'aidzin': 178, 'aigooo': 179, 'aimed': 180, 'aing': 181, 'aint': 182, 'air': 183, 'airdroid': 184, 'airecs': 185, 'aired': 186, 'airfield': 187, 'airforce': 188, 'airline': 189, 'airport': 190, 'aishhh': 191, 'aisyah': 192, 'aisyhhh': 193, 'aj': 194, 'aja': 195, 'aka': 196, 'akana': 197, 'ako': 198, 'akon': 199, 'akong': 200, 'akooooooooooooooo': 201, 'akua': 202, 'alansmithpart': 203, 'alarm': 204, 'albeit': 205, 'alberta': 206, 'album': 207, 'alchemist': 208, 'alcohol': 209, 'aldub': 210, 'aleks': 211, 'alert': 212, 'alex': 213, 'alexs': 214, 'alhamdulillah': 215, 'alhamdullilah': 216, 'alice': 217, 'alien': 218, 'aling': 219, 'alison': 220, 'alive': 221, 'alix': 222, 'allah': 223, 'allclear': 224, 'allergic': 225, 'allgoodthingske': 226, 'allgtfrownsadandryorpouting': 227, 'alliteration': 228, 'alllllll': 229, 'allow': 230, 'allowance': 231, 'allowed': 232, 'allowing': 233, 'allows': 234, 'allrecite': 235, 'alls': 236, 'alltime': 237, 'alma': 238, 'almasterbandconcert': 239, 'almost': 240, 'alone': 241, 'along': 242, 'alot': 243, 'alreaddyyy': 244, 'already': 245, 'alright': 246, 'alrightfrownsadandryorpouting': 247, 'altered': 248, 'altering': 249, 'alternative': 250, 'alternatively': 251, 'although': 252, 'aluminiumfree': 253, 'alumnus': 254, 'alvadhaau': 255, 'always': 256, 'alwaysconfusion': 257, 'alwayshappyfaceorsmiley': 258, 'amargolonnard': 259, 'amassiveoverdoseofships': 260, 'amateur': 261, 'amazed': 262, 'amazes': 263, 'amazing': 264, 'amazingly': 265, 'amazon': 266, 'amber': 267, 'ambre': 268, 'ambrose': 269, 'ambs': 270, 'amconfusion': 271, 'amelia': 272, 'amen': 273, 'america': 274, 'american': 275, 'americano': 276, 'amhours': 277, 'amie': 278, 'amiibo': 279, 'amin': 280, 'aminn': 281, 'aminormalyet': 282, 'amm': 283, 'amnotness': 284, 'amo': 285, 'among': 286, 'amount': 287, 'amp': 288, 'ampsha': 289, 'amsigh': 290, 'amsterdam': 291, 'amtired': 292, 'amusement': 293, 'amy': 294, 'amyjackson': 295, 'an': 296, 'anal': 297, 'analyzing': 298, 'anarchy': 299, 'anatomy': 300, 'andals': 301, 'andaming': 302, 'andar': 303, 'andi': 304, 'andre': 305, 'andrew': 306, 'android': 307, 'andy': 308, 'andythank': 309, 'anesthesia': 310, 'ang': 311, 'angeke': 312, 'angel': 313, 'angelica': 314, 'angelo': 315, 'angelos': 316, 'anger': 317, 'anghel': 318, 'angie': 319, 'anglenelson': 320, 'angry': 321, 'angrynow': 322, 'animal': 323, 'animated': 324, 'animationconfusion': 325, 'animator': 326, 'anime': 327, 'ankle': 328, 'ann': 329, 'anna': 330, 'anne': 331, 'anniversary': 332, 'annnd': 333, 'announce': 334, 'announcement': 335, 'annoyed': 336, 'annoying': 337, 'annoyingbaby': 338, 'annual': 339, 'annyeong': 340, 'ano': 341, 'anon': 342, 'anonymous': 343, 'anot': 344, 'another': 345, 'anshe': 346, 'answer': 347, 'answering': 348, 'ant': 349, 'anta': 350, 'antagonistic': 351, 'anthem': 352, 'antichrist': 353, 'anticipation': 354, 'antonio': 355, 'anushka': 356, 'anxiety': 357, 'anxious': 358, 'anyare': 359, 'anybody': 360, 'anymore': 361, 'anymoreeeeee': 362, 'anyone': 363, 'anyones': 364, 'anyonneeee': 365, 'anythin': 366, 'anything': 367, 'anythingsurely': 368, 'anytime': 369, 'anyway': 370, 'anywayhedidanicejob': 371, 'anyways': 372, 'anywaysconfusion': 373, 'anywhere': 374, 'anz': 375, 'ap': 376, 'apart': 377, 'apartement': 378, 'apartment': 379, 'apb': 380, 'apehappyfaceorsmiley': 381, 'apexis': 382, 'apink': 383, 'aplomb': 384, 'apmas': 385, 'apologist': 386, 'apologizing': 387, 'apology': 388, 'app': 389, 'appa': 390, 'apparently': 391, 'appeal': 392, 'appealing': 393, 'appear': 394, 'appearance': 395, 'appeared': 396, 'appears': 397, 'appeasement': 398, 'appendicitis': 399, 'appendix': 400, 'apple': 401, 'application': 402, 'applies': 403, 'apply': 404, 'appointment': 405, 'appreciate': 406, 'appreciated': 407, 'appreciating': 408, 'approach': 409, 'appropriate': 410, 'approval': 411, 'approving': 412, 'approximately': 413, 'apps': 414, 'april': 415, 'apt': 416, 'aqui': 417, 'araw': 418, 'arbeloa': 419, 'arc': 420, 'arch': 421, 'archdbanterbury': 422, 'architecture': 423, 'arctic': 424, 'area': 425, 'aready': 426, 'arent': 427, 'argh': 428, 'argo': 429, 'argue': 430, 'ariana': 431, 'arianator': 432, 'ariel': 433, 'arini': 434, 'ark': 435, 'arm': 436, 'arma': 437, 'armor': 438, 'arnd': 439, 'arond': 440, 'around': 441, 'aroundat': 442, 'arrange': 443, 'arre': 444, 'arresting': 445, 'arrival': 446, 'arrive': 447, 'arrived': 448, 'arsenal': 449, 'art': 450, 'article': 451, 'artist': 452, 'artistic': 453, 'artworkbylie': 454, 'arummzz': 455, 'as': 456, 'asap': 457, 'asaphappyfaceorsmiley': 458, 'asf': 459, 'ash': 460, 'ashamed': 461, 'ashraf': 462, 'ashtonsos': 463, 'ashwathy': 464, 'asia': 465, 'asian': 466, 'asianbut': 467, 'aside': 468, 'ask': 469, 'askaman': 470, 'asked': 471, 'askfinnick': 472, 'askies': 473, 'asking': 474, 'askip': 475, 'askurban': 476, 'asleep': 477, 'aspect': 478, 'aspetti': 479, 'assassin': 480, 'assessment': 481, 'asshappyfaceorsmileyhappyfaceorsmileyhappyfaceorsmileyhappyfaceorsmileyhappyfaceorsmiley': 482, 'asshole': 483, 'assiamain': 484, 'assignment': 485, 'assingnment': 486, 'assist': 487, 'associate': 488, 'association': 489, 'assume': 490, 'assured': 491, 'asthma': 492, 'astonvilla': 493, 'aswell': 494, 'atchya': 495, 'ate': 496, 'athabasca': 497, 'athena': 498, 'athlete': 499, 'atk': 500, 'atl': 501, 'atlantis': 502, 'atlas': 503, 'atleast': 504, 'atm': 505, 'atp': 506, 'atrocity': 507, 'attached': 508, 'attack': 509, 'attacked': 510, 'attempt': 511, 'attend': 512, 'attender': 513, 'attention': 514, 'attentive': 515, 'attitude': 516, 'attraction': 517, 'atty': 518, 'audience': 519, 'audition': 520, 'audraesar': 521, 'aug': 522, 'augconfusion': 523, 'auguri': 524, 'august': 525, 'aunt': 526, 'aunty': 527, 'aur': 528, 'aurini': 529, 'ausfailia': 530, 'auspost': 531, 'austerlitz': 532, 'austin': 533, 'australia': 534, 'author': 535, 'autofocus': 536, 'autofollow': 537, 'autofollowback': 538, 'auvssscr': 539, 'avail': 540, 'available': 541, 'avalible': 542, 'average': 543, 'averted': 544, 'avi': 545, 'avoid': 546, 'avoiding': 547, 'avoplex': 548, 'avril': 549, 'aw': 550, 'await': 551, 'awak': 552, 'awake': 553, 'awami': 554, 'award': 555, 'awareness': 556, 'away': 557, 'awe': 558, 'awell': 559, 'awesome': 560, 'awesomeee': 561, 'awesomehappyfaceorsmiley': 562, 'awful': 563, 'awfulconfusion': 564, 'awh': 565, 'awhile': 566, 'awkward': 567, 'awsme': 568, 'awuna': 569, 'awusasho': 570, 'awuuuuuuuuuuuuuuuuuuuuuuuuuuuuuuuuuuuuuuuuu': 571, 'aww': 572, 'awwhh': 573, 'awww': 574, 'axio': 575, 'ayala': 576, 'ayemso': 577, 'ayex': 578, 'aztec': 579, 'azzsets': 580, 'b': 581, 'baa': 582, 'baao': 583, 'baareeq': 584, 'baat': 585, 'babe': 586, 'babefrownsadandryorpouting': 587, 'baby': 588, 'babygirl': 589, 'babyhappyfaceorsmileyconfusion': 590, 'babysit': 591, 'babytalk': 592, 'babyyy': 593, 'bachpan': 594, 'back': 595, 'backed': 596, 'backflip': 597, 'background': 598, 'backkk': 599, 'backstory': 600, 'backup': 601, 'backwow': 602, 'bacon': 603, 'baconbutter': 604, 'bad': 605, 'badass': 606, 'badge': 607, 'badlife': 608, 'badly': 609, 'badsad': 610, 'badthwin': 611, 'bae': 612, 'baechu': 613, 'baechyyy': 614, 'baek': 615, 'baekhyun': 616, 'bag': 617, 'baggage': 618, 'bahari': 619, 'bahay': 620, 'bahayan': 621, 'bailey': 622, 'bajrangibhaijaanhighestweek': 623, 'bakar': 624, 'bakewell': 625, 'bakit': 626, 'bakwas': 627, 'balance': 628, 'bald': 629, 'bale': 630, 'bali': 631, 'balkan': 632, 'ball': 633, 'ballad': 634, 'baller': 635, 'balling': 636, 'balloon': 637, 'balm': 638, 'baloch': 639, 'baloney': 640, 'bam': 641, 'bamps': 642, 'ban': 643, 'banana': 644, 'banate': 645, 'band': 646, 'banda': 647, 'bandana': 648, 'bandi': 649, 'bandung': 650, 'bandz': 651, 'bangalore': 652, 'banged': 653, 'bangfrownsadandryorpouting': 654, 'bank': 655, 'banter': 656, 'bantime': 657, 'baon': 658, 'bap': 659, 'bapu': 660, 'bar': 661, 'barbell': 662, 'barcelona': 663, 'barcode': 664, 'barefooted': 665, 'barely': 666, 'bark': 667, 'barkada': 668, 'barkin': 669, 'barking': 670, 'barkkkkkkkiiideee': 671, 'barney': 672, 'barnstaplebideford': 673, 'barristas': 674, 'barsostay': 675, 'bartender': 676, 'basara': 677, 'base': 678, 'based': 679, 'basemaps': 680, 'basename': 681, 'basic': 682, 'basically': 683, 'basil': 684, 'basis': 685, 'basket': 686, 'basketball': 687, 'bass': 688, 'bastard': 689, 'bat': 690, 'batalladelosgallos': 691, 'batb': 692, 'batch': 693, 'bath': 694, 'bathtub': 695, 'batman': 696, 'battery': 697, 'batting': 698, 'battlefield': 699, 'bawi': 700, 'bay': 701, 'bayan': 702, 'baymax': 703, 'bayonetta': 704, 'baz': 705, 'bb': 706, 'bbb': 707, 'bblf': 708, 'bbm': 709, 'bbmadeinmanila': 710, 'bbmme': 711, 'bbmpin': 712, 'bbut': 713, 'bby': 714, 'bbygurl': 715, 'bbz': 716, 'bc': 717, 'bcause': 718, 'bcoz': 719, 'bcs': 720, 'bcus': 721, 'bcuz': 722, 'bcz': 723, 'bday': 724, 'bdays': 725, 'bdayt': 726, 'be': 727, 'bea': 728, 'beach': 729, 'beanatividadnknkkpagpapakumbaba': 730, 'bear': 731, 'beard': 732, 'beardy': 733, 'beast': 734, 'beastmode': 735, 'beat': 736, 'beato': 737, 'beatport': 738, 'beaut': 739, 'beautiful': 740, 'beautifulhappy': 741, 'beautifull': 742, 'beautifullycrafted': 743, 'beautifulsweettalentedamazing': 744, 'beauty': 745, 'beb': 746, 'bebe': 747, 'bebeee': 748, 'bebii': 749, 'bebravetoday': 750, 'becauseyour': 751, 'bechos': 752, 'become': 753, 'becoming': 754, 'bed': 755, 'bee': 756, 'beeeeepin': 757, 'beer': 758, 'beety': 759, 'beforeduring': 760, 'beforehand': 761, 'beforewhen': 762, 'beg': 763, 'begging': 764, 'begin': 765, 'beginner': 766, 'beginning': 767, 'beginsighps': 768, 'begun': 769, 'beh': 770, 'behaves': 771, 'beheaviour': 772, 'behind': 773, 'bein': 774, 'being': 775, 'beiruting': 776, 'beks': 777, 'belated': 778, 'belfast': 779, 'belgium': 780, 'belieber': 781, 'beliebers': 782, 'believe': 783, 'beli̇eve': 784, 'bell': 785, 'bellamy': 786, 'belle': 787, 'belly': 788, 'bellybutton': 789, 'belting': 790, 'beme': 791, 'bemeapp': 792, 'bemecode': 793, 'benadryl': 794, 'benchers': 795, 'benchmark': 796, 'bend': 797, 'benedictervention': 798, 'benefit': 799, 'bengali': 800, 'benny': 801, 'benson': 802, 'benteke': 803, 'benzema': 804, 'beograd': 805, 'beonknockknock': 806, 'berangkaat': 807, 'bergerac': 808, 'berigaud': 809, 'besi': 810, 'beside': 811, 'besides': 812, 'besok': 813, 'besst': 814, 'best': 815, 'besteverdoctorwhoepisode': 816, 'bestfriend': 817, 'bestfriends': 818, 'bestfriendsfriends': 819, 'bestoftheday': 820, 'bestweekend': 821, 'bet': 822, 'beta': 823, 'beth': 824, 'bethesda': 825, 'better': 826, 'betting': 827, 'bettor': 828, 'beverly': 829, 'beware': 830, 'beyond': 831, 'beytaad': 832, 'bf': 833, 'bff': 834, 'bffconfusion': 835, 'bffs': 836, 'bfr': 837, 'bg': 838, 'bgtau': 839, 'bh': 840, 'bhai': 841, 'bhaiya': 842, 'bheyps': 843, 'bhi': 844, 'bhk': 845, 'bhook': 846, 'bianca': 847, 'bias': 848, 'bible': 849, 'biblethump': 850, 'bien': 851, 'bierce': 852, 'big': 853, 'bigbang': 854, 'bigger': 855, 'biggest': 856, 'bigjuicyselfies': 857, 'bigot': 858, 'bigtime': 859, 'biker': 860, 'biking': 861, 'bikini': 862, 'bilal': 863, 'bilbao': 864, 'bill': 865, 'billie': 866, 'billion': 867, 'billionaire': 868, 'billy': 869, 'bindingofissac': 870, 'bing': 871, 'binge': 872, 'bio': 873, 'biodiversity': 874, 'biomass': 875, 'biome': 876, 'bioooo': 877, 'bipolar': 878, 'bips': 879, 'bird': 880, 'birmingham': 881, 'birth': 882, 'birthdaaaaayyyy': 883, 'birthday': 884, 'birthdaygirl': 885, 'birthdaymonth': 886, 'bisexuality': 887, 'bish': 888, 'bishes': 889, 'bison': 890, 'bissmillah': 891, 'bit': 892, 'bitch': 893, 'bitchface': 894, 'bitching': 895, 'bite': 896, 'bitin': 897, 'bitsy': 898, 'bitter': 899, 'bitterness': 900, 'bittersweetness': 901, 'bitty': 902, 'bjp': 903, 'black': 904, 'blackberry': 905, 'blackcountryfair': 906, 'blackfly': 907, 'blacklivesmatter': 908, 'blaine': 909, 'blainedarren': 910, 'blaines': 911, 'blame': 912, 'blamehoney': 913, 'blameshoghicp': 914, 'blaming': 915, 'bland': 916, 'blarney': 917, 'blast': 918, 'bldg': 919, 'bleak': 920, 'bleed': 921, 'bleeding': 922, 'blend': 923, 'bless': 924, 'blessed': 925, 'blessing': 926, 'blew': 927, 'blight': 928, 'blinkin': 929, 'block': 930, 'blockchain': 931, 'blocked': 932, 'blocking': 933, 'blockjam': 934, 'blog': 935, 'blogged': 936, 'blogiversary': 937, 'blois': 938, 'blonde': 939, 'blood': 940, 'bloodline': 941, 'bloody': 942, 'blooper': 943, 'blowing': 944, 'blowjob': 945, 'blue': 946, 'bluejays': 947, 'blurry': 948, 'blushing': 949, 'bna': 950, 'bnf': 951, 'bnte': 952, 'boah': 953, 'board': 954, 'boat': 955, 'boatbound': 956, 'boaz': 957, 'bob': 958, 'bobble': 959, 'boconfusion': 960, 'body': 961, 'boggling': 962, 'bogus': 963, 'bohat': 964, 'bohol': 965, 'boi': 966, 'boii': 967, 'bollinger': 968, 'bollywood': 969, 'bomb': 970, 'bombing': 971, 'bonasio': 972, 'bond': 973, 'bonding': 974, 'bone': 975, 'boner': 976, 'bonilla': 977, 'bonus': 978, 'boo': 979, 'boob': 980, 'boohoo': 981, 'book': 982, 'booked': 983, 'booking': 984, 'bookmark': 985, 'bookreview': 986, 'bookstore': 987, 'boom': 988, 'boongfrownsadandryorpouting': 989, 'boooo': 990, 'booooore': 991, 'booset': 992, 'boot': 993, 'booty': 994, 'border': 995, 'bored': 996, 'boreddd': 997, 'boredom': 998, 'boring': 999, 'born': 1000, 'borrow': 1001, 'bos': 1002, 'bosen': 1003, 'bot': 1004, 'botanical': 1005, 'botany': 1006, 'botconfusion': 1007, 'bother': 1008, 'bothered': 1009, 'bothering': 1010, 'bottle': 1011, 'bottom': 1012, 'bought': 1013, 'boughy': 1014, 'bout': 1015, 'bow': 1016, 'bowel': 1017, 'bowl': 1018, 'bowwowchicawowwow': 1019, 'box': 1020, 'boxroomcrafts': 1021, 'boy': 1022, 'boyfriend': 1023, 'boyirl': 1024, 'boysawesome': 1025, 'bp': 1026, 'bps': 1027, 'bra': 1028, 'brace': 1029, 'bracelet': 1030, 'brad': 1031, 'bragging': 1032, 'braid': 1033, 'brain': 1034, 'braindots': 1035, 'brainu': 1036, 'brake': 1037, 'brambhatt': 1038, 'branch': 1039, 'brand': 1040, 'brandi': 1041, 'branding': 1042, 'brasileirao': 1043, 'brave': 1044, 'braving': 1045, 'bravo': 1046, 'brawl': 1047, 'brb': 1048, 'breach': 1049, 'bread': 1050, 'break': 1051, 'breakdown': 1052, 'breakfast': 1053, 'breaking': 1054, 'breakup': 1055, 'breath': 1056, 'breathe': 1057, 'breathing': 1058, 'breconbeacons': 1059, 'brendon': 1060, 'brewproject': 1061, 'bri': 1062, 'brian': 1063, 'brianaaaa': 1064, 'brianazabrocki': 1065, 'bride': 1066, 'bridesmaid': 1067, 'brief': 1068, 'briefly': 1069, 'brienne': 1070, 'bright': 1071, 'brighten': 1072, 'brighton': 1073, 'brijresidency': 1074, 'briliant': 1075, 'brill': 1076, 'brilliant': 1077, 'brilliantly': 1078, 'bring': 1079, 'bringing': 1080, 'bringmethehorizon': 1081, 'brings': 1082, 'brisbane': 1083, 'bristol': 1084, 'bristolart': 1085, 'britain': 1086, 'brk': 1087, 'bro': 1088, 'broadcast': 1089, 'broes': 1090, 'brohappyfaceorsmileyhappyfaceorsmileyhappyfaceorsmiley': 1091, 'broke': 1092, 'broken': 1093, 'broker': 1094, 'brolly': 1095, 'brolost': 1096, 'brooke': 1097, 'brooklyn': 1098, 'bros': 1099, 'brotheeeeerrrr': 1100, 'brother': 1101, 'brotherhood': 1102, 'brought': 1103, 'brow': 1104, 'brown': 1105, 'browse': 1106, 'browser': 1107, 'bruce': 1108, 'bruh': 1109, 'bruhhh': 1110, 'bruise': 1111, 'bruised': 1112, 'brum': 1113, 'bruno': 1114, 'brush': 1115, 'bruuh': 1116, 'bt': 1117, 'btob': 1118, 'bts': 1119, 'btu': 1120, 'btw': 1121, 'btwn': 1122, 'bubba': 1123, 'bubble': 1124, 'bubbling': 1125, 'buckinghampalace': 1126, 'buckling': 1127, 'bud': 1128, 'budapestgp': 1129, 'buddy': 1130, 'buddyyyy': 1131, 'budge': 1132, 'budget': 1133, 'bueno': 1134, 'buff': 1135, 'buffer': 1136, 'buffering': 1137, 'bug': 1138, 'bugatti': 1139, 'bugbounty': 1140, 'bugger': 1141, 'build': 1142, 'building': 1143, 'bulat': 1144, 'bulet': 1145, 'bulldog': 1146, 'bulletin': 1147, 'bullying': 1148, 'bum': 1149, 'bummer': 1150, 'bumped': 1151, 'bun': 1152, 'bunch': 1153, 'bundle': 1154, 'bungie': 1155, 'bunny': 1156, 'bunso': 1157, 'bunta': 1158, 'burdensome': 1159, 'burek': 1160, 'burfday': 1161, 'burger': 1162, 'buried': 1163, 'burketeer': 1164, 'burn': 1165, 'burned': 1166, 'burning': 1167, 'burnout': 1168, 'burnt': 1169, 'burst': 1170, 'bus': 1171, 'buset': 1172, 'bush': 1173, 'busier': 1174, 'business': 1175, 'busy': 1176, 'busyearly': 1177, 'butgood': 1178, 'buti': 1179, 'butter': 1180, 'butterfly': 1181, 'button': 1182, 'buttonhole': 1183, 'buttsex': 1184, 'buttt': 1185, 'buttttttt': 1186, 'buuuut': 1187, 'buuuuuuuut': 1188, 'buy': 1189, 'buyer': 1190, 'buying': 1191, 'buynotanapologyonitunes': 1192, 'buyorder': 1193, 'buzz': 1194, 'buzzing': 1195, 'bv': 1196, 'bye': 1197, 'byfrownsadandryorpoutingsini': 1198, 'c': 1199, 'ca': 1200, 'caaaannntttt': 1201, 'cabincrew': 1202, 'cable': 1203, 'cactus': 1204, 'caesarspalace': 1205, 'cafe': 1206, 'cag': 1207, 'cage': 1208, 'caged': 1209, 'cajun': 1210, 'cake': 1211, 'cakehamper': 1212, 'cakei': 1213, 'caketenerina': 1214, 'cala': 1215, 'cali': 1216, 'calibraksaep': 1217, 'calibraska': 1218, 'calibraskaep': 1219, 'califor': 1220, 'california': 1221, 'call': 1222, 'called': 1223, 'callies': 1224, 'calling': 1225, 'callinganimalabusehotlineasap': 1226, 'calm': 1227, 'calum': 1228, 'calumsos': 1229, 'camara': 1230, 'cambridge': 1231, 'came': 1232, 'camera': 1233, 'camillus': 1234, 'camp': 1235, 'campaign': 1236, 'camping': 1237, 'campsite': 1238, 'campus': 1239, 'camsex': 1240, 'can': 1241, 'canadian': 1242, 'canal': 1243, 'canampt': 1244, 'canaria': 1245, 'canarios': 1246, 'cancel': 1247, 'canceled': 1248, 'cancelled': 1249, 'cancelling': 1250, 'candle': 1251, 'candy': 1252, 'canon': 1253, 'canopy': 1254, 'cant': 1255, 'canthank': 1256, 'cantik': 1257, 'canvas': 1258, 'capcom': 1259, 'capeee': 1260, 'captured': 1261, 'car': 1262, 'caradelevingne': 1263, 'caramello': 1264, 'card': 1265, 'cardi': 1266, 'cardio': 1267, 'cardsstationery': 1268, 'care': 1269, 'career': 1270, 'careful': 1271, 'carefully': 1272, 'carefulnamechecking': 1273, 'carei': 1274, 'caribbean': 1275, 'caring': 1276, 'carlton': 1277, 'carly': 1278, 'carmel': 1279, 'carmen': 1280, 'carnival': 1281, 'caro': 1282, 'carol': 1283, 'caroline': 1284, 'carpet': 1285, 'carriage': 1286, 'carriageway': 1287, 'carrie': 1288, 'carrot': 1289, 'carry': 1290, 'cart': 1291, 'cartoon': 1292, 'carva': 1293, 'case': 1294, 'cash': 1295, 'casillas': 1296, 'cast': 1297, 'casting': 1298, 'castle': 1299, 'cat': 1300, 'catamis': 1301, 'catch': 1302, 'catching': 1303, 'catchy': 1304, 'cathos': 1305, 'cathys': 1306, 'catspjsconfusion': 1307, 'caught': 1308, 'caughthappyfaceorsmiley': 1309, 'cauliflower': 1310, 'cause': 1311, 'cayton': 1312, 'cb': 1313, 'cc': 1314, 'cd': 1315, 'ce': 1316, 'celebrate': 1317, 'celebrated': 1318, 'celebrating': 1319, 'celebratio': 1320, 'celebration': 1321, 'celebrity': 1322, 'cell': 1323, 'cement': 1324, 'cent': 1325, 'center': 1326, 'central': 1327, 'centralise': 1328, 'centre': 1329, 'centrifugal': 1330, 'century': 1331, 'ceomonth': 1332, 'cerbchan': 1333, 'cereal': 1334, 'cerealtoo': 1335, 'certain': 1336, 'certainly': 1337, 'certainty': 1338, 'certification': 1339, 'chaddi': 1340, 'chaerin': 1341, 'chain': 1342, 'chainsaw': 1343, 'chair': 1344, 'chairfrownsadandryorpouting': 1345, 'chal': 1346, 'chalet': 1347, 'challo': 1348, 'chalna': 1349, 'chaloniklo': 1350, 'chaloniklosellyourcarinwords': 1351, 'chalut': 1352, 'champagne': 1353, 'champion': 1354, 'chan': 1355, 'chance': 1356, 'chandauli': 1357, 'chanelburberryprada': 1358, 'chang': 1359, 'change': 1360, 'changed': 1361, 'changing': 1362, 'chanhun': 1363, 'channel': 1364, 'chant': 1365, 'chaos': 1366, 'chaotic': 1367, 'chap': 1368, 'chapter': 1369, 'character': 1370, 'charade': 1371, 'charcoal': 1372, 'charge': 1373, 'charged': 1374, 'charger': 1375, 'charging': 1376, 'charismatic': 1377, 'charity': 1378, 'charles': 1379, 'charli': 1380, 'charlotte': 1381, 'charm': 1382, 'charming': 1383, 'chart': 1384, 'chasing': 1385, 'chat': 1386, 'chateau': 1387, 'chati': 1388, 'chau': 1389, 'cheap': 1390, 'cheapest': 1391, 'cheatday': 1392, 'cheated': 1393, 'check': 1394, 'checked': 1395, 'checking': 1396, 'checkout': 1397, 'checkup': 1398, 'cheek': 1399, 'cheeky': 1400, 'cheer': 1401, 'cheering': 1402, 'cheerio': 1403, 'cheese': 1404, 'cheesydelights': 1405, 'cheetah': 1406, 'chef': 1407, 'chek': 1408, 'chel': 1409, 'chelny': 1410, 'chelsea': 1411, 'cheltenham': 1412, 'chem': 1413, 'chemical': 1414, 'chenab': 1415, 'cherish': 1416, 'cherry': 1417, 'cheshire': 1418, 'chesties': 1419, 'cheung': 1420, 'chewing': 1421, 'chibi': 1422, 'chick': 1423, 'chicken': 1424, 'chickfila': 1425, 'chickmt': 1426, 'chicsirific': 1427, 'chikka': 1428, 'child': 1429, 'childhood': 1430, 'chill': 1431, 'chilled': 1432, 'chillin': 1433, 'chillinwith': 1434, 'chilton': 1435, 'chin': 1436, 'china': 1437, 'chinua': 1438, 'chip': 1439, 'chipotle': 1440, 'chiquitos': 1441, 'chloe': 1442, 'chocolate': 1443, 'chocolatey': 1444, 'choice': 1445, 'choiceinternationalartist': 1446, 'choir': 1447, 'choke': 1448, 'choker': 1449, 'chokkie': 1450, 'choma': 1451, 'choose': 1452, 'choosing': 1453, 'chopped': 1454, 'choppy': 1455, 'choregrapherbut': 1456, 'choreo': 1457, 'choreographing': 1458, 'chorong': 1459, 'choroo': 1460, 'chose': 1461, 'chosen': 1462, 'chris': 1463, 'christ': 1464, 'christen': 1465, 'christian': 1466, 'christina': 1467, 'christmas': 1468, 'christophe': 1469, 'christopher': 1470, 'christy': 1471, 'chrome': 1472, 'chrompet': 1473, 'chronic': 1474, 'chronicle': 1475, 'chswiyfxcskcalum': 1476, 'chu': 1477, 'chuckin': 1478, 'chuckle': 1479, 'chum': 1480, 'church': 1481, 'churro': 1482, 'chute': 1483, 'chwang': 1484, 'chweet': 1485, 'chweina': 1486, 'ciao': 1487, 'ciaras': 1488, 'cider': 1489, 'cigar': 1490, 'cikaaawish': 1491, 'cilic': 1492, 'cimbom': 1493, 'cinema': 1494, 'cinepambata': 1495, 'cintiq': 1496, 'circle': 1497, 'circuit': 1498, 'circuscircus': 1499, 'citizen': 1500, 'city': 1501, 'cityconfusion': 1502, 'civ': 1503, 'civil': 1504, 'cjradacomateada': 1505, 'cl': 1506, 'claim': 1507, 'claimed': 1508, 'clan': 1509, 'clandestins': 1510, 'clap': 1511, 'clapham': 1512, 'clark': 1513, 'clarke': 1514, 'clash': 1515, 'class': 1516, 'classic': 1517, 'classicassures': 1518, 'classmate': 1519, 'classy': 1520, 'claw': 1521, 'clean': 1522, 'cleaned': 1523, 'cleaning': 1524, 'cleanse': 1525, 'clear': 1526, 'clearing': 1527, 'clearly': 1528, 'cliche': 1529, 'click': 1530, 'clicking': 1531, 'clickscothanks': 1532, 'client': 1533, 'clientamendseditfinalfinalfinalpdfthat': 1534, 'clientvisit': 1535, 'climate': 1536, 'climatechange': 1537, 'climb': 1538, 'climbed': 1539, 'climbing': 1540, 'clinton': 1541, 'clip': 1542, 'clipsconfusion': 1543, 'clock': 1544, 'clockfrownsadandryorpouting': 1545, 'clonmel': 1546, 'close': 1547, 'closed': 1548, 'closely': 1549, 'closerchasing': 1550, 'closerthat': 1551, 'closest': 1552, 'closet': 1553, 'closing': 1554, 'clothes': 1555, 'clown': 1556, 'club': 1557, 'clutching': 1558, 'cmon': 1559, 'cnblue': 1560, 'cnn': 1561, 'cnnjebbush': 1562, 'cnt': 1563, 'co': 1564, 'coach': 1565, 'coaster': 1566, 'coat': 1567, 'coated': 1568, 'coca': 1569, 'cock': 1570, 'cocktail': 1571, 'cocktaily': 1572, 'cocky': 1573, 'coco': 1574, 'cocoared': 1575, 'coconut': 1576, 'cod': 1577, 'code': 1578, 'cody': 1579, 'coffe': 1580, 'coffee': 1581, 'coffeeweekdays': 1582, 'coin': 1583, 'coincidence': 1584, 'cola': 1585, 'cold': 1586, 'coldcough': 1587, 'colder': 1588, 'coldest': 1589, 'coldplay': 1590, 'colin': 1591, 'collab': 1592, 'collaboration': 1593, 'collage': 1594, 'collapse': 1595, 'collar': 1596, 'colleague': 1597, 'collecting': 1598, 'collection': 1599, 'collectionhappyfaceorsmiley': 1600, 'collectionstay': 1601, 'college': 1602, 'collins': 1603, 'cologne': 1604, 'colombia': 1605, 'color': 1606, 'colour': 1607, 'coloured': 1608, 'combat': 1609, 'come': 1610, 'comeback': 1611, 'comedyhappyfaceorsmiley': 1612, 'comet': 1613, 'comfortable': 1614, 'comfy': 1615, 'comic': 1616, 'coming': 1617, 'comma': 1618, 'comment': 1619, 'commercial': 1620, 'commission': 1621, 'committed': 1622, 'committing': 1623, 'common': 1624, 'communal': 1625, 'community': 1626, 'comp': 1627, 'companion': 1628, 'company': 1629, 'comparative': 1630, 'compared': 1631, 'comparing': 1632, 'comparison': 1633, 'compensation': 1634, 'compete': 1635, 'competition': 1636, 'complain': 1637, 'complained': 1638, 'complains': 1639, 'complaint': 1640, 'complete': 1641, 'completed': 1642, 'completely': 1643, 'completion': 1644, 'complicated': 1645, 'compliment': 1646, 'composer': 1647, 'computer': 1648, 'concept': 1649, 'concern': 1650, 'concerned': 1651, 'concert': 1652, 'concertlaughingbiggrinorlaughwithglasses': 1653, 'concordia': 1654, 'condemned': 1655, 'condition': 1656, 'conference': 1657, 'confession': 1658, 'confetti': 1659, 'confidence': 1660, 'confirm': 1661, 'confirmation': 1662, 'confiscated': 1663, 'conflict': 1664, 'confused': 1665, 'confusing': 1666, 'confusion': 1667, 'confusionconfusion': 1668, 'confusionconfusionconfusionconfusionconfusion': 1669, 'confusionconfusionotwolgrandtrailer': 1670, 'confusionfrownsadandryorpouting': 1671, 'congraaats': 1672, 'congraduation': 1673, 'congrats': 1674, 'congratulation': 1675, 'congratz': 1676, 'congrtaualtions': 1677, 'connect': 1678, 'connected': 1679, 'connecting': 1680, 'connection': 1681, 'connie': 1682, 'connor': 1683, 'consent': 1684, 'conserve': 1685, 'consider': 1686, 'considerably': 1687, 'considering': 1688, 'considers': 1689, 'consistency': 1690, 'console': 1691, 'constant': 1692, 'constantly': 1693, 'construction': 1694, 'consultanthappyfaceorsmiley': 1695, 'consumed': 1696, 'consumerism': 1697, 'cont': 1698, 'contact': 1699, 'contacted': 1700, 'contained': 1701, 'container': 1702, 'contectually': 1703, 'contemplating': 1704, 'contemporary': 1705, 'contender': 1706, 'content': 1707, 'contest': 1708, 'contestkiduniya': 1709, 'context': 1710, 'continous': 1711, 'continue': 1712, 'continues': 1713, 'continuously': 1714, 'contract': 1715, 'contractually': 1716, 'contradict': 1717, 'contrast': 1718, 'contribution': 1719, 'control': 1720, 'controlls': 1721, 'controversy': 1722, 'convener': 1723, 'convention': 1724, 'conversation': 1725, 'conversational': 1726, 'conversion': 1727, 'conviction': 1728, 'convince': 1729, 'convo': 1730, 'convos': 1731, 'cook': 1732, 'cookie': 1733, 'cooking': 1734, 'cool': 1735, 'cooler': 1736, 'cooperating': 1737, 'cop': 1738, 'cope': 1739, 'copping': 1740, 'copy': 1741, 'copying': 1742, 'corbyn': 1743, 'corey': 1744, 'corinehurleigh': 1745, 'corner': 1746, 'cornetto': 1747, 'cornettoconfusion': 1748, 'cornettos': 1749, 'cornish': 1750, 'cornwall': 1751, 'correct': 1752, 'corridor': 1753, 'corrupted': 1754, 'cortezsuperstars': 1755, 'cory': 1756, 'cosas': 1757, 'cosmovisiontoo': 1758, 'cosplayers': 1759, 'cosplayprogress': 1760, 'cost': 1761, 'costacc': 1762, 'cosy': 1763, 'cotton': 1764, 'couch': 1765, 'cough': 1766, 'coughed': 1767, 'coughing': 1768, 'could': 1769, 'couldnt': 1770, 'couldve': 1771, 'councillor': 1772, 'count': 1773, 'countdown': 1774, 'counted': 1775, 'counting': 1776, 'countless': 1777, 'country': 1778, 'countrymusic': 1779, 'countsnd': 1780, 'countthecost': 1781, 'county': 1782, 'couple': 1783, 'courage': 1784, 'courgette': 1785, 'courier': 1786, 'course': 1787, 'coursee': 1788, 'coursetalking': 1789, 'coursework': 1790, 'court': 1791, 'couscous': 1792, 'cousin': 1793, 'covent': 1794, 'cover': 1795, 'coverall': 1796, 'covered': 1797, 'covering': 1798, 'cow': 1799, 'coworker': 1800, 'coyote': 1801, 'coz': 1802, 'cozy': 1803, 'cpm': 1804, 'cpuconfusion': 1805, 'cr': 1806, 'craaaazzyy': 1807, 'crack': 1808, 'cracked': 1809, 'cracking': 1810, 'crackle': 1811, 'crackling': 1812, 'craft': 1813, 'cram': 1814, 'cramp': 1815, 'cranium': 1816, 'crap': 1817, 'crapple': 1818, 'crash': 1819, 'crashed': 1820, 'crashing': 1821, 'crave': 1822, 'craving': 1823, 'crazy': 1824, 'crazyyyy': 1825, 'creaking': 1826, 'cream': 1827, 'crease': 1828, 'create': 1829, 'creating': 1830, 'creation': 1831, 'creative': 1832, 'cred': 1833, 'credit': 1834, 'creed': 1835, 'creepy': 1836, 'crei': 1837, 'creta': 1838, 'cretaperfectme': 1839, 'cretaperfectsuv': 1840, 'crew': 1841, 'cri': 1842, 'cricket': 1843, 'cried': 1844, 'crikey': 1845, 'crime': 1846, 'criminal': 1847, 'crisis': 1848, 'crisp': 1849, 'critical': 1850, 'criticised': 1851, 'critiquesthat': 1852, 'croke': 1853, 'crop': 1854, 'cross': 1855, 'crossed': 1856, 'crosssed': 1857, 'crowd': 1858, 'crowdfunding': 1859, 'crown': 1860, 'cruel': 1861, 'crueler': 1862, 'cruise': 1863, 'crumble': 1864, 'crush': 1865, 'cry': 1866, 'cryingi': 1867, 'crylaughingbiggrinorlaughwithglasses': 1868, 'crypt': 1869, 'crystal': 1870, 'csrracing': 1871, 'cttoconfusion': 1872, 'cu': 1873, 'cuddle': 1874, 'cuddling': 1875, 'cue': 1876, 'culture': 1877, 'cumbia': 1878, 'cumbria': 1879, 'cumshot': 1880, 'cunt': 1881, 'cup': 1882, 'cupboard': 1883, 'cupcake': 1884, 'cupid': 1885, 'curious': 1886, 'current': 1887, 'currently': 1888, 'curry': 1889, 'curved': 1890, 'cushion': 1891, 'cusp': 1892, 'cuss': 1893, 'custard': 1894, 'custom': 1895, 'customer': 1896, 'cut': 1897, 'cute': 1898, 'cutest': 1899, 'cuticle': 1900, 'cutie': 1901, 'cuties': 1902, 'cuting': 1903, 'cutting': 1904, 'cuttingmaking': 1905, 'cuuuuuuuuuuuuuuuuuuuuuuuuuuuuuuuuuuuuuuuuuuute': 1906, 'cuz': 1907, 'cwnt': 1908, 'cyber': 1909, 'cycle': 1910, 'cyclerevolution': 1911, 'cycling': 1912, 'cynical': 1913, 'cypher': 1914, 'cyprus': 1915, 'daaay': 1916, 'daal': 1917, 'daam': 1918, 'daaru': 1919, 'dad': 1920, 'daddy': 1921, 'dae': 1922, 'daft': 1923, 'daftbut': 1924, 'dagga': 1925, 'dah': 1926, 'daily': 1927, 'daisy': 1928, 'dale': 1929, 'dallas': 1930, 'dam': 1931, 'damage': 1932, 'damaged': 1933, 'dammit': 1934, 'dammitstop': 1935, 'damn': 1936, 'damnit': 1937, 'dampen': 1938, 'dance': 1939, 'danceeeeee': 1940, 'dancer': 1941, 'dancetastic': 1942, 'dancing': 1943, 'dandia': 1944, 'dang': 1945, 'dangerous': 1946, 'dangit': 1947, 'dangling': 1948, 'daniel': 1949, 'danielle': 1950, 'danni': 1951, 'danny': 1952, 'darcey': 1953, 'dard': 1954, 'dare': 1955, 'daredevil': 1956, 'daring': 1957, 'dark': 1958, 'darlene': 1959, 'darlin': 1960, 'darn': 1961, 'darren': 1962, 'dartmoor': 1963, 'dash': 1964, 'dassy': 1965, 'dasvidaniya': 1966, 'dat': 1967, 'data': 1968, 'date': 1969, 'dating': 1970, 'datz': 1971, 'daughter': 1972, 'daughteryrs': 1973, 'davao': 1974, 'dave': 1975, 'david': 1976, 'daw': 1977, 'day': 1978, 'dayhappyfaceorsmiley': 1979, 'daykeep': 1980, 'dayofarch': 1981, 'daysomg': 1982, 'dayweek': 1983, 'dayz': 1984, 'dazed': 1985, 'dazzle': 1986, 'dbn': 1987, 'dc': 1988, 'dd': 1989, 'dddy': 1990, 'deactivate': 1991, 'deactivated': 1992, 'dead': 1993, 'deadline': 1994, 'deadthank': 1995, 'deaf': 1996, 'deal': 1997, 'dealsuthaonotebachao': 1998, 'deantd': 1999, 'dear': 2000, 'dearly': 2001, 'dearslim': 2002, 'death': 2003, 'deathbybaconsmell': 2004, 'deathcure': 2005, 'deathly': 2006, 'deathofgrass': 2007, 'debacle': 2008, 'debatable': 2009, 'debate': 2010, 'debbie': 2011, 'debt': 2012, 'debut': 2013, 'december': 2014, 'decent': 2015, 'decide': 2016, 'decided': 2017, 'decides': 2018, 'decision': 2019, 'deck': 2020, 'decorating': 2021, 'dedicatedfan': 2022, 'dedication': 2023, 'deennya': 2024, 'deep': 2025, 'deepxcape': 2026, 'def': 2027, 'defence': 2028, 'defend': 2029, 'defender': 2030, 'defensive': 2031, 'definately': 2032, 'define': 2033, 'defined': 2034, 'definite': 2035, 'definitely': 2036, 'definition': 2037, 'degeneres': 2038, 'degrassi': 2039, 'degree': 2040, 'dekhi': 2041, 'delay': 2042, 'delayed': 2043, 'delegate': 2044, 'deleicious': 2045, 'delete': 2046, 'deleted': 2047, 'delevingnes': 2048, 'delhi': 2049, 'delicious': 2050, 'delight': 2051, 'delighted': 2052, 'delirious': 2053, 'delish': 2054, 'deliver': 2055, 'delivered': 2056, 'delivery': 2057, 'delph': 2058, 'delphy': 2059, 'delve': 2060, 'demand': 2061, 'demis': 2062, 'demo': 2063, 'denerivery': 2064, 'denim': 2065, 'denimshappyfaceorsmiley': 2066, 'denise': 2067, 'denmark': 2068, 'dental': 2069, 'dentist': 2070, 'deny': 2071, 'deo': 2072, 'deosnt': 2073, 'department': 2074, 'dependency': 2075, 'depends': 2076, 'depleted': 2077, 'deposit': 2078, 'depressing': 2079, 'dept': 2080, 'deptnot': 2081, 'derby': 2082, 'derek': 2083, 'derp': 2084, 'desc': 2085, 'descconfusion': 2086, 'describe': 2087, 'description': 2088, 'deserve': 2089, 'deserved': 2090, 'deserves': 2091, 'design': 2092, 'designed': 2093, 'designer': 2094, 'desireameen': 2095, 'desk': 2096, 'desktop': 2097, 'despair': 2098, 'desperate': 2099, 'despite': 2100, 'despondently': 2101, 'dessert': 2102, 'destination': 2103, 'destroying': 2104, 'detail': 2105, 'detailed': 2106, 'determination': 2107, 'determined': 2108, 'dety': 2109, 'dev': 2110, 'devastating': 2111, 'develop': 2112, 'developed': 2113, 'development': 2114, 'device': 2115, 'devolution': 2116, 'dewconfusion': 2117, 'dewsbury': 2118, 'dey': 2119, 'deya': 2120, 'dfwhatsapp': 2121, 'dg': 2122, 'dh': 2123, 'dhabi': 2124, 'dhaka': 2125, 'dheena': 2126, 'diagnosed': 2127, 'dialogue': 2128, 'dianes': 2129, 'dianna': 2130, 'diarrhea': 2131, 'diary': 2132, 'dick': 2133, 'didnt': 2134, 'died': 2135, 'diego': 2136, 'dieididieieiei': 2137, 'dieof': 2138, 'diesel': 2139, 'diet': 2140, 'diff': 2141, 'differ': 2142, 'difference': 2143, 'different': 2144, 'difficiency': 2145, 'difficult': 2146, 'digital': 2147, 'digitalexeter': 2148, 'digitalmarketing': 2149, 'dii': 2150, 'dikha': 2151, 'dime': 2152, 'dimple': 2153, 'dine': 2154, 'diner': 2155, 'ding': 2156, 'dinghy': 2157, 'dinner': 2158, 'dinooo': 2159, 'dipikirin': 2160, 'diploma': 2161, 'diplomacy': 2162, 'dipoppo': 2163, 'dipsatch': 2164, 'dire': 2165, 'direction': 2166, 'directionhappyfaceorsmiley': 2167, 'directx': 2168, 'dirtiest': 2169, 'dirtydirty': 2170, 'dirtykik': 2171, 'dis': 2172, 'disability': 2173, 'disabled': 2174, 'disagree': 2175, 'disappears': 2176, 'disappoint': 2177, 'disappointed': 2178, 'disappointedmmsrry': 2179, 'disappointing': 2180, 'disappointment': 2181, 'disc': 2182, 'discconfusion': 2183, 'discharge': 2184, 'discipline': 2185, 'discontinued': 2186, 'discount': 2187, 'discover': 2188, 'discovered': 2189, 'discovery': 2190, 'discrimination': 2191, 'discus': 2192, 'discussing': 2193, 'discussion': 2194, 'disease': 2195, 'diseaseback': 2196, 'disgust': 2197, 'disgusted': 2198, 'disgusting': 2199, 'dish': 2200, 'dishoom': 2201, 'disk': 2202, 'dislike': 2203, 'disney': 2204, 'disneyarts': 2205, 'disneyinfinity': 2206, 'dispatch': 2207, 'display': 2208, 'dissappeared': 2209, 'dissipating': 2210, 'distance': 2211, 'distant': 2212, 'distracted': 2213, 'distressing': 2214, 'distribution': 2215, 'distrubed': 2216, 'disturbing': 2217, 'disvirginedlike': 2218, 'ditching': 2219, 'diva': 2220, 'divinediscontentthe': 2221, 'diyflowers': 2222, 'diz': 2223, 'dj': 2224, 'djderek': 2225, 'djset': 2226, 'djstruthmate': 2227, 'dkt': 2228, 'dm': 2229, 'dmed': 2230, 'dmme': 2231, 'dnt': 2232, 'doable': 2233, 'dobar': 2234, 'doc': 2235, 'docopenhagen': 2236, 'doctor': 2237, 'doctored': 2238, 'doctorhappyfaceorsmiley': 2239, 'documentary': 2240, 'dodged': 2241, 'doednt': 2242, 'doesnt': 2243, 'dog': 2244, 'doh': 2245, 'doidos': 2246, 'doin': 2247, 'doli': 2248, 'dollar': 2249, 'dolphin': 2250, 'dom': 2251, 'domestic': 2252, 'domesticviolence': 2253, 'dominion': 2254, 'domino': 2255, 'donate': 2256, 'donating': 2257, 'donation': 2258, 'done': 2259, 'donetsk': 2260, 'doneweeks': 2261, 'donghyuk': 2262, 'dongsaeng': 2263, 'dongwoo': 2264, 'dongwoos': 2265, 'donington': 2266, 'donna': 2267, 'donno': 2268, 'dont': 2269, 'donut': 2270, 'doodle': 2271, 'doom': 2272, 'doomed': 2273, 'doomsday': 2274, 'door': 2275, 'dope': 2276, 'dorm': 2277, 'dormmates': 2278, 'dorset': 2279, 'dos': 2280, 'dosa': 2281, 'dosent': 2282, 'dosto': 2283, 'dostoevsky': 2284, 'dot': 2285, 'dota': 2286, 'double': 2287, 'doubt': 2288, 'doug': 2289, 'dough': 2290, 'doushite': 2291, 'dovey': 2292, 'download': 2293, 'downloadconfusion': 2294, 'downloaded': 2295, 'downloading': 2296, 'downstairs': 2297, 'downyou': 2298, 'dozen': 2299, 'dp': 2300, 'dr': 2301, 'drag': 2302, 'dragging': 2303, 'dragon': 2304, 'drain': 2305, 'drainage': 2306, 'drained': 2307, 'draking': 2308, 'drama': 2309, 'drank': 2310, 'draw': 2311, 'drawing': 2312, 'dreaded': 2313, 'dream': 2314, 'dreamer': 2315, 'dreamily': 2316, 'dreamteam': 2317, 'dreary': 2318, 'dress': 2319, 'dresscode': 2320, 'dressfrownsadandryorpouting': 2321, 'drew': 2322, 'dri': 2323, 'dried': 2324, 'drifting': 2325, 'drink': 2326, 'drinking': 2327, 'drinkt': 2328, 'drive': 2329, 'driver': 2330, 'driving': 2331, 'drone': 2332, 'drop': 2333, 'dropped': 2334, 'droppedlooks': 2335, 'droughtlinked': 2336, 'drove': 2337, 'drown': 2338, 'drowned': 2339, 'drug': 2340, 'drunk': 2341, 'dry': 2342, 'dual': 2343, 'dub': 2344, 'dubai': 2345, 'dublin': 2346, 'duck': 2347, 'ducktails': 2348, 'dudaftiehappyfacesmileybreaktym': 2349, 'dude': 2350, 'dudeeeeeee': 2351, 'dudesdudettes': 2352, 'due': 2353, 'duh': 2354, 'duke': 2355, 'dull': 2356, 'dum': 2357, 'dumbest': 2358, 'dumont': 2359, 'dump': 2360, 'dun': 2361, 'dunedin': 2362, 'dunkin': 2363, 'dunno': 2364, 'dunt': 2365, 'dunwan': 2366, 'duo': 2367, 'duper': 2368, 'durood': 2369, 'dutch': 2370, 'duty': 2371, 'dv': 2372, 'dw': 2373, 'dyed': 2374, 'dying': 2375, 'dylan': 2376, 'dz': 2377, 'eagerly': 2378, 'ear': 2379, 'earl': 2380, 'earlier': 2381, 'earliest': 2382, 'earlobe': 2383, 'early': 2384, 'earlyconfusion': 2385, 'earn': 2386, 'earring': 2387, 'earsconfusion': 2388, 'earth': 2389, 'earthling': 2390, 'ease': 2391, 'easier': 2392, 'easily': 2393, 'easy': 2394, 'eat': 2395, 'eating': 2396, 'eatmeat': 2397, 'ebay': 2398, 'ebony': 2399, 'ebook': 2400, 'economy': 2401, 'eczema': 2402, 'edel': 2403, 'edgar': 2404, 'edit': 2405, 'editconfusion': 2406, 'editied': 2407, 'editing': 2408, 'edition': 2409, 'editor': 2410, 'edm': 2411, 'edomnt': 2412, 'edsa': 2413, 'educampakl': 2414, 'education': 2415, 'edward': 2416, 'edwin': 2417, 'ee': 2418, 'eeeep': 2419, 'eek': 2420, 'effect': 2421, 'effective': 2422, 'effin': 2423, 'effing': 2424, 'effort': 2425, 'egg': 2426, 'ego': 2427, 'egypt': 2428, 'eh': 2429, 'ehdar': 2430, 'ehh': 2431, 'ehm': 2432, 'ehn': 2433, 'eid': 2434, 'eidfeeling': 2435, 'eidwithgrofers': 2436, 'eighteen': 2437, 'eintlik': 2438, 'eish': 2439, 'either': 2440, 'ejayster': 2441, 'ek': 2442, 'ekk': 2443, 'eksperimencinta': 2444, 'ekta': 2445, 'el': 2446, 'elaborate': 2447, 'elah': 2448, 'elbow': 2449, 'eldest': 2450, 'elected': 2451, 'election': 2452, 'elephant': 2453, 'elf': 2454, 'elfindelmundo': 2455, 'elgato': 2456, 'elgin': 2457, 'elhaida': 2458, 'eliminated': 2459, 'elisse': 2460, 'elite': 2461, 'elizabetholsen': 2462, 'ell': 2463, 'ellie': 2464, 'elmhurst': 2465, 'elmoprinssi': 2466, 'elsa': 2467, 'else': 2468, 'elsehappyfacesmiley': 2469, 'elsewhere': 2470, 'elvena': 2471, 'elw': 2472, 'em': 2473, 'email': 2474, 'embarrassedorblushing': 2475, 'embarrassing': 2476, 'embracing': 2477, 'emc': 2478, 'emcon': 2479, 'emeged': 2480, 'emesh': 2481, 'emily': 2482, 'emilys': 2483, 'emirate': 2484, 'emm': 2485, 'emma': 2486, 'emo': 2487, 'emoji': 2488, 'emon': 2489, 'emotion': 2490, 'emotional': 2491, 'emotionally': 2492, 'emotive': 2493, 'emphasis': 2494, 'employer': 2495, 'empowered': 2496, 'emptier': 2497, 'empty': 2498, 'emt': 2499, 'emta': 2500, 'emu': 2501, 'emulation': 2502, 'emyu': 2503, 'enable': 2504, 'enabled': 2505, 'encanta': 2506, 'encompasses': 2507, 'encore': 2508, 'encourage': 2509, 'encouraged': 2510, 'end': 2511, 'endeavour': 2512, 'ended': 2513, 'ending': 2514, 'endlessly': 2515, 'endowmentsi': 2516, 'enemy': 2517, 'energy': 2518, 'eng': 2519, 'engaged': 2520, 'engine': 2521, 'england': 2522, 'englandfrownsadandryorpouting': 2523, 'english': 2524, 'engrossed': 2525, 'enix': 2526, 'enji': 2527, 'enjoy': 2528, 'enjoyed': 2529, 'enjoying': 2530, 'enough': 2531, 'enroll': 2532, 'ensure': 2533, 'enter': 2534, 'entered': 2535, 'entering': 2536, 'enterprison': 2537, 'entertain': 2538, 'entire': 2539, 'entlead': 2540, 'entlerbountly': 2541, 'entp': 2542, 'entrepreneurship': 2543, 'entry': 2544, 'envious': 2545, 'environment': 2546, 'eon': 2547, 'eonni': 2548, 'eonnie': 2549, 'ep': 2550, 'epic': 2551, 'epiphany': 2552, 'episode': 2553, 'eps': 2554, 'equal': 2555, 'equalityact': 2556, 'equally': 2557, 'eric': 2558, 'erica': 2559, 'ericavan': 2560, 'eris': 2561, 'eritation': 2562, 'erm': 2563, 'error': 2564, 'ervin': 2565, 'escape': 2566, 'esnho': 2567, 'esp': 2568, 'especially': 2569, 'essentially': 2570, 'estate': 2571, 'esteem': 2572, 'estimated': 2573, 'etc': 2574, 'eternity': 2575, 'etid': 2576, 'etienne': 2577, 'etl': 2578, 'etonguestickingoutcheekyplayfulorblowingaraspberryect': 2579, 'etonguestickingoutcheekyplayfulorblowingaraspberryerienced': 2580, 'etsy': 2581, 'eugh': 2582, 'eunhae': 2583, 'eunji': 2584, 'europe': 2585, 'european': 2586, 'euuu': 2587, 'evan': 2588, 'eve': 2589, 'evelineconrade': 2590, 'even': 2591, 'evening': 2592, 'event': 2593, 'eventually': 2594, 'ever': 2595, 'everday': 2596, 'everette': 2597, 'everlasting': 2598, 'everone': 2599, 'every': 2600, 'everybody': 2601, 'everyday': 2602, 'everyone': 2603, 'everyonegood': 2604, 'everyonehappyfaceorsmileyconfusionconfusion': 2605, 'everyones': 2606, 'everyonewere': 2607, 'everything': 2608, 'everythingfrownsadandryorpouting': 2609, 'everythings': 2610, 'everytime': 2611, 'everywhere': 2612, 'evet': 2613, 'evil': 2614, 'evry': 2615, 'ew': 2616, 'ewok': 2617, 'ex': 2618, 'exactly': 2619, 'exam': 2620, 'example': 2621, 'excellence': 2622, 'excellent': 2623, 'except': 2624, 'exception': 2625, 'excited': 2626, 'excitement': 2627, 'exciting': 2628, 'excl': 2629, 'excluded': 2630, 'exclusive': 2631, 'excuse': 2632, 'exe': 2633, 'exec': 2634, 'execution': 2635, 'exercise': 2636, 'exercising': 2637, 'exhausted': 2638, 'exhausting': 2639, 'exist': 2640, 'existed': 2641, 'exit': 2642, 'exited': 2643, 'exo': 2644, 'exolt': 2645, 'exp': 2646, 'expanding': 2647, 'expect': 2648, 'expectation': 2649, 'expected': 2650, 'expelled': 2651, 'expensive': 2652, 'experience': 2653, 'experiencing': 2654, 'experiment': 2655, 'expert': 2656, 'experttradesmen': 2657, 'expire': 2658, 'expired': 2659, 'explain': 2660, 'explains': 2661, 'explanation': 2662, 'exploit': 2663, 'explorealberta': 2664, 'explorer': 2665, 'exploring': 2666, 'explosion': 2667, 'expo': 2668, 'exposure': 2669, 'expression': 2670, 'extension': 2671, 'external': 2672, 'extra': 2673, 'extraordinary': 2674, 'extravagant': 2675, 'extravaganthappyfaceorsmileyconfusionw': 2676, 'extreme': 2677, 'extremely': 2678, 'extwelebs': 2679, 'ey': 2680, 'eye': 2681, 'eyed': 2682, 'eyeing': 2683, 'eyelid': 2684, 'eyeliner': 2685, 'eyesight': 2686, 'eyesmiles': 2687, 'eyessince': 2688, 'eyyah': 2689, 'f': 2690, 'fa': 2691, 'faaaaaabulous': 2692, 'fab': 2693, 'fabfriday': 2694, 'fabian': 2695, 'fabina': 2696, 'fabulous': 2697, 'face': 2698, 'facebook': 2699, 'faceit': 2700, 'facesor': 2701, 'facetime': 2702, 'facil': 2703, 'fack': 2704, 'fact': 2705, 'factory': 2706, 'fade': 2707, 'faded': 2708, 'faggot': 2709, 'fah': 2710, 'fahad': 2711, 'fahrenheit': 2712, 'fail': 2713, 'failban': 2714, 'failed': 2715, 'fails': 2716, 'fainted': 2717, 'fair': 2718, 'faith': 2719, 'faithful': 2720, 'fake': 2721, 'falco': 2722, 'falklands': 2723, 'fall': 2724, 'fallen': 2725, 'falling': 2726, 'fallout': 2727, 'false': 2728, 'falsetto': 2729, 'fam': 2730, 'familiar': 2731, 'family': 2732, 'familyconfusion': 2733, 'familyhappyfaceorsmileysending': 2734, 'familyhome': 2735, 'famished': 2736, 'famous': 2737, 'fams': 2738, 'fan': 2739, 'fanart': 2740, 'fanboy': 2741, 'fancafe': 2742, 'fancy': 2743, 'fandango': 2744, 'fandom': 2745, 'fangirl': 2746, 'fangirled': 2747, 'fani': 2748, 'fank': 2749, 'fansfrownsadandryorpouting': 2750, 'fansign': 2751, 'fanta': 2752, 'fantastic': 2753, 'fantastichappyfaceorsmiley': 2754, 'fantasy': 2755, 'fany': 2756, 'far': 2757, 'farbridges': 2758, 'fardo': 2759, 'farhappyfacesmiley': 2760, 'farm': 2761, 'farmiga': 2762, 'fasgadah': 2763, 'fashion': 2764, 'fashionfriday': 2765, 'fast': 2766, 'faster': 2767, 'fasterat': 2768, 'fat': 2769, 'fatal': 2770, 'father': 2771, 'fatiguing': 2772, 'fatmam': 2773, 'fault': 2774, 'fav': 2775, 'fave': 2776, 'faves': 2777, 'favor': 2778, 'favorable': 2779, 'favorite': 2780, 'favoriteotherwisei': 2781, 'favour': 2782, 'favourite': 2783, 'favouriting': 2784, 'fb': 2785, 'fback': 2786, 'fbc': 2787, 'fc': 2788, 'fck': 2789, 'fckin': 2790, 'fcking': 2791, 'fe': 2792, 'fear': 2793, 'feature': 2794, 'featuring': 2795, 'feb': 2796, 'federer': 2797, 'feed': 2798, 'feedback': 2799, 'feeding': 2800, 'feel': 2801, 'feelfrownsadandryorpouting': 2802, 'feelgoodfriday': 2803, 'feeling': 2804, 'feelinggood': 2805, 'feelslikeanidiot': 2806, 'feetblog': 2807, 'feets': 2808, 'fela': 2809, 'felicity': 2810, 'fell': 2811, 'fellow': 2812, 'felt': 2813, 'felton': 2814, 'female': 2815, 'feminism': 2816, 'feminist': 2817, 'fenestoscope': 2818, 'fenja': 2819, 'fennell': 2820, 'ferdous': 2821, 'fern': 2822, 'ferry': 2823, 'fersuree': 2824, 'fest': 2825, 'festival': 2826, 'festivalhappyfaceorsmiley': 2827, 'fever': 2828, 'feverfew': 2829, 'feytyaz': 2830, 'ff': 2831, 'ffback': 2832, 'ffs': 2833, 'ffvi': 2834, 'fics': 2835, 'fiction': 2836, 'field': 2837, 'fieldtrips': 2838, 'fiend': 2839, 'fiesta': 2840, 'fifa': 2841, 'fifth': 2842, 'fighting': 2843, 'fightingmcirene': 2844, 'fightstickfriday': 2845, 'figure': 2846, 'figured': 2847, 'figuring': 2848, 'filbarbarian': 2849, 'file': 2850, 'fill': 2851, 'filled': 2852, 'film': 2853, 'filming': 2854, 'final': 2855, 'finale': 2856, 'finalist': 2857, 'finally': 2858, 'financially': 2859, 'find': 2860, 'findavip': 2861, 'finddjderek': 2862, 'finding': 2863, 'findyourfit': 2864, 'fine': 2865, 'fineandyu': 2866, 'fing': 2867, 'finger': 2868, 'fingerscrossed': 2869, 'fingerthere': 2870, 'finish': 2871, 'finished': 2872, 'finishing': 2873, 'finland': 2874, 'finnair': 2875, 'finnicks': 2876, 'finnigan': 2877, 'fire': 2878, 'fireball': 2879, 'firingoffboarding': 2880, 'firm': 2881, 'firmansyahbl': 2882, 'first': 2883, 'firsteurope': 2884, 'fish': 2885, 'fishing': 2886, 'fishy': 2887, 'fit': 2888, 'fitnes': 2889, 'fittest': 2890, 'five': 2891, 'fiver': 2892, 'fix': 2893, 'fixed': 2894, 'fixedgearfrenzy': 2895, 'fk': 2896, 'fl': 2897, 'flame': 2898, 'flapjack': 2899, 'flared': 2900, 'flash': 2901, 'flat': 2902, 'flattery': 2903, 'flaviana': 2904, 'flavour': 2905, 'flawed': 2906, 'flawless': 2907, 'fleekile': 2908, 'flesh': 2909, 'fleur': 2910, 'flew': 2911, 'flickr': 2912, 'flight': 2913, 'flint': 2914, 'flip': 2915, 'flipkartfashionfriday': 2916, 'flipkartfashionfridayhey': 2917, 'flippin': 2918, 'flipping': 2919, 'float': 2920, 'floating': 2921, 'flockstars': 2922, 'floofs': 2923, 'floor': 2924, 'flop': 2925, 'flow': 2926, 'flower': 2927, 'flowing': 2928, 'fluent': 2929, 'fluffy': 2930, 'flumekaytranadaalunageorge': 2931, 'fly': 2932, 'flyhigh': 2933, 'flying': 2934, 'fm': 2935, 'fml': 2936, 'fmt': 2937, 'fna': 2938, 'fnaf': 2939, 'foam': 2940, 'foampit': 2941, 'focus': 2942, 'foh': 2943, 'foiegras': 2944, 'folder': 2945, 'folk': 2946, 'follbaaack': 2947, 'follback': 2948, 'follbackhappyfaceorsmileyconfusion': 2949, 'follow': 2950, 'followback': 2951, 'followed': 2952, 'follower': 2953, 'followfriday': 2954, 'following': 2955, 'followingg': 2956, 'followingif': 2957, 'followplease': 2958, 'follows': 2959, 'folow': 2960, 'fond': 2961, 'font': 2962, 'food': 2963, 'foodiefridaysfoodie': 2964, 'fooffrownsadandryorpouting': 2965, 'fool': 2966, 'foood': 2967, 'foot': 2968, 'football': 2969, 'footy': 2970, 'force': 2971, 'forced': 2972, 'foreals': 2973, 'forecast': 2974, 'forehead': 2975, 'forest': 2976, 'forever': 2977, 'foreveralone': 2978, 'forget': 2979, 'forgive': 2980, 'forgiven': 2981, 'forgot': 2982, 'forgotten': 2983, 'forklift': 2984, 'form': 2985, 'format': 2986, 'former': 2987, 'forneret': 2988, 'forritwah': 2989, 'fortune': 2990, 'forward': 2991, 'foto': 2992, 'fotoset': 2993, 'fought': 2994, 'found': 2995, 'foundation': 2996, 'founder': 2997, 'foundry': 2998, 'four': 2999, 'fourfiveseconds': 3000, 'fowles': 3001, 'fr': 3002, 'fraand': 3003, 'fragile': 3004, 'fragment': 3005, 'frail': 3006, 'france': 3007, 'frank': 3008, 'fraud': 3009, 'freak': 3010, 'freaking': 3011, 'freddys': 3012, 'free': 3013, 'freebiefriday': 3014, 'freed': 3015, 'freedom': 3016, 'freezing': 3017, 'french': 3018, 'frequentflyer': 3019, 'frequently': 3020, 'fresh': 3021, 'fresherstofinals': 3022, 'freshly': 3023, 'freshness': 3024, 'freya': 3025, 'fri': 3026, 'fricken': 3027, 'friday': 3028, 'fridayand': 3029, 'fridaydownpour': 3030, 'fridayfeeling': 3031, 'fridayfreebie': 3032, 'fridayfun': 3033, 'fridaylaughingbiggrinorlaughwithglasses': 3034, 'fridge': 3035, 'fried': 3036, 'friend': 3037, 'friendly': 3038, 'friendseverything': 3039, 'friendship': 3040, 'friendzone': 3041, 'friexs': 3042, 'frightening': 3043, 'frightlings': 3044, 'friooooo': 3045, 'friskyfriday': 3046, 'friyay': 3047, 'frnds': 3048, 'frog': 3049, 'fron': 3050, 'front': 3051, 'frou': 3052, 'frownsadandryorpouting': 3053, 'frownsadandryorpoutinga': 3054, 'frownsadandryorpoutingaragalang': 3055, 'frownsadandryorpoutingat': 3056, 'frownsadandryorpoutingbestfriend': 3057, 'frownsadandryorpoutingbut': 3058, 'frownsadandryorpoutingconfusion': 3059, 'frownsadandryorpoutingcrying': 3060, 'frownsadandryorpoutingembarrassedorblushing': 3061, 'frownsadandryorpoutingfeel': 3062, 'frownsadandryorpoutingfrownsadandryorpouting': 3063, 'frownsadandryorpoutingfrownsadandryorpoutingfrownsadandryorpouting': 3064, 'frownsadandryorpoutingfrownsadandryorpoutingfrownsadandryorpoutingfrownsadandryorpouting': 3065, 'frownsadandryorpoutinggot': 3066, 'frownsadandryorpoutingguess': 3067, 'frownsadandryorpoutinggulo': 3068, 'frownsadandryorpoutinghope': 3069, 'frownsadandryorpoutingi': 3070, 'frownsadandryorpoutingimintoher': 3071, 'frownsadandryorpoutingin': 3072, 'frownsadandryorpoutingit': 3073, 'frownsadandryorpoutingjust': 3074, 'frownsadandryorpoutingkandekjs': 3075, 'frownsadandryorpoutingllaollao': 3076, 'frownsadandryorpoutinglouis': 3077, 'frownsadandryorpoutingltgreysonchance': 3078, 'frownsadandryorpoutingmanaged': 3079, 'frownsadandryorpoutingme': 3080, 'frownsadandryorpoutingmy': 3081, 'frownsadandryorpoutingneed': 3082, 'frownsadandryorpoutingnelle': 3083, 'frownsadandryorpoutingno': 3084, 'frownsadandryorpoutingnow': 3085, 'frownsadandryorpoutingo': 3086, 'frownsadandryorpoutingopen': 3087, 'frownsadandryorpoutingotwolgrandtrailer': 3088, 'frownsadandryorpoutingplease': 3089, 'frownsadandryorpoutingpls': 3090, 'frownsadandryorpoutingsad': 3091, 'frownsadandryorpoutingsakit': 3092, 'frownsadandryorpoutingshes': 3093, 'frownsadandryorpoutingso': 3094, 'frownsadandryorpoutingsummer': 3095, 'frownsadandryorpoutingteamzipalsmtm': 3096, 'frownsadandryorpoutingthank': 3097, 'frownsadandryorpoutingthatselfiethough': 3098, 'frownsadandryorpoutingu': 3099, 'frownsadandryorpoutingunknown': 3100, 'frownsadandryorpoutingwe': 3101, 'frownsadandryorpoutingwhat': 3102, 'frownsadandryorpoutingwhyyyyyyyyyyyy': 3103, 'frownsadandryorpoutingwsalelove': 3104, 'frownsadandryorpoutingyou': 3105, 'frownsadandryorpoutingzayniscomingbackonjuly': 3106, 'frownsadandryorpouting´ཀ': 3107, 'froze': 3108, 'frudging': 3109, 'fruit': 3110, 'fruity': 3111, 'frustrated': 3112, 'frustration': 3113, 'fry': 3114, 'ft': 3115, 'ftw': 3116, 'fucjikg': 3117, 'fuck': 3118, 'fuckboys': 3119, 'fucked': 3120, 'fucker': 3121, 'fuckfrownsadandryorpouting': 3122, 'fuckin': 3123, 'fucking': 3124, 'fuckkk': 3125, 'fudge': 3126, 'fugiwara': 3127, 'fugly': 3128, 'fuk': 3129, 'fulfil': 3130, 'fulfill': 3131, 'full': 3132, 'fuller': 3133, 'fully': 3134, 'fulton': 3135, 'fun': 3136, 'funcionar': 3137, 'function': 3138, 'fundamentalist': 3139, 'funeral': 3140, 'funkfrownsadandryorpouting': 3141, 'funny': 3142, 'fuq': 3143, 'furbabys': 3144, 'furry': 3145, 'furtrimmed': 3146, 'fuse': 3147, 'future': 3148, 'futurereleases': 3149, 'fuuuuuck': 3150, 'fuuuuuuuuuck': 3151, 'fuzzy': 3152, 'fwm': 3153, 'fxconfusion': 3154, 'fxhelp': 3155, 'fyi': 3156, 'fyn': 3157, 'g': 3158, 'gaaawd': 3159, 'gaga': 3160, 'gagal': 3161, 'gahd': 3162, 'gahhh': 3163, 'gail': 3164, 'gained': 3165, 'gal': 3166, 'galat': 3167, 'galing': 3168, 'gallon': 3169, 'game': 3170, 'gamedev': 3171, 'gamejam': 3172, 'gameplays': 3173, 'gamer': 3174, 'gamestomp': 3175, 'gameswatch': 3176, 'gameswish': 3177, 'gaming': 3178, 'ganas': 3179, 'ganbarimasu': 3180, 'ganda': 3181, 'gandhi': 3182, 'gang': 3183, 'gangstay': 3184, 'gangster': 3185, 'ganna': 3186, 'gans': 3187, 'ganteng': 3188, 'gap': 3189, 'garage': 3190, 'garbii': 3191, 'garden': 3192, 'gardening': 3193, 'garlic': 3194, 'garret': 3195, 'garydid': 3196, 'gas': 3197, 'gassed': 3198, 'gastronomy': 3199, 'gathering': 3200, 'gatorade': 3201, 'gave': 3202, 'gawd': 3203, 'gay': 3204, 'gaya': 3205, 'gayi': 3206, 'gayle': 3207, 'gaza': 3208, 'gb': 3209, 'gc': 3210, 'gd': 3211, 'gear': 3212, 'gee': 3213, 'geek': 3214, 'geekiest': 3215, 'geer': 3216, 'geez': 3217, 'gegu': 3218, 'gel': 3219, 'gelen': 3220, 'gem': 3221, 'gemma': 3222, 'gen': 3223, 'genad': 3224, 'gendut': 3225, 'gene': 3226, 'general': 3227, 'generally': 3228, 'genesis': 3229, 'geneva': 3230, 'genial': 3231, 'genre': 3232, 'gensan': 3233, 'gent': 3234, 'gentleman': 3235, 'genuine': 3236, 'genuinely': 3237, 'geoff': 3238, 'george': 3239, 'georgesampson': 3240, 'georgia': 3241, 'georgie': 3242, 'german': 3243, 'germany': 3244, 'gern': 3245, 'geskenya': 3246, 'gesture': 3247, 'get': 3248, 'getaway': 3249, 'getthescoop': 3250, 'gettin': 3251, 'getting': 3252, 'getwellsoonamber': 3253, 'gf': 3254, 'gfriend': 3255, 'gg': 3256, 'gh': 3257, 'ghantay': 3258, 'ghost': 3259, 'gi': 3260, 'giachietittiwedding': 3261, 'giant': 3262, 'gibanica': 3263, 'gibran': 3264, 'giddy': 3265, 'gidi': 3266, 'gifs': 3267, 'gift': 3268, 'gifted': 3269, 'giftso': 3270, 'gig': 3271, 'giggle': 3272, 'gigi': 3273, 'giguilty': 3274, 'gilet': 3275, 'gim': 3276, 'gin': 3277, 'ginge': 3278, 'ginger': 3279, 'gintama': 3280, 'gion': 3281, 'giriboy': 3282, 'girl': 3283, 'girlfriend': 3284, 'girlfriendconfusion': 3285, 'girlfriendsmya': 3286, 'girlmy': 3287, 'girlthat': 3288, 'girly': 3289, 'gishwhes': 3290, 'give': 3291, 'giveaway': 3292, 'giveitup': 3293, 'given': 3294, 'giving': 3295, 'gl': 3296, 'glacier': 3297, 'glaconfusion': 3298, 'glad': 3299, 'gladly': 3300, 'glare': 3301, 'glasgow': 3302, 'glass': 3303, 'glaze': 3304, 'gleam': 3305, 'glenn': 3306, 'glitch': 3307, 'glo': 3308, 'globewe': 3309, 'glorify': 3310, 'gloucestershire': 3311, 'glow': 3312, 'glowing': 3313, 'glue': 3314, 'gn': 3315, 'go': 3316, 'goa': 3317, 'goal': 3318, 'goalscorer': 3319, 'goat': 3320, 'gobigorgohomehave': 3321, 'god': 3322, 'godbless': 3323, 'goddamn': 3324, 'goddess': 3325, 'godonna': 3326, 'gohf': 3327, 'goictived': 3328, 'goin': 3329, 'going': 3330, 'goingsupply': 3331, 'gol': 3332, 'gold': 3333, 'golden': 3334, 'golf': 3335, 'gomen': 3336, 'gomez': 3337, 'gon': 3338, 'gondooo': 3339, 'gone': 3340, 'good': 3341, 'goodafternoon': 3342, 'gooday': 3343, 'goodbye': 3344, 'goodhappyfaceorsmiley': 3345, 'goodluck': 3346, 'goodmorning': 3347, 'goodmusic': 3348, 'goodness': 3349, 'goodnight': 3350, 'goodnightsleeptight': 3351, 'goodtime': 3352, 'goodwill': 3353, 'goodwynsgoodies': 3354, 'goody': 3355, 'goofingaround': 3356, 'google': 3357, 'gooo': 3358, 'goood': 3359, 'gooood': 3360, 'gooooo': 3361, 'goosnight': 3362, 'gorefiend': 3363, 'gorgeous': 3364, 'gosh': 3365, 'gossip': 3366, 'got': 3367, 'gotcha': 3368, 'gotham': 3369, 'gots': 3370, 'gotten': 3371, 'gotwolgrandtrailer': 3372, 'government': 3373, 'goy': 3374, 'gr': 3375, 'grab': 3376, 'grabe': 3377, 'grace': 3378, 'gracious': 3379, 'grade': 3380, 'graduate': 3381, 'graduated': 3382, 'gram': 3383, 'gran': 3384, 'grand': 3385, 'grande': 3386, 'grandma': 3387, 'grandpa': 3388, 'granny': 3389, 'graphic': 3390, 'graphicsgraphicdesign': 3391, 'grasp': 3392, 'grassy': 3393, 'grated': 3394, 'grateful': 3395, 'gratefulness': 3396, 'grattis': 3397, 'gray': 3398, 'grazing': 3399, 'great': 3400, 'greatdismay': 3401, 'greater': 3402, 'greatest': 3403, 'greatful': 3404, 'greatly': 3405, 'greece': 3406, 'greek': 3407, 'greekcrisis': 3408, 'green': 3409, 'greet': 3410, 'greeting': 3411, 'greg': 3412, 'grepe': 3413, 'grepein': 3414, 'greska': 3415, 'grew': 3416, 'grey': 3417, 'greyed': 3418, 'greymind': 3419, 'grigsons': 3420, 'grill': 3421, 'grim': 3422, 'grind': 3423, 'grindea': 3424, 'grinding': 3425, 'groaning': 3426, 'grocery': 3427, 'grogolconfusion': 3428, 'gross': 3429, 'grotty': 3430, 'ground': 3431, 'grounded': 3432, 'group': 3433, 'groupie': 3434, 'grow': 3435, 'growing': 3436, 'growling': 3437, 'grown': 3438, 'grsrockfishing': 3439, 'grt': 3440, 'grumbling': 3441, 'grumpy': 3442, 'grunt': 3443, 'gryph': 3444, 'gt': 3445, 'gta': 3446, 'gtagiveaway': 3447, 'gtdaianerufatolt': 3448, 'gtfrownsadandryorpouting': 3449, 'gtg': 3450, 'gtgt': 3451, 'gtgtfrownsadandryorpouting': 3452, 'gtgtgt': 3453, 'gthappyfaceorsmiley': 3454, 'gtkw': 3455, 'gtlaughingbiggrinorlaughwithglasses': 3456, 'gtlaughingbiggrinorlaughwithglasseslt': 3457, 'gtlt': 3458, 'gtmj': 3459, 'gto': 3460, 'gua': 3461, 'gud': 3462, 'gudday': 3463, 'gue': 3464, 'guess': 3465, 'guessed': 3466, 'guest': 3467, 'guide': 3468, 'guilty': 3469, 'guinea': 3470, 'guinness': 3471, 'guise': 3472, 'guitar': 3473, 'guitarsoul': 3474, 'gujarat': 3475, 'gum': 3476, 'gun': 3477, 'gunashekar': 3478, 'guncontrol': 3479, 'gundam': 3480, 'gunna': 3481, 'gurgaon': 3482, 'gurl': 3483, 'gurly': 3484, 'gutted': 3485, 'guy': 3486, 'guyshope': 3487, 'guyslol': 3488, 'guzel': 3489, 'gv': 3490, 'gwd': 3491, 'gwinett': 3492, 'gws': 3493, 'gwss': 3494, 'gyllenhaal': 3495, 'gym': 3496, 'gymnastics': 3497, 'gypsy': 3498, 'gyu': 3499, 'haa': 3500, 'haaa': 3501, 'haaretz': 3502, 'habhab': 3503, 'habit': 3504, 'hacharatt': 3505, 'hack': 3506, 'hacked': 3507, 'hagergang': 3508, 'hah': 3509, 'haha': 3510, 'hahaah': 3511, 'hahah': 3512, 'hahaha': 3513, 'hahahaa': 3514, 'hahahaaahowly': 3515, 'hahahah': 3516, 'hahahaha': 3517, 'hahahahaha': 3518, 'hahahahahaah': 3519, 'hahahahahhaha': 3520, 'hahahaokay': 3521, 'hahahax': 3522, 'hahahays': 3523, 'hahays': 3524, 'haihandsome': 3525, 'haileyhelps': 3526, 'hain': 3527, 'hair': 3528, 'haired': 3529, 'hairpin': 3530, 'hairy': 3531, 'haiss': 3532, 'haix': 3533, 'haiz': 3534, 'haizzz': 3535, 'hajur': 3536, 'hakhakhak': 3537, 'halaaaang': 3538, 'hale': 3539, 'halesowen': 3540, 'half': 3541, 'halfremembered': 3542, 'halfway': 3543, 'hall': 3544, 'halla': 3545, 'hallo': 3546, 'hallows': 3547, 'hallyu': 3548, 'halsey': 3549, 'hammies': 3550, 'hampm': 3551, 'hamster': 3552, 'hamstring': 3553, 'hanabutle': 3554, 'hanbin': 3555, 'hand': 3556, 'handed': 3557, 'handle': 3558, 'handlettering': 3559, 'handover': 3560, 'handshome': 3561, 'handsome': 3562, 'hang': 3563, 'hangcopying': 3564, 'hangin': 3565, 'hanging': 3566, 'hangout': 3567, 'hannibal': 3568, 'happen': 3569, 'happend': 3570, 'happened': 3571, 'happenend': 3572, 'happening': 3573, 'happens': 3574, 'happier': 3575, 'happiest': 3576, 'happily': 3577, 'happiness': 3578, 'happpy': 3579, 'happy': 3580, 'happybirthdayemilybett': 3581, 'happycustomers': 3582, 'happyfaceorsmiley': 3583, 'happyfaceorsmileyakshaymostlovedsuperstarever': 3584, 'happyfaceorsmileyangelica': 3585, 'happyfaceorsmileybirthdaypresent': 3586, 'happyfaceorsmileybyeadmin': 3587, 'happyfaceorsmileycajunchicken': 3588, 'happyfaceorsmileycheers': 3589, 'happyfaceorsmileyconfusion': 3590, 'happyfaceorsmileyconfusionconfusion': 3591, 'happyfaceorsmileyconfusionconfusionconfusion': 3592, 'happyfaceorsmileyconfusionconfusionconfusionconfusion': 3593, 'happyfaceorsmileyconfusionconfusionconfusionconfusionconfusion': 3594, 'happyfaceorsmileyconfusionconfusionconfusionconfusionconfusionconfusion': 3595, 'happyfaceorsmileyconfusionconfusionconfusionconfusionconfusionconfusionconfusion': 3596, 'happyfaceorsmileyconfusionconfusionconfusionconfusionconfusionconfusionconfusionconfusion': 3597, 'happyfaceorsmileyconfusionconfusionconfusionconfusionconfusionconfusionconfusionconfusionconfusion': 3598, 'happyfaceorsmileyconfusionconfusionconfusionconfusionconfusionconfusionconfusionconfusionconfusionconfusionconfusionconfusionconfusionconfusion': 3599, 'happyfaceorsmileyconfusionconfusionconfusionconfusionconfusionconfusionconfusionconfusionconfusionconfusionconfusionconfusionconfusionconfusionconfusionconfusionconfusion': 3600, 'happyfaceorsmileyconfusionconfusionhappyfaceorsmileyhappyfaceorsmiley': 3601, 'happyfaceorsmileyconfusioncongratulations': 3602, 'happyfaceorsmileyconfusionfriends': 3603, 'happyfaceorsmileyconfusionhappyfaceorsmileyconfusionconfusionhappyfaceorsmileyconfusionconfusion': 3604, 'happyfaceorsmileyconfusionhappyfaceorsmileyhappyfaceorsmileyfrownsadandryorpouting': 3605, 'happyfaceorsmileyconfusionwip': 3606, 'happyfaceorsmileyconfusionwsalelove': 3607, 'happyfaceorsmileyconfusion⅞': 3608, 'happyfaceorsmileycosplay': 3609, 'happyfaceorsmileyembarrassedorblushing': 3610, 'happyfaceorsmileyexcited': 3611, 'happyfaceorsmileyeye': 3612, 'happyfaceorsmileyflipkartfashionfriday': 3613, 'happyfaceorsmileyhappyfaceorsmiley': 3614, 'happyfaceorsmileyhappyfaceorsmileyhappyfaceorsmiley': 3615, 'happyfaceorsmileyhope': 3616, 'happyfaceorsmileyhot': 3617, 'happyfaceorsmileyi': 3618, 'happyfaceorsmileyit': 3619, 'happyfaceorsmileyjust': 3620, 'happyfaceorsmileykeesh': 3621, 'happyfaceorsmileylatmon': 3622, 'happyfaceorsmileylearn': 3623, 'happyfaceorsmileyleicaq': 3624, 'happyfaceorsmileylt': 3625, 'happyfaceorsmileymar': 3626, 'happyfaceorsmileymaxfreshmove': 3627, 'happyfaceorsmileymay': 3628, 'happyfaceorsmileymorning': 3629, 'happyfaceorsmileymy': 3630, 'happyfaceorsmileynad': 3631, 'happyfaceorsmileyngarepfollbackdarinabilahjkt': 3632, 'happyfaceorsmileynostalgia': 3633, 'happyfaceorsmileyoss': 3634, 'happyfaceorsmileyotwolgrandtrailer': 3635, 'happyfaceorsmileyplay': 3636, 'happyfaceorsmileyplease': 3637, 'happyfaceorsmileypsygustokita': 3638, 'happyfaceorsmileyrealreviews': 3639, 'happyfaceorsmileyrepath': 3640, 'happyfaceorsmileysalute': 3641, 'happyfaceorsmileyso': 3642, 'happyfaceorsmileysorry': 3643, 'happyfaceorsmileythe': 3644, 'happyfaceorsmileytrip': 3645, 'happyfaceorsmileyu': 3646, 'happyfaceorsmileywayanadphoto': 3647, 'happyfaceorsmileywhat': 3648, 'happyfaceorsmileywhy': 3649, 'happyfaceorsmileywish': 3650, 'happyfaceorsmileywith': 3651, 'happyfaceorsmileywsalelove': 3652, 'happyfaceorsmileyyep': 3653, 'happyfaceorsmileyجمعةمباركة': 3654, 'happyfaceorsmileyغردلي': 3655, 'happyfacesmiley': 3656, 'happyfacesmileyam': 3657, 'happyfacesmileyamconfusion': 3658, 'happyfacesmileyconfusion': 3659, 'happyfacesmileyconfusionconfusion': 3660, 'happyfacesmileyconfusionconfusionconfusion': 3661, 'happyfacesmileyconfusionconfusionconfusionconfusion': 3662, 'happyfacesmileyconfusionconfusionconfusionconfusionconfusionconfusionconfusion': 3663, 'happyfacesmileygottolovebanks': 3664, 'happyfacesmileygreatkenya': 3665, 'happyfacesmileyhappyfacesmiley': 3666, 'happyfacesmileyhave': 3667, 'happyfacesmileylt': 3668, 'happyfacesmileynew': 3669, 'happyfacesmileypm': 3670, 'happyfacesmileytara': 3671, 'happyfacesmileytruthfulwordsof': 3672, 'happyfacesmileyyou': 3673, 'happyfriday': 3674, 'happyshappyfaceorsmiley': 3675, 'happyweekend': 3676, 'happyyyyyy': 3677, 'harana': 3678, 'harap': 3679, 'hard': 3680, 'hardcore': 3681, 'harder': 3682, 'hardest': 3683, 'hardheaded': 3684, 'hardly': 3685, 'hardwired': 3686, 'harlo': 3687, 'harmony': 3688, 'harmos': 3689, 'harriet': 3690, 'harry': 3691, 'harrys': 3692, 'harryxhood': 3693, 'harsh': 3694, 'harumph': 3695, 'harvest': 3696, 'hasb': 3697, 'hash': 3698, 'hashbrowns': 3699, 'hashtag': 3700, 'hashtaggt': 3701, 'hashtags': 3702, 'hastily': 3703, 'hasyaconfusion': 3704, 'hat': 3705, 'hate': 3706, 'hated': 3707, 'hateeeee': 3708, 'hater': 3709, 'hatessuce': 3710, 'hatigii': 3711, 'hatred': 3712, 'hauc': 3713, 'hav': 3714, 'haveagoodday': 3715, 'havent': 3716, 'havingi': 3717, 'havuuuuuloveyouuuuuuuuuhappyfaceorsmiley': 3718, 'haw': 3719, 'hawako': 3720, 'hawk': 3721, 'hay': 3722, 'hayley': 3723, 'hayli': 3724, 'hayst': 3725, 'hazel': 3726, 'hbd': 3727, 'hbdme': 3728, 'hd': 3729, 'he': 3730, 'head': 3731, 'headache': 3732, 'headack': 3733, 'header': 3734, 'heading': 3735, 'headline': 3736, 'headlining': 3737, 'headphone': 3738, 'headshelp': 3739, 'healed': 3740, 'health': 3741, 'healthier': 3742, 'healthy': 3743, 'healthylifestyle': 3744, 'heap': 3745, 'hear': 3746, 'heard': 3747, 'hearess': 3748, 'hearing': 3749, 'heart': 3750, 'heartache': 3751, 'heartbeat': 3752, 'heartbreaking': 3753, 'heat': 3754, 'heated': 3755, 'heath': 3756, 'heathrow': 3757, 'heating': 3758, 'heatwave': 3759, 'heaven': 3760, 'heavy': 3761, 'heck': 3762, 'hediye': 3763, 'hee': 3764, 'heechul': 3765, 'heed': 3766, 'heeeeyyy': 3767, 'heel': 3768, 'hehe': 3769, 'hehehe': 3770, 'hehehehe': 3771, 'heheok': 3772, 'height': 3773, 'heiya': 3774, 'heiyo': 3775, 'helen': 3776, 'helium': 3777, 'hell': 3778, 'hella': 3779, 'hellish': 3780, 'hello': 3781, 'hellooooooooo': 3782, 'helmy': 3783, 'help': 3784, 'helped': 3785, 'helpful': 3786, 'helpfulsensible': 3787, 'helping': 3788, 'helpinggroupdms': 3789, 'helppp': 3790, 'helpppp': 3791, 'helsinki': 3792, 'hen': 3793, 'hence': 3794, 'henessydiaries': 3795, 'herb': 3796, 'here': 3797, 'herehappyfaceorsmiley': 3798, 'herfrownsadandryorpoutingfrownsadandryorpouting': 3799, 'hernia': 3800, 'hero': 3801, 'heswifi': 3802, 'hey': 3803, 'heyy': 3804, 'heyyyyy': 3805, 'he´s': 3806, 'hhahahahaha': 3807, 'hi': 3808, 'hibbs': 3809, 'hickey': 3810, 'hidden': 3811, 'hide': 3812, 'hiding': 3813, 'hierro': 3814, 'high': 3815, 'highest': 3816, 'highlight': 3817, 'highschooldays': 3818, 'highvalue': 3819, 'hih': 3820, 'hihihi': 3821, 'hii': 3822, 'hiii': 3823, 'hiking': 3824, 'hilarious': 3825, 'hilarioussuper': 3826, 'hill': 3827, 'hillary': 3828, 'hilly': 3829, 'himachal': 3830, 'himher': 3831, 'himseek': 3832, 'hinala': 3833, 'hinanap': 3834, 'hinde': 3835, 'hindi': 3836, 'hion': 3837, 'hiondsheings': 3838, 'hippo': 3839, 'hipster': 3840, 'hiring': 3841, 'hisaab': 3842, 'hissing': 3843, 'history': 3844, 'hit': 3845, 'hitler': 3846, 'hitmarker': 3847, 'hitting': 3848, 'hive': 3849, 'hiya': 3850, 'hk': 3851, 'hmm': 3852, 'hmmm': 3853, 'hmmmask': 3854, 'hmmmm': 3855, 'hmph': 3856, 'hmu': 3857, 'hmyking': 3858, 'hnnnnnnn': 3859, 'hobby': 3860, 'hocking': 3861, 'hogan': 3862, 'hogo': 3863, 'hokies': 3864, 'hola': 3865, 'holborn': 3866, 'hold': 3867, 'holder': 3868, 'holding': 3869, 'holiday': 3870, 'holistic': 3871, 'hollywood': 3872, 'hologram': 3873, 'hols': 3874, 'holy': 3875, 'home': 3876, 'homebased': 3877, 'homebound': 3878, 'homed': 3879, 'homegirl': 3880, 'homehappyfaceorsmileyconfusionconfusion': 3881, 'homework': 3882, 'homey': 3883, 'homie': 3884, 'homies': 3885, 'homobiphobic': 3886, 'homosexualbut': 3887, 'honest': 3888, 'honestly': 3889, 'honestlymore': 3890, 'honesty': 3891, 'honey': 3892, 'hong': 3893, 'honma': 3894, 'honored': 3895, 'honoured': 3896, 'hood': 3897, 'hoodie': 3898, 'hooh': 3899, 'hop': 3900, 'hope': 3901, 'hopeconfusion': 3902, 'hopeful': 3903, 'hopefully': 3904, 'hopehousekids': 3905, 'hopeless': 3906, 'hopeyou': 3907, 'hopia': 3908, 'hoping': 3909, 'hopkins': 3910, 'hopper': 3911, 'horny': 3912, 'hornykik': 3913, 'horrendously': 3914, 'horrible': 3915, 'horriblesorry': 3916, 'horribly': 3917, 'horrific': 3918, 'horse': 3919, 'horseracing': 3920, 'horseracingtips': 3921, 'hortons': 3922, 'hospital': 3923, 'hospitalconfusion': 3924, 'host': 3925, 'hosted': 3926, 'hot': 3927, 'hotairballoon': 3928, 'hotbed': 3929, 'hoteemy': 3930, 'hotel': 3931, 'hotfmnoaidilforariana': 3932, 'hotgirls': 3933, 'hotmusicdelocos': 3934, 'hotnsexy': 3935, 'hotscratch': 3936, 'hotspotwithdanris': 3937, 'hottie': 3938, 'hotwheels': 3939, 'hound': 3940, 'hour': 3941, 'hourhappyfaceorsmiley': 3942, 'house': 3943, 'housemate': 3944, 'housemusic': 3945, 'housing': 3946, 'houston': 3947, 'howdo': 3948, 'however': 3949, 'howre': 3950, 'hows': 3951, 'hoxton': 3952, 'hoya': 3953, 'hozier': 3954, 'hp': 3955, 'hpc': 3956, 'hq': 3957, 'hr': 3958, 'hrdstellobama': 3959, 'hrryok': 3960, 'hschool': 3961, 'hse': 3962, 'hsm': 3963, 'hsould': 3964, 'hsr': 3965, 'ht': 3966, 'htaccess': 3967, 'html': 3968, 'hua': 3969, 'hub': 3970, 'hubba': 3971, 'hubby': 3972, 'hueeeee': 3973, 'huehue': 3974, 'hug': 3975, 'huge': 3976, 'hugged': 3977, 'hugging': 3978, 'hugh': 3979, 'hugsx': 3980, 'hugwant': 3981, 'huh': 3982, 'huhu': 3983, 'huhuhu': 3984, 'huhuhuhu': 3985, 'huhuhuhuhu': 3986, 'huhuu': 3987, 'hulk': 3988, 'hulkamania': 3989, 'human': 3990, 'humanist': 3991, 'humidity': 3992, 'humphrey': 3993, 'hunde': 3994, 'hundred': 3995, 'hunger': 3996, 'hungrrrryyy': 3997, 'hungry': 3998, 'hungryhappyfacesmiley': 3999, 'huni': 4000, 'hunny': 4001, 'hunt': 4002, 'hurray': 4003, 'hurry': 4004, 'hurt': 4005, 'hurting': 4006, 'hush': 4007, 'hushed': 4008, 'hushedcallwithfraydoe': 4009, 'hushedpinwithsammy': 4010, 'husky': 4011, 'huvvft': 4012, 'huxley': 4013, 'hwaiting': 4014, 'hws': 4015, 'hwy': 4016, 'hxh': 4017, 'hygiene': 4018, 'hype': 4019, 'hyper': 4020, 'hyperbullies': 4021, 'hypercholesteloremia': 4022, 'hypocritical': 4023, 'hyung': 4024, 'hyungwon': 4025, 'hz': 4026, 'iam': 4027, 'iamamonster': 4028, 'iamca': 4029, 'ian': 4030, 'ic': 4031, 'ice': 4032, 'icecream': 4033, 'icecreammaster': 4034, 'iceland': 4035, 'icepack': 4036, 'icloud': 4037, 'icon': 4038, 'icu': 4039, 'id': 4040, 'idaho': 4041, 'idea': 4042, 'ideal': 4043, 'idek': 4044, 'identity': 4045, 'idiot': 4046, 'idk': 4047, 'idol': 4048, 'idr': 4049, 'iero': 4050, 'ifc': 4051, 'ifeelyou': 4052, 'iflix': 4053, 'ifsc': 4054, 'ifwhen': 4055, 'ig': 4056, 'igbo': 4057, 'igers': 4058, 'igersoftheday': 4059, 'ign': 4060, 'ignore': 4061, 'ignored': 4062, 'ignores': 4063, 'ihhh': 4064, 'ihop': 4065, 'iirc': 4066, 'ij': 4067, 'ikea': 4068, 'ikr': 4069, 'ilhoon': 4070, 'illa': 4071, 'illadvised': 4072, 'illness': 4073, 'illustration': 4074, 'iloveyou': 4075, 'iloveyouu': 4076, 'ily': 4077, 'ilymelanie': 4078, 'ilysm': 4079, 'ima': 4080, 'imac': 4081, 'image': 4082, 'imaginative': 4083, 'imagine': 4084, 'imaging': 4085, 'imgcircle': 4086, 'imiss': 4087, 'imitatia': 4088, 'imitation': 4089, 'imma': 4090, 'immature': 4091, 'immigrant': 4092, 'immovable': 4093, 'immune': 4094, 'imo': 4095, 'impact': 4096, 'impairs': 4097, 'impeccable': 4098, 'imperative': 4099, 'imperial': 4100, 'implies': 4101, 'import': 4102, 'important': 4103, 'impossible': 4104, 'impression': 4105, 'impressivewhat': 4106, 'improvement': 4107, 'improving': 4108, 'imran': 4109, 'imsorry': 4110, 'imveryverysorry': 4111, 'imy': 4112, 'imysm': 4113, 'inaccessible': 4114, 'inaccuracy': 4115, 'inaccurate': 4116, 'inactive': 4117, 'inapp': 4118, 'inapropriate': 4119, 'inatall': 4120, 'inbox': 4121, 'inc': 4122, 'incall': 4123, 'inch': 4124, 'incident': 4125, 'incl': 4126, 'include': 4127, 'included': 4128, 'includes': 4129, 'including': 4130, 'incoming': 4131, 'incompleta': 4132, 'incomplete': 4133, 'inconsiderate': 4134, 'incorrect': 4135, 'incredible': 4136, 'indeed': 4137, 'independent': 4138, 'india': 4139, 'indian': 4140, 'indiana': 4141, 'indiankulture': 4142, 'indicted': 4143, 'indie': 4144, 'indiemusic': 4145, 'indifference': 4146, 'indirecting': 4147, 'individual': 4148, 'indo': 4149, 'indonesia': 4150, 'indonesialine': 4151, 'indonesian': 4152, 'industry': 4153, 'ineedfeminismbecause': 4154, 'infection': 4155, 'infinite': 4156, 'infirmity': 4157, 'inflation': 4158, 'influenced': 4159, 'influencer': 4160, 'influencers': 4161, 'influential': 4162, 'info': 4163, 'infographic': 4164, 'inform': 4165, 'information': 4166, 'informed': 4167, 'infra': 4168, 'infrared': 4169, 'infrastructure': 4170, 'infrastructureteachersdoctorsnursesparamedicsampother': 4171, 'infront': 4172, 'inglewood': 4173, 'inhaler': 4174, 'inhouse': 4175, 'init': 4176, 'inital': 4177, 'initial': 4178, 'initially': 4179, 'initiative': 4180, 'injure': 4181, 'injured': 4182, 'injury': 4183, 'injustice': 4184, 'ink': 4185, 'inner': 4186, 'innie': 4187, 'innocent': 4188, 'innovate': 4189, 'innumerable': 4190, 'input': 4191, 'inquisitor': 4192, 'insane': 4193, 'insecure': 4194, 'insecurity': 4195, 'insensitivenessridiculousfrownsadandryorpouting': 4196, 'inshaaallah': 4197, 'inshaallah': 4198, 'inshallah': 4199, 'inside': 4200, 'insidious': 4201, 'insomnia': 4202, 'insonia': 4203, 'inspiration': 4204, 'inspire': 4205, 'inspired': 4206, 'inspirit': 4207, 'inspite': 4208, 'inspy': 4209, 'insta': 4210, 'instagood': 4211, 'instagram': 4212, 'instagramif': 4213, 'install': 4214, 'installed': 4215, 'instamood': 4216, 'instant': 4217, 'instead': 4218, 'institution': 4219, 'instruction': 4220, 'insurance': 4221, 'intellect': 4222, 'intellectual': 4223, 'intelligent': 4224, 'intend': 4225, 'intention': 4226, 'inter': 4227, 'interaction': 4228, 'interactive': 4229, 'interest': 4230, 'interested': 4231, 'interesting': 4232, 'interestinghappyfaceorsmiley': 4233, 'intern': 4234, 'international': 4235, 'internet': 4236, 'internship': 4237, 'interracial': 4238, 'interview': 4239, 'intolerant': 4240, 'intro': 4241, 'introducing': 4242, 'introduction': 4243, 'inuyasha': 4244, 'invalid': 4245, 'invested': 4246, 'investigate': 4247, 'investment': 4248, 'invite': 4249, 'invited': 4250, 'invoice': 4251, 'io': 4252, 'ion': 4253, 'iove': 4254, 'ip': 4255, 'iphne': 4256, 'iphone': 4257, 'iplayer': 4258, 'ipod': 4259, 'iqbal': 4260, 'iqrar': 4261, 'iran': 4262, 'irandeal': 4263, 'iraq': 4264, 'ireland': 4265, 'irene': 4266, 'irish': 4267, 'irl': 4268, 'irony': 4269, 'irresistible': 4270, 'irresponsibly': 4271, 'isaac': 4272, 'isco': 4273, 'ised': 4274, 'isfamiliar': 4275, 'ish': 4276, 'ishal': 4277, 'ishe': 4278, 'isi': 4279, 'isibaya': 4280, 'islamist': 4281, 'island': 4282, 'isnt': 4283, 'iso': 4284, 'isolated': 4285, 'isolating': 4286, 'isonly': 4287, 'isp': 4288, 'israel': 4289, 'israeli': 4290, 'issue': 4291, 'issuei': 4292, 'istanya': 4293, 'istg': 4294, 'italian': 4295, 'italy': 4296, 'itconfusion': 4297, 'item': 4298, 'itfrownsadandryorpouting': 4299, 'itfrownsadandryorpoutingfrownsadandryorpouting': 4300, 'itgreat': 4301, 'ithappyfacesmiley': 4302, 'itmbf': 4303, 'itme': 4304, 'itmorning': 4305, 'itna': 4306, 'itnot': 4307, 'ito': 4308, 'itokay': 4309, 'itong': 4310, 'itsamarvelthingmarvel': 4311, 'itter': 4312, 'itty': 4313, 'itunes': 4314, 'itv': 4315, 'ivan': 4316, 'ive': 4317, 'ivyi': 4318, 'ivypowel': 4319, 'iwantin': 4320, 'iyalaya': 4321, 'izumi': 4322, 'izzat': 4323, 'izzys': 4324, 'jaann': 4325, 'jabongatpumaurbanstampede': 4326, 'jabongatpumaurbanstampedeansgt': 4327, 'jace': 4328, 'jack': 4329, 'jacket': 4330, 'jackie': 4331, 'jackson': 4332, 'jaclintiler': 4333, 'jacob': 4334, 'jadines': 4335, 'jah': 4336, 'jahat': 4337, 'jai': 4338, 'jail': 4339, 'jailbroken': 4340, 'jake': 4341, 'jalulu': 4342, 'jam': 4343, 'james': 4344, 'jamesyammouni': 4345, 'jamie': 4346, 'jamielee': 4347, 'jampk': 4348, 'jane': 4349, 'jangly': 4350, 'jannatul': 4351, 'january': 4352, 'japan': 4353, 'japanese': 4354, 'jarraaaaa': 4355, 'jasmingarrick': 4356, 'jasonamprob': 4357, 'jasper': 4358, 'jaspernationalpark': 4359, 'java': 4360, 'jax': 4361, 'jay': 4362, 'jaya': 4363, 'jaysus': 4364, 'jazmin': 4365, 'jazz': 4366, 'jb': 4367, 'jcreport': 4368, 'jdjdjdjd': 4369, 'jds': 4370, 'jealous': 4371, 'jean': 4372, 'jeansfrownsadandryorpouting': 4373, 'jeb': 4374, 'jedzjabłka': 4375, 'jeebus': 4376, 'jeep': 4377, 'jehwan': 4378, 'jelly': 4379, 'jelouse': 4380, 'jemma': 4381, 'jen': 4382, 'jenna': 4383, 'jenni': 4384, 'jennifer': 4385, 'jennyjean': 4386, 'jentop': 4387, 'jeremy': 4388, 'jeremyleader': 4389, 'jerk': 4390, 'jersey': 4391, 'jeslyn': 4392, 'jess': 4393, 'jesse': 4394, 'jestconfusion': 4395, 'jesus': 4396, 'jet': 4397, 'jezwecan': 4398, 'jfc': 4399, 'jgh': 4400, 'jhalak': 4401, 'jhezz': 4402, 'jiba': 4403, 'jilla': 4404, 'jillcruz': 4405, 'jillmill': 4406, 'jimin': 4407, 'jimins': 4408, 'jingly': 4409, 'jinki': 4410, 'jisoo': 4411, 'jisung': 4412, 'jiyeons': 4413, 'jk': 4414, 'jlo': 4415, 'jlovers': 4416, 'jmu': 4417, 'job': 4418, 'joc': 4419, 'joe': 4420, 'joes': 4421, 'jogging': 4422, 'john': 4423, 'johnyherbert': 4424, 'joim': 4425, 'join': 4426, 'joined': 4427, 'joining': 4428, 'jointit': 4429, 'jojo': 4430, 'joke': 4431, 'jokid': 4432, 'joking': 4433, 'jokingly': 4434, 'jolly': 4435, 'jones': 4436, 'jong': 4437, 'jongdaei': 4438, 'jonghyun': 4439, 'jonginuh': 4440, 'jordan': 4441, 'jordanian': 4442, 'joselito': 4443, 'josephines': 4444, 'josh': 4445, 'jotzh': 4446, 'jouch': 4447, 'journalism': 4448, 'journey': 4449, 'journeyps': 4450, 'journo': 4451, 'journorequest': 4452, 'joy': 4453, 'joycecalm': 4454, 'joyful': 4455, 'joyfulmusic': 4456, 'jozi': 4457, 'jps': 4458, 'jr': 4459, 'jsl': 4460, 'jst': 4461, 'juan': 4462, 'judge': 4463, 'judging': 4464, 'judgmental': 4465, 'judo': 4466, 'judy': 4467, 'juggle': 4468, 'juice': 4469, 'juicebro': 4470, 'juja': 4471, 'julia': 4472, 'juliana': 4473, 'julie': 4474, 'july': 4475, 'julyth': 4476, 'jumma': 4477, 'jummah': 4478, 'jummamubarak': 4479, 'jummamubarik': 4480, 'jummaprayer': 4481, 'jump': 4482, 'jumped': 4483, 'jumping': 4484, 'jumpsuit': 4485, 'june': 4486, 'jungle': 4487, 'junhee': 4488, 'junior': 4489, 'junjou': 4490, 'junmyeon': 4491, 'jurassic': 4492, 'jury': 4493, 'justget': 4494, 'justgotkanekified': 4495, 'justice': 4496, 'justiceforsandrabland': 4497, 'justin': 4498, 'justinbieber': 4499, 'justi̇n': 4500, 'jute': 4501, 'juudiciary': 4502, 'k': 4503, 'ka': 4504, 'kadhafi': 4505, 'kafi': 4506, 'kaha': 4507, 'kahaaaa': 4508, 'kahfi': 4509, 'kahlil': 4510, 'kale': 4511, 'kalin': 4512, 'kalle': 4513, 'kamaal': 4514, 'kami': 4515, 'kams': 4516, 'kang': 4517, 'kangin': 4518, 'kanina': 4519, 'kansai': 4520, 'kanye': 4521, 'kapatidkongpogi': 4522, 'kapima': 4523, 'karachi': 4524, 'karain': 4525, 'karani': 4526, 'karaoke': 4527, 'kareenas': 4528, 'karen': 4529, 'karibumombasa': 4530, 'karin': 4531, 'karlia': 4532, 'karte': 4533, 'kashi': 4534, 'kasi': 4535, 'kaslkdja': 4536, 'kat': 4537, 'katamariwell': 4538, 'kate': 4539, 'kateee': 4540, 'katekyn': 4541, 'katerina': 4542, 'kath': 4543, 'kathd': 4544, 'kathryn': 4545, 'katie': 4546, 'katmtan': 4547, 'kaussies': 4548, 'kawaii': 4549, 'kaya': 4550, 'kaylas': 4551, 'kayo': 4552, 'kb': 4553, 'kbye': 4554, 'kca': 4555, 'kebab': 4556, 'kebaya': 4557, 'kebun': 4558, 'keedz': 4559, 'keeno': 4560, 'keep': 4561, 'keepin': 4562, 'keeping': 4563, 'keepitlocal': 4564, 'kei': 4565, 'kelly': 4566, 'ken': 4567, 'kendall': 4568, 'kennat': 4569, 'kennel': 4570, 'kenya': 4571, 'kepler': 4572, 'keplerb': 4573, 'kepo': 4574, 'kept': 4575, 'kernel': 4576, 'kesa': 4577, 'ketchup': 4578, 'kev': 4579, 'key': 4580, 'keybind': 4581, 'kfc': 4582, 'kfckitchentours': 4583, 'kg': 4584, 'kgola': 4585, 'kha': 4586, 'khamis': 4587, 'khan': 4588, 'khany': 4589, 'kharap': 4590, 'khatam': 4591, 'khawateen': 4592, 'khloes': 4593, 'kia': 4594, 'kian': 4595, 'kianweareproud': 4596, 'kick': 4597, 'kicked': 4598, 'kickstarter': 4599, 'kid': 4600, 'kidding': 4601, 'kiddo': 4602, 'kidney': 4603, 'kidschoiceawards': 4604, 'kik': 4605, 'kikchat': 4606, 'kikgirl': 4607, 'kikhorny': 4608, 'kikkomansabor': 4609, 'kikme': 4610, 'kikmeboys': 4611, 'kikmeguys': 4612, 'kikmenow': 4613, 'kikmsn': 4614, 'kiksex': 4615, 'kiksexting': 4616, 'kiligs': 4617, 'kill': 4618, 'killed': 4619, 'killer': 4620, 'killin': 4621, 'killing': 4622, 'killua': 4623, 'kimaaaaaani': 4624, 'kin': 4625, 'kina': 4626, 'kinaras': 4627, 'kind': 4628, 'kinda': 4629, 'kindergarten': 4630, 'kindest': 4631, 'kindle': 4632, 'kindled': 4633, 'kindly': 4634, 'king': 4635, 'kingdom': 4636, 'kingfisher': 4637, 'kingfutureboss': 4638, 'kinickers': 4639, 'kink': 4640, 'kinky': 4641, 'kisi': 4642, 'kiss': 4643, 'kissed': 4644, 'kissme': 4645, 'kit': 4646, 'kitchen': 4647, 'kitchenlaughingbiggrinorlaughwithglasses': 4648, 'kitkat': 4649, 'kittehs': 4650, 'kitten': 4651, 'kitty': 4652, 'kiya': 4653, 'kizomba': 4654, 'kk': 4655, 'kkk': 4656, 'klappertart': 4657, 'kleperb': 4658, 'km': 4659, 'kme': 4660, 'knee': 4661, 'knew': 4662, 'knife': 4663, 'knitting': 4664, 'kno': 4665, 'knock': 4666, 'knocked': 4667, 'knockin': 4668, 'know': 4669, 'knowfor': 4670, 'knowi': 4671, 'knowing': 4672, 'knowledge': 4673, 'knowvery': 4674, 'knw': 4675, 'ko': 4676, 'koala': 4677, 'koe': 4678, 'koel': 4679, 'koffie': 4680, 'koi': 4681, 'kong': 4682, 'konga': 4683, 'korea': 4684, 'korean': 4685, 'koyal': 4686, 'kpop': 4687, 'kresna': 4688, 'krispy': 4689, 'kristin': 4690, 'krta': 4691, 'krystal': 4692, 'krystoria': 4693, 'ksoo': 4694, 'ktksbye': 4695, 'ku': 4696, 'kuch': 4697, 'kuchar': 4698, 'kuching': 4699, 'kuffar': 4700, 'kumble': 4701, 'kumpul': 4702, 'kunoriforceo': 4703, 'kurt': 4704, 'kurta': 4705, 'kw': 4706, 'kyle': 4707, 'kylie': 4708, 'kyungsoos': 4709, 'lab': 4710, 'labeled': 4711, 'labour': 4712, 'labyo': 4713, 'laced': 4714, 'lack': 4715, 'lad': 4716, 'ladder': 4717, 'ladolcevitainluxembourg': 4718, 'lady': 4719, 'ladygaga': 4720, 'ladyposse': 4721, 'lafayette': 4722, 'lage': 4723, 'lagifrownsadandryorpouting': 4724, 'lagiii': 4725, 'lagos': 4726, 'laguna': 4727, 'lahat': 4728, 'lahhh': 4729, 'laid': 4730, 'laine': 4731, 'laiten': 4732, 'lake': 4733, 'lami': 4734, 'lamo': 4735, 'lamon': 4736, 'lan': 4737, 'land': 4738, 'landed': 4739, 'landscape': 4740, 'lang': 4741, 'langkawi': 4742, 'langs': 4743, 'language': 4744, 'languageshappyfaceorsmiley': 4745, 'lani': 4746, 'lansi': 4747, 'laomma': 4748, 'laommacouture': 4749, 'lapar': 4750, 'laper': 4751, 'laptop': 4752, 'large': 4753, 'laribuggy': 4754, 'laro': 4755, 'larry': 4756, 'lart': 4757, 'laserlike': 4758, 'lass': 4759, 'lassis': 4760, 'last': 4761, 'lasted': 4762, 'late': 4763, 'lately': 4764, 'latepost': 4765, 'later': 4766, 'laterconfusion': 4767, 'latest': 4768, 'latin': 4769, 'latinhouse': 4770, 'latte': 4771, 'laugh': 4772, 'laughed': 4773, 'laughing': 4774, 'laughingbiggrinorlaughwithglasses': 4775, 'laughingbiggrinorlaughwithglassesalso': 4776, 'laughingbiggrinorlaughwithglassesand': 4777, 'laughingbiggrinorlaughwithglassescoz': 4778, 'laughingbiggrinorlaughwithglasseshappyfaceorsmileyconfusion': 4779, 'laughingbiggrinorlaughwithglasseshyungbot': 4780, 'laughingbiggrinorlaughwithglassesifimeetanalien': 4781, 'laughingbiggrinorlaughwithglassesjumpgiants': 4782, 'laughingbiggrinorlaughwithglasseslaughingbiggrinorlaughwithglasses': 4783, 'laughingbiggrinorlaughwithglassesseems': 4784, 'laughingbiggrinorlaughwithglassesthanks': 4785, 'laughingbiggrinorlaughwithglasseswanna': 4786, 'laughingsmiling': 4787, 'laughter': 4788, 'launch': 4789, 'launched': 4790, 'laura': 4791, 'law': 4792, 'lawn': 4793, 'lawnmower': 4794, 'lay': 4795, 'layer': 4796, 'laying': 4797, 'layout': 4798, 'lazy': 4799, 'lazyweekend': 4800, 'lb': 4801, 'lbloggers': 4802, 'lcs': 4803, 'le': 4804, 'lead': 4805, 'leader': 4806, 'leadership': 4807, 'leadssupersport': 4808, 'leaf': 4809, 'league': 4810, 'leaking': 4811, 'leanneriner': 4812, 'learn': 4813, 'learned': 4814, 'learnt': 4815, 'lease': 4816, 'least': 4817, 'leave': 4818, 'leavework': 4819, 'leaving': 4820, 'ledger': 4821, 'lee': 4822, 'leeds': 4823, 'leeteuk': 4824, 'left': 4825, 'leftover': 4826, 'leg': 4827, 'legal': 4828, 'legend': 4829, 'legendary': 4830, 'leggete': 4831, 'legible': 4832, 'legit': 4833, 'lego': 4834, 'legsupthewallconfusion': 4835, 'leia': 4836, 'leica': 4837, 'lem': 4838, 'lemess': 4839, 'lemon': 4840, 'lendal': 4841, 'leno': 4842, 'leo': 4843, 'leon': 4844, 'lepas': 4845, 'lesbian': 4846, 'lesley': 4847, 'lessions': 4848, 'lesson': 4849, 'let': 4850, 'letitgrow': 4851, 'letsfootball': 4852, 'letsgetmessy': 4853, 'letshavecocktailsafternuclai': 4854, 'letsprocrastinate': 4855, 'letter': 4856, 'letting': 4857, 'level': 4858, 'leviboard': 4859, 'lew': 4860, 'lewis': 4861, 'lfccw': 4862, 'lgbt': 4863, 'liam': 4864, 'liat': 4865, 'lib': 4866, 'libmysqlclientdev': 4867, 'library': 4868, 'licence': 4869, 'liceooooo': 4870, 'lick': 4871, 'lie': 4872, 'lied': 4873, 'life': 4874, 'lifehappyfaceorsmiley': 4875, 'lifeso': 4876, 'lifestyle': 4877, 'lifetime': 4878, 'lifevideo': 4879, 'lifeyou': 4880, 'light': 4881, 'lightbox': 4882, 'lighter': 4883, 'lighting': 4884, 'ligo': 4885, 'like': 4886, 'liked': 4887, 'likee': 4888, 'likeforfollow': 4889, 'likeforlike': 4890, 'likehappyfaceorsmiley': 4891, 'likelike': 4892, 'likely': 4893, 'likeouh': 4894, 'likewise': 4895, 'liking': 4896, 'lil': 4897, 'lils': 4898, 'lilsisbro': 4899, 'lilydale': 4900, 'limbo': 4901, 'limit': 4902, 'limited': 4903, 'limpopo': 4904, 'linda': 4905, 'line': 4906, 'lineup': 4907, 'linguist': 4908, 'linis': 4909, 'link': 4910, 'linkhappyfaceorsmiley': 4911, 'linking': 4912, 'linux': 4913, 'lion': 4914, 'lip': 4915, 'lipstick': 4916, 'liquid': 4917, 'liquorice': 4918, 'lisa': 4919, 'lisaherring': 4920, 'list': 4921, 'listed': 4922, 'listen': 4923, 'listenablecohesive': 4924, 'listening': 4925, 'listing': 4926, 'lit': 4927, 'literally': 4928, 'literature': 4929, 'litey': 4930, 'litro': 4931, 'little': 4932, 'liv': 4933, 'live': 4934, 'lived': 4935, 'livefreedom': 4936, 'liveonstreamate': 4937, 'liverpool': 4938, 'livesex': 4939, 'livesometimes': 4940, 'livestream': 4941, 'livi': 4942, 'livid': 4943, 'living': 4944, 'lizahappyfaceorsmiley': 4945, 'lizaminnelli': 4946, 'ljp': 4947, 'llama': 4948, 'lloyd': 4949, 'lmao': 4950, 'lmaoo': 4951, 'lmaooo': 4952, 'lmbo': 4953, 'lmfao': 4954, 'lmfaoooo': 4955, 'lmfaooso': 4956, 'lng': 4957, 'load': 4958, 'loading': 4959, 'loan': 4960, 'local': 4961, 'localgaragederby': 4962, 'location': 4963, 'lock': 4964, 'locked': 4965, 'lockscreenrtfav': 4966, 'loftey': 4967, 'log': 4968, 'logged': 4969, 'logging': 4970, 'logic': 4971, 'login': 4972, 'logo': 4973, 'loiyals': 4974, 'lol': 4975, 'lolhook': 4976, 'lolipop': 4977, 'lollipop': 4978, 'lollll': 4979, 'lols': 4980, 'lolz': 4981, 'lolzz': 4982, 'london': 4983, 'londondairy': 4984, 'londonfrownsadandryorpouting': 4985, 'londoni': 4986, 'loneliest': 4987, 'lonely': 4988, 'loner': 4989, 'long': 4990, 'longdistance': 4991, 'longe': 4992, 'longer': 4993, 'longeryet': 4994, 'longest': 4995, 'longggg': 4996, 'look': 4997, 'looked': 4998, 'lookfortheo': 4999, 'looking': 5000, 'loool': 5001, 'looooong': 5002, 'looooool': 5003, 'loooooove': 5004, 'loop': 5005, 'loose': 5006, 'lootcrate': 5007, 'loowwfrownsadandryorpouting': 5008, 'lord': 5009, 'lorenangel': 5010, 'lori': 5011, 'lorm': 5012, 'lorna': 5013, 'loryngood': 5014, 'lose': 5015, 'loser': 5016, 'loses': 5017, 'losing': 5018, 'loss': 5019, 'lossstolen': 5020, 'lost': 5021, 'lot': 5022, 'lotion': 5023, 'lotsa': 5024, 'lottery': 5025, 'loud': 5026, 'loudest': 5027, 'louis': 5028, 'louisiana': 5029, 'louisianafrownsadandryorpouting': 5030, 'louisianalafayette': 5031, 'louisianashooting': 5032, 'lounge': 5033, 'lourdes': 5034, 'louse': 5035, 'lovable': 5036, 'love': 5037, 'lovebird': 5038, 'loved': 5039, 'lovehappyfaceorsmiley': 5040, 'loveliness': 5041, 'lovely': 5042, 'lovenafianna': 5043, 'loveofmylife': 5044, 'lover': 5045, 'lovesummertime': 5046, 'lovey': 5047, 'loveyaaaah': 5048, 'loving': 5049, 'low': 5050, 'lowbat': 5051, 'lowered': 5052, 'lowest': 5053, 'loyal': 5054, 'lq': 5055, 'lrka': 5056, 'lsa': 5057, 'lsh': 5058, 'lt': 5059, 'ltbtw': 5060, 'ltffspecialacha': 5061, 'ltlt': 5062, 'lu': 5063, 'luas': 5064, 'luceleva': 5065, 'luck': 5066, 'luckely': 5067, 'luckily': 5068, 'lucky': 5069, 'luckyyyy': 5070, 'lucozade': 5071, 'lucy': 5072, 'ludlow': 5073, 'lue': 5074, 'luff': 5075, 'luis': 5076, 'luke': 5077, 'lukesos': 5078, 'lukkkee': 5079, 'lukris': 5080, 'lumia': 5081, 'luminous': 5082, 'lunch': 5083, 'lunes': 5084, 'lungomare': 5085, 'lupet': 5086, 'lure': 5087, 'lurgy': 5088, 'lush': 5089, 'lusi': 5090, 'luv': 5091, 'lux': 5092, 'luxembourg': 5093, 'luxuous': 5094, 'luxury': 5095, 'luxurytravel': 5096, 'lvg': 5097, 'lwwf': 5098, 'ly': 5099, 'lycra': 5100, 'lyf': 5101, 'lyin': 5102, 'lying': 5103, 'lyk': 5104, 'lyka': 5105, 'lymond': 5106, 'lynettelowe': 5107, 'lynne': 5108, 'lyric': 5109, 'm': 5110, 'maa': 5111, 'maaaaaay': 5112, 'maaf': 5113, 'maas': 5114, 'mac': 5115, 'macauley': 5116, 'macbook': 5117, 'maccies': 5118, 'macedonian': 5119, 'machaya': 5120, 'machinery': 5121, 'mad': 5122, 'madam': 5123, 'madatte': 5124, 'made': 5125, 'madeline': 5126, 'madexx': 5127, 'madi': 5128, 'madison': 5129, 'madness': 5130, 'madonnafamily': 5131, 'madonnafans': 5132, 'madonnamademtv': 5133, 'madrid': 5134, 'madritonguestickingoutcheekyplayfulorblowingaraspberry': 5135, 'mady': 5136, 'mag': 5137, 'maganda': 5138, 'magazine': 5139, 'magcon': 5140, 'mager': 5141, 'maggie': 5142, 'magic': 5143, 'magical': 5144, 'magicalkenya': 5145, 'magicalmysterytour': 5146, 'magicfrownsadandryorpouting': 5147, 'magisa': 5148, 'magnificent': 5149, 'magpaalam': 5150, 'magpie': 5151, 'magstart': 5152, 'mah': 5153, 'mahilig': 5154, 'mahirap': 5155, 'mahnor': 5156, 'mahone': 5157, 'mail': 5158, 'main': 5159, 'maine': 5160, 'mainly': 5161, 'mairi': 5162, 'majhwar': 5163, 'major': 5164, 'mak': 5165, 'makati': 5166, 'make': 5167, 'makeover': 5168, 'maker': 5169, 'makesme': 5170, 'makeup': 5171, 'making': 5172, 'maknae': 5173, 'maldives': 5174, 'male': 5175, 'malese': 5176, 'malik': 5177, 'mallick': 5178, 'malta': 5179, 'mam': 5180, 'mama': 5181, 'mamabear': 5182, 'mamaya': 5183, 'mamayang': 5184, 'mambully': 5185, 'mamma': 5186, 'mammoth': 5187, 'mampg': 5188, 'mampms': 5189, 'man': 5190, 'manage': 5191, 'managed': 5192, 'management': 5193, 'manager': 5194, 'manbearpig': 5195, 'manchester': 5196, 'mandela': 5197, 'manga': 5198, 'mango': 5199, 'manhappyfaceorsmiley': 5200, 'manhe': 5201, 'maniataki': 5202, 'manifestation': 5203, 'manila': 5204, 'manilabro': 5205, 'manly': 5206, 'mannerfuls': 5207, 'manny': 5208, 'manos': 5209, 'manteca': 5210, 'manthan': 5211, 'manual': 5212, 'manually': 5213, 'manuel': 5214, 'manuella': 5215, 'manush': 5216, 'many': 5217, 'manzano': 5218, 'map': 5219, 'mapbox': 5220, 'maple': 5221, 'marais': 5222, 'marathon': 5223, 'march': 5224, 'marco': 5225, 'mare': 5226, 'margo': 5227, 'maricarljanah': 5228, 'marine': 5229, 'marino': 5230, 'mark': 5231, 'market': 5232, 'marketing': 5233, 'marmite': 5234, 'maroon': 5235, 'marriage': 5236, 'marrickville': 5237, 'married': 5238, 'marrish': 5239, 'marseille': 5240, 'marshmallow': 5241, 'mart': 5242, 'martes': 5243, 'martin': 5244, 'marty': 5245, 'marula': 5246, 'marvellous': 5247, 'mary': 5248, 'maryhicks': 5249, 'masaan': 5250, 'masaantodaymasaantodaya': 5251, 'masaantodaymasaantodayhappyfacesmiley': 5252, 'mashaallah': 5253, 'mashaket': 5254, 'mashed': 5255, 'mashup': 5256, 'mask': 5257, 'mass': 5258, 'massage': 5259, 'massis': 5260, 'massive': 5261, 'master': 5262, 'masterchef': 5263, 'mastership': 5264, 'masud': 5265, 'match': 5266, 'matching': 5267, 'matchy': 5268, 'mate': 5269, 'mateo': 5270, 'mater': 5271, 'material': 5272, 'materialistic': 5273, 'maternity': 5274, 'math': 5275, 'matsubouzu': 5276, 'matt': 5277, 'matter': 5278, 'matteroftheheart': 5279, 'matthew': 5280, 'mature': 5281, 'mauliate': 5282, 'mauryas': 5283, 'maverickgamerjuly': 5284, 'max': 5285, 'maxi': 5286, 'may': 5287, 'maybe': 5288, 'mayday': 5289, 'mayhem': 5290, 'maymay': 5291, 'mayor': 5292, 'mañana': 5293, 'mb': 5294, 'mba': 5295, 'mbalula': 5296, 'mbasa': 5297, 'mbc': 5298, 'mbf': 5299, 'mbulelo': 5300, 'mca': 5301, 'mcdo': 5302, 'mcfc': 5303, 'mcfloat': 5304, 'mcflurry': 5305, 'mcg': 5306, 'mclaren': 5307, 'mcnuggets': 5308, 'mcountdown': 5309, 'mcpe': 5310, 'meal': 5311, 'mean': 5312, 'meand': 5313, 'meangtfrownsadandryorpouting': 5314, 'meaningful': 5315, 'meaningless': 5316, 'meant': 5317, 'meany': 5318, 'measure': 5319, 'meat': 5320, 'meatconfusion': 5321, 'mechanic': 5322, 'mechatotems': 5323, 'meck': 5324, 'meconfusion': 5325, 'med': 5326, 'medication': 5327, 'medicine': 5328, 'meditation': 5329, 'medium': 5330, 'mee': 5331, 'meeee': 5332, 'meet': 5333, 'meeting': 5334, 'mefrownsadandryorpouting': 5335, 'mega': 5336, 'megafauna': 5337, 'megamoh': 5338, 'megan': 5339, 'meh': 5340, 'mehappyfaceorsmiley': 5341, 'mehendi': 5342, 'mehtab': 5343, 'mel': 5344, 'melatonin': 5345, 'melbourne': 5346, 'melbournetrip': 5347, 'melodiesan': 5348, 'melody': 5349, 'melon': 5350, 'melt': 5351, 'melting': 5352, 'member': 5353, 'memberspikami': 5354, 'meme': 5355, 'mememe': 5356, 'memorization': 5357, 'memory': 5358, 'memotohaters': 5359, 'menacing': 5360, 'mendes': 5361, 'menille': 5362, 'mental': 5363, 'mentality': 5364, 'mentally': 5365, 'mention': 5366, 'mentioned': 5367, 'menu': 5368, 'meoooo': 5369, 'mercedes': 5370, 'merch': 5371, 'merchs': 5372, 'merci': 5373, 'mercy': 5374, 'merdeka': 5375, 'mere': 5376, 'meretweet': 5377, 'meri': 5378, 'merlin': 5379, 'merry': 5380, 'mesh': 5381, 'meso': 5382, 'mess': 5383, 'message': 5384, 'messaged': 5385, 'messaging': 5386, 'messed': 5387, 'messenger': 5388, 'messing': 5389, 'messy': 5390, 'meter': 5391, 'meth': 5392, 'methey': 5393, 'mexican': 5394, 'mexico': 5395, 'meydanconfusion': 5396, 'mfundo': 5397, 'mga': 5398, 'mhhh': 5399, 'miah': 5400, 'miami': 5401, 'mic': 5402, 'michael': 5403, 'michelle': 5404, 'micro': 5405, 'microsofts': 5406, 'middle': 5407, 'midend': 5408, 'mididresses': 5409, 'midnight': 5410, 'midori': 5411, 'might': 5412, 'mighty': 5413, 'migraine': 5414, 'migrant': 5415, 'mike': 5416, 'milano': 5417, 'mile': 5418, 'mileage': 5419, 'milesmrs': 5420, 'milf': 5421, 'milk': 5422, 'milkshake': 5423, 'miller': 5424, 'millie': 5425, 'millies': 5426, 'million': 5427, 'millz': 5428, 'milo': 5429, 'mimi': 5430, 'min': 5431, 'minal': 5432, 'mince': 5433, 'mind': 5434, 'minded': 5435, 'mine': 5436, 'minecon': 5437, 'minecraft': 5438, 'ming': 5439, 'mingming': 5440, 'minhyuks': 5441, 'minister': 5442, 'minju': 5443, 'minkyuk': 5444, 'mino': 5445, 'minsyou': 5446, 'mint': 5447, 'minute': 5448, 'minuter': 5449, 'minutesfrownsadandryorpouting': 5450, 'miracle': 5451, 'mirror': 5452, 'mischievousness': 5453, 'miserable': 5454, 'misplaced': 5455, 'miss': 5456, 'missconfusion': 5457, 'missed': 5458, 'missin': 5459, 'missing': 5460, 'misspelt': 5461, 'missyou': 5462, 'mist': 5463, 'mistake': 5464, 'mister': 5465, 'mistgameplay': 5466, 'mistress': 5467, 'misty': 5468, 'misundersranding': 5469, 'mit': 5470, 'mix': 5471, 'mixcloud': 5472, 'mixconfusionone': 5473, 'mixed': 5474, 'mixer': 5475, 'mixtape': 5476, 'mixture': 5477, 'mj': 5478, 'mjhe': 5479, 'mka': 5480, 'ml': 5481, 'mlady': 5482, 'mm': 5483, 'mmjunction': 5484, 'mmmmm': 5485, 'mmmmmm': 5486, 'mmsmalubhangsakit': 5487, 'mne': 5488, 'mnwreeen': 5489, 'mo': 5490, 'moaning': 5491, 'moar': 5492, 'mob': 5493, 'mobile': 5494, 'mobilegames': 5495, 'mobitel': 5496, 'mochamichelle': 5497, 'mockingbird': 5498, 'mockingjay': 5499, 'mode': 5500, 'model': 5501, 'modern': 5502, 'modi': 5503, 'modified': 5504, 'modimo': 5505, 'mohapatra': 5506, 'mohr': 5507, 'moisturizing': 5508, 'mom': 5509, 'mombasa': 5510, 'moment': 5511, 'momenti': 5512, 'momentnot': 5513, 'momentsideas': 5514, 'momma': 5515, 'mommy': 5516, 'momo': 5517, 'monash': 5518, 'monday': 5519, 'money': 5520, 'monfilsmost': 5521, 'monica': 5522, 'monkey': 5523, 'mono': 5524, 'monsoon': 5525, 'monster': 5526, 'montana': 5527, 'monteith': 5528, 'month': 5529, 'monthly': 5530, 'monthre': 5531, 'monthshappyfaceorsmiley': 5532, 'montoya': 5533, 'montys': 5534, 'moo': 5535, 'mood': 5536, 'moodboster': 5537, 'mooddump': 5538, 'moose': 5539, 'mootonguestickingoutcheekyplayfulorblowingaraspberry': 5540, 'morality': 5541, 'morisettes': 5542, 'mork': 5543, 'mornin': 5544, 'morning': 5545, 'morningand': 5546, 'morningfrownsadandryorpouting': 5547, 'morningit': 5548, 'morningsleepdeprivedtiredashelllookingaspoteven': 5549, 'morocco': 5550, 'morrrrning': 5551, 'mosque': 5552, 'mosquito': 5553, 'mosquitoe': 5554, 'mostest': 5555, 'mosthappyfaceorsmiley': 5556, 'mostly': 5557, 'motavators': 5558, 'mother': 5559, 'motherfucking': 5560, 'motilium': 5561, 'motivated': 5562, 'motn': 5563, 'motor': 5564, 'motorsport': 5565, 'mounted': 5566, 'mouse': 5567, 'mouth': 5568, 'move': 5569, 'moved': 5570, 'movement': 5571, 'movie': 5572, 'moviee': 5573, 'moviemarathon': 5574, 'moviewill': 5575, 'moving': 5576, 'movnat': 5577, 'mp': 5578, 'mpoints': 5579, 'mr': 5580, 'mrjs': 5581, 'msc': 5582, 'msg': 5583, 'msged': 5584, 'msnbc': 5585, 'mtaani': 5586, 'mtg': 5587, 'mtn': 5588, 'mtvhottest': 5589, 'muaahhh': 5590, 'muahah': 5591, 'muahhh': 5592, 'mubank': 5593, 'mubarak': 5594, 'mubarik': 5595, 'mubark': 5596, 'much': 5597, 'muchbest': 5598, 'muchconfusion': 5599, 'muchha': 5600, 'muchhh': 5601, 'muchi': 5602, 'muchmore': 5603, 'muddled': 5604, 'muddy': 5605, 'muertosatfringe': 5606, 'mufc': 5607, 'mug': 5608, 'mugshot': 5609, 'mui': 5610, 'mujy': 5611, 'mull': 5612, 'muller': 5613, 'multiracial': 5614, 'mum': 5615, 'mumbai': 5616, 'mumma': 5617, 'muna': 5618, 'munchkin': 5619, 'munchkins': 5620, 'mune': 5621, 'muntu': 5622, 'murder': 5623, 'murielle': 5624, 'murugan': 5625, 'mus': 5626, 'mush': 5627, 'mushroomed': 5628, 'music': 5629, 'musicas': 5630, 'musicbiz': 5631, 'musicology': 5632, 'muslim': 5633, 'mussel': 5634, 'must': 5635, 'muster': 5636, 'mustread': 5637, 'mustve': 5638, 'muted': 5639, 'mutt': 5640, 'mutual': 5641, 'mutuals': 5642, 'muv': 5643, 'mvg': 5644, 'mwa': 5645, 'mwah': 5646, 'mwamwa': 5647, 'mwf': 5648, 'mxico': 5649, 'mybrainneedstoshutoff': 5650, 'mych': 5651, 'myhill': 5652, 'mymonsoonstory': 5653, 'mypapamypride': 5654, 'mypark': 5655, 'mystery': 5656, 'mysummer': 5657, 'mythic': 5658, 'myungsoo': 5659, 'mz': 5660, 'naa': 5661, 'naaaaan': 5662, 'naaahhh': 5663, 'nacho': 5664, 'nadal': 5665, 'nae': 5666, 'naefrownsadandryorpouting': 5667, 'naeun': 5668, 'nagato': 5669, 'naggreet': 5670, 'naggy': 5671, 'naging': 5672, 'nagsend': 5673, 'nahi': 5674, 'nai': 5675, 'nail': 5676, 'nailedit': 5677, 'nairobi': 5678, 'najam': 5679, 'nak': 5680, 'nakaka': 5681, 'nakamaforever': 5682, 'naked': 5683, 'nalamannn': 5684, 'naman': 5685, 'name': 5686, 'named': 5687, 'namedescription': 5688, 'nams': 5689, 'nancy': 5690, 'nandos': 5691, 'naomi': 5692, 'nap': 5693, 'narcissist': 5694, 'narcos': 5695, 'narendra': 5696, 'narrow': 5697, 'narrowminded': 5698, 'naruto': 5699, 'nash': 5700, 'nasty': 5701, 'nat': 5702, 'natake': 5703, 'natgeo': 5704, 'nathan': 5705, 'nathanielhinanakit': 5706, 'nathann': 5707, 'nation': 5708, 'national': 5709, 'nationpraying': 5710, 'native': 5711, 'natsuki': 5712, 'natural': 5713, 'navigate': 5714, 'navy': 5715, 'naw': 5716, 'nawf': 5717, 'naya': 5718, 'nb': 5719, 'nba': 5720, 'nbheroes': 5721, 'nc': 5722, 'ncaaseason': 5723, 'ncc': 5724, 'nconfusion': 5725, 'nd': 5726, 'ndee': 5727, 'ndi': 5728, 'neals': 5729, 'near': 5730, 'nearer': 5731, 'nearest': 5732, 'nearly': 5733, 'nearlyconfusion': 5734, 'neato': 5735, 'necessary': 5736, 'necklace': 5737, 'need': 5738, 'needa': 5739, 'needed': 5740, 'needicecreamnow': 5741, 'needing': 5742, 'neeeeeeeeeeeeeeeeein': 5743, 'negate': 5744, 'neglected': 5745, 'negooo': 5746, 'negotiable': 5747, 'negotiate': 5748, 'neh': 5749, 'neighbour': 5750, 'neil': 5751, 'nein': 5752, 'neither': 5753, 'nemanja': 5754, 'nemesis': 5755, 'neng': 5756, 'neon': 5757, 'nerd': 5758, 'nerve': 5759, 'net': 5760, 'netball': 5761, 'netfilx': 5762, 'netflix': 5763, 'nethappyfaceorsmiley': 5764, 'netherlands': 5765, 'netizen': 5766, 'netsec': 5767, 'network': 5768, 'never': 5769, 'new': 5770, 'newbethvideo': 5771, 'newbie': 5772, 'newblogpost': 5773, 'newer': 5774, 'newest': 5775, 'newly': 5776, 'newmusic': 5777, 'news': 5778, 'newsdistribution': 5779, 'newsletter': 5780, 'newsround': 5781, 'newwine': 5782, 'newyork': 5783, 'nex': 5784, 'next': 5785, 'nextweek': 5786, 'nez': 5787, 'nfinite': 5788, 'ng': 5789, 'nga': 5790, 'ngee': 5791, 'ngeze': 5792, 'ngga': 5793, 'ngi': 5794, 'ngucapinnya': 5795, 'nh': 5796, 'nhe': 5797, 'nhi': 5798, 'nhl': 5799, 'nia': 5800, 'niaaaaaaaaaaaaaaaaaaaaaaaaaaapls': 5801, 'niall': 5802, 'niam': 5803, 'niamh': 5804, 'nibble': 5805, 'nibbling': 5806, 'nic': 5807, 'nice': 5808, 'nicely': 5809, 'nicest': 5810, 'nichola': 5811, 'nicholas': 5812, 'nick': 5813, 'nicki': 5814, 'nickname': 5815, 'nickyyyyyyyyyyyyyyyy': 5816, 'nicola': 5817, 'nicoleapage': 5818, 'niece': 5819, 'niende': 5820, 'nigeria': 5821, 'nigga': 5822, 'niggs': 5823, 'night': 5824, 'nightenjoy': 5825, 'nighter': 5826, 'nightmare': 5827, 'nighty': 5828, 'nike': 5829, 'nikeindonesia': 5830, 'nikeoriginal': 5831, 'nikkei': 5832, 'nikki': 5833, 'nila': 5834, 'nilhappyfaceorsmileyconfusion': 5835, 'nim': 5836, 'ninasty': 5837, 'ninh': 5838, 'nintendo': 5839, 'niqqa': 5840, 'nirvana': 5841, 'nisrina': 5842, 'nite': 5843, 'niwll': 5844, 'nixus': 5845, 'nj': 5846, 'njoy': 5847, 'nk': 5848, 'nls': 5849, 'nm': 5850, 'nobody': 5851, 'nocturnal': 5852, 'node': 5853, 'noesss': 5854, 'noggin': 5855, 'nohope': 5856, 'noise': 5857, 'nominated': 5858, 'nominiere': 5859, 'nomoney': 5860, 'noms': 5861, 'nonce': 5862, 'none': 5863, 'nonexistent': 5864, 'nonfilipina': 5865, 'nonmapbox': 5866, 'nono': 5867, 'nonot': 5868, 'nonscripted': 5869, 'nontrial': 5870, 'noo': 5871, 'noob': 5872, 'noodle': 5873, 'noon': 5874, 'noone': 5875, 'nooo': 5876, 'noooo': 5877, 'noooooo': 5878, 'nooooooo': 5879, 'noooooooooooooooooo': 5880, 'nooooope': 5881, 'nooooow': 5882, 'noooot': 5883, 'nooow': 5884, 'nope': 5885, 'norapowel': 5886, 'norhing': 5887, 'normal': 5888, 'normally': 5889, 'north': 5890, 'northern': 5891, 'norwegian': 5892, 'nose': 5893, 'nosebleed': 5894, 'nosmet': 5895, 'notanapology': 5896, 'notch': 5897, 'notconfusion': 5898, 'notcool': 5899, 'note': 5900, 'noted': 5901, 'notgonnabeactiveforweeksdontmissittoomuch': 5902, 'nothaveld': 5903, 'nothing': 5904, 'notice': 5905, 'noticed': 5906, 'noticing': 5907, 'notification': 5908, 'notifs': 5909, 'notion': 5910, 'notr': 5911, 'novel': 5912, 'november': 5913, 'nowadays': 5914, 'nowas': 5915, 'nowdays': 5916, 'nowhappyfacesmiley': 5917, 'nowhere': 5918, 'nowi': 5919, 'nowplaying': 5920, 'nowsee': 5921, 'nowt': 5922, 'nowwhen': 5923, 'nowwt': 5924, 'np': 5925, 'npalconfusionbeginning': 5926, 'nrltigersroosters': 5927, 'nsbzhdnxndamal': 5928, 'nsfw': 5929, 'nsnsupplements': 5930, 'nstp': 5931, 'nt': 5932, 'nth': 5933, 'nuclear': 5934, 'nude': 5935, 'nudge': 5936, 'nugget': 5937, 'nuka': 5938, 'numb': 5939, 'number': 5940, 'numbero': 5941, 'nun': 5942, 'nutella': 5943, 'nutshell': 5944, 'nuuh': 5945, 'nux': 5946, 'nvm': 5947, 'nvr': 5948, 'nw': 5949, 'nwb': 5950, 'nxt': 5951, 'ny': 5952, 'nyc': 5953, 'nyquil': 5954, 'nz': 5955, 'ob': 5956, 'obakeng': 5957, 'obama': 5958, 'obamainkenya': 5959, 'obi': 5960, 'obituary': 5961, 'obsessed': 5962, 'obsession': 5963, 'obstacle': 5964, 'obvious': 5965, 'obviously': 5966, 'obvs': 5967, 'obyun': 5968, 'occasion': 5969, 'occasionally': 5970, 'occurred': 5971, 'ocean': 5972, 'oche': 5973, 'oct': 5974, 'october': 5975, 'odd': 5976, 'odds': 5977, 'ode': 5978, 'odoo': 5979, 'oe': 5980, 'ofc': 5981, 'offended': 5982, 'offense': 5983, 'offensive': 5984, 'offer': 5985, 'offerbut': 5986, 'offered': 5987, 'offering': 5988, 'office': 5989, 'official': 5990, 'officially': 5991, 'offline': 5992, 'offroading': 5993, 'offshoring': 5994, 'often': 5995, 'oh': 5996, 'ohaha': 5997, 'ohappyfaceorsmiley': 5998, 'ohgod': 5999, 'ohh': 6000, 'ohhh': 6001, 'ohhhh': 6002, 'ohioan': 6003, 'ohmyg': 6004, 'ohmygod': 6005, 'oi': 6006, 'oil': 6007, 'oily': 6008, 'oitnb': 6009, 'ok': 6010, 'okay': 6011, 'okayish': 6012, 'okayx': 6013, 'okayy': 6014, 'okayyyy': 6015, 'okie': 6016, 'okkay': 6017, 'okok': 6018, 'ol': 6019, 'old': 6020, 'older': 6021, 'oldie': 6022, 'oldporridge': 6023, 'oldschool': 6024, 'oley': 6025, 'olive': 6026, 'olivia': 6027, 'oliviafowles': 6028, 'olly': 6029, 'olympic': 6030, 'omar': 6031, 'omaygad': 6032, 'omegle': 6033, 'omegleyou': 6034, 'omfg': 6035, 'omg': 6036, 'omgg': 6037, 'omggg': 6038, 'omgggg': 6039, 'omgyou': 6040, 'onair': 6041, 'onboard': 6042, 'one': 6043, 'oneal': 6044, 'onion': 6045, 'onkey': 6046, 'online': 6047, 'onpack': 6048, 'onscreen': 6049, 'ontheroadagain': 6050, 'onting': 6051, 'onto': 6052, 'onwards': 6053, 'onyu': 6054, 'oo': 6055, 'ooh': 6056, 'oomf': 6057, 'oooooh': 6058, 'oooooooooohh': 6059, 'oooooooouch': 6060, 'oooops': 6061, 'oops': 6062, 'ooze': 6063, 'open': 6064, 'opener': 6065, 'openfollow': 6066, 'opening': 6067, 'operatorswales': 6068, 'opi': 6069, 'opinion': 6070, 'opixer': 6071, 'opossum': 6072, 'oppa': 6073, 'oppahug': 6074, 'oppamiss': 6075, 'oppayaa': 6076, 'opportune': 6077, 'opportunity': 6078, 'oppose': 6079, 'opposite': 6080, 'oppressed': 6081, 'opt': 6082, 'optimisation': 6083, 'optimized': 6084, 'option': 6085, 'optouted': 6086, 'oracle': 6087, 'oralsex': 6088, 'orang': 6089, 'orange': 6090, 'orayt': 6091, 'orcalove': 6092, 'orchard': 6093, 'orchestra': 6094, 'order': 6095, 'ordered': 6096, 'ordering': 6097, 'ordinary': 6098, 'ore': 6099, 'oreo': 6100, 'organic': 6101, 'organisation': 6102, 'organization': 6103, 'orgasm': 6104, 'orhan': 6105, 'orig': 6106, 'origin': 6107, 'original': 6108, 'originally': 6109, 'originates': 6110, 'orleans': 6111, 'orphan': 6112, 'orz': 6113, 'oscar': 6114, 'osea': 6115, 'oshieer': 6116, 'otamendi': 6117, 'otani': 6118, 'oth': 6119, 'others': 6120, 'otherwise': 6121, 'otl': 6122, 'otp': 6123, 'otps': 6124, 'otter': 6125, 'otw': 6126, 'otwol': 6127, 'ouat': 6128, 'ouch': 6129, 'ouchconfusionosteopath': 6130, 'ought': 6131, 'ourdaughtersourpride': 6132, 'ourdisneyinfinity': 6133, 'outboarding': 6134, 'outdated': 6135, 'outdoor': 6136, 'outfit': 6137, 'outfwith': 6138, 'outie': 6139, 'outlive': 6140, 'outlying': 6141, 'outmomma': 6142, 'outnumbered': 6143, 'outraged': 6144, 'outside': 6145, 'outstanding': 6146, 'outta': 6147, 'outtake': 6148, 'ouucchhh': 6149, 'ov': 6150, 'oval': 6151, 'oven': 6152, 'overcast': 6153, 'overdrawn': 6154, 'overdue': 6155, 'overgeneralization': 6156, 'overload': 6157, 'overly': 6158, 'overnight': 6159, 'overweight': 6160, 'overwhelmed': 6161, 'overwhelming': 6162, 'overwhelmingly': 6163, 'ovh': 6164, 'owe': 6165, 'owl': 6166, 'ownconfusion': 6167, 'owned': 6168, 'owner': 6169, 'owns': 6170, 'owww': 6171, 'p': 6172, 'paalam': 6173, 'pabebe': 6174, 'pabebegirls': 6175, 'pack': 6176, 'package': 6177, 'packed': 6178, 'packing': 6179, 'pacopy': 6180, 'pad': 6181, 'paddock': 6182, 'padpainting': 6183, 'page': 6184, 'pagehappyfaceorsmiley': 6185, 'paid': 6186, 'pain': 6187, 'paindo': 6188, 'painful': 6189, 'paint': 6190, 'painted': 6191, 'painting': 6192, 'pair': 6193, 'pairing': 6194, 'pake': 6195, 'pakighinabi': 6196, 'pakistan': 6197, 'pakistani': 6198, 'pakistanincredibleindia': 6199, 'pal': 6200, 'pala': 6201, 'palace': 6202, 'pale': 6203, 'palembang': 6204, 'pallavi': 6205, 'pamer': 6206, 'pampanga': 6207, 'pamper': 6208, 'pampered': 6209, 'pampering': 6210, 'pamuk': 6211, 'panas': 6212, 'pancake': 6213, 'panda': 6214, 'pandimensional': 6215, 'pandora': 6216, 'panel': 6217, 'panem': 6218, 'panga': 6219, 'panic': 6220, 'pano': 6221, 'pant': 6222, 'panty': 6223, 'papa': 6224, 'paper': 6225, 'paperboy': 6226, 'papertown': 6227, 'paperwhites': 6228, 'parade': 6229, 'paradise': 6230, 'paralysis': 6231, 'paralyzed': 6232, 'parasyte': 6233, 'parcel': 6234, 'pardon': 6235, 'parent': 6236, 'parijat': 6237, 'paris': 6238, 'parisa': 6239, 'park': 6240, 'parkshare': 6241, 'parrot': 6242, 'part': 6243, 'participate': 6244, 'particular': 6245, 'particularly': 6246, 'parting': 6247, 'partly': 6248, 'partner': 6249, 'party': 6250, 'pas': 6251, 'pasha': 6252, 'passed': 6253, 'passing': 6254, 'passport': 6255, 'password': 6256, 'passwordrecall': 6257, 'past': 6258, 'paste': 6259, 'pasting': 6260, 'patch': 6261, 'path': 6262, 'pathor': 6263, 'pathway': 6264, 'patience': 6265, 'patient': 6266, 'patiently': 6267, 'patml': 6268, 'patrice': 6269, 'patriotism': 6270, 'patron': 6271, 'pattern': 6272, 'patty': 6273, 'paul': 6274, 'pauline': 6275, 'pausetime': 6276, 'pausing': 6277, 'pawing': 6278, 'pay': 6279, 'paying': 6280, 'payment': 6281, 'payne': 6282, 'paypal': 6283, 'paysafecard': 6284, 'pbbbigatingconcert': 6285, 'pbbgold': 6286, 'pbcontestants': 6287, 'pbevent': 6288, 'pbloggers': 6289, 'pbr': 6290, 'pc': 6291, 'pcb': 6292, 'pchelok': 6293, 'pd': 6294, 'pdf': 6295, 'pea': 6296, 'peace': 6297, 'peaceful': 6298, 'peacefully': 6299, 'peachyloans': 6300, 'peak': 6301, 'peanut': 6302, 'pearl': 6303, 'pearson': 6304, 'peasant': 6305, 'pebble': 6306, 'pech': 6307, 'pedal': 6308, 'pedanthappyfacesmiley': 6309, 'pee': 6310, 'peed': 6311, 'peek': 6312, 'peeled': 6313, 'peeling': 6314, 'peep': 6315, 'pefumery': 6316, 'pegea': 6317, 'pegell': 6318, 'pehly': 6319, 'pen': 6320, 'penacova': 6321, 'penis': 6322, 'penny': 6323, 'penrithemu': 6324, 'pension': 6325, 'penthouse': 6326, 'penyfan': 6327, 'people': 6328, 'peopleits': 6329, 'peopleshooting': 6330, 'pepper': 6331, 'pepsi': 6332, 'percentage': 6333, 'peregrine': 6334, 'perf': 6335, 'perfect': 6336, 'perfection': 6337, 'perfectly': 6338, 'perform': 6339, 'performance': 6340, 'performed': 6341, 'perfume': 6342, 'perhaps': 6343, 'period': 6344, 'periscope': 6345, 'permission': 6346, 'person': 6347, 'persona': 6348, 'personal': 6349, 'personalised': 6350, 'personality': 6351, 'perspective': 6352, 'persuade': 6353, 'peru': 6354, 'pervert': 6355, 'pesaro': 6356, 'peso': 6357, 'pet': 6358, 'petaling': 6359, 'petite': 6360, 'petjam': 6361, 'petra': 6362, 'petrol': 6363, 'peyton': 6364, 'pfb': 6365, 'pffff': 6366, 'pfft': 6367, 'pglcsgo': 6368, 'pgq': 6369, 'pgs': 6370, 'ph': 6371, 'phandroid': 6372, 'phantasy': 6373, 'phappy': 6374, 'pharma': 6375, 'phase': 6376, 'phela': 6377, 'phenomenal': 6378, 'phew': 6379, 'phil': 6380, 'phileas': 6381, 'philippa': 6382, 'philippine': 6383, 'philly': 6384, 'philosophical': 6385, 'phir': 6386, 'phl': 6387, 'phoebe': 6388, 'phone': 6389, 'phonegraphs': 6390, 'phonesex': 6391, 'photo': 6392, 'photocards': 6393, 'photograph': 6394, 'photographer': 6395, 'photooftheday': 6396, 'photoset': 6397, 'photoshoooot': 6398, 'photoshoot': 6399, 'photoshop': 6400, 'php': 6401, 'phpmysql': 6402, 'phps': 6403, 'phrased': 6404, 'phulani': 6405, 'physic': 6406, 'physical': 6407, 'physically': 6408, 'physiotherapy': 6409, 'physique': 6410, 'pi': 6411, 'piano': 6412, 'pic': 6413, 'pick': 6414, 'picked': 6415, 'picking': 6416, 'picky': 6417, 'picnic': 6418, 'picts': 6419, 'picture': 6420, 'pictwittercomjxzlbvo': 6421, 'picwhat': 6422, 'piece': 6423, 'pieconfusion': 6424, 'pier': 6425, 'pierce': 6426, 'pierced': 6427, 'pierojogger': 6428, 'pig': 6429, 'pigeon': 6430, 'piggin': 6431, 'pijjabłka': 6432, 'pile': 6433, 'pill': 6434, 'pillar': 6435, 'pilllow': 6436, 'pin': 6437, 'pindfea': 6438, 'pining': 6439, 'pink': 6440, 'pinkeu': 6441, 'pinkfinite': 6442, 'pinya': 6443, 'pipe': 6444, 'pippa': 6445, 'pipped': 6446, 'pirouette': 6447, 'pish': 6448, 'piss': 6449, 'pissed': 6450, 'pistolsgood': 6451, 'pit': 6452, 'pitbull': 6453, 'pitchwars': 6454, 'pitmantraining': 6455, 'pity': 6456, 'pixars': 6457, 'pixel': 6458, 'pixelated': 6459, 'pixgram': 6460, 'pizza': 6461, 'pjs': 6462, 'pkwalasawaal': 6463, 'place': 6464, 'placefrownsadandryorpouting': 6465, 'plague': 6466, 'plain': 6467, 'plan': 6468, 'plane': 6469, 'planed': 6470, 'planet': 6471, 'planned': 6472, 'planner': 6473, 'planning': 6474, 'planningtiming': 6475, 'plant': 6476, 'planted': 6477, 'plaster': 6478, 'platonic': 6479, 'play': 6480, 'playables': 6481, 'played': 6482, 'player': 6483, 'playfrownsadandryorpouting': 6484, 'playin': 6485, 'playing': 6486, 'playlist': 6487, 'playstation': 6488, 'plea': 6489, 'pleaaase': 6490, 'pleasant': 6491, 'pleasanton': 6492, 'please': 6493, 'pleased': 6494, 'pleaseee': 6495, 'pleaseeeee': 6496, 'pleasefrownsadandryorpouting': 6497, 'pleaseif': 6498, 'pleasse': 6499, 'pleasure': 6500, 'pledge': 6501, 'plezzzz': 6502, 'pliss': 6503, 'plisss': 6504, 'pll': 6505, 'plot': 6506, 'pls': 6507, 'plsfrownsadandryorpouting': 6508, 'plshappyfaceorsmiley': 6509, 'plss': 6510, 'plsss': 6511, 'plsssssss': 6512, 'plssssssssssssssss': 6513, 'pluckerssss': 6514, 'plug': 6515, 'plugdj': 6516, 'plugin': 6517, 'plus': 6518, 'plush': 6519, 'plusmiles': 6520, 'ply': 6521, 'plz': 6522, 'pm': 6523, 'poc': 6524, 'pocket': 6525, 'poem': 6526, 'poetry': 6527, 'point': 6528, 'poisoning': 6529, 'pokemon': 6530, 'polaroid': 6531, 'poldi': 6532, 'police': 6533, 'polish': 6534, 'polite': 6535, 'political': 6536, 'politician': 6537, 'politics': 6538, 'polka': 6539, 'pollution': 6540, 'pon': 6541, 'pong': 6542, 'pony': 6543, 'pool': 6544, 'pooo': 6545, 'poooo': 6546, 'poooootek': 6547, 'poop': 6548, 'poopie': 6549, 'poor': 6550, 'poorfrownsadandryorpouting': 6551, 'poorly': 6552, 'pop': 6553, 'popcorn': 6554, 'popol': 6555, 'popped': 6556, 'poppin': 6557, 'popsicle': 6558, 'popularity': 6559, 'popularor': 6560, 'pora': 6561, 'porch': 6562, 'porn': 6563, 'porno': 6564, 'porosh': 6565, 'porsche': 6566, 'porschesupercup': 6567, 'portrait': 6568, 'portsmouth': 6569, 'portugal': 6570, 'pose': 6571, 'posey': 6572, 'positive': 6573, 'possible': 6574, 'possibly': 6575, 'possitve': 6576, 'post': 6577, 'postcode': 6578, 'posted': 6579, 'poster': 6580, 'postie': 6581, 'posting': 6582, 'postive': 6583, 'postpone': 6584, 'potagermy': 6585, 'potato': 6586, 'potentially': 6587, 'pothole': 6588, 'potter': 6589, 'pou': 6590, 'pounce': 6591, 'pouring': 6592, 'pout': 6593, 'povertyyouareevil': 6594, 'powder': 6595, 'power': 6596, 'powerful': 6597, 'powerpoint': 6598, 'powys': 6599, 'ppl': 6600, 'pplhappyfaceorsmileyhappyfaceorsmileyhappyfaceorsmiley': 6601, 'practice': 6602, 'practicing': 6603, 'pramis': 6604, 'pray': 6605, 'prayer': 6606, 'praying': 6607, 'prbrand': 6608, 'pre': 6609, 'precious': 6610, 'predict': 6611, 'prefer': 6612, 'preferred': 6613, 'preform': 6614, 'pregnancy': 6615, 'pregnant': 6616, 'preholiday': 6617, 'prelim': 6618, 'premiere': 6619, 'premiostumundo': 6620, 'premiun': 6621, 'preorder': 6622, 'preordered': 6623, 'prepaid': 6624, 'prepared': 6625, 'prescott': 6626, 'prescription': 6627, 'preseason': 6628, 'present': 6629, 'presentation': 6630, 'presenting': 6631, 'president': 6632, 'press': 6633, 'pressrelease': 6634, 'pressure': 6635, 'pret': 6636, 'pretend': 6637, 'pretoria': 6638, 'prettier': 6639, 'prettiest': 6640, 'pretty': 6641, 'pretzel': 6642, 'prevalent': 6643, 'preview': 6644, 'previous': 6645, 'prexy': 6646, 'prey': 6647, 'price': 6648, 'pricelessantique': 6649, 'pride': 6650, 'prime': 6651, 'prince': 6652, 'princess': 6653, 'principal': 6654, 'prinsesa': 6655, 'print': 6656, 'printed': 6657, 'printer': 6658, 'printing': 6659, 'prior': 6660, 'priority': 6661, 'pris': 6662, 'prisssss': 6663, 'privacy': 6664, 'private': 6665, 'privilege': 6666, 'prize': 6667, 'pro': 6668, 'proactive': 6669, 'prob': 6670, 'probably': 6671, 'probhappyfaceorsmiley': 6672, 'problem': 6673, 'problematic': 6674, 'problemmmmmmm': 6675, 'probnice': 6676, 'probs': 6677, 'procedure': 6678, 'process': 6679, 'processed': 6680, 'procrastinating': 6681, 'produce': 6682, 'producer': 6683, 'product': 6684, 'productive': 6685, 'prof': 6686, 'profile': 6687, 'program': 6688, 'programme': 6689, 'progress': 6690, 'progrmr': 6691, 'project': 6692, 'prokabaddi': 6693, 'prolly': 6694, 'promethazine': 6695, 'promise': 6696, 'promised': 6697, 'promising': 6698, 'promo': 6699, 'promos': 6700, 'promote': 6701, 'promoted': 6702, 'promotion': 6703, 'promotional': 6704, 'prompt': 6705, 'pronounce': 6706, 'propa': 6707, 'proper': 6708, 'properly': 6709, 'property': 6710, 'prophet': 6711, 'proposal': 6712, 'propose': 6713, 'proposed': 6714, 'propriety': 6715, 'prosecco': 6716, 'protect': 6717, 'protection': 6718, 'protein': 6719, 'proud': 6720, 'proudtobeme': 6721, 'prove': 6722, 'proverb': 6723, 'provide': 6724, 'proving': 6725, 'provoking': 6726, 'prrequest': 6727, 'prydz': 6728, 'psychopath': 6729, 'psygustokita': 6730, 'pt': 6731, 'pta': 6732, 'pti': 6733, 'ptraveling': 6734, 'ptsd': 6735, 'pub': 6736, 'pubcast': 6737, 'pubes': 6738, 'public': 6739, 'publication': 6740, 'publilius': 6741, 'published': 6742, 'pud': 6743, 'puddle': 6744, 'puffy': 6745, 'puhon': 6746, 'puke': 6747, 'puking': 6748, 'pull': 6749, 'pulled': 6750, 'pump': 6751, 'pumped': 6752, 'pumpkin': 6753, 'pun': 6754, 'punting': 6755, 'pup': 6756, 'puppy': 6757, 'purchase': 6758, 'purchased': 6759, 'pure': 6760, 'purrthos': 6761, 'purty': 6762, 'push': 6763, 'pusher': 6764, 'pushing': 6765, 'pussy': 6766, 'pussycat': 6767, 'put': 6768, 'putovanja': 6769, 'putting': 6770, 'pwrfl': 6771, 'px': 6772, 'pyaari': 6773, 'pyaaz': 6774, 'pyjama': 6775, 'pz': 6776, 'q': 6777, 'qatarday': 6778, 'qdon': 6779, 'qih': 6780, 'qt': 6781, 'quacketyquack': 6782, 'quad': 6783, 'qualified': 6784, 'qualify': 6785, 'quality': 6786, 'quan': 6787, 'quantum': 6788, 'queen': 6789, 'queenesther': 6790, 'query': 6791, 'question': 6792, 'quetiapine': 6793, 'quezon': 6794, 'quick': 6795, 'quicker': 6796, 'quickest': 6797, 'quickly': 6798, 'quiet': 6799, 'quietly': 6800, 'quit': 6801, 'quite': 6802, 'quiz': 6803, 'quote': 6804, 'quuuuuuee': 6805, 'r': 6806, 'rabbit': 6807, 'race': 6808, 'rachel': 6809, 'racial': 6810, 'racing': 6811, 'racist': 6812, 'racket': 6813, 'radio': 6814, 'rage': 6815, 'raha': 6816, 'raheel': 6817, 'raid': 6818, 'railway': 6819, 'rain': 6820, 'raincoat': 6821, 'raining': 6822, 'rainmr': 6823, 'rainy': 6824, 'raise': 6825, 'raiz': 6826, 'rajnigandha': 6827, 'rajud': 6828, 'rakhi': 6829, 'rakna': 6830, 'rakyat': 6831, 'rally': 6832, 'ram': 6833, 'ramadhan': 6834, 'ramd': 6835, 'ramos': 6836, 'ramzan': 6837, 'ran': 6838, 'rancho': 6839, 'rand': 6840, 'random': 6841, 'randomly': 6842, 'randomreboot': 6843, 'randomrestart': 6844, 'randybis': 6845, 'rang': 6846, 'range': 6847, 'ranked': 6848, 'ranking': 6849, 'rant': 6850, 'rape': 6851, 'rapist': 6852, 'rapper': 6853, 'rappings': 6854, 'rapunzel': 6855, 'rare': 6856, 'rarely': 6857, 'rash': 6858, 'rashmi': 6859, 'raspberry': 6860, 'rat': 6861, 'ratbaglater': 6862, 'rate': 6863, 'rather': 6864, 'rattle': 6865, 'ravage': 6866, 'rave': 6867, 'raven': 6868, 'raw': 6869, 'ray': 6870, 'razi': 6871, 'razzist': 6872, 'rbi': 6873, 'rd': 6874, 'rdd': 6875, 'reaally': 6876, 'reaaly': 6877, 'reaapearing': 6878, 'reabsorbtion': 6879, 'reach': 6880, 'reachability': 6881, 'reached': 6882, 'reaction': 6883, 'read': 6884, 'reader': 6885, 'reading': 6886, 'readingres': 6887, 'ready': 6888, 'readystockhijabmartidr': 6889, 'real': 6890, 'realise': 6891, 'realised': 6892, 'realising': 6893, 'realistic': 6894, 'realisticly': 6895, 'realize': 6896, 'realized': 6897, 'realizing': 6898, 'realliampayne': 6899, 'really': 6900, 'realoshi': 6901, 'rear': 6902, 'rearended': 6903, 'reason': 6904, 'reasonstovisitmombasa': 6905, 'reassured': 6906, 'reboardinghappyfaceorsmiley': 6907, 'recall': 6908, 'recap': 6909, 'receive': 6910, 'received': 6911, 'receiving': 6912, 'recent': 6913, 'recently': 6914, 'receptionist': 6915, 'rechargeable': 6916, 'recieved': 6917, 'recipe': 6918, 'recites': 6919, 'reckon': 6920, 'recommend': 6921, 'recommendation': 6922, 'recommended': 6923, 'record': 6924, 'recorded': 6925, 'recording': 6926, 'recovered': 6927, 'recruited': 6928, 'recruiting': 6929, 'recs': 6930, 'red': 6931, 'redecorate': 6932, 'redeem': 6933, 'redhead': 6934, 'redid': 6935, 'reference': 6936, 'refinement': 6937, 'refresh': 6938, 'refreshed': 6939, 'refreshing': 6940, 'refuel': 6941, 'refurbished': 6942, 'regarding': 6943, 'regens': 6944, 'region': 6945, 'regional': 6946, 'regret': 6947, 'regretting': 6948, 'regular': 6949, 'regularly': 6950, 'reh': 6951, 'rehash': 6952, 'rehearsal': 6953, 'rehearse': 6954, 'reign': 6955, 'reina': 6956, 'reject': 6957, 'rejected': 6958, 'rejection': 6959, 'rela': 6960, 'relate': 6961, 'related': 6962, 'relationship': 6963, 'relative': 6964, 'relax': 6965, 'relaxed': 6966, 'relaxes': 6967, 'relaxfrownsadandryorpouting': 6968, 'relaxing': 6969, 'relaxinghappyfaceorsmiley': 6970, 'release': 6971, 'released': 6972, 'releasetypically': 6973, 'releasing': 6974, 'relentlessly': 6975, 'relevant': 6976, 'relief': 6977, 'reliever': 6978, 'religion': 6979, 'remained': 6980, 'remarriage': 6981, 'remastered': 6982, 'remedy': 6983, 'remember': 6984, 'remembered': 6985, 'remind': 6986, 'reminder': 6987, 'reminds': 6988, 'remix': 6989, 'remixes': 6990, 'remote': 6991, 'remove': 6992, 'removed': 6993, 'renamedwhat': 6994, 'renew': 6995, 'rent': 6996, 'rep': 6997, 'repack': 6998, 'repackage': 6999, 'repacks': 7000, 'repair': 7001, 'repath': 7002, 'repay': 7003, 'repeat': 7004, 'repeated': 7005, 'repeatedly': 7006, 'replacement': 7007, 'replay': 7008, 'replenishing': 7009, 'replied': 7010, 'reply': 7011, 'replying': 7012, 'report': 7013, 'reported': 7014, 'repost': 7015, 'representative': 7016, 'representing': 7017, 'represents': 7018, 'reputation': 7019, 'reqd': 7020, 'request': 7021, 'required': 7022, 'requirement': 7023, 'rescoops': 7024, 'rescue': 7025, 'researcher': 7026, 'researching': 7027, 'reservation': 7028, 'reserve': 7029, 'reset': 7030, 'resident': 7031, 'resort': 7032, 'resource': 7033, 'respect': 7034, 'respected': 7035, 'respective': 7036, 'respectlost': 7037, 'respond': 7038, 'responded': 7039, 'response': 7040, 'responseshappyfaceorsmiley': 7041, 'responsibility': 7042, 'rest': 7043, 'restarted': 7044, 'restoconfusion': 7045, 'restore': 7046, 'restrict': 7047, 'restricted': 7048, 'result': 7049, 'resy': 7050, 'retail': 7051, 'retailer': 7052, 'retainer': 7053, 'retaliate': 7054, 'retard': 7055, 'rettweet': 7056, 'return': 7057, 'returning': 7058, 'retweet': 7059, 'retweeted': 7060, 'retweetedgain': 7061, 'retweeting': 7062, 'retweets': 7063, 'reunite': 7064, 'reunited': 7065, 'reusful': 7066, 'revamps': 7067, 'revealed': 7068, 'review': 7069, 'reviewing': 7070, 'rewarding': 7071, 'rewatch': 7072, 'rewatched': 7073, 'rewert': 7074, 'reynold': 7075, 'reynoldsgrl': 7076, 'rhd': 7077, 'rhisfor': 7078, 'rhys': 7079, 'rib': 7080, 'rice': 7081, 'rich': 7082, 'richard': 7083, 'rick': 7084, 'rickyfebs': 7085, 'rid': 7086, 'ridden': 7087, 'ride': 7088, 'riderfrownsadandryorpouting': 7089, 'ridiculous': 7090, 'riding': 7091, 'right': 7092, 'rightand': 7093, 'rightnow': 7094, 'rightthe': 7095, 'rigid': 7096, 'rihanna': 7097, 'ring': 7098, 'rip': 7099, 'ripaaaaa': 7100, 'ripped': 7101, 'ripsandrabland': 7102, 'ripstegi': 7103, 'riptito': 7104, 'riri': 7105, 'rise': 7106, 'riseso': 7107, 'rising': 7108, 'risk': 7109, 'risky': 7110, 'rita': 7111, 'rito': 7112, 'ritual': 7113, 'river': 7114, 'riverlaughingbiggrinorlaughwithglasseslaughingbiggrinorlaughwithglasses': 7115, 'rizal': 7116, 'rize': 7117, 'rllyfrownsadandryorpouting': 7118, 'rly': 7119, 'rlyhurts': 7120, 'rlyyyy': 7121, 'rm': 7122, 'rma': 7123, 'rmtour': 7124, 'rn': 7125, 'rnfrownsadandryorpouting': 7126, 'road': 7127, 'roadtrip': 7128, 'roar': 7129, 'roasted': 7130, 'rob': 7131, 'robbed': 7132, 'robe': 7133, 'robert': 7134, 'robin': 7135, 'robinhood': 7136, 'robinhoodies': 7137, 'robs': 7138, 'robyn': 7139, 'rock': 7140, 'rocket': 7141, 'rocking': 7142, 'rocroglodyysbro': 7143, 'rod': 7144, 'rodders': 7145, 'rodfanta': 7146, 'rodwell': 7147, 'rofl': 7148, 'rogerwatch': 7149, 'rohingya': 7150, 'rohit': 7151, 'role': 7152, 'roll': 7153, 'rolled': 7154, 'roller': 7155, 'rolling': 7156, 'romabut': 7157, 'romance': 7158, 'romantic': 7159, 'romantica': 7160, 'rome': 7161, 'roof': 7162, 'room': 7163, 'roomie': 7164, 'roomit': 7165, 'roommate': 7166, 'roommateexperience': 7167, 'rooting': 7168, 'rose': 7169, 'rosebury': 7170, 'rosh': 7171, 'rosidbinr': 7172, 'ross': 7173, 'rotate': 7174, 'rotation': 7175, 'rotorua': 7176, 'rough': 7177, 'round': 7178, 'route': 7179, 'routine': 7180, 'routte': 7181, 'roux': 7182, 'row': 7183, 'roy': 7184, 'royal': 7185, 'royally': 7186, 'rp': 7187, 'rply': 7188, 'rqst': 7189, 'rrp': 7190, 'rships': 7191, 'rt': 7192, 'rtd': 7193, 'rted': 7194, 'rts': 7195, 'rtss': 7196, 'rub': 7197, 'rubber': 7198, 'rubbish': 7199, 'ruby': 7200, 'rude': 7201, 'rudramadevi': 7202, 'ruin': 7203, 'ruined': 7204, 'ruining': 7205, 'rule': 7206, 'rumbelle': 7207, 'rumble': 7208, 'rumor': 7209, 'rumpy': 7210, 'run': 7211, 'rundown': 7212, 'runescape': 7213, 'running': 7214, 'runny': 7215, 'rupert': 7216, 'rush': 7217, 'russian': 7218, 'ruth': 7219, 'rxthedailysurveyvotes': 7220, 'ry': 7221, 'ryan': 7222, 'ryu': 7223, 's': 7224, 'saaaaaaad': 7225, 'saaaad': 7226, 'saaad': 7227, 'saam': 7228, 'saarhave': 7229, 'sabadodeganarseguidores': 7230, 'sabah': 7231, 'sacconejolys': 7232, 'sachin': 7233, 'sad': 7234, 'sadbad': 7235, 'saddest': 7236, 'sadfrownsadandryorpouting': 7237, 'sadkaay': 7238, 'sadlolgo': 7239, 'sadly': 7240, 'sadlyf': 7241, 'sadness': 7242, 'sadnessme': 7243, 'sadomasochist': 7244, 'sadomasochistsparadise': 7245, 'sadorcrying': 7246, 'sadorcryingdont': 7247, 'saera': 7248, 'safaa': 7249, 'safe': 7250, 'safer': 7251, 'saffron': 7252, 'said': 7253, 'sail': 7254, 'sake': 7255, 'sakho': 7256, 'sakin': 7257, 'sakit': 7258, 'saklap': 7259, 'sakura': 7260, 'salabraty': 7261, 'salam': 7262, 'salamat': 7263, 'sale': 7264, 'sali': 7265, 'salmon': 7266, 'salsa': 7267, 'salut': 7268, 'salute': 7269, 'sam': 7270, 'samantha': 7271, 'sambal': 7272, 'sameee': 7273, 'samei': 7274, 'samjha': 7275, 'samosa': 7276, 'sampath': 7277, 'sample': 7278, 'samsung': 7279, 'san': 7280, 'sandae': 7281, 'sandboarding': 7282, 'sandcastle': 7283, 'sandra': 7284, 'sandrabland': 7285, 'sandroforceo': 7286, 'sandwhich': 7287, 'sandwich': 7288, 'sane': 7289, 'santo': 7290, 'santorini': 7291, 'sanum': 7292, 'sanza': 7293, 'saphire': 7294, 'sapiosexual': 7295, 'sara': 7296, 'sarah': 7297, 'sarajevo': 7298, 'saran': 7299, 'sararocs': 7300, 'saras': 7301, 'sarcasm': 7302, 'sasin': 7303, 'sat': 7304, 'sath': 7305, 'satire': 7306, 'satisfied': 7307, 'saturday': 7308, 'saturdaythen': 7309, 'satya': 7310, 'satyajit': 7311, 'sauce': 7312, 'sausage': 7313, 'savage': 7314, 'savanna': 7315, 'save': 7316, 'saved': 7317, 'savesso': 7318, 'savetherohingya': 7319, 'saw': 7320, 'say': 7321, 'sayed': 7322, 'sayhappybirthday': 7323, 'sayhername': 7324, 'saying': 7325, 'sazballs': 7326, 'sbali': 7327, 'sbenu': 7328, 'sc': 7329, 'scale': 7330, 'scam': 7331, 'scamper': 7332, 'scan': 7333, 'scared': 7334, 'scarf': 7335, 'scaring': 7336, 'scarred': 7337, 'scary': 7338, 'scenario': 7339, 'scene': 7340, 'sch': 7341, 'schade': 7342, 'sched': 7343, 'schedule': 7344, 'scheduled': 7345, 'scheme': 7346, 'scheuermanns': 7347, 'school': 7348, 'schoolsoutforsummer': 7349, 'schoolwork': 7350, 'science': 7351, 'scientist': 7352, 'scififan': 7353, 'scissors': 7354, 'scold': 7355, 'scone': 7356, 'scope': 7357, 'scorch': 7358, 'scorching': 7359, 'score': 7360, 'scored': 7361, 'scotland': 7362, 'scotlandismassive': 7363, 'scottish': 7364, 'scoups': 7365, 'scouser': 7366, 'scouting': 7367, 'scream': 7368, 'screaming': 7369, 'screencaps': 7370, 'screenshot': 7371, 'screenshots': 7372, 'screenshotting': 7373, 'screw': 7374, 'screwed': 7375, 'scrolling': 7376, 'scrubbed': 7377, 'scrummy': 7378, 'sculptor': 7379, 'scurri': 7380, 'sd': 7381, 'seafood': 7382, 'sealedlipsorwearingbracesortonguetiedlt': 7383, 'search': 7384, 'season': 7385, 'seat': 7386, 'seatmates': 7387, 'sebastian': 7388, 'second': 7389, 'secondary': 7390, 'secret': 7391, 'sect': 7392, 'section': 7393, 'secure': 7394, 'security': 7395, 'sed': 7396, 'see': 7397, 'seed': 7398, 'seehiah': 7399, 'seeing': 7400, 'seeinghappyfaceorsmiley': 7401, 'seeker': 7402, 'seeklyfrownsadandryorpouting': 7403, 'seem': 7404, 'seemed': 7405, 'seems': 7406, 'seen': 7407, 'segalakatakata': 7408, 'sehun': 7409, 'sel': 7410, 'selamat': 7411, 'selangorconfusion': 7412, 'seleaders': 7413, 'selection': 7414, 'selektion': 7415, 'selena': 7416, 'selenas': 7417, 'selenators': 7418, 'self': 7419, 'selfie': 7420, 'selfieeeee': 7421, 'selfies': 7422, 'selfish': 7423, 'selfpublishers': 7424, 'selfshot': 7425, 'selfxss': 7426, 'sell': 7427, 'selling': 7428, 'sellyourcarinwords': 7429, 'selos': 7430, 'selway': 7431, 'sembuh': 7432, 'semester': 7433, 'semi': 7434, 'semo': 7435, 'send': 7436, 'sending': 7437, 'sends': 7438, 'sengenza': 7439, 'senight': 7440, 'senior': 7441, 'senpai': 7442, 'sense': 7443, 'sensiesha': 7444, 'sensor': 7445, 'sent': 7446, 'sentirse': 7447, 'seo': 7448, 'seouljins': 7449, 'separately': 7450, 'sept': 7451, 'september': 7452, 'septum': 7453, 'sequel': 7454, 'serbia': 7455, 'serbian': 7456, 'serf': 7457, 'series': 7458, 'serious': 7459, 'serioushimmat': 7460, 'seriously': 7461, 'seriousness': 7462, 'sers': 7463, 'serve': 7464, 'server': 7465, 'service': 7466, 'servicewithasmile': 7467, 'servus': 7468, 'session': 7469, 'set': 7470, 'sethi': 7471, 'sethis': 7472, 'setokido': 7473, 'setter': 7474, 'setting': 7475, 'settle': 7476, 'setup': 7477, 'seungchan': 7478, 'seungyeon': 7479, 'seven': 7480, 'several': 7481, 'severe': 7482, 'severely': 7483, 'sew': 7484, 'sex': 7485, 'sexcam': 7486, 'sexchat': 7487, 'sexdate': 7488, 'sexi': 7489, 'sexo': 7490, 'sexual': 7491, 'sexy': 7492, 'sexyamelie': 7493, 'sexygirlbypreciouslemmy': 7494, 'sexyjane': 7495, 'sexyjudy': 7496, 'sexysasunday': 7497, 'sf': 7498, 'sfs': 7499, 'sfvbeta': 7500, 'sg': 7501, 'shaa': 7502, 'shaaaa': 7503, 'shade': 7504, 'shading': 7505, 'shadow': 7506, 'shadowplaylouis': 7507, 'shady': 7508, 'shadys': 7509, 'shahid': 7510, 'shake': 7511, 'shaking': 7512, 'shall': 7513, 'shalwarkameez': 7514, 'sham': 7515, 'shaman': 7516, 'shame': 7517, 'shamuons': 7518, 'shane': 7519, 'shannon': 7520, 'shanzay': 7521, 'shape': 7522, 'share': 7523, 'shared': 7524, 'sharethelove': 7525, 'sharing': 7526, 'shark': 7527, 'sharm': 7528, 'sharp': 7529, 'sharyl': 7530, 'shatter': 7531, 'shaun': 7532, 'shauri': 7533, 'shave': 7534, 'shaved': 7535, 'shawn': 7536, 'shawty': 7537, 'shaylan': 7538, 'shedding': 7539, 'sheen': 7540, 'sheep': 7541, 'sheer': 7542, 'sheeran': 7543, 'sheffield': 7544, 'shek': 7545, 'shem': 7546, 'shepherd': 7547, 'sheriff': 7548, 'shes': 7549, 'sheskindahot': 7550, 'shet': 7551, 'shiatsu': 7552, 'shift': 7553, 'shifting': 7554, 'shiiiit': 7555, 'shiiiitt': 7556, 'shiiit': 7557, 'shining': 7558, 'shinsengumi': 7559, 'shiny': 7560, 'ship': 7561, 'shipped': 7562, 'shipper': 7563, 'shipping': 7564, 'shir': 7565, 'shirleycam': 7566, 'shirt': 7567, 'shit': 7568, 'shite': 7569, 'shitfaced': 7570, 'shithouse': 7571, 'shittier': 7572, 'shitty': 7573, 'shityou': 7574, 'shiva': 7575, 'shiver': 7576, 'sho': 7577, 'shobs': 7578, 'shock': 7579, 'shocking': 7580, 'shockingwhy': 7581, 'shoe': 7582, 'shoeshi': 7583, 'shogi': 7584, 'sholong': 7585, 'shoot': 7586, 'shooting': 7587, 'shop': 7588, 'shopping': 7589, 'shor': 7590, 'short': 7591, 'shorter': 7592, 'shorthaired': 7593, 'shortlist': 7594, 'shortly': 7595, 'shoshannavassil': 7596, 'shot': 7597, 'shotsfrownsadandryorpouting': 7598, 'shoulda': 7599, 'shouldeeerr': 7600, 'shoulder': 7601, 'shouldve': 7602, 'shoushitsu': 7603, 'shout': 7604, 'shouting': 7605, 'shoutout': 7606, 'shoutouts': 7607, 'show': 7608, 'showbox': 7609, 'showconfusion': 7610, 'showed': 7611, 'shower': 7612, 'showing': 7613, 'shown': 7614, 'showpo': 7615, 'showsi': 7616, 'shravan': 7617, 'shropshire': 7618, 'shud': 7619, 'shuffle': 7620, 'shut': 7621, 'shweta': 7622, 'shxbs': 7623, 'shy': 7624, 'si': 7625, 'sialanfrownsadandryorpouting': 7626, 'sian': 7627, 'siannn': 7628, 'sibuk': 7629, 'sic': 7630, 'sick': 7631, 'sickfrownsadandryorpouting': 7632, 'siddi': 7633, 'side': 7634, 'sidni': 7635, 'sigeg': 7636, 'sigh': 7637, 'sight': 7638, 'sign': 7639, 'signal': 7640, 'signature': 7641, 'signed': 7642, 'signing': 7643, 'siguro': 7644, 'sikandar': 7645, 'silang': 7646, 'silently': 7647, 'silicon': 7648, 'silly': 7649, 'silverstone': 7650, 'similar': 7651, 'simon': 7652, 'simple': 7653, 'simply': 7654, 'simpson': 7655, 'sims': 7656, 'sin': 7657, 'sinaloa': 7658, 'since': 7659, 'sing': 7660, 'singapore': 7661, 'singer': 7662, 'singing': 7663, 'single': 7664, 'sinhala': 7665, 'sinister': 7666, 'sinse': 7667, 'sinuend': 7668, 'sir': 7669, 'sircustomer': 7670, 'siregar': 7671, 'sirf': 7672, 'sirius': 7673, 'sirkay': 7674, 'sirplease': 7675, 'sissi': 7676, 'sister': 7677, 'sisterinlaw': 7678, 'site': 7679, 'sitehappyfaceorsmiley': 7680, 'sits': 7681, 'sitting': 7682, 'situated': 7683, 'situation': 7684, 'situationgoldbugs': 7685, 'six': 7686, 'sizams': 7687, 'size': 7688, 'sizing': 7689, 'sizwe': 7690, 'sj': 7691, 'sjkaos': 7692, 'sjw': 7693, 'skate': 7694, 'skating': 7695, 'skeem': 7696, 'skepticalannoyedundecideduneasyorhesitant': 7697, 'skepticalannoyedundecideduneasyorhesitantaughingbiggrinorlaughwithglasses': 7698, 'skepticalannoyedundecideduneasyorhesitantfrownsadandryorpouting': 7699, 'skill': 7700, 'skin': 7701, 'skinconfusion': 7702, 'skinny': 7703, 'skip': 7704, 'skirt': 7705, 'skoy': 7706, 'skrillah': 7707, 'skulker': 7708, 'sky': 7709, 'skyblock': 7710, 'skye': 7711, 'skyfall': 7712, 'skype': 7713, 'skypeconfusion': 7714, 'slacke': 7715, 'slacking': 7716, 'slammed': 7717, 'slap': 7718, 'slapped': 7719, 'slayed': 7720, 'sleeeeep': 7721, 'sleeeep': 7722, 'sleep': 7723, 'sleeping': 7724, 'sleepingwithsirens': 7725, 'sleepover': 7726, 'sleepthe': 7727, 'sleepy': 7728, 'slept': 7729, 'slepthappyfaceorsmileyhappyfaceorsmileyhappyfaceorsmiley': 7730, 'slice': 7731, 'slideshow': 7732, 'sliding': 7733, 'slightly': 7734, 'slip': 7735, 'slipper': 7736, 'slogan': 7737, 'sloppy': 7738, 'slot': 7739, 'slotted': 7740, 'slovak': 7741, 'slovakia': 7742, 'slovenia': 7743, 'sloveniahappyfaceorsmiley': 7744, 'slow': 7745, 'slower': 7746, 'slowly': 7747, 'slp': 7748, 'slr': 7749, 'sm': 7750, 'small': 7751, 'smart': 7752, 'smashingbook': 7753, 'smell': 7754, 'smelly': 7755, 'smf': 7756, 'smh': 7757, 'smhdamn': 7758, 'smi': 7759, 'smile': 7760, 'smiled': 7761, 'smilewant': 7762, 'smiling': 7763, 'smith': 7764, 'smoak': 7765, 'smoke': 7766, 'smoking': 7767, 'smooth': 7768, 'smthng': 7769, 'smu': 7770, 'smug': 7771, 'sn': 7772, 'snake': 7773, 'snakeskepticalannoyedundecideduneasyorhesitant': 7774, 'snap': 7775, 'snapchat': 7776, 'snapchatme': 7777, 'snapme': 7778, 'snark': 7779, 'sneak': 7780, 'sneaker': 7781, 'sneaking': 7782, 'sneezy': 7783, 'sniff': 7784, 'snit': 7785, 'snob': 7786, 'snobby': 7787, 'snooker': 7788, 'snoozed': 7789, 'snot': 7790, 'snow': 7791, 'snpcaht': 7792, 'snsd': 7793, 'snuggle': 7794, 'so': 7795, 'soak': 7796, 'soamazing': 7797, 'soap': 7798, 'sob': 7799, 'sobbing': 7800, 'sobrang': 7801, 'sobtian': 7802, 'soccer': 7803, 'socent': 7804, 'social': 7805, 'socialising': 7806, 'socialmedia': 7807, 'socialrewards': 7808, 'socialwebsite': 7809, 'sociamedia': 7810, 'society': 7811, 'sock': 7812, 'socket': 7813, 'sod': 7814, 'soda': 7815, 'sodders': 7816, 'sofa': 7817, 'soft': 7818, 'softball': 7819, 'software': 7820, 'soggy': 7821, 'sohappyrightnow': 7822, 'soho': 7823, 'sokay': 7824, 'solar': 7825, 'sold': 7826, 'solid': 7827, 'soln': 7828, 'solo': 7829, 'soloist': 7830, 'solution': 7831, 'solve': 7832, 'solved': 7833, 'solvo': 7834, 'som': 7835, 'somebody': 7836, 'someday': 7837, 'somehow': 7838, 'someone': 7839, 'somersetlooking': 7840, 'something': 7841, 'somethingi': 7842, 'sometime': 7843, 'sometimes': 7844, 'somewhere': 7845, 'somi': 7846, 'son': 7847, 'sona': 7848, 'sonaaaaaaa': 7849, 'sonal': 7850, 'sone': 7851, 'song': 7852, 'songcan': 7853, 'sonic': 7854, 'soniii': 7855, 'sonsconfusion': 7856, 'soo': 7857, 'soobin': 7858, 'soon': 7859, 'soonest': 7860, 'sooo': 7861, 'soooo': 7862, 'sooooo': 7863, 'sooooooo': 7864, 'soooooooner': 7865, 'soooooooo': 7866, 'sooooooooo': 7867, 'sooooooooooo': 7868, 'soothing': 7869, 'soph': 7870, 'sophie': 7871, 'soprano': 7872, 'sore': 7873, 'sorelike': 7874, 'sorka': 7875, 'sorna': 7876, 'sorrrrryyyyy': 7877, 'sorrry': 7878, 'sorry': 7879, 'sorryfrownsadandryorpouting': 7880, 'sorryi': 7881, 'sort': 7882, 'sorta': 7883, 'sorted': 7884, 'sorting': 7885, 'soshi': 7886, 'sosweet': 7887, 'sotired': 7888, 'sotw': 7889, 'soul': 7890, 'soulful': 7891, 'soulmate': 7892, 'soulsurvivor': 7893, 'sound': 7894, 'soundcheck': 7895, 'sounding': 7896, 'soundtrack': 7897, 'soup': 7898, 'sour': 7899, 'source': 7900, 'sourceso': 7901, 'south': 7902, 'sowwy': 7903, 'sp': 7904, 'space': 7905, 'spacers': 7906, 'spade': 7907, 'spag': 7908, 'spain': 7909, 'spam': 7910, 'spamming': 7911, 'spanish': 7912, 'spannersebay': 7913, 'spare': 7914, 'sparkymm': 7915, 'sparse': 7916, 'spazzing': 7917, 'speak': 7918, 'speaker': 7919, 'speaking': 7920, 'spec': 7921, 'speced': 7922, 'special': 7923, 'specialise': 7924, 'specialist': 7925, 'speciallymarked': 7926, 'specie': 7927, 'specific': 7928, 'speck': 7929, 'speculationand': 7930, 'speech': 7931, 'speed': 7932, 'spell': 7933, 'spelling': 7934, 'spend': 7935, 'spending': 7936, 'spent': 7937, 'spiced': 7938, 'spick': 7939, 'spill': 7940, 'spilled': 7941, 'spin': 7942, 'spinenothing': 7943, 'spinning': 7944, 'spinny': 7945, 'spinorbinmusicxcodysimpson': 7946, 'spirit': 7947, 'spiritual': 7948, 'splendid': 7949, 'spm': 7950, 'spoile': 7951, 'spoke': 7952, 'sponsor': 7953, 'sponsorship': 7954, 'sport': 7955, 'spot': 7956, 'spotify': 7957, 'spotted': 7958, 'spotting': 7959, 'spray': 7960, 'spread': 7961, 'spreading': 7962, 'spree': 7963, 'spring': 7964, 'sprit': 7965, 'sprite': 7966, 'squad': 7967, 'square': 7968, 'squat': 7969, 'squishy': 7970, 'sr': 7971, 'srbija': 7972, 'srijith': 7973, 'srsky': 7974, 'srsly': 7975, 'sry': 7976, 'st': 7977, 'stab': 7978, 'stabbed': 7979, 'stable': 7980, 'stack': 7981, 'stackare': 7982, 'stadium': 7983, 'staff': 7984, 'stafford': 7985, 'stage': 7986, 'stair': 7987, 'stalk': 7988, 'stalked': 7989, 'stalkerfrownsadandryorpouting': 7990, 'stalking': 7991, 'stamen': 7992, 'stan': 7993, 'stand': 7994, 'standard': 7995, 'standby': 7996, 'standens': 7997, 'standing': 7998, 'standrews': 7999, 'standwdik': 8000, 'stans': 8001, 'star': 8002, 'starbucks': 8003, 'stargate': 8004, 'staring': 8005, 'stark': 8006, 'starsquad': 8007, 'start': 8008, 'started': 8009, 'starter': 8010, 'starti': 8011, 'starting': 8012, 'startlaughingbiggrinorlaughwithglassesgoodmorning': 8013, 'startup': 8014, 'startupph': 8015, 'starving': 8016, 'starwars': 8017, 'stash': 8018, 'stashed': 8019, 'state': 8020, 'statementhappyfacesmileyselamathariraya': 8021, 'station': 8022, 'stationary': 8023, 'stats': 8024, 'stay': 8025, 'stayblessed': 8026, 'stayed': 8027, 'stayfresh': 8028, 'staying': 8029, 'steak': 8030, 'steal': 8031, 'stealth': 8032, 'steam': 8033, 'steel': 8034, 'steelbook': 8035, 'stefanie': 8036, 'stella': 8037, 'stem': 8038, 'step': 8039, 'steph': 8040, 'stephanie': 8041, 'stephen': 8042, 'stepped': 8043, 'stereo': 8044, 'sterling': 8045, 'steroid': 8046, 'stetson': 8047, 'steve': 8048, 'steven': 8049, 'stexpert': 8050, 'sth': 8051, 'stick': 8052, 'sticker': 8053, 'sticking': 8054, 'stiff': 8055, 'stiffening': 8056, 'still': 8057, 'sting': 8058, 'stock': 8059, 'stockholm': 8060, 'stocko': 8061, 'stoked': 8062, 'stole': 8063, 'stolen': 8064, 'stomach': 8065, 'stomachache': 8066, 'stomping': 8067, 'stone': 8068, 'stool': 8069, 'stooooop': 8070, 'stop': 8071, 'stopbebeeeee': 8072, 'stophappyfaceorsmiley': 8073, 'stopped': 8074, 'stopping': 8075, 'store': 8076, 'storegood': 8077, 'storify': 8078, 'stormsgtgt': 8079, 'story': 8080, 'storymiss': 8081, 'straight': 8082, 'straightface': 8083, 'strange': 8084, 'strangely': 8085, 'strap': 8086, 'strapline': 8087, 'straw': 8088, 'strawberry': 8089, 'streak': 8090, 'stream': 8091, 'streamer': 8092, 'streaming': 8093, 'street': 8094, 'strength': 8095, 'stress': 8096, 'stressed': 8097, 'stressful': 8098, 'stretch': 8099, 'strike': 8100, 'striker': 8101, 'striking': 8102, 'strip': 8103, 'stripe': 8104, 'striped': 8105, 'stroke': 8106, 'strong': 8107, 'stronger': 8108, 'strongest': 8109, 'strucked': 8110, 'structure': 8111, 'structured': 8112, 'struggle': 8113, 'struggling': 8114, 'stu': 8115, 'stuart': 8116, 'stuck': 8117, 'stud': 8118, 'student': 8119, 'studio': 8120, 'study': 8121, 'studying': 8122, 'stuff': 8123, 'stuffy': 8124, 'stumble': 8125, 'stung': 8126, 'stunning': 8127, 'stupid': 8128, 'stupidi': 8129, 'sturdy': 8130, 'style': 8131, 'stylish': 8132, 'suan': 8133, 'suave': 8134, 'suay': 8135, 'sub': 8136, 'subcontinent': 8137, 'subdivision': 8138, 'subgames': 8139, 'subj': 8140, 'subject': 8141, 'subjective': 8142, 'subliminal': 8143, 'submission': 8144, 'submitted': 8145, 'subscriber': 8146, 'subserver': 8147, 'subsidized': 8148, 'subsidy': 8149, 'subtitle': 8150, 'subway': 8151, 'succeed': 8152, 'success': 8153, 'successful': 8154, 'suck': 8155, 'sucked': 8156, 'suckmejimin': 8157, 'sucky': 8158, 'sudden': 8159, 'suede': 8160, 'suffered': 8161, 'sufferer': 8162, 'suffering': 8163, 'sugar': 8164, 'sugaralmost': 8165, 'sugarrush': 8166, 'suger': 8167, 'suggest': 8168, 'suggestion': 8169, 'suicide': 8170, 'suit': 8171, 'suitable': 8172, 'suitcase': 8173, 'suitcasebeijing': 8174, 'suite': 8175, 'suk': 8176, 'suks': 8177, 'sulk': 8178, 'sulli': 8179, 'sum': 8180, 'suma': 8181, 'sumedh': 8182, 'sumer': 8183, 'summer': 8184, 'summerismissing': 8185, 'summertime': 8186, 'summoner': 8187, 'sun': 8188, 'sunburn': 8189, 'sunburnt': 8190, 'sunday': 8191, 'sunflower': 8192, 'sunggyu': 8193, 'sunglass': 8194, 'sunjam': 8195, 'sunnah': 8196, 'sunnies': 8197, 'sunny': 8198, 'sunnyday': 8199, 'sunnys': 8200, 'sunrise': 8201, 'sunshine': 8202, 'sunway': 8203, 'supa': 8204, 'super': 8205, 'superb': 8206, 'superblend': 8207, 'supercars': 8208, 'superday': 8209, 'superdry': 8210, 'superheroes': 8211, 'superjunior': 8212, 'supermarket': 8213, 'supernatural': 8214, 'superpower': 8215, 'supersmash': 8216, 'suppl': 8217, 'support': 8218, 'supported': 8219, 'supporting': 8220, 'supportive': 8221, 'suppose': 8222, 'supposed': 8223, 'supprt': 8224, 'supreme': 8225, 'suprised': 8226, 'surajettan': 8227, 'sure': 8228, 'surely': 8229, 'surfing': 8230, 'surgery': 8231, 'suriya': 8232, 'surprise': 8233, 'surprised': 8234, 'surprisedyou': 8235, 'surprising': 8236, 'surreal': 8237, 'surrender': 8238, 'surrendered': 8239, 'surrey': 8240, 'surry': 8241, 'survey': 8242, 'survival': 8243, 'survive': 8244, 'survived': 8245, 'survivedwell': 8246, 'sushi': 8247, 'suspect': 8248, 'suspemsion': 8249, 'suspended': 8250, 'suuuuuuuper': 8251, 'sux': 8252, 'suzan': 8253, 'suzy': 8254, 'sw': 8255, 'swag': 8256, 'swallowing': 8257, 'swan': 8258, 'swapping': 8259, 'swasa': 8260, 'swear': 8261, 'swearword': 8262, 'sweat': 8263, 'sweater': 8264, 'sweating': 8265, 'sweatpants': 8266, 'sweden': 8267, 'sweedy': 8268, 'sweeeeeeeety': 8269, 'sweet': 8270, 'sweetan': 8271, 'sweetbj': 8272, 'sweetest': 8273, 'sweetheart': 8274, 'sweetie': 8275, 'sweety': 8276, 'swell': 8277, 'swelling': 8278, 'swerve': 8279, 'swift': 8280, 'swifties': 8281, 'swim': 8282, 'swimming': 8283, 'swiping': 8284, 'swishers': 8285, 'switch': 8286, 'switched': 8287, 'switzerland': 8288, 'swollen': 8289, 'swore': 8290, 'swt': 8291, 'sxrew': 8292, 'syawal': 8293, 'sydney': 8294, 'sympathis': 8295, 'sympathy': 8296, 'symphony': 8297, 'sync': 8298, 'syncs': 8299, 'syndrome': 8300, 'syria': 8301, 'syriaand': 8302, 'syrup': 8303, 'syrus': 8304, 'system': 8305, 'taal': 8306, 'tab': 8307, 'table': 8308, 'tablet': 8309, 'tack': 8310, 'tacky': 8311, 'taco': 8312, 'tae': 8313, 'taems': 8314, 'taeyeons': 8315, 'taft': 8316, 'tag': 8317, 'tagal': 8318, 'tagsforlikes': 8319, 'tagsforlikesapp': 8320, 'tail': 8321, 'taissa': 8322, 'take': 8323, 'takeaway': 8324, 'taken': 8325, 'takeover': 8326, 'takesonetoknowone': 8327, 'takfaham': 8328, 'taking': 8329, 'taknottem': 8330, 'takoyaki': 8331, 'takraw': 8332, 'talaga': 8333, 'talanted': 8334, 'talent': 8335, 'talented': 8336, 'talk': 8337, 'talkback': 8338, 'talked': 8339, 'talkhappyfaceorsmiley': 8340, 'talking': 8341, 'talkkama': 8342, 'tall': 8343, 'tam': 8344, 'tama': 8345, 'tamang': 8346, 'tame': 8347, 'tamed': 8348, 'tameside': 8349, 'tammirossm': 8350, 'tamp': 8351, 'tampcs': 8352, 'tan': 8353, 'tango': 8354, 'tanishanonly': 8355, 'tank': 8356, 'tanned': 8357, 'tara': 8358, 'taray': 8359, 'tard': 8360, 'target': 8361, 'tarryn': 8362, 'task': 8363, 'taste': 8364, 'tasteless': 8365, 'tasty': 8366, 'tat': 8367, 'tato': 8368, 'tattoo': 8369, 'tau': 8370, 'taught': 8371, 'taunton': 8372, 'tax': 8373, 'taxi': 8374, 'taxikitchen': 8375, 'taxonomic': 8376, 'tay': 8377, 'taybigail': 8378, 'taylor': 8379, 'tayo': 8380, 'tb': 8381, 'tbc': 8382, 'tbf': 8383, 'tbh': 8384, 'tbhthey': 8385, 'tblast': 8386, 'tbt': 8387, 'tc': 8388, 'tcot': 8389, 'tdc': 8390, 'tdif': 8391, 'tdy': 8392, 'tea': 8393, 'teabread': 8394, 'teach': 8395, 'teacher': 8396, 'teal': 8397, 'team': 8398, 'teamadmicro': 8399, 'teamfollowback': 8400, 'teamjanuaryclaims': 8401, 'teamnatural': 8402, 'teampositive': 8403, 'teamred': 8404, 'tear': 8405, 'tearout': 8406, 'tearsofhappiness': 8407, 'tease': 8408, 'teaser': 8409, 'teasing': 8410, 'tebrik': 8411, 'tech': 8412, 'technique': 8413, 'ted': 8414, 'tee': 8415, 'teen': 8416, 'teenage': 8417, 'teenchoice': 8418, 'teenie': 8419, 'teeth': 8420, 'teething': 8421, 'telat': 8422, 'telecom': 8423, 'teleportation': 8424, 'televoting': 8425, 'tell': 8426, 'tellanoldjokeday': 8427, 'telling': 8428, 'temperature': 8429, 'temporal': 8430, 'tempted': 8431, 'ten': 8432, 'tend': 8433, 'tengaman': 8434, 'tengkuaaronshah': 8435, 'tennunb': 8436, 'tension': 8437, 'tent': 8438, 'tentatively': 8439, 'tenyai': 8440, 'terible': 8441, 'term': 8442, 'terrible': 8443, 'terrific': 8444, 'tessnzachcute': 8445, 'test': 8446, 'tested': 8447, 'testicle': 8448, 'testing': 8449, 'texistes': 8450, 'text': 8451, 'texted': 8452, 'texting': 8453, 'tf': 8454, 'tfw': 8455, 'tgif': 8456, 'tgifhappy': 8457, 'tgk': 8458, 'tgp': 8459, 'tgv': 8460, 'th': 8461, 'thaaaat': 8462, 'thaaanks': 8463, 'thaanks': 8464, 'thailand': 8465, 'thalaivar': 8466, 'thank': 8467, 'thanked': 8468, 'thankie': 8469, 'thankies': 8470, 'thanking': 8471, 'thanks': 8472, 'thankshappyfaceorsmiley': 8473, 'thanksyou': 8474, 'thankyou': 8475, 'thankyoudfor': 8476, 'thankyouu': 8477, 'thankyouuu': 8478, 'thanq': 8479, 'thanx': 8480, 'thapelo': 8481, 'tharkness': 8482, 'thathappyfaceorsmiley': 8483, 'thatinstead': 8484, 'thatjust': 8485, 'thatll': 8486, 'thats': 8487, 'thatscold': 8488, 'theaccidentalcouple': 8489, 'theater': 8490, 'theatre': 8491, 'thebestangkapuso': 8492, 'thegrandad': 8493, 'thehungergames': 8494, 'thejuiceinthemix': 8495, 'thek': 8496, 'thelock': 8497, 'themadstork': 8498, 'theme': 8499, 'themhappyfaceorsmiley': 8500, 'themi': 8501, 'themselvesihatesomepeople': 8502, 'thencerest': 8503, 'thenfrownsadandryorpouting': 8504, 'thenting': 8505, 'theo': 8506, 'theocratic': 8507, 'theoper': 8508, 'theory': 8509, 'therapy': 8510, 'there': 8511, 'therealgolden': 8512, 'therefore': 8513, 'therep': 8514, 'therere': 8515, 'thermal': 8516, 'thermos': 8517, 'therver': 8518, 'thesims': 8519, 'thesis': 8520, 'thessidew': 8521, 'theyre': 8522, 'theyve': 8523, 'thick': 8524, 'thin': 8525, 'thing': 8526, 'thingscope': 8527, 'thingy': 8528, 'think': 8529, 'thinking': 8530, 'third': 8531, 'thirdwheeling': 8532, 'thirstyyyy': 8533, 'thisfollow': 8534, 'thishappyfaceorsmiley': 8535, 'thishappyfacesmiley': 8536, 'thishope': 8537, 'thistle': 8538, 'thistlelove': 8539, 'thiz': 8540, 'thks': 8541, 'thnks': 8542, 'thnkyouuuuuuuuu': 8543, 'tho': 8544, 'thobut': 8545, 'thoits': 8546, 'thoo': 8547, 'thoofscreenhe': 8548, 'thooo': 8549, 'thoracicbridge': 8550, 'thorin': 8551, 'thorpe': 8552, 'thou': 8553, 'though': 8554, 'thought': 8555, 'thoughtseized': 8556, 'thq': 8557, 'thr': 8558, 'threat': 8559, 'threatened': 8560, 'threatening': 8561, 'threatens': 8562, 'threatonguestickingoutcheekyplayfulorblowingaraspberry': 8563, 'three': 8564, 'threw': 8565, 'thrice': 8566, 'thrilled': 8567, 'thrive': 8568, 'throat': 8569, 'throw': 8570, 'throwback': 8571, 'throwbackfriday': 8572, 'thrown': 8573, 'thru': 8574, 'thtas': 8575, 'thts': 8576, 'thug': 8577, 'thumb': 8578, 'thunderstorm': 8579, 'thurjuly': 8580, 'thurs': 8581, 'thursday': 8582, 'thurston': 8583, 'thusi': 8584, 'thw': 8585, 'thwarting': 8586, 'thx': 8587, 'tháts': 8588, 'tick': 8589, 'ticket': 8590, 'tickle': 8591, 'tiddler': 8592, 'tidy': 8593, 'tidying': 8594, 'tierd': 8595, 'tight': 8596, 'tiis': 8597, 'tile': 8598, 'tim': 8599, 'time': 8600, 'timeguess': 8601, 'timely': 8602, 'timetunnel': 8603, 'timezones': 8604, 'timing': 8605, 'timming': 8606, 'timog': 8607, 'timw': 8608, 'tinder': 8609, 'tiny': 8610, 'tio': 8611, 'tip': 8612, 'tipped': 8613, 'tipping': 8614, 'tired': 8615, 'tiring': 8616, 'tirth': 8617, 'tissue': 8618, 'titan': 8619, 'titanfall': 8620, 'titas': 8621, 'title': 8622, 'tito': 8623, 'tittheir': 8624, 'tix': 8625, 'tks': 8626, 'tkts': 8627, 'tl': 8628, 'tla': 8629, 'tline': 8630, 'tlists': 8631, 'tmr': 8632, 'tmrw': 8633, 'tmwuwuwell': 8634, 'tnc': 8635, 'toast': 8636, 'tobibro': 8637, 'today': 8638, 'todaybring': 8639, 'todayfrownsadandryorpoutingbought': 8640, 'todaythat': 8641, 'todayy': 8642, 'todayyesterday': 8643, 'todayyyyy': 8644, 'toddlerlife': 8645, 'toe': 8646, 'toffee': 8647, 'tofrom': 8648, 'together': 8649, 'togheter': 8650, 'tokyo': 8651, 'told': 8652, 'tolerant': 8653, 'toll': 8654, 'tologooo': 8655, 'tom': 8656, 'tomas': 8657, 'tomato': 8658, 'tombow': 8659, 'tombraider': 8660, 'tomcat': 8661, 'tomgt': 8662, 'tomhiddleston': 8663, 'tomlinson': 8664, 'tommarow': 8665, 'tommorow': 8666, 'tommy': 8667, 'tomorrow': 8668, 'tomorrowland': 8669, 'tompolo': 8670, 'tone': 8671, 'tong': 8672, 'tongue': 8673, 'tonguestickingoutcheekyplayfulorblowingaraspberrya': 8674, 'toni': 8675, 'tonight': 8676, 'tonightfrownsadandryorpouting': 8677, 'tonighti': 8678, 'tonightthere': 8679, 'tony': 8680, 'toofrownsadandryorpouting´ω': 8681, 'toogot': 8682, 'toohappyfaceorsmiley': 8683, 'took': 8684, 'tool': 8685, 'tooo': 8686, 'tooooooo': 8687, 'tooth': 8688, 'toothsensitivity': 8689, 'toowaytoliveahappylife': 8690, 'toowell': 8691, 'toowinkorsmirkconfusion': 8692, 'top': 8693, 'topgear': 8694, 'topnewfollowers': 8695, 'topple': 8696, 'toptravelcentar': 8697, 'topwaternew': 8698, 'tore': 8699, 'torn': 8700, 'toronto': 8701, 'torrentialrain': 8702, 'torture': 8703, 'toryhappyfaceorsmiley': 8704, 'tose': 8705, 'toss': 8706, 'tossing': 8707, 'total': 8708, 'totally': 8709, 'tote': 8710, 'totem': 8711, 'tou': 8712, 'touch': 8713, 'tough': 8714, 'tour': 8715, 'tourconfusion': 8716, 'tournament': 8717, 'towards': 8718, 'tower': 8719, 'town': 8720, 'toworry': 8721, 'toxin': 8722, 'toy': 8723, 'toying': 8724, 'tp': 8725, 'tracerequest': 8726, 'tracing': 8727, 'track': 8728, 'trade': 8729, 'tradetalk': 8730, 'tradition': 8731, 'traffic': 8732, 'trafficker': 8733, 'trafficking': 8734, 'tragedy': 8735, 'tragic': 8736, 'trail': 8737, 'trailblazerhonors': 8738, 'train': 8739, 'trainer': 8740, 'trainfollow': 8741, 'training': 8742, 'tram': 8743, 'tramline': 8744, 'trance': 8745, 'transcript': 8746, 'transfer': 8747, 'transferred': 8748, 'translate': 8749, 'translation': 8750, 'transmission': 8751, 'transparency': 8752, 'trapmusic': 8753, 'trash': 8754, 'travel': 8755, 'traveler': 8756, 'traveling': 8757, 'travelling': 8758, 'treat': 8759, 'treating': 8760, 'tree': 8761, 'trend': 8762, 'trending': 8763, 'trendno': 8764, 'trendy': 8765, 'trespasser': 8766, 'treviso': 8767, 'trial': 8768, 'triangle': 8769, 'triathletes': 8770, 'trick': 8771, 'tricky': 8772, 'tridon': 8773, 'tried': 8774, 'trimmed': 8775, 'trip': 8776, 'tripathi': 8777, 'tripping': 8778, 'trish': 8779, 'trivia': 8780, 'trmdhesitant': 8781, 'trollhappyfaceorsmiley': 8782, 'troop': 8783, 'trop': 8784, 'tropic': 8785, 'trouble': 8786, 'trouser': 8787, 'truck': 8788, 'true': 8789, 'trueyou': 8790, 'truly': 8791, 'trust': 8792, 'trusting': 8793, 'truth': 8794, 'try': 8795, 'trying': 8796, 'tryna': 8797, 'tsadorcryingt': 8798, 'tseba': 8799, 'tshirt': 8800, 'tshirts': 8801, 'tsktsk': 8802, 'tt': 8803, 'ttctop': 8804, 'tthanks': 8805, 'ttit': 8806, 'tub': 8807, 'tube': 8808, 'tud': 8809, 'tuesday': 8810, 'tuitutil': 8811, 'tukutanemombasa': 8812, 'tulane': 8813, 'tum': 8814, 'tumblr': 8815, 'tummy': 8816, 'tumor': 8817, 'tumour': 8818, 'tuna': 8819, 'tunaita': 8820, 'tuned': 8821, 'tunnel': 8822, 'turkey': 8823, 'turkish': 8824, 'turn': 8825, 'turned': 8826, 'turning': 8827, 'turtle': 8828, 'tut': 8829, 'tutorial': 8830, 'tv': 8831, 'twas': 8832, 'tweak': 8833, 'tweeniefox': 8834, 'tweeps': 8835, 'tweepsmatchout': 8836, 'tweet': 8837, 'tweeted': 8838, 'tweeties': 8839, 'tweetin': 8840, 'tweeting': 8841, 'tweetlandlol': 8842, 'tweetofthedecade': 8843, 'twelvyy': 8844, 'tweng': 8845, 'twice': 8846, 'twin': 8847, 'twine': 8848, 'twinx': 8849, 'twist': 8850, 'twisting': 8851, 'twitch': 8852, 'twitching': 8853, 'twitlonger': 8854, 'twitter': 8855, 'two': 8856, 'twoofs': 8857, 'twurkin': 8858, 'tx': 8859, 'txt': 8860, 'txtshot': 8861, 'ty': 8862, 'tykkäsin': 8863, 'tyler': 8864, 'typa': 8865, 'type': 8866, 'typed': 8867, 'typical': 8868, 'typically': 8869, 'typo': 8870, 'tyre': 8871, 'u': 8872, 'uber': 8873, 'ubericecream': 8874, 'ubud': 8875, 'ubusy': 8876, 'uca': 8877, 'ucan': 8878, 'ucl': 8879, 'ucount': 8880, 'uff': 8881, 'ufffff': 8882, 'ug': 8883, 'uggghhhh': 8884, 'ugh': 8885, 'ughh': 8886, 'ughi': 8887, 'ugly': 8888, 'uh': 8889, 'uhuh': 8890, 'uk': 8891, 'ukiss': 8892, 'ukraine': 8893, 'ulit': 8894, 'ull': 8895, 'ulolwanna': 8896, 'ulti': 8897, 'ultimate': 8898, 'ultor': 8899, 'umaga': 8900, 'umair': 8901, 'umaru': 8902, 'umboh': 8903, 'umma': 8904, 'ummm': 8905, 'unable': 8906, 'unagi': 8907, 'uname': 8908, 'unanswered': 8909, 'unappreciated': 8910, 'unavailable': 8911, 'unblock': 8912, 'uncle': 8913, 'uncountable': 8914, 'uncut': 8915, 'undead': 8916, 'undercoverboss': 8917, 'underrated': 8918, 'understand': 8919, 'understandable': 8920, 'understanding': 8921, 'understands': 8922, 'understood': 8923, 'underwater': 8924, 'unetonguestickingoutcheekyplayfulorblowingaraspberryect': 8925, 'uneventful': 8926, 'unexpected': 8927, 'unfair': 8928, 'unfamiliar': 8929, 'unfaved': 8930, 'unfollow': 8931, 'unfollowed': 8932, 'unfollower': 8933, 'unfollowers': 8934, 'unfollowing': 8935, 'unfortunate': 8936, 'unfortunately': 8937, 'unfriend': 8938, 'unhappy': 8939, 'unhealthy': 8940, 'uni': 8941, 'unicef': 8942, 'uniform': 8943, 'unimportant': 8944, 'unique': 8945, 'unit': 8946, 'uniteblue': 8947, 'united': 8948, 'uniting': 8949, 'university': 8950, 'univesity': 8951, 'unknown': 8952, 'unless': 8953, 'unlike': 8954, 'unlimited': 8955, 'unlisted': 8956, 'unlocked': 8957, 'unloved': 8958, 'unluckiest': 8959, 'unlucky': 8960, 'unmarried': 8961, 'unmarriedchecks': 8962, 'unneeded': 8963, 'unnie': 8964, 'unnieeeehappyfaceorsmiley': 8965, 'unparents': 8966, 'unprepared': 8967, 'unreal': 8968, 'unsettled': 8969, 'unstan': 8970, 'unsuccessful': 8971, 'untapped': 8972, 'untouched': 8973, 'untruth': 8974, 'unvarnished': 8975, 'unwind': 8976, 'upcome': 8977, 'upcoming': 8978, 'update': 8979, 'updated': 8980, 'updating': 8981, 'upfrownsadandryorpouting': 8982, 'upgrade': 8983, 'upgradehappyfacesmiley': 8984, 'upgrading': 8985, 'upload': 8986, 'uploaded': 8987, 'uploading': 8988, 'upon': 8989, 'uppe': 8990, 'upper': 8991, 'ups': 8992, 'upset': 8993, 'upsetting': 8994, 'upside': 8995, 'upvotes': 8996, 'upwt': 8997, 'ur': 8998, 'ure': 8999, 'urgently': 9000, 'urgh': 9001, 'urghhh': 9002, 'uries': 9003, 'url': 9004, 'urock': 9005, 'urquhart': 9006, 'urself': 9007, 'urwelc': 9008, 'us': 9009, 'usa': 9010, 'usage': 9011, 'usagi': 9012, 'use': 9013, 'used': 9014, 'useful': 9015, 'useless': 9016, 'user': 9017, 'username': 9018, 'using': 9019, 'usiran': 9020, 'usual': 9021, 'usually': 9022, 'ut': 9023, 'utc': 9024, 'utd': 9025, 'uu': 9026, 'uuu': 9027, 'uuughhhh': 9028, 'uve': 9029, 'uwesiti': 9030, 'ux': 9031, 'uxoxolove': 9032, 'uy': 9033, 'v': 9034, 'vacant': 9035, 'vacation': 9036, 'vacationhappyfaceorsmiley': 9037, 'vaccine': 9038, 'vagina': 9039, 'vaing': 9040, 'vainglory': 9041, 'vale': 9042, 'valencia': 9043, 'valentine': 9044, 'valls': 9045, 'valuable': 9046, 'value': 9047, 'vampire': 9048, 'van': 9049, 'vandag': 9050, 'vandr': 9051, 'vanilla': 9052, 'vantastic': 9053, 'variety': 9054, 'varsity': 9055, 'vault': 9056, 'vava': 9057, 'vaw': 9058, 'vball': 9059, 'vc': 9060, 'veeeeerry': 9061, 'vega': 9062, 'vegetable': 9063, 'vegetarian': 9064, 'veggie': 9065, 'vehicle': 9066, 'vein': 9067, 'velvet': 9068, 'venice': 9069, 'venomous': 9070, 'venture': 9071, 'venue': 9072, 'venus': 9073, 'ver': 9074, 'verfied': 9075, 'verge': 9076, 'verified': 9077, 'verify': 9078, 'veritably': 9079, 'verity': 9080, 'verse': 9081, 'version': 9082, 'vertigo': 9083, 'vet': 9084, 'vex': 9085, 'via': 9086, 'viable': 9087, 'vianey': 9088, 'viathe': 9089, 'viazi': 9090, 'viber': 9091, 'vibrant': 9092, 'vibrating': 9093, 'vic': 9094, 'vicious': 9095, 'vicky': 9096, 'victim': 9097, 'victoria': 9098, 'victoriaamberlunaand': 9099, 'victoriasecret': 9100, 'victory': 9101, 'vidcon': 9102, 'video': 9103, 'videoburnt': 9104, 'videoconfusion': 9105, 'videogames': 9106, 'videographer': 9107, 'vidic': 9108, 'vids': 9109, 'vietnam': 9110, 'view': 9111, 'viewed': 9112, 'viewer': 9113, 'viewing': 9114, 'vii': 9115, 'viking': 9116, 'vikk': 9117, 'village': 9118, 'vin': 9119, 'vincent': 9120, 'vine': 9121, 'vinegar': 9122, 'viners': 9123, 'vineswith': 9124, 'vinny': 9125, 'vinylbear': 9126, 'violence': 9127, 'vip': 9128, 'viparita': 9129, 'vipgeneralconfusion': 9130, 'virgin': 9131, 'virginity': 9132, 'virtual': 9133, 'visa': 9134, 'vishaya': 9135, 'vishwas': 9136, 'visit': 9137, 'visited': 9138, 'visithappyfaceorsmiley': 9139, 'visiting': 9140, 'vist': 9141, 'visual': 9142, 'vitamin': 9143, 'viva': 9144, 'vivian': 9145, 'vlog': 9146, 'vocal': 9147, 'vodka': 9148, 'voice': 9149, 'void': 9150, 'volta': 9151, 'volume': 9152, 'volunteer': 9153, 'volunteering': 9154, 'vomit': 9155, 'vote': 9156, 'voted': 9157, 'votejktid': 9158, 'voting': 9159, 'voucher': 9160, 'vr': 9161, 'vsco': 9162, 'vscocam': 9163, 'vscocousins': 9164, 'vscogood': 9165, 'vscoph': 9166, 'vscophil': 9167, 'vuly': 9168, 'vv': 9169, 'vvisit': 9170, 'vyapam': 9171, 'w': 9172, 'wa': 9173, 'waa': 9174, 'waaaaa': 9175, 'waah': 9176, 'wacha': 9177, 'wacky': 9178, 'waduhpantes': 9179, 'wae': 9180, 'waffle': 9181, 'wag': 9182, 'wagga': 9183, 'wagging': 9184, 'wahahaah': 9185, 'waifu': 9186, 'wail': 9187, 'wailay': 9188, 'waisted': 9189, 'wait': 9190, 'waited': 9191, 'waiter': 9192, 'waitfrownsadandryorpouting': 9193, 'waiting': 9194, 'waitting': 9195, 'wake': 9196, 'wakeup': 9197, 'waking': 9198, 'wala': 9199, 'walang': 9200, 'walangmakakapigilsakin': 9201, 'walao': 9202, 'walay': 9203, 'wale': 9204, 'wali': 9205, 'walk': 9206, 'walked': 9207, 'walkersmithway': 9208, 'walkin': 9209, 'walking': 9210, 'wall': 9211, 'wallet': 9212, 'walmart': 9213, 'walnut': 9214, 'wan': 9215, 'wana': 9216, 'want': 9217, 'wanted': 9218, 'wanting': 9219, 'wardrobe': 9220, 'warehouse': 9221, 'warehousing': 9222, 'warfare': 9223, 'warlock': 9224, 'warm': 9225, 'warmest': 9226, 'warmup': 9227, 'warnaaaaaaafrownsadandryorpouting': 9228, 'warning': 9229, 'warranty': 9230, 'warrior': 9231, 'warsaw': 9232, 'waseem': 9233, 'washed': 9234, 'wasnt': 9235, 'wasp': 9236, 'waste': 9237, 'wasted': 9238, 'wasting': 9239, 'watch': 9240, 'watchdog': 9241, 'watched': 9242, 'watching': 9243, 'water': 9244, 'wave': 9245, 'wavy': 9246, 'way': 9247, 'wayanadan': 9248, 'wayenjoy': 9249, 'wayhh': 9250, 'wayne': 9251, 'wba': 9252, 'wbu': 9253, 'wd': 9254, 'weak': 9255, 'weaker': 9256, 'wealth': 9257, 'weapon': 9258, 'wear': 9259, 'wearig': 9260, 'wearing': 9261, 'weather': 9262, 'weave': 9263, 'web': 9264, 'webcam': 9265, 'webcamsex': 9266, 'website': 9267, 'webtogsawards': 9268, 'webz': 9269, 'wed': 9270, 'wedding': 9271, 'weddingflowers': 9272, 'wednesday': 9273, 'weebly': 9274, 'weed': 9275, 'weeding': 9276, 'week': 9277, 'weekend': 9278, 'weekendenjoy': 9279, 'weekendofmadness': 9280, 'weekendsunshinerain': 9281, 'weekendthanks': 9282, 'weekhappyfaceorsmiley': 9283, 'weekly': 9284, 'weeksurprise': 9285, 'weenie': 9286, 'weh': 9287, 'weight': 9288, 'weird': 9289, 'weirdconfusion': 9290, 'weirddd': 9291, 'welcomahave': 9292, 'welcome': 9293, 'welcomed': 9294, 'welcometweet': 9295, 'welcoming': 9296, 'welder': 9297, 'well': 9298, 'wellgot': 9299, 'wellhappyfaceorsmiley': 9300, 'wellington': 9301, 'weloveyounamjoon': 9302, 'welsh': 9303, 'weltum': 9304, 'wena': 9305, 'wendy': 9306, 'went': 9307, 'wentz': 9308, 'werent': 9309, 'werk': 9310, 'wese': 9311, 'wesen': 9312, 'west': 9313, 'westandwithik': 9314, 'wet': 9315, 'wethappyfacesmiley': 9316, 'wetherspoons': 9317, 'weve': 9318, 'wew': 9319, 'wewanticecream': 9320, 'wft': 9321, 'wgmpri': 9322, 'wguest': 9323, 'wh': 9324, 'whaaaaaaaaaat': 9325, 'whaaaaaat': 9326, 'whaaat': 9327, 'whacked': 9328, 'whahahaha': 9329, 'whammy': 9330, 'whangarei': 9331, 'whatchya': 9332, 'whatever': 9333, 'whatevs': 9334, 'whatisyourfashionality': 9335, 'whatp': 9336, 'whats': 9337, 'whatsapp': 9338, 'whatsoever': 9339, 'whatthefuck': 9340, 'whattsap': 9341, 'whay': 9342, 'wheeeeeeeeeeeeeeeen': 9343, 'wheel': 9344, 'wheelchair': 9345, 'whenever': 9346, 'whens': 9347, 'wheredoistart': 9348, 'whereisthesun': 9349, 'wheres': 9350, 'wherever': 9351, 'whet': 9352, 'whhr': 9353, 'whileconfusion': 9354, 'whilst': 9355, 'whimper': 9356, 'whip': 9357, 'whispered': 9358, 'whistle': 9359, 'whit': 9360, 'white': 9361, 'whitey': 9362, 'whn': 9363, 'who': 9364, 'whole': 9365, 'whomosexual': 9366, 'whoooah': 9367, 'whoop': 9368, 'whose': 9369, 'whsmith': 9370, 'wht': 9371, 'whyd': 9372, 'whyfrownsadandryorpouting': 9373, 'whyjust': 9374, 'whyyy': 9375, 'whyyyy': 9376, 'whyyyyyy': 9377, 'whyyyyyyy': 9378, 'wicked': 9379, 'wide': 9380, 'widely': 9381, 'wider': 9382, 'wiellys': 9383, 'wife': 9384, 'wiff': 9385, 'wifi': 9386, 'wifrownsadandryorpouting': 9387, 'wii': 9388, 'wild': 9389, 'william': 9390, 'willing': 9391, 'willlow': 9392, 'willmissyouparijat': 9393, 'willy': 9394, 'wimbledon': 9395, 'wimbledonreally': 9396, 'win': 9397, 'winchester': 9398, 'wind': 9399, 'window': 9400, 'windowsphone': 9401, 'wine': 9402, 'winehouse': 9403, 'wing': 9404, 'wingstop': 9405, 'winkorsmirk': 9406, 'winkorsmirkconfusion': 9407, 'winkorsmirkconfusionconfusion': 9408, 'winner': 9409, 'winning': 9410, 'winter': 9411, 'wirh': 9412, 'wisdom': 9413, 'wise': 9414, 'wish': 9415, 'wishing': 9416, 'witcher': 9417, 'within': 9418, 'without': 9419, 'witness': 9420, 'witnessed': 9421, 'wiv': 9422, 'wiw': 9423, 'wi̇ll': 9424, 'wkend': 9425, 'wknd': 9426, 'wks': 9427, 'wkwkw': 9428, 'wlan': 9429, 'wna': 9430, 'wnt': 9431, 'woaah': 9432, 'woah': 9433, 'wobble': 9434, 'wobbly': 9435, 'woe': 9436, 'wohooyou': 9437, 'woke': 9438, 'wolf': 9439, 'wolrd': 9440, 'wolverine': 9441, 'womad': 9442, 'woman': 9443, 'wonder': 9444, 'wondered': 9445, 'wonderful': 9446, 'wonderfulgreat': 9447, 'wonderfuls': 9448, 'wondering': 9449, 'wont': 9450, 'wooden': 9451, 'woodford': 9452, 'wooftastic': 9453, 'woohoo': 9454, 'woohyun': 9455, 'wooohooo': 9456, 'woot': 9457, 'word': 9458, 'wordconfusion': 9459, 'wordoftheweek': 9460, 'wore': 9461, 'work': 9462, 'worked': 9463, 'worker': 9464, 'workfrownsadandryorpouting': 9465, 'workhard': 9466, 'worki': 9467, 'workin': 9468, 'working': 9469, 'workingfrownsadandryorpoutingfrownsadandryorpoutingfrownsadandryorpoutingfrownsadandryorpoutingfrownsadandryorpouting': 9470, 'workingonatightschedule': 9471, 'workinprogress': 9472, 'workno': 9473, 'workout': 9474, 'workshop': 9475, 'workspv': 9476, 'world': 9477, 'worldnelson': 9478, 'worldwide': 9479, 'worried': 9480, 'worry': 9481, 'worse': 9482, 'worst': 9483, 'worth': 9484, 'worthwhile': 9485, 'worthy': 9486, 'wot': 9487, 'wototally': 9488, 'wotw': 9489, 'would': 9490, 'wouldnt': 9491, 'wouldve': 9492, 'wounded': 9493, 'wout': 9494, 'wow': 9495, 'wowza': 9496, 'woza': 9497, 'wracking': 9498, 'wrap': 9499, 'wrecking': 9500, 'wripped': 9501, 'wrist': 9502, 'write': 9503, 'writes': 9504, 'writing': 9505, 'written': 9506, 'wrocilam': 9507, 'wrong': 9508, 'wrote': 9509, 'wru': 9510, 'wsalelove': 9511, 'wsalelovea': 9512, 'wsj': 9513, 'wtf': 9514, 'wtfff': 9515, 'wtfi': 9516, 'wth': 9517, 'wua': 9518, 'wub': 9519, 'wut': 9520, 'wwat': 9521, 'wwe': 9522, 'wwoooo': 9523, 'wynter': 9524, 'wz': 9525, 'x': 9526, 'xavier': 9527, 'xbox': 9528, 'xboxone': 9529, 'xconfusion': 9530, 'xcylin': 9531, 'xd': 9532, 'xdconfusion': 9533, 'xenophobes': 9534, 'xfiles': 9535, 'xi': 9536, 'xiu': 9537, 'xmas': 9538, 'xo': 9539, 'xohappyfaceorsmileyconfusion': 9540, 'xoxo': 9541, 'xoxoxo': 9542, 'xpax': 9543, 'xpress': 9544, 'xrays': 9545, 'xst': 9546, 'xue': 9547, 'xur': 9548, 'xx': 9549, 'xxx': 9550, 'xxxibmchll': 9551, 'xxxx': 9552, 'xxxxxx': 9553, 'xxxxxxx': 9554, 'yaa': 9555, 'yaaaaaaaay': 9556, 'yaaaah': 9557, 'yaaah': 9558, 'yaaay': 9559, 'yaad': 9560, 'yaadein': 9561, 'yaap': 9562, 'yach': 9563, 'yachting': 9564, 'yael': 9565, 'yah': 9566, 'yahoo': 9567, 'yahuda': 9568, 'yako': 9569, 'yall': 9570, 'yan': 9571, 'yang': 9572, 'yapsters': 9573, 'yar': 9574, 'yard': 9575, 'yass': 9576, 'yasss': 9577, 'yasu': 9578, 'yay': 9579, 'yaya': 9580, 'yayayayayits': 9581, 'yaytheylookgreat': 9582, 'yayy': 9583, 'yayyyy': 9584, 'yconfusion': 9585, 'yconfusionsee': 9586, 'yday': 9587, 'ye': 9588, 'yea': 9589, 'yeaaaah': 9590, 'yeah': 9591, 'yeahh': 9592, 'yeahhh': 9593, 'yeap': 9594, 'year': 9595, 'yeeaayy': 9596, 'yeeeeah': 9597, 'yeeeeyyy': 9598, 'yeeew': 9599, 'yeey': 9600, 'yeh': 9601, 'yeheyy': 9602, 'yein': 9603, 'yelaaaaaaa': 9604, 'yell': 9605, 'yelled': 9606, 'yelling': 9607, 'yello': 9608, 'yellow': 9609, 'yeol': 9610, 'yeols': 9611, 'yep': 9612, 'yepp': 9613, 'yepproud': 9614, 'yer': 9615, 'yes': 9616, 'yesbut': 9617, 'yescant': 9618, 'yesha': 9619, 'yesssadorcrying': 9620, 'yester': 9621, 'yesterday': 9622, 'yesthe': 9623, 'yet': 9624, 'yetfeel': 9625, 'yey': 9626, 'yeyy': 9627, 'yg': 9628, 'yhm': 9629, 'yhoooooo': 9630, 'yi': 9631, 'yield': 9632, 'yippee': 9633, 'yippeee': 9634, 'yippppy': 9635, 'yk': 9636, 'ykr': 9637, 'ylona': 9638, 'yna': 9639, 'yodel': 9640, 'yoga': 9641, 'yoghurt': 9642, 'yogurt': 9643, 'yogyakarta': 9644, 'yok': 9645, 'yongbe': 9646, 'yoona': 9647, 'yoot': 9648, 'york': 9649, 'yorkshire': 9650, 'yorkshireconfusion': 9651, 'yosh': 9652, 'yots': 9653, 'youand': 9654, 'youd': 9655, 'youfrownsadandryorpouting': 9656, 'youhappyfaceorsmiley': 9657, 'youll': 9658, 'yoult': 9659, 'youn': 9660, 'young': 9661, 'younger': 9662, 'youngjae': 9663, 'youngnaturalleadersmonjuly': 9664, 'youre': 9665, 'yournaturalleaders': 9666, 'yourselfit': 9667, 'yous': 9668, 'yousad': 9669, 'yousadorcrying': 9670, 'youth': 9671, 'youthat': 9672, 'youthcelebrate': 9673, 'youtheres': 9674, 'youtube': 9675, 'youtubegpctsojkw': 9676, 'youtuber': 9677, 'youu': 9678, 'youuu': 9679, 'youuuu': 9680, 'youuuuuufrownsadandryorpouting': 9681, 'youuuuuuu': 9682, 'youve': 9683, 'you´re': 9684, 'you´ve': 9685, 'yr': 9686, 'yt': 9687, 'yu': 9688, 'yujin': 9689, 'yuki': 9690, 'yukichan': 9691, 'yulin': 9692, 'yum': 9693, 'yummmm': 9694, 'yummmyyy': 9695, 'yummy': 9696, 'yummyjust': 9697, 'yumuyoutuber': 9698, 'yumyum': 9699, 'yun': 9700, 'yuna': 9701, 'yung': 9702, 'yup': 9703, 'yuppiieeehappyfaceorsmileyalienthoughthappyalien': 9704, 'yvette': 9705, 'yūjōcosplay': 9706, 'zac': 9707, 'zach': 9708, 'zachs': 9709, 'zack': 9710, 'zaine': 9711, 'zamn': 9712, 'zante': 9713, 'zap': 9714, 'zara': 9715, 'zareen': 9716, 'zayn': 9717, 'zayncomebacktod': 9718, 'zayniscomingback': 9719, 'zayniscomingbackonjuly': 9720, 'zayniscomingbackonjulyi': 9721, 'zayniscomingbackonjulyim': 9722, 'zayns': 9723, 'zayyyyyn': 9724, 'zaz': 9725, 'zdps': 9726, 'zealand': 9727, 'zehr': 9728, 'zenmate': 9729, 'zephbot': 9730, 'zero': 9731, 'zikra': 9732, 'zipper': 9733, 'zodiac': 9734, 'zoe': 9735, 'zokay': 9736, 'zone': 9737, 'zonzofox': 9738, 'zoo': 9739, 'zoom': 9740, 'zopiclone': 9741, 'zumba': 9742, 'zy': 9743, 'zz': 9744, 'zzz': 9745, 'zzzz': 9746, 'zzzzzzplease': 9747, '«': 9748, '´': 9749, 'фотосет': 9750, 'العنزي': 9751, 'بندر': 9752, 'تكفى': 9753, 'دعمم': 9754, 'للحياة': 9755, 'للعودة': 9756, 'مطعمهاشم': 9757, 'धोखा': 9758, 'फिर': 9759, 'ब': 9760, 'बार': 9761, 'सेँ': 9762, '⅛': 9763, '∗lega∗': 9764, '∠confusion': 9765}\n",
            "9766\n"
          ],
          "name": "stdout"
        }
      ]
    },
    {
      "cell_type": "markdown",
      "metadata": {
        "id": "oslFnEAoPpTL"
      },
      "source": [
        "#### Lexicon embeddings \n",
        "\n",
        "Do the lexicon embedding by assigning each word a category index\n",
        "\n",
        "*  not_in_dict: 0\n",
        "*  negative: 1\n",
        "*  positive: *2*\n",
        "\n",
        "Approximately executing time for this section is: 2m34s.\n"
      ]
    },
    {
      "cell_type": "code",
      "metadata": {
        "colab": {
          "base_uri": "https://localhost:8080/"
        },
        "id": "Y8gwA0Z_PQ6t",
        "outputId": "779e2902-d9e2-4572-a46c-c9f6a8ff25d3"
      },
      "source": [
        "lexi_dict = {}\n",
        "for word in word_list:\n",
        "  if word in opinion_lexicon.negative():\n",
        "    lexi_dict[word_index[word]] = 1\n",
        "  elif word in opinion_lexicon.positive():\n",
        "    lexi_dict[word_index[word]] = 2\n",
        "  else:\n",
        "    lexi_dict[word_index[word]] = 0\n",
        "\n",
        "print(lexi_dict)"
      ],
      "execution_count": null,
      "outputs": [
        {
          "output_type": "stream",
          "text": [
            "{0: 0, 1: 0, 2: 0, 3: 0, 4: 0, 5: 0, 6: 0, 7: 0, 8: 0, 9: 0, 10: 0, 11: 0, 12: 0, 13: 0, 14: 0, 15: 0, 16: 0, 17: 0, 18: 0, 19: 0, 20: 0, 21: 0, 22: 0, 23: 0, 24: 0, 25: 0, 26: 0, 27: 0, 28: 0, 29: 0, 30: 0, 31: 0, 32: 0, 33: 0, 34: 0, 35: 1, 36: 0, 37: 0, 38: 0, 39: 0, 40: 0, 41: 0, 42: 0, 43: 1, 44: 0, 45: 0, 46: 0, 47: 0, 48: 0, 49: 0, 50: 0, 51: 0, 52: 0, 53: 0, 54: 0, 55: 0, 56: 0, 57: 0, 58: 0, 59: 0, 60: 0, 61: 2, 62: 0, 63: 0, 64: 1, 65: 0, 66: 0, 67: 0, 68: 0, 69: 0, 70: 0, 71: 0, 72: 0, 73: 0, 74: 0, 75: 0, 76: 0, 77: 0, 78: 0, 79: 0, 80: 0, 81: 0, 82: 0, 83: 0, 84: 0, 85: 0, 86: 0, 87: 0, 88: 0, 89: 0, 90: 0, 91: 0, 92: 1, 93: 0, 94: 0, 95: 0, 96: 0, 97: 0, 98: 0, 99: 0, 100: 0, 101: 0, 102: 0, 103: 0, 104: 0, 105: 0, 106: 0, 107: 0, 108: 0, 109: 0, 110: 2, 111: 2, 112: 0, 113: 0, 114: 0, 115: 0, 116: 0, 117: 2, 118: 0, 119: 0, 120: 0, 121: 0, 122: 0, 123: 0, 124: 0, 125: 0, 126: 0, 127: 0, 128: 0, 129: 2, 130: 0, 131: 0, 132: 1, 133: 0, 134: 0, 135: 0, 136: 0, 137: 0, 138: 0, 139: 0, 140: 0, 141: 0, 142: 0, 143: 0, 144: 0, 145: 0, 146: 0, 147: 0, 148: 0, 149: 0, 150: 0, 151: 0, 152: 0, 153: 0, 154: 0, 155: 0, 156: 2, 157: 0, 158: 0, 159: 0, 160: 0, 161: 0, 162: 0, 163: 0, 164: 0, 165: 0, 166: 0, 167: 0, 168: 0, 169: 0, 170: 0, 171: 0, 172: 0, 173: 0, 174: 0, 175: 0, 176: 0, 177: 0, 178: 0, 179: 0, 180: 0, 181: 0, 182: 0, 183: 0, 184: 0, 185: 0, 186: 0, 187: 0, 188: 0, 189: 0, 190: 0, 191: 0, 192: 0, 193: 0, 194: 0, 195: 0, 196: 0, 197: 0, 198: 0, 199: 0, 200: 0, 201: 0, 202: 0, 203: 0, 204: 1, 205: 0, 206: 0, 207: 0, 208: 0, 209: 0, 210: 0, 211: 0, 212: 0, 213: 0, 214: 0, 215: 0, 216: 0, 217: 0, 218: 0, 219: 0, 220: 0, 221: 0, 222: 0, 223: 0, 224: 0, 225: 1, 226: 0, 227: 0, 228: 0, 229: 0, 230: 0, 231: 0, 232: 0, 233: 0, 234: 0, 235: 0, 236: 0, 237: 0, 238: 0, 239: 0, 240: 0, 241: 0, 242: 0, 243: 0, 244: 0, 245: 0, 246: 0, 247: 0, 248: 0, 249: 0, 250: 0, 251: 0, 252: 0, 253: 0, 254: 0, 255: 0, 256: 0, 257: 0, 258: 0, 259: 0, 260: 0, 261: 0, 262: 2, 263: 2, 264: 2, 265: 2, 266: 0, 267: 0, 268: 0, 269: 0, 270: 0, 271: 0, 272: 0, 273: 0, 274: 0, 275: 0, 276: 0, 277: 0, 278: 0, 279: 0, 280: 0, 281: 0, 282: 0, 283: 0, 284: 0, 285: 0, 286: 0, 287: 0, 288: 0, 289: 0, 290: 0, 291: 0, 292: 0, 293: 0, 294: 0, 295: 0, 296: 0, 297: 0, 298: 0, 299: 1, 300: 0, 301: 0, 302: 0, 303: 0, 304: 0, 305: 0, 306: 0, 307: 0, 308: 0, 309: 0, 310: 0, 311: 0, 312: 0, 313: 2, 314: 0, 315: 0, 316: 0, 317: 1, 318: 0, 319: 0, 320: 0, 321: 1, 322: 0, 323: 0, 324: 0, 325: 0, 326: 0, 327: 0, 328: 0, 329: 0, 330: 0, 331: 0, 332: 0, 333: 0, 334: 0, 335: 0, 336: 1, 337: 1, 338: 0, 339: 0, 340: 0, 341: 0, 342: 0, 343: 0, 344: 0, 345: 0, 346: 0, 347: 0, 348: 0, 349: 0, 350: 0, 351: 1, 352: 0, 353: 0, 354: 0, 355: 0, 356: 0, 357: 1, 358: 1, 359: 0, 360: 0, 361: 0, 362: 0, 363: 0, 364: 0, 365: 0, 366: 0, 367: 0, 368: 0, 369: 0, 370: 0, 371: 0, 372: 0, 373: 0, 374: 0, 375: 0, 376: 0, 377: 0, 378: 0, 379: 0, 380: 0, 381: 0, 382: 0, 383: 0, 384: 0, 385: 0, 386: 1, 387: 0, 388: 0, 389: 0, 390: 0, 391: 0, 392: 2, 393: 2, 394: 0, 395: 0, 396: 0, 397: 0, 398: 0, 399: 0, 400: 0, 401: 0, 402: 0, 403: 0, 404: 0, 405: 0, 406: 2, 407: 2, 408: 0, 409: 0, 410: 2, 411: 2, 412: 0, 413: 0, 414: 0, 415: 0, 416: 0, 417: 0, 418: 0, 419: 0, 420: 0, 421: 0, 422: 0, 423: 0, 424: 0, 425: 0, 426: 0, 427: 0, 428: 0, 429: 0, 430: 0, 431: 0, 432: 0, 433: 0, 434: 0, 435: 0, 436: 0, 437: 0, 438: 0, 439: 0, 440: 0, 441: 0, 442: 0, 443: 0, 444: 0, 445: 0, 446: 0, 447: 0, 448: 0, 449: 0, 450: 0, 451: 0, 452: 0, 453: 0, 454: 0, 455: 0, 456: 0, 457: 0, 458: 0, 459: 0, 460: 0, 461: 1, 462: 0, 463: 0, 464: 0, 465: 0, 466: 0, 467: 0, 468: 0, 469: 0, 470: 0, 471: 0, 472: 0, 473: 0, 474: 0, 475: 0, 476: 0, 477: 0, 478: 0, 479: 0, 480: 1, 481: 0, 482: 0, 483: 0, 484: 0, 485: 0, 486: 0, 487: 0, 488: 0, 489: 0, 490: 0, 491: 0, 492: 0, 493: 0, 494: 0, 495: 0, 496: 0, 497: 0, 498: 0, 499: 0, 500: 0, 501: 0, 502: 0, 503: 0, 504: 0, 505: 0, 506: 0, 507: 1, 508: 0, 509: 1, 510: 0, 511: 0, 512: 0, 513: 0, 514: 0, 515: 2, 516: 0, 517: 2, 518: 0, 519: 0, 520: 0, 521: 0, 522: 0, 523: 0, 524: 0, 525: 0, 526: 0, 527: 0, 528: 0, 529: 0, 530: 0, 531: 0, 532: 0, 533: 0, 534: 0, 535: 0, 536: 0, 537: 0, 538: 0, 539: 0, 540: 0, 541: 2, 542: 0, 543: 0, 544: 0, 545: 0, 546: 0, 547: 0, 548: 0, 549: 0, 550: 0, 551: 0, 552: 0, 553: 0, 554: 0, 555: 2, 556: 0, 557: 0, 558: 2, 559: 0, 560: 2, 561: 0, 562: 0, 563: 1, 564: 0, 565: 0, 566: 0, 567: 1, 568: 0, 569: 0, 570: 0, 571: 0, 572: 0, 573: 0, 574: 0, 575: 0, 576: 0, 577: 0, 578: 0, 579: 0, 580: 0, 581: 0, 582: 0, 583: 0, 584: 0, 585: 0, 586: 0, 587: 0, 588: 0, 589: 0, 590: 0, 591: 0, 592: 0, 593: 0, 594: 0, 595: 0, 596: 0, 597: 0, 598: 0, 599: 0, 600: 0, 601: 0, 602: 0, 603: 0, 604: 0, 605: 1, 606: 0, 607: 0, 608: 0, 609: 1, 610: 0, 611: 0, 612: 0, 613: 0, 614: 0, 615: 0, 616: 0, 617: 0, 618: 0, 619: 0, 620: 0, 621: 0, 622: 0, 623: 0, 624: 0, 625: 0, 626: 0, 627: 0, 628: 0, 629: 0, 630: 0, 631: 0, 632: 0, 633: 0, 634: 0, 635: 0, 636: 0, 637: 0, 638: 0, 639: 0, 640: 0, 641: 0, 642: 0, 643: 0, 644: 0, 645: 0, 646: 0, 647: 0, 648: 0, 649: 0, 650: 0, 651: 0, 652: 0, 653: 0, 654: 0, 655: 0, 656: 0, 657: 0, 658: 0, 659: 0, 660: 0, 661: 0, 662: 0, 663: 0, 664: 0, 665: 0, 666: 0, 667: 0, 668: 0, 669: 0, 670: 0, 671: 0, 672: 0, 673: 0, 674: 0, 675: 0, 676: 0, 677: 0, 678: 0, 679: 0, 680: 0, 681: 0, 682: 0, 683: 0, 684: 0, 685: 0, 686: 0, 687: 0, 688: 0, 689: 1, 690: 0, 691: 0, 692: 0, 693: 0, 694: 0, 695: 0, 696: 0, 697: 0, 698: 0, 699: 0, 700: 0, 701: 0, 702: 0, 703: 0, 704: 0, 705: 0, 706: 0, 707: 0, 708: 0, 709: 0, 710: 0, 711: 0, 712: 0, 713: 0, 714: 0, 715: 0, 716: 0, 717: 0, 718: 0, 719: 0, 720: 0, 721: 0, 722: 0, 723: 0, 724: 0, 725: 0, 726: 0, 727: 0, 728: 0, 729: 0, 730: 0, 731: 0, 732: 0, 733: 0, 734: 0, 735: 0, 736: 0, 737: 0, 738: 0, 739: 0, 740: 2, 741: 0, 742: 0, 743: 0, 744: 0, 745: 2, 746: 0, 747: 0, 748: 0, 749: 0, 750: 0, 751: 0, 752: 0, 753: 0, 754: 0, 755: 0, 756: 0, 757: 0, 758: 0, 759: 0, 760: 0, 761: 0, 762: 0, 763: 1, 764: 1, 765: 0, 766: 0, 767: 0, 768: 0, 769: 0, 770: 0, 771: 0, 772: 0, 773: 0, 774: 0, 775: 0, 776: 0, 777: 0, 778: 1, 779: 0, 780: 0, 781: 0, 782: 0, 783: 0, 784: 0, 785: 0, 786: 0, 787: 0, 788: 0, 789: 0, 790: 0, 791: 0, 792: 0, 793: 0, 794: 0, 795: 0, 796: 0, 797: 0, 798: 0, 799: 2, 800: 0, 801: 0, 802: 0, 803: 0, 804: 0, 805: 0, 806: 0, 807: 0, 808: 0, 809: 0, 810: 0, 811: 0, 812: 0, 813: 0, 814: 0, 815: 2, 816: 0, 817: 0, 818: 0, 819: 0, 820: 0, 821: 0, 822: 0, 823: 0, 824: 0, 825: 0, 826: 2, 827: 0, 828: 0, 829: 0, 830: 1, 831: 0, 832: 0, 833: 0, 834: 0, 835: 0, 836: 0, 837: 0, 838: 0, 839: 0, 840: 0, 841: 0, 842: 0, 843: 0, 844: 0, 845: 0, 846: 0, 847: 0, 848: 1, 849: 0, 850: 0, 851: 0, 852: 0, 853: 0, 854: 0, 855: 0, 856: 0, 857: 0, 858: 0, 859: 0, 860: 0, 861: 0, 862: 0, 863: 0, 864: 0, 865: 0, 866: 0, 867: 0, 868: 0, 869: 0, 870: 0, 871: 0, 872: 0, 873: 0, 874: 0, 875: 0, 876: 0, 877: 0, 878: 0, 879: 0, 880: 0, 881: 0, 882: 0, 883: 0, 884: 0, 885: 0, 886: 0, 887: 0, 888: 0, 889: 0, 890: 0, 891: 0, 892: 0, 893: 1, 894: 0, 895: 0, 896: 0, 897: 0, 898: 0, 899: 1, 900: 1, 901: 0, 902: 0, 903: 0, 904: 0, 905: 0, 906: 0, 907: 0, 908: 0, 909: 0, 910: 0, 911: 0, 912: 1, 913: 0, 914: 0, 915: 0, 916: 1, 917: 0, 918: 0, 919: 0, 920: 1, 921: 1, 922: 1, 923: 0, 924: 2, 925: 0, 926: 2, 927: 0, 928: 0, 929: 0, 930: 0, 931: 0, 932: 0, 933: 0, 934: 0, 935: 0, 936: 0, 937: 0, 938: 0, 939: 0, 940: 0, 941: 0, 942: 1, 943: 0, 944: 0, 945: 0, 946: 0, 947: 0, 948: 1, 949: 0, 950: 0, 951: 0, 952: 0, 953: 0, 954: 0, 955: 0, 956: 0, 957: 0, 958: 0, 959: 0, 960: 0, 961: 0, 962: 0, 963: 1, 964: 0, 965: 0, 966: 0, 967: 0, 968: 0, 969: 0, 970: 1, 971: 0, 972: 0, 973: 0, 974: 0, 975: 0, 976: 0, 977: 0, 978: 2, 979: 0, 980: 0, 981: 0, 982: 0, 983: 0, 984: 0, 985: 0, 986: 0, 987: 0, 988: 2, 989: 0, 990: 0, 991: 0, 992: 0, 993: 0, 994: 0, 995: 0, 996: 1, 997: 0, 998: 1, 999: 1, 1000: 0, 1001: 0, 1002: 0, 1003: 0, 1004: 0, 1005: 0, 1006: 0, 1007: 0, 1008: 1, 1009: 1, 1010: 1, 1011: 0, 1012: 0, 1013: 0, 1014: 0, 1015: 0, 1016: 0, 1017: 0, 1018: 0, 1019: 0, 1020: 0, 1021: 0, 1022: 0, 1023: 0, 1024: 0, 1025: 0, 1026: 0, 1027: 0, 1028: 0, 1029: 0, 1030: 0, 1031: 0, 1032: 0, 1033: 0, 1034: 0, 1035: 0, 1036: 0, 1037: 0, 1038: 0, 1039: 0, 1040: 0, 1041: 0, 1042: 0, 1043: 0, 1044: 2, 1045: 0, 1046: 2, 1047: 0, 1048: 0, 1049: 1, 1050: 0, 1051: 1, 1052: 1, 1053: 0, 1054: 1, 1055: 1, 1056: 0, 1057: 0, 1058: 0, 1059: 0, 1060: 0, 1061: 0, 1062: 0, 1063: 0, 1064: 0, 1065: 0, 1066: 0, 1067: 0, 1068: 0, 1069: 0, 1070: 0, 1071: 2, 1072: 2, 1073: 0, 1074: 0, 1075: 0, 1076: 0, 1077: 2, 1078: 2, 1079: 0, 1080: 0, 1081: 0, 1082: 0, 1083: 0, 1084: 0, 1085: 0, 1086: 0, 1087: 0, 1088: 0, 1089: 0, 1090: 0, 1091: 0, 1092: 1, 1093: 1, 1094: 0, 1095: 0, 1096: 0, 1097: 0, 1098: 0, 1099: 0, 1100: 0, 1101: 0, 1102: 0, 1103: 0, 1104: 0, 1105: 0, 1106: 0, 1107: 0, 1108: 0, 1109: 0, 1110: 0, 1111: 1, 1112: 1, 1113: 0, 1114: 0, 1115: 0, 1116: 0, 1117: 0, 1118: 0, 1119: 0, 1120: 0, 1121: 0, 1122: 0, 1123: 0, 1124: 0, 1125: 0, 1126: 0, 1127: 0, 1128: 0, 1129: 0, 1130: 0, 1131: 0, 1132: 0, 1133: 0, 1134: 0, 1135: 0, 1136: 0, 1137: 0, 1138: 1, 1139: 0, 1140: 0, 1141: 0, 1142: 0, 1143: 0, 1144: 0, 1145: 0, 1146: 0, 1147: 0, 1148: 1, 1149: 1, 1150: 0, 1151: 1, 1152: 0, 1153: 0, 1154: 0, 1155: 0, 1156: 0, 1157: 0, 1158: 0, 1159: 1, 1160: 0, 1161: 0, 1162: 0, 1163: 0, 1164: 0, 1165: 1, 1166: 1, 1167: 1, 1168: 0, 1169: 0, 1170: 0, 1171: 0, 1172: 0, 1173: 0, 1174: 0, 1175: 0, 1176: 0, 1177: 0, 1178: 0, 1179: 0, 1180: 0, 1181: 0, 1182: 0, 1183: 0, 1184: 0, 1185: 0, 1186: 0, 1187: 0, 1188: 0, 1189: 0, 1190: 0, 1191: 0, 1192: 0, 1193: 0, 1194: 0, 1195: 1, 1196: 0, 1197: 0, 1198: 0, 1199: 0, 1200: 0, 1201: 0, 1202: 0, 1203: 0, 1204: 0, 1205: 0, 1206: 0, 1207: 0, 1208: 0, 1209: 0, 1210: 0, 1211: 0, 1212: 0, 1213: 0, 1214: 0, 1215: 0, 1216: 0, 1217: 0, 1218: 0, 1219: 0, 1220: 0, 1221: 0, 1222: 0, 1223: 0, 1224: 0, 1225: 0, 1226: 0, 1227: 2, 1228: 0, 1229: 0, 1230: 0, 1231: 0, 1232: 0, 1233: 0, 1234: 0, 1235: 0, 1236: 0, 1237: 0, 1238: 0, 1239: 0, 1240: 0, 1241: 0, 1242: 0, 1243: 0, 1244: 0, 1245: 0, 1246: 0, 1247: 0, 1248: 0, 1249: 0, 1250: 0, 1251: 0, 1252: 0, 1253: 0, 1254: 0, 1255: 0, 1256: 0, 1257: 0, 1258: 0, 1259: 0, 1260: 0, 1261: 0, 1262: 0, 1263: 0, 1264: 0, 1265: 0, 1266: 0, 1267: 0, 1268: 0, 1269: 0, 1270: 0, 1271: 0, 1272: 0, 1273: 0, 1274: 0, 1275: 0, 1276: 0, 1277: 0, 1278: 0, 1279: 0, 1280: 0, 1281: 0, 1282: 0, 1283: 0, 1284: 0, 1285: 0, 1286: 0, 1287: 0, 1288: 0, 1289: 0, 1290: 0, 1291: 0, 1292: 0, 1293: 0, 1294: 0, 1295: 0, 1296: 0, 1297: 0, 1298: 0, 1299: 0, 1300: 0, 1301: 0, 1302: 0, 1303: 0, 1304: 2, 1305: 0, 1306: 0, 1307: 0, 1308: 0, 1309: 0, 1310: 0, 1311: 0, 1312: 0, 1313: 0, 1314: 0, 1315: 0, 1316: 0, 1317: 2, 1318: 2, 1319: 0, 1320: 0, 1321: 2, 1322: 0, 1323: 0, 1324: 0, 1325: 0, 1326: 0, 1327: 0, 1328: 0, 1329: 0, 1330: 0, 1331: 0, 1332: 0, 1333: 0, 1334: 0, 1335: 0, 1336: 0, 1337: 0, 1338: 0, 1339: 0, 1340: 0, 1341: 0, 1342: 0, 1343: 0, 1344: 0, 1345: 0, 1346: 0, 1347: 0, 1348: 0, 1349: 0, 1350: 0, 1351: 0, 1352: 0, 1353: 0, 1354: 2, 1355: 0, 1356: 0, 1357: 0, 1358: 0, 1359: 0, 1360: 0, 1361: 0, 1362: 0, 1363: 0, 1364: 0, 1365: 0, 1366: 1, 1367: 1, 1368: 0, 1369: 0, 1370: 0, 1371: 0, 1372: 0, 1373: 0, 1374: 0, 1375: 0, 1376: 0, 1377: 2, 1378: 0, 1379: 0, 1380: 0, 1381: 0, 1382: 2, 1383: 2, 1384: 0, 1385: 0, 1386: 0, 1387: 0, 1388: 0, 1389: 0, 1390: 1, 1391: 2, 1392: 0, 1393: 1, 1394: 0, 1395: 0, 1396: 0, 1397: 0, 1398: 0, 1399: 0, 1400: 0, 1401: 2, 1402: 0, 1403: 0, 1404: 0, 1405: 0, 1406: 0, 1407: 0, 1408: 0, 1409: 0, 1410: 0, 1411: 0, 1412: 0, 1413: 0, 1414: 0, 1415: 0, 1416: 2, 1417: 0, 1418: 0, 1419: 0, 1420: 0, 1421: 0, 1422: 0, 1423: 0, 1424: 0, 1425: 0, 1426: 0, 1427: 0, 1428: 0, 1429: 0, 1430: 0, 1431: 1, 1432: 0, 1433: 0, 1434: 0, 1435: 0, 1436: 0, 1437: 0, 1438: 0, 1439: 0, 1440: 0, 1441: 0, 1442: 0, 1443: 0, 1444: 0, 1445: 0, 1446: 0, 1447: 0, 1448: 1, 1449: 0, 1450: 0, 1451: 0, 1452: 0, 1453: 0, 1454: 0, 1455: 1, 1456: 0, 1457: 0, 1458: 0, 1459: 0, 1460: 0, 1461: 0, 1462: 0, 1463: 0, 1464: 0, 1465: 0, 1466: 0, 1467: 0, 1468: 0, 1469: 0, 1470: 0, 1471: 0, 1472: 0, 1473: 0, 1474: 1, 1475: 0, 1476: 0, 1477: 0, 1478: 0, 1479: 0, 1480: 0, 1481: 0, 1482: 0, 1483: 0, 1484: 0, 1485: 0, 1486: 0, 1487: 0, 1488: 0, 1489: 0, 1490: 0, 1491: 0, 1492: 0, 1493: 0, 1494: 0, 1495: 0, 1496: 0, 1497: 0, 1498: 0, 1499: 0, 1500: 0, 1501: 0, 1502: 0, 1503: 0, 1504: 0, 1505: 0, 1506: 0, 1507: 0, 1508: 0, 1509: 0, 1510: 0, 1511: 0, 1512: 0, 1513: 0, 1514: 0, 1515: 1, 1516: 0, 1517: 2, 1518: 0, 1519: 0, 1520: 2, 1521: 0, 1522: 2, 1523: 0, 1524: 0, 1525: 0, 1526: 2, 1527: 0, 1528: 2, 1529: 1, 1530: 0, 1531: 0, 1532: 0, 1533: 0, 1534: 0, 1535: 0, 1536: 0, 1537: 0, 1538: 0, 1539: 0, 1540: 0, 1541: 0, 1542: 0, 1543: 0, 1544: 0, 1545: 0, 1546: 0, 1547: 0, 1548: 0, 1549: 0, 1550: 0, 1551: 0, 1552: 0, 1553: 0, 1554: 0, 1555: 0, 1556: 0, 1557: 0, 1558: 0, 1559: 0, 1560: 0, 1561: 0, 1562: 0, 1563: 0, 1564: 0, 1565: 0, 1566: 0, 1567: 0, 1568: 0, 1569: 0, 1570: 0, 1571: 0, 1572: 0, 1573: 1, 1574: 0, 1575: 0, 1576: 0, 1577: 0, 1578: 0, 1579: 0, 1580: 0, 1581: 0, 1582: 0, 1583: 0, 1584: 0, 1585: 0, 1586: 1, 1587: 0, 1588: 0, 1589: 0, 1590: 0, 1591: 0, 1592: 0, 1593: 0, 1594: 0, 1595: 1, 1596: 0, 1597: 0, 1598: 0, 1599: 0, 1600: 0, 1601: 0, 1602: 0, 1603: 0, 1604: 0, 1605: 0, 1606: 0, 1607: 0, 1608: 0, 1609: 0, 1610: 0, 1611: 0, 1612: 0, 1613: 0, 1614: 2, 1615: 2, 1616: 0, 1617: 0, 1618: 0, 1619: 0, 1620: 0, 1621: 0, 1622: 0, 1623: 0, 1624: 0, 1625: 0, 1626: 0, 1627: 0, 1628: 0, 1629: 0, 1630: 0, 1631: 0, 1632: 0, 1633: 0, 1634: 0, 1635: 0, 1636: 0, 1637: 1, 1638: 1, 1639: 1, 1640: 1, 1641: 0, 1642: 0, 1643: 0, 1644: 0, 1645: 1, 1646: 2, 1647: 0, 1648: 0, 1649: 0, 1650: 1, 1651: 1, 1652: 0, 1653: 0, 1654: 0, 1655: 1, 1656: 0, 1657: 0, 1658: 1, 1659: 0, 1660: 2, 1661: 0, 1662: 0, 1663: 0, 1664: 1, 1665: 1, 1666: 1, 1667: 1, 1668: 0, 1669: 0, 1670: 0, 1671: 0, 1672: 0, 1673: 0, 1674: 0, 1675: 2, 1676: 0, 1677: 0, 1678: 0, 1679: 0, 1680: 0, 1681: 0, 1682: 0, 1683: 0, 1684: 0, 1685: 0, 1686: 0, 1687: 0, 1688: 0, 1689: 0, 1690: 0, 1691: 0, 1692: 0, 1693: 0, 1694: 0, 1695: 0, 1696: 0, 1697: 0, 1698: 0, 1699: 0, 1700: 0, 1701: 0, 1702: 0, 1703: 0, 1704: 0, 1705: 0, 1706: 0, 1707: 0, 1708: 0, 1709: 0, 1710: 0, 1711: 0, 1712: 0, 1713: 0, 1714: 0, 1715: 0, 1716: 0, 1717: 1, 1718: 0, 1719: 2, 1720: 0, 1721: 0, 1722: 1, 1723: 0, 1724: 0, 1725: 0, 1726: 0, 1727: 0, 1728: 0, 1729: 0, 1730: 0, 1731: 0, 1732: 0, 1733: 0, 1734: 0, 1735: 2, 1736: 0, 1737: 0, 1738: 0, 1739: 0, 1740: 0, 1741: 0, 1742: 0, 1743: 0, 1744: 0, 1745: 0, 1746: 0, 1747: 0, 1748: 0, 1749: 0, 1750: 0, 1751: 0, 1752: 2, 1753: 0, 1754: 1, 1755: 0, 1756: 0, 1757: 0, 1758: 0, 1759: 0, 1760: 0, 1761: 0, 1762: 0, 1763: 0, 1764: 0, 1765: 0, 1766: 0, 1767: 0, 1768: 0, 1769: 0, 1770: 0, 1771: 0, 1772: 0, 1773: 0, 1774: 0, 1775: 0, 1776: 0, 1777: 0, 1778: 0, 1779: 0, 1780: 0, 1781: 0, 1782: 0, 1783: 0, 1784: 2, 1785: 0, 1786: 0, 1787: 0, 1788: 0, 1789: 0, 1790: 0, 1791: 0, 1792: 0, 1793: 0, 1794: 0, 1795: 0, 1796: 0, 1797: 0, 1798: 0, 1799: 0, 1800: 0, 1801: 0, 1802: 0, 1803: 2, 1804: 0, 1805: 0, 1806: 0, 1807: 0, 1808: 1, 1809: 1, 1810: 0, 1811: 0, 1812: 0, 1813: 0, 1814: 0, 1815: 1, 1816: 0, 1817: 1, 1818: 0, 1819: 1, 1820: 1, 1821: 1, 1822: 0, 1823: 0, 1824: 1, 1825: 0, 1826: 1, 1827: 0, 1828: 0, 1829: 0, 1830: 0, 1831: 0, 1832: 2, 1833: 0, 1834: 0, 1835: 0, 1836: 1, 1837: 0, 1838: 0, 1839: 0, 1840: 0, 1841: 0, 1842: 0, 1843: 0, 1844: 0, 1845: 0, 1846: 1, 1847: 1, 1848: 1, 1849: 2, 1850: 1, 1851: 0, 1852: 0, 1853: 0, 1854: 0, 1855: 0, 1856: 0, 1857: 0, 1858: 0, 1859: 0, 1860: 0, 1861: 1, 1862: 1, 1863: 0, 1864: 1, 1865: 1, 1866: 1, 1867: 0, 1868: 0, 1869: 0, 1870: 0, 1871: 0, 1872: 0, 1873: 0, 1874: 0, 1875: 0, 1876: 0, 1877: 0, 1878: 0, 1879: 0, 1880: 0, 1881: 1, 1882: 0, 1883: 0, 1884: 0, 1885: 0, 1886: 0, 1887: 0, 1888: 0, 1889: 0, 1890: 0, 1891: 0, 1892: 0, 1893: 1, 1894: 0, 1895: 0, 1896: 0, 1897: 0, 1898: 2, 1899: 0, 1900: 0, 1901: 0, 1902: 0, 1903: 0, 1904: 0, 1905: 0, 1906: 0, 1907: 0, 1908: 0, 1909: 0, 1910: 0, 1911: 0, 1912: 0, 1913: 1, 1914: 0, 1915: 0, 1916: 0, 1917: 0, 1918: 0, 1919: 0, 1920: 0, 1921: 0, 1922: 0, 1923: 0, 1924: 0, 1925: 0, 1926: 0, 1927: 0, 1928: 0, 1929: 0, 1930: 0, 1931: 0, 1932: 1, 1933: 1, 1934: 0, 1935: 0, 1936: 1, 1937: 0, 1938: 0, 1939: 0, 1940: 0, 1941: 0, 1942: 0, 1943: 0, 1944: 0, 1945: 0, 1946: 1, 1947: 0, 1948: 0, 1949: 0, 1950: 0, 1951: 0, 1952: 0, 1953: 0, 1954: 0, 1955: 0, 1956: 0, 1957: 2, 1958: 1, 1959: 0, 1960: 0, 1961: 0, 1962: 0, 1963: 0, 1964: 0, 1965: 0, 1966: 0, 1967: 0, 1968: 0, 1969: 0, 1970: 0, 1971: 0, 1972: 0, 1973: 0, 1974: 0, 1975: 0, 1976: 0, 1977: 0, 1978: 0, 1979: 0, 1980: 0, 1981: 0, 1982: 0, 1983: 0, 1984: 0, 1985: 1, 1986: 2, 1987: 0, 1988: 0, 1989: 0, 1990: 0, 1991: 0, 1992: 0, 1993: 1, 1994: 0, 1995: 0, 1996: 1, 1997: 0, 1998: 0, 1999: 0, 2000: 0, 2001: 0, 2002: 0, 2003: 1, 2004: 0, 2005: 0, 2006: 0, 2007: 0, 2008: 1, 2009: 1, 2010: 0, 2011: 0, 2012: 1, 2013: 0, 2014: 0, 2015: 2, 2016: 0, 2017: 0, 2018: 0, 2019: 0, 2020: 0, 2021: 0, 2022: 0, 2023: 0, 2024: 0, 2025: 0, 2026: 0, 2027: 0, 2028: 0, 2029: 0, 2030: 2, 2031: 1, 2032: 0, 2033: 0, 2034: 0, 2035: 0, 2036: 0, 2037: 0, 2038: 0, 2039: 0, 2040: 0, 2041: 0, 2042: 1, 2043: 1, 2044: 0, 2045: 0, 2046: 0, 2047: 0, 2048: 0, 2049: 0, 2050: 2, 2051: 2, 2052: 2, 2053: 1, 2054: 0, 2055: 0, 2056: 0, 2057: 0, 2058: 0, 2059: 0, 2060: 0, 2061: 0, 2062: 0, 2063: 0, 2064: 0, 2065: 0, 2066: 0, 2067: 0, 2068: 0, 2069: 0, 2070: 0, 2071: 1, 2072: 0, 2073: 0, 2074: 0, 2075: 0, 2076: 0, 2077: 0, 2078: 0, 2079: 1, 2080: 0, 2081: 0, 2082: 0, 2083: 0, 2084: 0, 2085: 0, 2086: 0, 2087: 0, 2088: 0, 2089: 0, 2090: 0, 2091: 0, 2092: 0, 2093: 0, 2094: 0, 2095: 0, 2096: 0, 2097: 0, 2098: 1, 2099: 1, 2100: 0, 2101: 1, 2102: 0, 2103: 0, 2104: 0, 2105: 0, 2106: 0, 2107: 0, 2108: 0, 2109: 0, 2110: 0, 2111: 1, 2112: 0, 2113: 0, 2114: 0, 2115: 0, 2116: 0, 2117: 0, 2118: 0, 2119: 0, 2120: 0, 2121: 0, 2122: 0, 2123: 0, 2124: 0, 2125: 0, 2126: 0, 2127: 0, 2128: 0, 2129: 0, 2130: 0, 2131: 0, 2132: 0, 2133: 1, 2134: 0, 2135: 1, 2136: 0, 2137: 0, 2138: 0, 2139: 0, 2140: 0, 2141: 0, 2142: 0, 2143: 0, 2144: 0, 2145: 0, 2146: 1, 2147: 0, 2148: 0, 2149: 0, 2150: 0, 2151: 0, 2152: 0, 2153: 0, 2154: 0, 2155: 0, 2156: 1, 2157: 0, 2158: 0, 2159: 0, 2160: 0, 2161: 0, 2162: 0, 2163: 0, 2164: 0, 2165: 1, 2166: 0, 2167: 0, 2168: 0, 2169: 0, 2170: 0, 2171: 0, 2172: 0, 2173: 0, 2174: 1, 2175: 1, 2176: 0, 2177: 1, 2178: 1, 2179: 0, 2180: 1, 2181: 1, 2182: 0, 2183: 0, 2184: 0, 2185: 0, 2186: 1, 2187: 0, 2188: 0, 2189: 0, 2190: 0, 2191: 1, 2192: 0, 2193: 0, 2194: 0, 2195: 0, 2196: 0, 2197: 1, 2198: 1, 2199: 1, 2200: 0, 2201: 0, 2202: 0, 2203: 1, 2204: 0, 2205: 0, 2206: 0, 2207: 0, 2208: 0, 2209: 0, 2210: 0, 2211: 0, 2212: 0, 2213: 0, 2214: 1, 2215: 0, 2216: 0, 2217: 1, 2218: 0, 2219: 0, 2220: 0, 2221: 0, 2222: 0, 2223: 0, 2224: 0, 2225: 0, 2226: 0, 2227: 0, 2228: 0, 2229: 0, 2230: 0, 2231: 0, 2232: 0, 2233: 0, 2234: 0, 2235: 0, 2236: 0, 2237: 0, 2238: 0, 2239: 0, 2240: 0, 2241: 0, 2242: 0, 2243: 0, 2244: 0, 2245: 0, 2246: 0, 2247: 0, 2248: 0, 2249: 0, 2250: 0, 2251: 0, 2252: 0, 2253: 0, 2254: 0, 2255: 0, 2256: 0, 2257: 0, 2258: 0, 2259: 0, 2260: 0, 2261: 0, 2262: 0, 2263: 0, 2264: 0, 2265: 0, 2266: 0, 2267: 0, 2268: 0, 2269: 0, 2270: 0, 2271: 0, 2272: 1, 2273: 1, 2274: 1, 2275: 0, 2276: 1, 2277: 0, 2278: 0, 2279: 0, 2280: 0, 2281: 0, 2282: 0, 2283: 0, 2284: 0, 2285: 0, 2286: 0, 2287: 0, 2288: 1, 2289: 0, 2290: 0, 2291: 0, 2292: 0, 2293: 0, 2294: 0, 2295: 0, 2296: 0, 2297: 0, 2298: 0, 2299: 0, 2300: 0, 2301: 0, 2302: 1, 2303: 1, 2304: 0, 2305: 1, 2306: 0, 2307: 1, 2308: 0, 2309: 0, 2310: 0, 2311: 0, 2312: 0, 2313: 0, 2314: 0, 2315: 0, 2316: 0, 2317: 0, 2318: 1, 2319: 0, 2320: 0, 2321: 0, 2322: 0, 2323: 0, 2324: 0, 2325: 0, 2326: 0, 2327: 0, 2328: 0, 2329: 0, 2330: 0, 2331: 0, 2332: 0, 2333: 0, 2334: 0, 2335: 0, 2336: 0, 2337: 0, 2338: 0, 2339: 0, 2340: 0, 2341: 1, 2342: 0, 2343: 0, 2344: 0, 2345: 0, 2346: 0, 2347: 0, 2348: 0, 2349: 0, 2350: 0, 2351: 0, 2352: 0, 2353: 0, 2354: 0, 2355: 0, 2356: 1, 2357: 0, 2358: 0, 2359: 0, 2360: 1, 2361: 0, 2362: 0, 2363: 0, 2364: 0, 2365: 0, 2366: 0, 2367: 0, 2368: 0, 2369: 0, 2370: 0, 2371: 0, 2372: 0, 2373: 0, 2374: 0, 2375: 1, 2376: 0, 2377: 0, 2378: 2, 2379: 0, 2380: 0, 2381: 0, 2382: 0, 2383: 0, 2384: 0, 2385: 0, 2386: 0, 2387: 0, 2388: 0, 2389: 0, 2390: 0, 2391: 2, 2392: 2, 2393: 0, 2394: 2, 2395: 0, 2396: 0, 2397: 0, 2398: 0, 2399: 0, 2400: 0, 2401: 0, 2402: 0, 2403: 0, 2404: 0, 2405: 0, 2406: 0, 2407: 0, 2408: 0, 2409: 0, 2410: 0, 2411: 0, 2412: 0, 2413: 0, 2414: 0, 2415: 0, 2416: 0, 2417: 0, 2418: 0, 2419: 0, 2420: 0, 2421: 0, 2422: 2, 2423: 0, 2424: 0, 2425: 0, 2426: 0, 2427: 0, 2428: 0, 2429: 0, 2430: 0, 2431: 0, 2432: 0, 2433: 0, 2434: 0, 2435: 0, 2436: 0, 2437: 0, 2438: 0, 2439: 0, 2440: 0, 2441: 0, 2442: 0, 2443: 0, 2444: 0, 2445: 0, 2446: 0, 2447: 0, 2448: 0, 2449: 0, 2450: 0, 2451: 0, 2452: 0, 2453: 0, 2454: 0, 2455: 0, 2456: 0, 2457: 0, 2458: 0, 2459: 0, 2460: 0, 2461: 2, 2462: 0, 2463: 0, 2464: 0, 2465: 0, 2466: 0, 2467: 0, 2468: 0, 2469: 0, 2470: 0, 2471: 0, 2472: 0, 2473: 0, 2474: 0, 2475: 0, 2476: 1, 2477: 0, 2478: 0, 2479: 0, 2480: 0, 2481: 0, 2482: 0, 2483: 0, 2484: 0, 2485: 0, 2486: 0, 2487: 0, 2488: 0, 2489: 0, 2490: 0, 2491: 0, 2492: 0, 2493: 0, 2494: 0, 2495: 0, 2496: 0, 2497: 0, 2498: 0, 2499: 0, 2500: 0, 2501: 0, 2502: 0, 2503: 0, 2504: 0, 2505: 0, 2506: 0, 2507: 0, 2508: 0, 2509: 2, 2510: 0, 2511: 0, 2512: 0, 2513: 0, 2514: 0, 2515: 0, 2516: 0, 2517: 1, 2518: 0, 2519: 0, 2520: 0, 2521: 0, 2522: 0, 2523: 0, 2524: 0, 2525: 0, 2526: 0, 2527: 0, 2528: 2, 2529: 2, 2530: 2, 2531: 2, 2532: 0, 2533: 0, 2534: 0, 2535: 0, 2536: 0, 2537: 0, 2538: 2, 2539: 0, 2540: 0, 2541: 0, 2542: 0, 2543: 0, 2544: 0, 2545: 1, 2546: 0, 2547: 0, 2548: 0, 2549: 0, 2550: 0, 2551: 0, 2552: 0, 2553: 0, 2554: 0, 2555: 0, 2556: 0, 2557: 0, 2558: 0, 2559: 0, 2560: 0, 2561: 0, 2562: 0, 2563: 0, 2564: 1, 2565: 0, 2566: 0, 2567: 0, 2568: 0, 2569: 0, 2570: 0, 2571: 0, 2572: 0, 2573: 0, 2574: 0, 2575: 0, 2576: 0, 2577: 0, 2578: 0, 2579: 0, 2580: 0, 2581: 0, 2582: 0, 2583: 0, 2584: 0, 2585: 0, 2586: 0, 2587: 0, 2588: 0, 2589: 0, 2590: 0, 2591: 0, 2592: 0, 2593: 0, 2594: 0, 2595: 0, 2596: 0, 2597: 0, 2598: 2, 2599: 0, 2600: 0, 2601: 0, 2602: 0, 2603: 0, 2604: 0, 2605: 0, 2606: 0, 2607: 0, 2608: 0, 2609: 0, 2610: 0, 2611: 0, 2612: 0, 2613: 0, 2614: 1, 2615: 0, 2616: 0, 2617: 0, 2618: 0, 2619: 0, 2620: 0, 2621: 0, 2622: 2, 2623: 2, 2624: 0, 2625: 0, 2626: 2, 2627: 2, 2628: 2, 2629: 0, 2630: 0, 2631: 0, 2632: 1, 2633: 0, 2634: 0, 2635: 0, 2636: 0, 2637: 0, 2638: 1, 2639: 0, 2640: 0, 2641: 0, 2642: 0, 2643: 0, 2644: 0, 2645: 0, 2646: 0, 2647: 0, 2648: 0, 2649: 0, 2650: 0, 2651: 0, 2652: 1, 2653: 0, 2654: 0, 2655: 0, 2656: 0, 2657: 0, 2658: 1, 2659: 1, 2660: 0, 2661: 0, 2662: 0, 2663: 1, 2664: 0, 2665: 0, 2666: 0, 2667: 0, 2668: 0, 2669: 0, 2670: 0, 2671: 0, 2672: 0, 2673: 0, 2674: 2, 2675: 1, 2676: 0, 2677: 0, 2678: 0, 2679: 0, 2680: 0, 2681: 0, 2682: 0, 2683: 0, 2684: 0, 2685: 0, 2686: 0, 2687: 0, 2688: 0, 2689: 0, 2690: 0, 2691: 0, 2692: 0, 2693: 0, 2694: 0, 2695: 0, 2696: 0, 2697: 2, 2698: 0, 2699: 0, 2700: 0, 2701: 0, 2702: 0, 2703: 0, 2704: 0, 2705: 0, 2706: 0, 2707: 0, 2708: 0, 2709: 0, 2710: 0, 2711: 0, 2712: 0, 2713: 1, 2714: 0, 2715: 1, 2716: 1, 2717: 0, 2718: 2, 2719: 2, 2720: 2, 2721: 1, 2722: 0, 2723: 0, 2724: 1, 2725: 1, 2726: 1, 2727: 1, 2728: 1, 2729: 0, 2730: 0, 2731: 0, 2732: 0, 2733: 0, 2734: 0, 2735: 0, 2736: 1, 2737: 2, 2738: 0, 2739: 0, 2740: 0, 2741: 0, 2742: 0, 2743: 2, 2744: 0, 2745: 0, 2746: 0, 2747: 0, 2748: 0, 2749: 0, 2750: 0, 2751: 0, 2752: 0, 2753: 2, 2754: 0, 2755: 0, 2756: 0, 2757: 0, 2758: 0, 2759: 0, 2760: 0, 2761: 0, 2762: 0, 2763: 0, 2764: 0, 2765: 0, 2766: 2, 2767: 2, 2768: 0, 2769: 1, 2770: 1, 2771: 0, 2772: 0, 2773: 0, 2774: 1, 2775: 2, 2776: 2, 2777: 0, 2778: 2, 2779: 2, 2780: 2, 2781: 0, 2782: 2, 2783: 0, 2784: 0, 2785: 0, 2786: 0, 2787: 0, 2788: 0, 2789: 0, 2790: 0, 2791: 0, 2792: 0, 2793: 1, 2794: 0, 2795: 0, 2796: 0, 2797: 0, 2798: 0, 2799: 0, 2800: 0, 2801: 0, 2802: 0, 2803: 0, 2804: 0, 2805: 0, 2806: 0, 2807: 0, 2808: 0, 2809: 0, 2810: 2, 2811: 1, 2812: 0, 2813: 0, 2814: 0, 2815: 0, 2816: 0, 2817: 0, 2818: 0, 2819: 0, 2820: 0, 2821: 0, 2822: 0, 2823: 0, 2824: 0, 2825: 0, 2826: 0, 2827: 0, 2828: 1, 2829: 0, 2830: 0, 2831: 0, 2832: 0, 2833: 0, 2834: 0, 2835: 0, 2836: 1, 2837: 0, 2838: 0, 2839: 1, 2840: 0, 2841: 0, 2842: 0, 2843: 0, 2844: 0, 2845: 0, 2846: 0, 2847: 0, 2848: 0, 2849: 0, 2850: 0, 2851: 0, 2852: 0, 2853: 0, 2854: 0, 2855: 0, 2856: 0, 2857: 0, 2858: 0, 2859: 0, 2860: 0, 2861: 0, 2862: 0, 2863: 0, 2864: 0, 2865: 2, 2866: 0, 2867: 0, 2868: 0, 2869: 0, 2870: 0, 2871: 0, 2872: 0, 2873: 0, 2874: 0, 2875: 0, 2876: 0, 2877: 0, 2878: 0, 2879: 0, 2880: 0, 2881: 0, 2882: 0, 2883: 0, 2884: 0, 2885: 0, 2886: 0, 2887: 0, 2888: 0, 2889: 0, 2890: 0, 2891: 0, 2892: 0, 2893: 0, 2894: 0, 2895: 0, 2896: 0, 2897: 0, 2898: 0, 2899: 0, 2900: 0, 2901: 0, 2902: 0, 2903: 0, 2904: 0, 2905: 0, 2906: 1, 2907: 2, 2908: 0, 2909: 0, 2910: 0, 2911: 0, 2912: 0, 2913: 0, 2914: 0, 2915: 0, 2916: 0, 2917: 0, 2918: 0, 2919: 0, 2920: 0, 2921: 0, 2922: 0, 2923: 0, 2924: 0, 2925: 0, 2926: 0, 2927: 0, 2928: 0, 2929: 2, 2930: 0, 2931: 0, 2932: 0, 2933: 0, 2934: 0, 2935: 0, 2936: 0, 2937: 0, 2938: 0, 2939: 0, 2940: 0, 2941: 0, 2942: 0, 2943: 0, 2944: 0, 2945: 0, 2946: 0, 2947: 0, 2948: 0, 2949: 0, 2950: 0, 2951: 0, 2952: 0, 2953: 0, 2954: 0, 2955: 0, 2956: 0, 2957: 0, 2958: 0, 2959: 0, 2960: 0, 2961: 2, 2962: 0, 2963: 0, 2964: 0, 2965: 0, 2966: 1, 2967: 0, 2968: 0, 2969: 0, 2970: 0, 2971: 0, 2972: 0, 2973: 0, 2974: 0, 2975: 0, 2976: 0, 2977: 0, 2978: 0, 2979: 0, 2980: 0, 2981: 0, 2982: 0, 2983: 0, 2984: 0, 2985: 0, 2986: 0, 2987: 0, 2988: 0, 2989: 0, 2990: 2, 2991: 0, 2992: 0, 2993: 0, 2994: 0, 2995: 0, 2996: 0, 2997: 0, 2998: 0, 2999: 0, 3000: 0, 3001: 0, 3002: 0, 3003: 0, 3004: 1, 3005: 0, 3006: 1, 3007: 0, 3008: 0, 3009: 1, 3010: 1, 3011: 1, 3012: 0, 3013: 2, 3014: 0, 3015: 2, 3016: 2, 3017: 1, 3018: 0, 3019: 0, 3020: 0, 3021: 2, 3022: 0, 3023: 0, 3024: 0, 3025: 0, 3026: 0, 3027: 0, 3028: 0, 3029: 0, 3030: 0, 3031: 0, 3032: 0, 3033: 0, 3034: 0, 3035: 0, 3036: 1, 3037: 0, 3038: 2, 3039: 0, 3040: 0, 3041: 0, 3042: 0, 3043: 1, 3044: 0, 3045: 0, 3046: 0, 3047: 0, 3048: 0, 3049: 0, 3050: 0, 3051: 0, 3052: 0, 3053: 0, 3054: 0, 3055: 0, 3056: 0, 3057: 0, 3058: 0, 3059: 0, 3060: 0, 3061: 0, 3062: 0, 3063: 0, 3064: 0, 3065: 0, 3066: 0, 3067: 0, 3068: 0, 3069: 0, 3070: 0, 3071: 0, 3072: 0, 3073: 0, 3074: 0, 3075: 0, 3076: 0, 3077: 0, 3078: 0, 3079: 0, 3080: 0, 3081: 0, 3082: 0, 3083: 0, 3084: 0, 3085: 0, 3086: 0, 3087: 0, 3088: 0, 3089: 0, 3090: 0, 3091: 0, 3092: 0, 3093: 0, 3094: 0, 3095: 0, 3096: 0, 3097: 0, 3098: 0, 3099: 0, 3100: 0, 3101: 0, 3102: 0, 3103: 0, 3104: 0, 3105: 0, 3106: 0, 3107: 0, 3108: 1, 3109: 0, 3110: 0, 3111: 0, 3112: 1, 3113: 1, 3114: 0, 3115: 0, 3116: 2, 3117: 0, 3118: 1, 3119: 0, 3120: 0, 3121: 0, 3122: 0, 3123: 0, 3124: 1, 3125: 0, 3126: 1, 3127: 0, 3128: 0, 3129: 0, 3130: 0, 3131: 0, 3132: 0, 3133: 0, 3134: 0, 3135: 0, 3136: 2, 3137: 0, 3138: 0, 3139: 0, 3140: 0, 3141: 0, 3142: 1, 3143: 0, 3144: 0, 3145: 0, 3146: 0, 3147: 0, 3148: 0, 3149: 0, 3150: 0, 3151: 0, 3152: 1, 3153: 0, 3154: 0, 3155: 0, 3156: 0, 3157: 0, 3158: 0, 3159: 0, 3160: 0, 3161: 0, 3162: 0, 3163: 0, 3164: 0, 3165: 2, 3166: 0, 3167: 0, 3168: 0, 3169: 0, 3170: 0, 3171: 0, 3172: 0, 3173: 0, 3174: 0, 3175: 0, 3176: 0, 3177: 0, 3178: 0, 3179: 0, 3180: 0, 3181: 0, 3182: 0, 3183: 0, 3184: 0, 3185: 1, 3186: 0, 3187: 0, 3188: 0, 3189: 0, 3190: 0, 3191: 0, 3192: 0, 3193: 0, 3194: 0, 3195: 0, 3196: 0, 3197: 0, 3198: 0, 3199: 0, 3200: 0, 3201: 0, 3202: 0, 3203: 0, 3204: 0, 3205: 0, 3206: 0, 3207: 0, 3208: 0, 3209: 0, 3210: 0, 3211: 0, 3212: 0, 3213: 0, 3214: 0, 3215: 0, 3216: 0, 3217: 0, 3218: 0, 3219: 0, 3220: 0, 3221: 2, 3222: 0, 3223: 0, 3224: 0, 3225: 0, 3226: 0, 3227: 0, 3228: 0, 3229: 0, 3230: 0, 3231: 2, 3232: 0, 3233: 0, 3234: 0, 3235: 0, 3236: 2, 3237: 0, 3238: 0, 3239: 0, 3240: 0, 3241: 0, 3242: 0, 3243: 0, 3244: 0, 3245: 0, 3246: 0, 3247: 0, 3248: 0, 3249: 0, 3250: 0, 3251: 0, 3252: 0, 3253: 0, 3254: 0, 3255: 0, 3256: 0, 3257: 0, 3258: 0, 3259: 0, 3260: 0, 3261: 0, 3262: 0, 3263: 0, 3264: 0, 3265: 1, 3266: 0, 3267: 0, 3268: 0, 3269: 2, 3270: 0, 3271: 0, 3272: 0, 3273: 0, 3274: 0, 3275: 0, 3276: 0, 3277: 0, 3278: 0, 3279: 0, 3280: 0, 3281: 0, 3282: 0, 3283: 0, 3284: 0, 3285: 0, 3286: 0, 3287: 0, 3288: 0, 3289: 0, 3290: 0, 3291: 0, 3292: 0, 3293: 0, 3294: 0, 3295: 0, 3296: 0, 3297: 0, 3298: 0, 3299: 2, 3300: 2, 3301: 1, 3302: 0, 3303: 0, 3304: 0, 3305: 0, 3306: 0, 3307: 1, 3308: 0, 3309: 0, 3310: 2, 3311: 0, 3312: 2, 3313: 2, 3314: 0, 3315: 0, 3316: 0, 3317: 0, 3318: 0, 3319: 0, 3320: 0, 3321: 0, 3322: 0, 3323: 0, 3324: 0, 3325: 0, 3326: 0, 3327: 0, 3328: 0, 3329: 0, 3330: 0, 3331: 0, 3332: 0, 3333: 2, 3334: 2, 3335: 0, 3336: 0, 3337: 0, 3338: 0, 3339: 0, 3340: 0, 3341: 2, 3342: 0, 3343: 0, 3344: 0, 3345: 0, 3346: 0, 3347: 0, 3348: 0, 3349: 2, 3350: 0, 3351: 0, 3352: 0, 3353: 2, 3354: 0, 3355: 0, 3356: 0, 3357: 0, 3358: 0, 3359: 2, 3360: 2, 3361: 0, 3362: 0, 3363: 0, 3364: 2, 3365: 0, 3366: 1, 3367: 0, 3368: 0, 3369: 0, 3370: 0, 3371: 0, 3372: 0, 3373: 0, 3374: 0, 3375: 0, 3376: 0, 3377: 0, 3378: 2, 3379: 2, 3380: 0, 3381: 0, 3382: 0, 3383: 0, 3384: 0, 3385: 2, 3386: 0, 3387: 0, 3388: 0, 3389: 0, 3390: 0, 3391: 0, 3392: 0, 3393: 0, 3394: 0, 3395: 2, 3396: 0, 3397: 0, 3398: 0, 3399: 0, 3400: 2, 3401: 0, 3402: 0, 3403: 2, 3404: 0, 3405: 0, 3406: 0, 3407: 0, 3408: 0, 3409: 0, 3410: 0, 3411: 0, 3412: 0, 3413: 0, 3414: 0, 3415: 0, 3416: 0, 3417: 0, 3418: 0, 3419: 0, 3420: 0, 3421: 0, 3422: 1, 3423: 1, 3424: 0, 3425: 0, 3426: 0, 3427: 0, 3428: 0, 3429: 1, 3430: 0, 3431: 0, 3432: 0, 3433: 0, 3434: 0, 3435: 0, 3436: 0, 3437: 0, 3438: 0, 3439: 0, 3440: 0, 3441: 0, 3442: 1, 3443: 0, 3444: 0, 3445: 0, 3446: 0, 3447: 0, 3448: 0, 3449: 0, 3450: 0, 3451: 0, 3452: 0, 3453: 0, 3454: 0, 3455: 0, 3456: 0, 3457: 0, 3458: 0, 3459: 0, 3460: 0, 3461: 0, 3462: 0, 3463: 0, 3464: 0, 3465: 0, 3466: 0, 3467: 0, 3468: 0, 3469: 1, 3470: 0, 3471: 0, 3472: 0, 3473: 0, 3474: 0, 3475: 0, 3476: 0, 3477: 0, 3478: 0, 3479: 0, 3480: 0, 3481: 0, 3482: 0, 3483: 0, 3484: 0, 3485: 0, 3486: 0, 3487: 0, 3488: 0, 3489: 0, 3490: 0, 3491: 0, 3492: 0, 3493: 0, 3494: 0, 3495: 0, 3496: 0, 3497: 0, 3498: 0, 3499: 0, 3500: 0, 3501: 0, 3502: 0, 3503: 0, 3504: 0, 3505: 0, 3506: 1, 3507: 0, 3508: 0, 3509: 0, 3510: 0, 3511: 0, 3512: 0, 3513: 0, 3514: 0, 3515: 0, 3516: 0, 3517: 0, 3518: 0, 3519: 0, 3520: 0, 3521: 0, 3522: 0, 3523: 0, 3524: 0, 3525: 0, 3526: 0, 3527: 0, 3528: 0, 3529: 0, 3530: 0, 3531: 0, 3532: 0, 3533: 0, 3534: 0, 3535: 0, 3536: 0, 3537: 0, 3538: 0, 3539: 2, 3540: 0, 3541: 0, 3542: 0, 3543: 0, 3544: 0, 3545: 0, 3546: 0, 3547: 0, 3548: 0, 3549: 0, 3550: 0, 3551: 0, 3552: 0, 3553: 0, 3554: 0, 3555: 0, 3556: 0, 3557: 0, 3558: 0, 3559: 0, 3560: 0, 3561: 0, 3562: 2, 3563: 1, 3564: 0, 3565: 0, 3566: 0, 3567: 0, 3568: 0, 3569: 0, 3570: 0, 3571: 0, 3572: 0, 3573: 0, 3574: 0, 3575: 2, 3576: 0, 3577: 2, 3578: 2, 3579: 0, 3580: 2, 3581: 0, 3582: 0, 3583: 0, 3584: 0, 3585: 0, 3586: 0, 3587: 0, 3588: 0, 3589: 0, 3590: 0, 3591: 0, 3592: 0, 3593: 0, 3594: 0, 3595: 0, 3596: 0, 3597: 0, 3598: 0, 3599: 0, 3600: 0, 3601: 0, 3602: 0, 3603: 0, 3604: 0, 3605: 0, 3606: 0, 3607: 0, 3608: 0, 3609: 0, 3610: 0, 3611: 0, 3612: 0, 3613: 0, 3614: 0, 3615: 0, 3616: 0, 3617: 0, 3618: 0, 3619: 0, 3620: 0, 3621: 0, 3622: 0, 3623: 0, 3624: 0, 3625: 0, 3626: 0, 3627: 0, 3628: 0, 3629: 0, 3630: 0, 3631: 0, 3632: 0, 3633: 0, 3634: 0, 3635: 0, 3636: 0, 3637: 0, 3638: 0, 3639: 0, 3640: 0, 3641: 0, 3642: 0, 3643: 0, 3644: 0, 3645: 0, 3646: 0, 3647: 0, 3648: 0, 3649: 0, 3650: 0, 3651: 0, 3652: 0, 3653: 0, 3654: 0, 3655: 0, 3656: 0, 3657: 0, 3658: 0, 3659: 0, 3660: 0, 3661: 0, 3662: 0, 3663: 0, 3664: 0, 3665: 0, 3666: 0, 3667: 0, 3668: 0, 3669: 0, 3670: 0, 3671: 0, 3672: 0, 3673: 0, 3674: 0, 3675: 0, 3676: 0, 3677: 0, 3678: 0, 3679: 0, 3680: 1, 3681: 0, 3682: 0, 3683: 0, 3684: 1, 3685: 0, 3686: 0, 3687: 0, 3688: 2, 3689: 0, 3690: 0, 3691: 0, 3692: 0, 3693: 0, 3694: 1, 3695: 0, 3696: 0, 3697: 0, 3698: 0, 3699: 0, 3700: 0, 3701: 0, 3702: 0, 3703: 1, 3704: 0, 3705: 0, 3706: 1, 3707: 1, 3708: 0, 3709: 1, 3710: 0, 3711: 0, 3712: 1, 3713: 0, 3714: 0, 3715: 0, 3716: 0, 3717: 0, 3718: 0, 3719: 0, 3720: 0, 3721: 0, 3722: 0, 3723: 0, 3724: 0, 3725: 0, 3726: 0, 3727: 0, 3728: 0, 3729: 0, 3730: 0, 3731: 0, 3732: 1, 3733: 0, 3734: 0, 3735: 0, 3736: 0, 3737: 0, 3738: 0, 3739: 0, 3740: 0, 3741: 0, 3742: 0, 3743: 2, 3744: 0, 3745: 0, 3746: 0, 3747: 0, 3748: 0, 3749: 0, 3750: 0, 3751: 0, 3752: 0, 3753: 1, 3754: 0, 3755: 0, 3756: 0, 3757: 0, 3758: 0, 3759: 0, 3760: 2, 3761: 0, 3762: 1, 3763: 0, 3764: 0, 3765: 0, 3766: 0, 3767: 0, 3768: 0, 3769: 0, 3770: 0, 3771: 0, 3772: 0, 3773: 0, 3774: 0, 3775: 0, 3776: 0, 3777: 0, 3778: 1, 3779: 0, 3780: 0, 3781: 0, 3782: 0, 3783: 0, 3784: 0, 3785: 2, 3786: 2, 3787: 0, 3788: 2, 3789: 0, 3790: 0, 3791: 0, 3792: 0, 3793: 0, 3794: 0, 3795: 0, 3796: 0, 3797: 0, 3798: 0, 3799: 0, 3800: 0, 3801: 2, 3802: 0, 3803: 0, 3804: 0, 3805: 0, 3806: 0, 3807: 0, 3808: 0, 3809: 0, 3810: 0, 3811: 0, 3812: 0, 3813: 0, 3814: 0, 3815: 0, 3816: 0, 3817: 0, 3818: 0, 3819: 0, 3820: 0, 3821: 0, 3822: 0, 3823: 0, 3824: 0, 3825: 2, 3826: 0, 3827: 0, 3828: 0, 3829: 0, 3830: 0, 3831: 0, 3832: 0, 3833: 0, 3834: 0, 3835: 0, 3836: 0, 3837: 0, 3838: 0, 3839: 0, 3840: 0, 3841: 0, 3842: 0, 3843: 1, 3844: 0, 3845: 0, 3846: 0, 3847: 0, 3848: 0, 3849: 0, 3850: 0, 3851: 0, 3852: 0, 3853: 0, 3854: 0, 3855: 0, 3856: 0, 3857: 0, 3858: 0, 3859: 0, 3860: 0, 3861: 0, 3862: 0, 3863: 0, 3864: 0, 3865: 0, 3866: 0, 3867: 0, 3868: 0, 3869: 0, 3870: 0, 3871: 0, 3872: 0, 3873: 0, 3874: 0, 3875: 2, 3876: 0, 3877: 0, 3878: 0, 3879: 0, 3880: 0, 3881: 0, 3882: 0, 3883: 0, 3884: 0, 3885: 0, 3886: 0, 3887: 0, 3888: 2, 3889: 0, 3890: 0, 3891: 2, 3892: 0, 3893: 0, 3894: 0, 3895: 2, 3896: 0, 3897: 0, 3898: 0, 3899: 0, 3900: 0, 3901: 0, 3902: 0, 3903: 2, 3904: 0, 3905: 0, 3906: 1, 3907: 0, 3908: 0, 3909: 0, 3910: 0, 3911: 0, 3912: 0, 3913: 0, 3914: 1, 3915: 1, 3916: 0, 3917: 0, 3918: 1, 3919: 0, 3920: 0, 3921: 0, 3922: 0, 3923: 0, 3924: 0, 3925: 0, 3926: 0, 3927: 2, 3928: 0, 3929: 0, 3930: 0, 3931: 0, 3932: 0, 3933: 0, 3934: 0, 3935: 0, 3936: 0, 3937: 0, 3938: 0, 3939: 0, 3940: 0, 3941: 0, 3942: 0, 3943: 0, 3944: 0, 3945: 0, 3946: 0, 3947: 0, 3948: 0, 3949: 0, 3950: 0, 3951: 0, 3952: 0, 3953: 0, 3954: 0, 3955: 0, 3956: 0, 3957: 0, 3958: 0, 3959: 0, 3960: 0, 3961: 0, 3962: 0, 3963: 0, 3964: 0, 3965: 0, 3966: 0, 3967: 0, 3968: 0, 3969: 0, 3970: 0, 3971: 0, 3972: 0, 3973: 0, 3974: 0, 3975: 2, 3976: 0, 3977: 0, 3978: 0, 3979: 0, 3980: 0, 3981: 0, 3982: 0, 3983: 0, 3984: 0, 3985: 0, 3986: 0, 3987: 0, 3988: 0, 3989: 0, 3990: 0, 3991: 0, 3992: 0, 3993: 0, 3994: 0, 3995: 0, 3996: 0, 3997: 0, 3998: 0, 3999: 0, 4000: 0, 4001: 0, 4002: 0, 4003: 0, 4004: 0, 4005: 1, 4006: 1, 4007: 0, 4008: 0, 4009: 0, 4010: 0, 4011: 0, 4012: 0, 4013: 0, 4014: 0, 4015: 0, 4016: 0, 4017: 0, 4018: 0, 4019: 1, 4020: 0, 4021: 0, 4022: 0, 4023: 1, 4024: 0, 4025: 0, 4026: 0, 4027: 0, 4028: 0, 4029: 0, 4030: 0, 4031: 0, 4032: 0, 4033: 0, 4034: 0, 4035: 0, 4036: 0, 4037: 0, 4038: 0, 4039: 0, 4040: 0, 4041: 0, 4042: 0, 4043: 2, 4044: 0, 4045: 0, 4046: 1, 4047: 0, 4048: 2, 4049: 0, 4050: 0, 4051: 0, 4052: 0, 4053: 0, 4054: 0, 4055: 0, 4056: 0, 4057: 0, 4058: 0, 4059: 0, 4060: 0, 4061: 1, 4062: 0, 4063: 0, 4064: 0, 4065: 0, 4066: 0, 4067: 0, 4068: 0, 4069: 0, 4070: 0, 4071: 0, 4072: 0, 4073: 1, 4074: 0, 4075: 0, 4076: 0, 4077: 0, 4078: 0, 4079: 0, 4080: 0, 4081: 0, 4082: 0, 4083: 2, 4084: 0, 4085: 0, 4086: 0, 4087: 0, 4088: 0, 4089: 0, 4090: 0, 4091: 1, 4092: 0, 4093: 1, 4094: 0, 4095: 0, 4096: 0, 4097: 0, 4098: 2, 4099: 0, 4100: 0, 4101: 0, 4102: 0, 4103: 2, 4104: 1, 4105: 0, 4106: 0, 4107: 2, 4108: 2, 4109: 0, 4110: 0, 4111: 0, 4112: 0, 4113: 0, 4114: 0, 4115: 1, 4116: 1, 4117: 1, 4118: 0, 4119: 0, 4120: 0, 4121: 0, 4122: 0, 4123: 0, 4124: 0, 4125: 0, 4126: 0, 4127: 0, 4128: 0, 4129: 0, 4130: 0, 4131: 0, 4132: 0, 4133: 1, 4134: 1, 4135: 1, 4136: 2, 4137: 0, 4138: 0, 4139: 0, 4140: 0, 4141: 0, 4142: 0, 4143: 0, 4144: 0, 4145: 0, 4146: 1, 4147: 0, 4148: 0, 4149: 0, 4150: 0, 4151: 0, 4152: 0, 4153: 0, 4154: 0, 4155: 1, 4156: 0, 4157: 0, 4158: 0, 4159: 0, 4160: 0, 4161: 0, 4162: 2, 4163: 0, 4164: 0, 4165: 0, 4166: 0, 4167: 0, 4168: 0, 4169: 0, 4170: 0, 4171: 0, 4172: 0, 4173: 0, 4174: 0, 4175: 0, 4176: 0, 4177: 0, 4178: 0, 4179: 0, 4180: 0, 4181: 1, 4182: 0, 4183: 1, 4184: 1, 4185: 0, 4186: 0, 4187: 0, 4188: 0, 4189: 0, 4190: 0, 4191: 0, 4192: 0, 4193: 1, 4194: 1, 4195: 1, 4196: 0, 4197: 0, 4198: 0, 4199: 0, 4200: 0, 4201: 1, 4202: 0, 4203: 0, 4204: 2, 4205: 2, 4206: 0, 4207: 0, 4208: 0, 4209: 0, 4210: 0, 4211: 0, 4212: 0, 4213: 0, 4214: 0, 4215: 0, 4216: 0, 4217: 0, 4218: 0, 4219: 0, 4220: 0, 4221: 0, 4222: 0, 4223: 0, 4224: 2, 4225: 0, 4226: 0, 4227: 0, 4228: 0, 4229: 0, 4230: 0, 4231: 0, 4232: 2, 4233: 0, 4234: 0, 4235: 0, 4236: 0, 4237: 0, 4238: 0, 4239: 0, 4240: 0, 4241: 0, 4242: 0, 4243: 0, 4244: 0, 4245: 1, 4246: 0, 4247: 0, 4248: 0, 4249: 0, 4250: 0, 4251: 0, 4252: 0, 4253: 0, 4254: 0, 4255: 0, 4256: 0, 4257: 0, 4258: 0, 4259: 0, 4260: 0, 4261: 0, 4262: 0, 4263: 0, 4264: 0, 4265: 0, 4266: 0, 4267: 0, 4268: 0, 4269: 1, 4270: 2, 4271: 1, 4272: 0, 4273: 0, 4274: 0, 4275: 0, 4276: 0, 4277: 0, 4278: 0, 4279: 0, 4280: 0, 4281: 0, 4282: 0, 4283: 0, 4284: 0, 4285: 1, 4286: 0, 4287: 0, 4288: 0, 4289: 0, 4290: 0, 4291: 1, 4292: 0, 4293: 0, 4294: 0, 4295: 0, 4296: 0, 4297: 0, 4298: 0, 4299: 0, 4300: 0, 4301: 0, 4302: 0, 4303: 0, 4304: 0, 4305: 0, 4306: 0, 4307: 0, 4308: 0, 4309: 0, 4310: 0, 4311: 0, 4312: 0, 4313: 0, 4314: 0, 4315: 0, 4316: 0, 4317: 0, 4318: 0, 4319: 0, 4320: 0, 4321: 0, 4322: 0, 4323: 0, 4324: 0, 4325: 0, 4326: 0, 4327: 0, 4328: 0, 4329: 0, 4330: 0, 4331: 0, 4332: 0, 4333: 0, 4334: 0, 4335: 0, 4336: 0, 4337: 0, 4338: 0, 4339: 0, 4340: 0, 4341: 0, 4342: 0, 4343: 1, 4344: 0, 4345: 0, 4346: 0, 4347: 0, 4348: 0, 4349: 0, 4350: 0, 4351: 0, 4352: 0, 4353: 0, 4354: 0, 4355: 0, 4356: 0, 4357: 0, 4358: 0, 4359: 0, 4360: 0, 4361: 0, 4362: 0, 4363: 0, 4364: 0, 4365: 0, 4366: 0, 4367: 0, 4368: 0, 4369: 0, 4370: 0, 4371: 1, 4372: 0, 4373: 0, 4374: 0, 4375: 0, 4376: 0, 4377: 0, 4378: 0, 4379: 0, 4380: 0, 4381: 0, 4382: 0, 4383: 0, 4384: 0, 4385: 0, 4386: 0, 4387: 0, 4388: 0, 4389: 0, 4390: 1, 4391: 0, 4392: 0, 4393: 0, 4394: 0, 4395: 0, 4396: 0, 4397: 0, 4398: 0, 4399: 0, 4400: 0, 4401: 0, 4402: 0, 4403: 0, 4404: 0, 4405: 0, 4406: 0, 4407: 0, 4408: 0, 4409: 0, 4410: 0, 4411: 0, 4412: 0, 4413: 0, 4414: 0, 4415: 0, 4416: 0, 4417: 0, 4418: 0, 4419: 0, 4420: 0, 4421: 0, 4422: 0, 4423: 0, 4424: 0, 4425: 0, 4426: 0, 4427: 0, 4428: 0, 4429: 0, 4430: 0, 4431: 1, 4432: 0, 4433: 0, 4434: 0, 4435: 2, 4436: 0, 4437: 0, 4438: 0, 4439: 0, 4440: 0, 4441: 0, 4442: 0, 4443: 0, 4444: 0, 4445: 0, 4446: 0, 4447: 0, 4448: 0, 4449: 0, 4450: 0, 4451: 0, 4452: 0, 4453: 2, 4454: 0, 4455: 2, 4456: 0, 4457: 0, 4458: 0, 4459: 0, 4460: 0, 4461: 0, 4462: 0, 4463: 0, 4464: 0, 4465: 0, 4466: 0, 4467: 0, 4468: 0, 4469: 0, 4470: 0, 4471: 0, 4472: 0, 4473: 0, 4474: 0, 4475: 0, 4476: 0, 4477: 0, 4478: 0, 4479: 0, 4480: 0, 4481: 0, 4482: 0, 4483: 0, 4484: 0, 4485: 0, 4486: 0, 4487: 0, 4488: 0, 4489: 0, 4490: 0, 4491: 0, 4492: 0, 4493: 0, 4494: 0, 4495: 0, 4496: 0, 4497: 0, 4498: 0, 4499: 0, 4500: 0, 4501: 0, 4502: 0, 4503: 0, 4504: 0, 4505: 0, 4506: 0, 4507: 0, 4508: 0, 4509: 0, 4510: 0, 4511: 0, 4512: 0, 4513: 0, 4514: 0, 4515: 0, 4516: 0, 4517: 0, 4518: 0, 4519: 0, 4520: 0, 4521: 0, 4522: 0, 4523: 0, 4524: 0, 4525: 0, 4526: 0, 4527: 0, 4528: 0, 4529: 0, 4530: 0, 4531: 0, 4532: 0, 4533: 0, 4534: 0, 4535: 0, 4536: 0, 4537: 0, 4538: 0, 4539: 0, 4540: 0, 4541: 0, 4542: 0, 4543: 0, 4544: 0, 4545: 0, 4546: 0, 4547: 0, 4548: 0, 4549: 0, 4550: 0, 4551: 0, 4552: 0, 4553: 0, 4554: 0, 4555: 0, 4556: 0, 4557: 0, 4558: 0, 4559: 0, 4560: 0, 4561: 0, 4562: 0, 4563: 0, 4564: 0, 4565: 0, 4566: 0, 4567: 0, 4568: 0, 4569: 0, 4570: 0, 4571: 0, 4572: 0, 4573: 0, 4574: 0, 4575: 0, 4576: 0, 4577: 0, 4578: 0, 4579: 0, 4580: 0, 4581: 0, 4582: 0, 4583: 0, 4584: 0, 4585: 0, 4586: 0, 4587: 0, 4588: 0, 4589: 0, 4590: 0, 4591: 0, 4592: 0, 4593: 0, 4594: 0, 4595: 0, 4596: 0, 4597: 0, 4598: 0, 4599: 0, 4600: 0, 4601: 0, 4602: 0, 4603: 0, 4604: 0, 4605: 0, 4606: 0, 4607: 0, 4608: 0, 4609: 0, 4610: 0, 4611: 0, 4612: 0, 4613: 0, 4614: 0, 4615: 0, 4616: 0, 4617: 0, 4618: 1, 4619: 1, 4620: 1, 4621: 0, 4622: 1, 4623: 0, 4624: 0, 4625: 0, 4626: 0, 4627: 0, 4628: 0, 4629: 0, 4630: 0, 4631: 0, 4632: 0, 4633: 0, 4634: 2, 4635: 0, 4636: 0, 4637: 0, 4638: 0, 4639: 0, 4640: 0, 4641: 0, 4642: 0, 4643: 0, 4644: 0, 4645: 0, 4646: 0, 4647: 0, 4648: 0, 4649: 0, 4650: 0, 4651: 0, 4652: 0, 4653: 0, 4654: 0, 4655: 0, 4656: 0, 4657: 0, 4658: 0, 4659: 0, 4660: 0, 4661: 0, 4662: 0, 4663: 1, 4664: 0, 4665: 0, 4666: 1, 4667: 0, 4668: 0, 4669: 0, 4670: 0, 4671: 0, 4672: 0, 4673: 0, 4674: 0, 4675: 0, 4676: 0, 4677: 0, 4678: 0, 4679: 0, 4680: 0, 4681: 0, 4682: 0, 4683: 0, 4684: 0, 4685: 0, 4686: 0, 4687: 0, 4688: 0, 4689: 0, 4690: 0, 4691: 0, 4692: 0, 4693: 0, 4694: 0, 4695: 0, 4696: 0, 4697: 0, 4698: 0, 4699: 0, 4700: 0, 4701: 0, 4702: 0, 4703: 0, 4704: 0, 4705: 0, 4706: 0, 4707: 0, 4708: 0, 4709: 0, 4710: 0, 4711: 0, 4712: 0, 4713: 0, 4714: 0, 4715: 1, 4716: 0, 4717: 0, 4718: 0, 4719: 0, 4720: 0, 4721: 0, 4722: 0, 4723: 0, 4724: 0, 4725: 0, 4726: 0, 4727: 0, 4728: 0, 4729: 0, 4730: 0, 4731: 0, 4732: 0, 4733: 0, 4734: 0, 4735: 0, 4736: 0, 4737: 0, 4738: 0, 4739: 0, 4740: 0, 4741: 0, 4742: 0, 4743: 0, 4744: 0, 4745: 0, 4746: 0, 4747: 0, 4748: 0, 4749: 0, 4750: 0, 4751: 0, 4752: 0, 4753: 0, 4754: 0, 4755: 0, 4756: 0, 4757: 0, 4758: 0, 4759: 0, 4760: 0, 4761: 0, 4762: 0, 4763: 0, 4764: 0, 4765: 0, 4766: 0, 4767: 0, 4768: 0, 4769: 0, 4770: 0, 4771: 0, 4772: 0, 4773: 0, 4774: 0, 4775: 0, 4776: 0, 4777: 0, 4778: 0, 4779: 0, 4780: 0, 4781: 0, 4782: 0, 4783: 0, 4784: 0, 4785: 0, 4786: 0, 4787: 0, 4788: 0, 4789: 0, 4790: 0, 4791: 0, 4792: 0, 4793: 0, 4794: 0, 4795: 0, 4796: 0, 4797: 0, 4798: 0, 4799: 1, 4800: 0, 4801: 0, 4802: 0, 4803: 0, 4804: 0, 4805: 2, 4806: 0, 4807: 0, 4808: 0, 4809: 0, 4810: 0, 4811: 1, 4812: 0, 4813: 0, 4814: 0, 4815: 0, 4816: 0, 4817: 0, 4818: 0, 4819: 0, 4820: 0, 4821: 0, 4822: 0, 4823: 0, 4824: 0, 4825: 0, 4826: 0, 4827: 0, 4828: 0, 4829: 0, 4830: 2, 4831: 0, 4832: 0, 4833: 0, 4834: 0, 4835: 0, 4836: 0, 4837: 0, 4838: 0, 4839: 0, 4840: 1, 4841: 0, 4842: 0, 4843: 0, 4844: 0, 4845: 0, 4846: 0, 4847: 0, 4848: 0, 4849: 0, 4850: 0, 4851: 0, 4852: 0, 4853: 0, 4854: 0, 4855: 0, 4856: 0, 4857: 0, 4858: 0, 4859: 0, 4860: 0, 4861: 0, 4862: 0, 4863: 0, 4864: 0, 4865: 0, 4866: 0, 4867: 0, 4868: 0, 4869: 0, 4870: 0, 4871: 0, 4872: 1, 4873: 1, 4874: 0, 4875: 0, 4876: 0, 4877: 0, 4878: 0, 4879: 0, 4880: 0, 4881: 0, 4882: 0, 4883: 2, 4884: 0, 4885: 0, 4886: 2, 4887: 2, 4888: 0, 4889: 0, 4890: 0, 4891: 0, 4892: 0, 4893: 0, 4894: 0, 4895: 0, 4896: 2, 4897: 0, 4898: 0, 4899: 0, 4900: 0, 4901: 0, 4902: 1, 4903: 1, 4904: 0, 4905: 0, 4906: 0, 4907: 0, 4908: 0, 4909: 0, 4910: 0, 4911: 0, 4912: 0, 4913: 0, 4914: 0, 4915: 0, 4916: 0, 4917: 0, 4918: 0, 4919: 0, 4920: 0, 4921: 0, 4922: 0, 4923: 0, 4924: 0, 4925: 0, 4926: 0, 4927: 0, 4928: 0, 4929: 0, 4930: 0, 4931: 0, 4932: 0, 4933: 0, 4934: 0, 4935: 0, 4936: 0, 4937: 0, 4938: 0, 4939: 0, 4940: 0, 4941: 0, 4942: 0, 4943: 1, 4944: 0, 4945: 0, 4946: 0, 4947: 0, 4948: 0, 4949: 0, 4950: 0, 4951: 0, 4952: 0, 4953: 0, 4954: 0, 4955: 0, 4956: 0, 4957: 0, 4958: 0, 4959: 0, 4960: 0, 4961: 0, 4962: 0, 4963: 0, 4964: 0, 4965: 0, 4966: 0, 4967: 0, 4968: 0, 4969: 0, 4970: 0, 4971: 0, 4972: 0, 4973: 0, 4974: 0, 4975: 0, 4976: 0, 4977: 0, 4978: 0, 4979: 0, 4980: 0, 4981: 0, 4982: 0, 4983: 0, 4984: 0, 4985: 0, 4986: 0, 4987: 0, 4988: 1, 4989: 1, 4990: 0, 4991: 0, 4992: 0, 4993: 0, 4994: 0, 4995: 0, 4996: 0, 4997: 0, 4998: 0, 4999: 0, 5000: 0, 5001: 0, 5002: 0, 5003: 0, 5004: 0, 5005: 0, 5006: 1, 5007: 0, 5008: 0, 5009: 0, 5010: 0, 5011: 0, 5012: 0, 5013: 0, 5014: 0, 5015: 1, 5016: 1, 5017: 1, 5018: 1, 5019: 1, 5020: 0, 5021: 1, 5022: 0, 5023: 0, 5024: 0, 5025: 0, 5026: 1, 5027: 0, 5028: 0, 5029: 0, 5030: 0, 5031: 0, 5032: 0, 5033: 0, 5034: 0, 5035: 0, 5036: 2, 5037: 2, 5038: 0, 5039: 2, 5040: 0, 5041: 2, 5042: 2, 5043: 0, 5044: 0, 5045: 2, 5046: 0, 5047: 0, 5048: 0, 5049: 2, 5050: 0, 5051: 0, 5052: 0, 5053: 0, 5054: 2, 5055: 0, 5056: 0, 5057: 0, 5058: 0, 5059: 0, 5060: 0, 5061: 0, 5062: 0, 5063: 0, 5064: 0, 5065: 0, 5066: 2, 5067: 0, 5068: 0, 5069: 2, 5070: 0, 5071: 0, 5072: 0, 5073: 0, 5074: 0, 5075: 0, 5076: 0, 5077: 0, 5078: 0, 5079: 0, 5080: 0, 5081: 0, 5082: 2, 5083: 0, 5084: 0, 5085: 0, 5086: 0, 5087: 1, 5088: 0, 5089: 2, 5090: 0, 5091: 0, 5092: 0, 5093: 0, 5094: 0, 5095: 2, 5096: 0, 5097: 0, 5098: 0, 5099: 0, 5100: 0, 5101: 0, 5102: 0, 5103: 1, 5104: 0, 5105: 0, 5106: 0, 5107: 0, 5108: 0, 5109: 0, 5110: 0, 5111: 0, 5112: 0, 5113: 0, 5114: 0, 5115: 0, 5116: 0, 5117: 0, 5118: 0, 5119: 0, 5120: 0, 5121: 0, 5122: 1, 5123: 0, 5124: 0, 5125: 0, 5126: 0, 5127: 0, 5128: 0, 5129: 0, 5130: 1, 5131: 0, 5132: 0, 5133: 0, 5134: 0, 5135: 0, 5136: 0, 5137: 0, 5138: 0, 5139: 0, 5140: 0, 5141: 0, 5142: 0, 5143: 2, 5144: 2, 5145: 0, 5146: 0, 5147: 0, 5148: 0, 5149: 2, 5150: 0, 5151: 0, 5152: 0, 5153: 0, 5154: 0, 5155: 0, 5156: 0, 5157: 0, 5158: 0, 5159: 0, 5160: 0, 5161: 0, 5162: 0, 5163: 0, 5164: 0, 5165: 0, 5166: 0, 5167: 0, 5168: 0, 5169: 0, 5170: 0, 5171: 0, 5172: 0, 5173: 0, 5174: 0, 5175: 0, 5176: 0, 5177: 0, 5178: 0, 5179: 0, 5180: 0, 5181: 0, 5182: 0, 5183: 0, 5184: 0, 5185: 0, 5186: 0, 5187: 0, 5188: 0, 5189: 0, 5190: 0, 5191: 0, 5192: 0, 5193: 0, 5194: 0, 5195: 0, 5196: 0, 5197: 0, 5198: 0, 5199: 0, 5200: 0, 5201: 0, 5202: 0, 5203: 0, 5204: 0, 5205: 0, 5206: 0, 5207: 0, 5208: 0, 5209: 0, 5210: 0, 5211: 0, 5212: 0, 5213: 0, 5214: 0, 5215: 0, 5216: 0, 5217: 0, 5218: 0, 5219: 0, 5220: 0, 5221: 0, 5222: 0, 5223: 0, 5224: 0, 5225: 0, 5226: 0, 5227: 0, 5228: 0, 5229: 0, 5230: 0, 5231: 0, 5232: 0, 5233: 0, 5234: 0, 5235: 0, 5236: 0, 5237: 0, 5238: 0, 5239: 0, 5240: 0, 5241: 0, 5242: 0, 5243: 0, 5244: 0, 5245: 0, 5246: 0, 5247: 2, 5248: 0, 5249: 0, 5250: 0, 5251: 0, 5252: 0, 5253: 0, 5254: 0, 5255: 1, 5256: 0, 5257: 0, 5258: 0, 5259: 0, 5260: 0, 5261: 0, 5262: 2, 5263: 0, 5264: 0, 5265: 0, 5266: 0, 5267: 0, 5268: 0, 5269: 0, 5270: 0, 5271: 0, 5272: 0, 5273: 0, 5274: 0, 5275: 0, 5276: 0, 5277: 0, 5278: 0, 5279: 0, 5280: 0, 5281: 2, 5282: 0, 5283: 0, 5284: 0, 5285: 0, 5286: 0, 5287: 0, 5288: 0, 5289: 0, 5290: 0, 5291: 0, 5292: 0, 5293: 0, 5294: 0, 5295: 0, 5296: 0, 5297: 0, 5298: 0, 5299: 0, 5300: 0, 5301: 0, 5302: 0, 5303: 0, 5304: 0, 5305: 0, 5306: 0, 5307: 0, 5308: 0, 5309: 0, 5310: 0, 5311: 0, 5312: 0, 5313: 0, 5314: 0, 5315: 2, 5316: 1, 5317: 0, 5318: 0, 5319: 0, 5320: 0, 5321: 0, 5322: 0, 5323: 0, 5324: 0, 5325: 0, 5326: 0, 5327: 0, 5328: 0, 5329: 0, 5330: 0, 5331: 0, 5332: 0, 5333: 0, 5334: 0, 5335: 0, 5336: 0, 5337: 0, 5338: 0, 5339: 0, 5340: 0, 5341: 0, 5342: 0, 5343: 0, 5344: 0, 5345: 0, 5346: 0, 5347: 0, 5348: 0, 5349: 0, 5350: 0, 5351: 0, 5352: 0, 5353: 0, 5354: 0, 5355: 0, 5356: 0, 5357: 0, 5358: 0, 5359: 0, 5360: 1, 5361: 0, 5362: 0, 5363: 0, 5364: 0, 5365: 0, 5366: 0, 5367: 0, 5368: 0, 5369: 0, 5370: 0, 5371: 0, 5372: 0, 5373: 0, 5374: 2, 5375: 0, 5376: 0, 5377: 0, 5378: 0, 5379: 0, 5380: 2, 5381: 0, 5382: 0, 5383: 1, 5384: 0, 5385: 0, 5386: 0, 5387: 1, 5388: 0, 5389: 1, 5390: 1, 5391: 0, 5392: 0, 5393: 0, 5394: 0, 5395: 0, 5396: 0, 5397: 0, 5398: 0, 5399: 0, 5400: 0, 5401: 0, 5402: 0, 5403: 0, 5404: 0, 5405: 0, 5406: 0, 5407: 0, 5408: 0, 5409: 0, 5410: 0, 5411: 0, 5412: 0, 5413: 2, 5414: 0, 5415: 0, 5416: 0, 5417: 0, 5418: 0, 5419: 0, 5420: 0, 5421: 0, 5422: 0, 5423: 0, 5424: 0, 5425: 0, 5426: 0, 5427: 0, 5428: 0, 5429: 0, 5430: 0, 5431: 0, 5432: 0, 5433: 0, 5434: 0, 5435: 0, 5436: 0, 5437: 0, 5438: 0, 5439: 0, 5440: 0, 5441: 0, 5442: 0, 5443: 0, 5444: 0, 5445: 0, 5446: 0, 5447: 0, 5448: 0, 5449: 0, 5450: 0, 5451: 2, 5452: 0, 5453: 0, 5454: 1, 5455: 0, 5456: 1, 5457: 0, 5458: 1, 5459: 0, 5460: 0, 5461: 0, 5462: 0, 5463: 1, 5464: 1, 5465: 0, 5466: 0, 5467: 1, 5468: 0, 5469: 0, 5470: 0, 5471: 0, 5472: 0, 5473: 0, 5474: 0, 5475: 0, 5476: 0, 5477: 0, 5478: 0, 5479: 0, 5480: 0, 5481: 0, 5482: 0, 5483: 0, 5484: 0, 5485: 0, 5486: 0, 5487: 0, 5488: 0, 5489: 0, 5490: 0, 5491: 0, 5492: 0, 5493: 0, 5494: 0, 5495: 0, 5496: 0, 5497: 0, 5498: 0, 5499: 0, 5500: 0, 5501: 0, 5502: 2, 5503: 0, 5504: 0, 5505: 0, 5506: 0, 5507: 0, 5508: 0, 5509: 0, 5510: 0, 5511: 0, 5512: 0, 5513: 0, 5514: 0, 5515: 0, 5516: 0, 5517: 0, 5518: 0, 5519: 0, 5520: 0, 5521: 0, 5522: 0, 5523: 0, 5524: 0, 5525: 0, 5526: 1, 5527: 0, 5528: 0, 5529: 0, 5530: 0, 5531: 0, 5532: 0, 5533: 0, 5534: 0, 5535: 0, 5536: 0, 5537: 0, 5538: 0, 5539: 0, 5540: 0, 5541: 2, 5542: 0, 5543: 0, 5544: 0, 5545: 0, 5546: 0, 5547: 0, 5548: 0, 5549: 0, 5550: 0, 5551: 0, 5552: 0, 5553: 0, 5554: 0, 5555: 0, 5556: 0, 5557: 0, 5558: 0, 5559: 0, 5560: 0, 5561: 0, 5562: 2, 5563: 0, 5564: 0, 5565: 0, 5566: 0, 5567: 0, 5568: 0, 5569: 0, 5570: 0, 5571: 0, 5572: 0, 5573: 0, 5574: 0, 5575: 0, 5576: 0, 5577: 0, 5578: 0, 5579: 0, 5580: 0, 5581: 0, 5582: 0, 5583: 0, 5584: 0, 5585: 0, 5586: 0, 5587: 0, 5588: 0, 5589: 0, 5590: 0, 5591: 0, 5592: 0, 5593: 0, 5594: 0, 5595: 0, 5596: 0, 5597: 0, 5598: 0, 5599: 0, 5600: 0, 5601: 0, 5602: 0, 5603: 0, 5604: 0, 5605: 1, 5606: 0, 5607: 0, 5608: 0, 5609: 0, 5610: 0, 5611: 0, 5612: 0, 5613: 0, 5614: 0, 5615: 0, 5616: 0, 5617: 0, 5618: 0, 5619: 0, 5620: 0, 5621: 0, 5622: 0, 5623: 1, 5624: 0, 5625: 0, 5626: 0, 5627: 0, 5628: 0, 5629: 0, 5630: 0, 5631: 0, 5632: 0, 5633: 0, 5634: 0, 5635: 0, 5636: 0, 5637: 0, 5638: 0, 5639: 0, 5640: 0, 5641: 0, 5642: 0, 5643: 0, 5644: 0, 5645: 0, 5646: 0, 5647: 0, 5648: 0, 5649: 0, 5650: 0, 5651: 0, 5652: 0, 5653: 0, 5654: 0, 5655: 0, 5656: 1, 5657: 0, 5658: 0, 5659: 0, 5660: 0, 5661: 0, 5662: 0, 5663: 0, 5664: 0, 5665: 0, 5666: 0, 5667: 0, 5668: 0, 5669: 0, 5670: 0, 5671: 0, 5672: 0, 5673: 0, 5674: 0, 5675: 0, 5676: 0, 5677: 0, 5678: 0, 5679: 0, 5680: 0, 5681: 0, 5682: 0, 5683: 0, 5684: 0, 5685: 0, 5686: 0, 5687: 0, 5688: 0, 5689: 0, 5690: 0, 5691: 0, 5692: 0, 5693: 0, 5694: 0, 5695: 0, 5696: 0, 5697: 0, 5698: 0, 5699: 0, 5700: 0, 5701: 1, 5702: 0, 5703: 0, 5704: 0, 5705: 0, 5706: 0, 5707: 0, 5708: 0, 5709: 0, 5710: 0, 5711: 0, 5712: 0, 5713: 0, 5714: 0, 5715: 0, 5716: 0, 5717: 0, 5718: 0, 5719: 0, 5720: 0, 5721: 0, 5722: 0, 5723: 0, 5724: 0, 5725: 0, 5726: 0, 5727: 0, 5728: 0, 5729: 0, 5730: 0, 5731: 0, 5732: 0, 5733: 0, 5734: 0, 5735: 0, 5736: 0, 5737: 0, 5738: 0, 5739: 0, 5740: 0, 5741: 0, 5742: 0, 5743: 0, 5744: 1, 5745: 1, 5746: 0, 5747: 0, 5748: 0, 5749: 0, 5750: 0, 5751: 0, 5752: 0, 5753: 0, 5754: 0, 5755: 1, 5756: 0, 5757: 0, 5758: 0, 5759: 0, 5760: 0, 5761: 0, 5762: 0, 5763: 0, 5764: 0, 5765: 0, 5766: 0, 5767: 0, 5768: 0, 5769: 0, 5770: 0, 5771: 0, 5772: 0, 5773: 0, 5774: 0, 5775: 0, 5776: 0, 5777: 0, 5778: 0, 5779: 0, 5780: 0, 5781: 0, 5782: 0, 5783: 0, 5784: 0, 5785: 0, 5786: 0, 5787: 0, 5788: 0, 5789: 0, 5790: 0, 5791: 0, 5792: 0, 5793: 0, 5794: 0, 5795: 0, 5796: 0, 5797: 0, 5798: 0, 5799: 0, 5800: 0, 5801: 0, 5802: 0, 5803: 0, 5804: 0, 5805: 0, 5806: 0, 5807: 0, 5808: 2, 5809: 2, 5810: 2, 5811: 0, 5812: 0, 5813: 0, 5814: 0, 5815: 0, 5816: 0, 5817: 0, 5818: 0, 5819: 0, 5820: 0, 5821: 0, 5822: 0, 5823: 0, 5824: 0, 5825: 0, 5826: 0, 5827: 1, 5828: 0, 5829: 0, 5830: 0, 5831: 0, 5832: 0, 5833: 0, 5834: 0, 5835: 0, 5836: 0, 5837: 0, 5838: 0, 5839: 0, 5840: 0, 5841: 0, 5842: 0, 5843: 0, 5844: 0, 5845: 0, 5846: 0, 5847: 0, 5848: 0, 5849: 0, 5850: 0, 5851: 0, 5852: 0, 5853: 0, 5854: 0, 5855: 0, 5856: 0, 5857: 1, 5858: 0, 5859: 0, 5860: 0, 5861: 0, 5862: 0, 5863: 0, 5864: 1, 5865: 0, 5866: 0, 5867: 0, 5868: 0, 5869: 0, 5870: 0, 5871: 0, 5872: 0, 5873: 0, 5874: 0, 5875: 0, 5876: 0, 5877: 0, 5878: 0, 5879: 0, 5880: 0, 5881: 0, 5882: 0, 5883: 0, 5884: 0, 5885: 0, 5886: 0, 5887: 0, 5888: 0, 5889: 0, 5890: 0, 5891: 0, 5892: 0, 5893: 0, 5894: 0, 5895: 0, 5896: 0, 5897: 0, 5898: 0, 5899: 0, 5900: 0, 5901: 0, 5902: 0, 5903: 0, 5904: 0, 5905: 0, 5906: 0, 5907: 0, 5908: 0, 5909: 0, 5910: 0, 5911: 0, 5912: 0, 5913: 0, 5914: 0, 5915: 0, 5916: 0, 5917: 0, 5918: 0, 5919: 0, 5920: 0, 5921: 0, 5922: 0, 5923: 0, 5924: 0, 5925: 0, 5926: 0, 5927: 0, 5928: 0, 5929: 0, 5930: 0, 5931: 0, 5932: 0, 5933: 0, 5934: 0, 5935: 0, 5936: 0, 5937: 0, 5938: 0, 5939: 1, 5940: 0, 5941: 0, 5942: 0, 5943: 0, 5944: 0, 5945: 0, 5946: 0, 5947: 0, 5948: 0, 5949: 0, 5950: 0, 5951: 0, 5952: 0, 5953: 0, 5954: 0, 5955: 0, 5956: 0, 5957: 0, 5958: 0, 5959: 0, 5960: 0, 5961: 0, 5962: 0, 5963: 2, 5964: 1, 5965: 0, 5966: 0, 5967: 0, 5968: 0, 5969: 0, 5970: 0, 5971: 0, 5972: 0, 5973: 0, 5974: 0, 5975: 0, 5976: 1, 5977: 0, 5978: 0, 5979: 0, 5980: 0, 5981: 0, 5982: 0, 5983: 0, 5984: 1, 5985: 0, 5986: 0, 5987: 0, 5988: 0, 5989: 0, 5990: 0, 5991: 0, 5992: 0, 5993: 0, 5994: 0, 5995: 0, 5996: 0, 5997: 0, 5998: 0, 5999: 0, 6000: 0, 6001: 0, 6002: 0, 6003: 0, 6004: 0, 6005: 0, 6006: 0, 6007: 0, 6008: 0, 6009: 0, 6010: 0, 6011: 0, 6012: 0, 6013: 0, 6014: 0, 6015: 0, 6016: 0, 6017: 0, 6018: 0, 6019: 0, 6020: 0, 6021: 0, 6022: 0, 6023: 0, 6024: 0, 6025: 0, 6026: 0, 6027: 0, 6028: 0, 6029: 0, 6030: 0, 6031: 0, 6032: 0, 6033: 0, 6034: 0, 6035: 0, 6036: 0, 6037: 0, 6038: 0, 6039: 0, 6040: 0, 6041: 0, 6042: 0, 6043: 0, 6044: 0, 6045: 0, 6046: 0, 6047: 0, 6048: 0, 6049: 0, 6050: 0, 6051: 0, 6052: 0, 6053: 0, 6054: 0, 6055: 0, 6056: 0, 6057: 0, 6058: 0, 6059: 0, 6060: 0, 6061: 0, 6062: 0, 6063: 0, 6064: 0, 6065: 0, 6066: 0, 6067: 0, 6068: 0, 6069: 0, 6070: 0, 6071: 0, 6072: 0, 6073: 0, 6074: 0, 6075: 0, 6076: 0, 6077: 0, 6078: 0, 6079: 1, 6080: 0, 6081: 0, 6082: 0, 6083: 0, 6084: 0, 6085: 0, 6086: 0, 6087: 0, 6088: 0, 6089: 0, 6090: 0, 6091: 0, 6092: 0, 6093: 0, 6094: 0, 6095: 0, 6096: 0, 6097: 0, 6098: 0, 6099: 0, 6100: 0, 6101: 0, 6102: 0, 6103: 0, 6104: 0, 6105: 0, 6106: 0, 6107: 0, 6108: 0, 6109: 0, 6110: 0, 6111: 0, 6112: 1, 6113: 0, 6114: 0, 6115: 0, 6116: 0, 6117: 0, 6118: 0, 6119: 0, 6120: 0, 6121: 0, 6122: 0, 6123: 0, 6124: 0, 6125: 0, 6126: 0, 6127: 0, 6128: 0, 6129: 0, 6130: 0, 6131: 0, 6132: 0, 6133: 0, 6134: 0, 6135: 0, 6136: 0, 6137: 0, 6138: 0, 6139: 0, 6140: 0, 6141: 0, 6142: 0, 6143: 0, 6144: 1, 6145: 0, 6146: 2, 6147: 0, 6148: 0, 6149: 0, 6150: 0, 6151: 0, 6152: 0, 6153: 0, 6154: 0, 6155: 1, 6156: 0, 6157: 0, 6158: 0, 6159: 0, 6160: 1, 6161: 1, 6162: 1, 6163: 1, 6164: 0, 6165: 0, 6166: 0, 6167: 0, 6168: 0, 6169: 0, 6170: 0, 6171: 0, 6172: 0, 6173: 0, 6174: 0, 6175: 0, 6176: 0, 6177: 0, 6178: 0, 6179: 0, 6180: 0, 6181: 0, 6182: 0, 6183: 0, 6184: 0, 6185: 0, 6186: 0, 6187: 1, 6188: 0, 6189: 1, 6190: 0, 6191: 0, 6192: 0, 6193: 0, 6194: 0, 6195: 0, 6196: 0, 6197: 0, 6198: 0, 6199: 0, 6200: 0, 6201: 0, 6202: 0, 6203: 1, 6204: 0, 6205: 0, 6206: 0, 6207: 0, 6208: 2, 6209: 2, 6210: 0, 6211: 0, 6212: 0, 6213: 0, 6214: 0, 6215: 0, 6216: 0, 6217: 0, 6218: 0, 6219: 0, 6220: 1, 6221: 0, 6222: 0, 6223: 0, 6224: 0, 6225: 0, 6226: 0, 6227: 0, 6228: 0, 6229: 0, 6230: 2, 6231: 0, 6232: 1, 6233: 0, 6234: 0, 6235: 2, 6236: 0, 6237: 0, 6238: 0, 6239: 0, 6240: 0, 6241: 0, 6242: 0, 6243: 0, 6244: 0, 6245: 0, 6246: 0, 6247: 0, 6248: 0, 6249: 0, 6250: 0, 6251: 0, 6252: 0, 6253: 0, 6254: 0, 6255: 0, 6256: 0, 6257: 0, 6258: 0, 6259: 0, 6260: 0, 6261: 0, 6262: 0, 6263: 0, 6264: 0, 6265: 2, 6266: 2, 6267: 2, 6268: 0, 6269: 0, 6270: 0, 6271: 0, 6272: 0, 6273: 0, 6274: 0, 6275: 0, 6276: 0, 6277: 0, 6278: 0, 6279: 0, 6280: 0, 6281: 0, 6282: 0, 6283: 0, 6284: 0, 6285: 0, 6286: 0, 6287: 0, 6288: 0, 6289: 0, 6290: 0, 6291: 0, 6292: 0, 6293: 0, 6294: 0, 6295: 0, 6296: 0, 6297: 2, 6298: 2, 6299: 2, 6300: 0, 6301: 0, 6302: 0, 6303: 0, 6304: 0, 6305: 0, 6306: 0, 6307: 0, 6308: 0, 6309: 0, 6310: 0, 6311: 0, 6312: 0, 6313: 1, 6314: 0, 6315: 0, 6316: 0, 6317: 0, 6318: 0, 6319: 0, 6320: 0, 6321: 0, 6322: 0, 6323: 0, 6324: 0, 6325: 0, 6326: 0, 6327: 0, 6328: 0, 6329: 0, 6330: 0, 6331: 0, 6332: 0, 6333: 0, 6334: 0, 6335: 0, 6336: 2, 6337: 2, 6338: 2, 6339: 0, 6340: 0, 6341: 0, 6342: 0, 6343: 0, 6344: 0, 6345: 0, 6346: 0, 6347: 0, 6348: 0, 6349: 0, 6350: 0, 6351: 0, 6352: 0, 6353: 0, 6354: 0, 6355: 1, 6356: 0, 6357: 0, 6358: 0, 6359: 0, 6360: 0, 6361: 0, 6362: 0, 6363: 0, 6364: 0, 6365: 0, 6366: 0, 6367: 0, 6368: 0, 6369: 0, 6370: 0, 6371: 0, 6372: 0, 6373: 0, 6374: 0, 6375: 0, 6376: 0, 6377: 0, 6378: 2, 6379: 0, 6380: 0, 6381: 0, 6382: 0, 6383: 0, 6384: 0, 6385: 0, 6386: 0, 6387: 0, 6388: 0, 6389: 0, 6390: 0, 6391: 0, 6392: 0, 6393: 0, 6394: 0, 6395: 0, 6396: 0, 6397: 0, 6398: 0, 6399: 0, 6400: 0, 6401: 0, 6402: 0, 6403: 0, 6404: 0, 6405: 0, 6406: 0, 6407: 0, 6408: 0, 6409: 0, 6410: 0, 6411: 0, 6412: 0, 6413: 0, 6414: 0, 6415: 0, 6416: 0, 6417: 1, 6418: 0, 6419: 0, 6420: 0, 6421: 0, 6422: 0, 6423: 0, 6424: 0, 6425: 0, 6426: 0, 6427: 0, 6428: 0, 6429: 1, 6430: 0, 6431: 0, 6432: 0, 6433: 0, 6434: 0, 6435: 0, 6436: 0, 6437: 0, 6438: 0, 6439: 0, 6440: 0, 6441: 0, 6442: 0, 6443: 0, 6444: 0, 6445: 0, 6446: 0, 6447: 0, 6448: 0, 6449: 0, 6450: 0, 6451: 0, 6452: 0, 6453: 0, 6454: 0, 6455: 0, 6456: 1, 6457: 0, 6458: 0, 6459: 0, 6460: 0, 6461: 0, 6462: 0, 6463: 0, 6464: 0, 6465: 0, 6466: 1, 6467: 0, 6468: 0, 6469: 0, 6470: 0, 6471: 0, 6472: 0, 6473: 0, 6474: 0, 6475: 0, 6476: 0, 6477: 0, 6478: 0, 6479: 0, 6480: 0, 6481: 0, 6482: 0, 6483: 0, 6484: 0, 6485: 0, 6486: 0, 6487: 0, 6488: 0, 6489: 1, 6490: 0, 6491: 2, 6492: 0, 6493: 0, 6494: 2, 6495: 0, 6496: 0, 6497: 0, 6498: 0, 6499: 0, 6500: 2, 6501: 0, 6502: 0, 6503: 0, 6504: 0, 6505: 0, 6506: 1, 6507: 0, 6508: 0, 6509: 0, 6510: 0, 6511: 0, 6512: 0, 6513: 0, 6514: 0, 6515: 0, 6516: 0, 6517: 0, 6518: 0, 6519: 2, 6520: 0, 6521: 0, 6522: 0, 6523: 0, 6524: 0, 6525: 0, 6526: 0, 6527: 0, 6528: 0, 6529: 0, 6530: 0, 6531: 0, 6532: 0, 6533: 0, 6534: 0, 6535: 2, 6536: 0, 6537: 0, 6538: 0, 6539: 0, 6540: 0, 6541: 0, 6542: 0, 6543: 0, 6544: 0, 6545: 0, 6546: 0, 6547: 0, 6548: 0, 6549: 0, 6550: 1, 6551: 0, 6552: 1, 6553: 0, 6554: 0, 6555: 0, 6556: 0, 6557: 0, 6558: 0, 6559: 0, 6560: 0, 6561: 0, 6562: 0, 6563: 0, 6564: 0, 6565: 0, 6566: 0, 6567: 0, 6568: 0, 6569: 0, 6570: 0, 6571: 0, 6572: 0, 6573: 2, 6574: 0, 6575: 0, 6576: 0, 6577: 0, 6578: 0, 6579: 0, 6580: 0, 6581: 0, 6582: 0, 6583: 0, 6584: 0, 6585: 0, 6586: 0, 6587: 0, 6588: 0, 6589: 0, 6590: 0, 6591: 0, 6592: 0, 6593: 1, 6594: 0, 6595: 0, 6596: 0, 6597: 2, 6598: 0, 6599: 0, 6600: 0, 6601: 0, 6602: 0, 6603: 0, 6604: 0, 6605: 0, 6606: 0, 6607: 0, 6608: 0, 6609: 0, 6610: 2, 6611: 0, 6612: 2, 6613: 0, 6614: 0, 6615: 0, 6616: 0, 6617: 0, 6618: 0, 6619: 0, 6620: 0, 6621: 0, 6622: 0, 6623: 0, 6624: 0, 6625: 0, 6626: 0, 6627: 0, 6628: 0, 6629: 0, 6630: 0, 6631: 0, 6632: 0, 6633: 0, 6634: 0, 6635: 0, 6636: 0, 6637: 1, 6638: 0, 6639: 0, 6640: 0, 6641: 2, 6642: 0, 6643: 0, 6644: 0, 6645: 0, 6646: 0, 6647: 0, 6648: 0, 6649: 0, 6650: 2, 6651: 0, 6652: 0, 6653: 0, 6654: 0, 6655: 0, 6656: 0, 6657: 0, 6658: 0, 6659: 0, 6660: 0, 6661: 0, 6662: 0, 6663: 0, 6664: 0, 6665: 0, 6666: 2, 6667: 2, 6668: 0, 6669: 2, 6670: 0, 6671: 0, 6672: 0, 6673: 1, 6674: 1, 6675: 0, 6676: 0, 6677: 0, 6678: 0, 6679: 0, 6680: 0, 6681: 0, 6682: 0, 6683: 0, 6684: 0, 6685: 2, 6686: 0, 6687: 0, 6688: 0, 6689: 0, 6690: 2, 6691: 0, 6692: 0, 6693: 0, 6694: 0, 6695: 0, 6696: 2, 6697: 2, 6698: 2, 6699: 0, 6700: 0, 6701: 0, 6702: 0, 6703: 0, 6704: 0, 6705: 2, 6706: 0, 6707: 0, 6708: 2, 6709: 2, 6710: 0, 6711: 0, 6712: 0, 6713: 0, 6714: 0, 6715: 0, 6716: 0, 6717: 2, 6718: 2, 6719: 0, 6720: 2, 6721: 0, 6722: 0, 6723: 0, 6724: 0, 6725: 2, 6726: 0, 6727: 0, 6728: 0, 6729: 0, 6730: 0, 6731: 0, 6732: 0, 6733: 0, 6734: 0, 6735: 0, 6736: 0, 6737: 0, 6738: 0, 6739: 0, 6740: 0, 6741: 0, 6742: 0, 6743: 0, 6744: 0, 6745: 0, 6746: 0, 6747: 0, 6748: 0, 6749: 0, 6750: 0, 6751: 0, 6752: 0, 6753: 0, 6754: 0, 6755: 0, 6756: 0, 6757: 0, 6758: 0, 6759: 0, 6760: 2, 6761: 0, 6762: 0, 6763: 0, 6764: 0, 6765: 0, 6766: 0, 6767: 0, 6768: 0, 6769: 0, 6770: 0, 6771: 0, 6772: 0, 6773: 0, 6774: 0, 6775: 0, 6776: 0, 6777: 0, 6778: 0, 6779: 0, 6780: 0, 6781: 0, 6782: 0, 6783: 0, 6784: 2, 6785: 2, 6786: 0, 6787: 0, 6788: 0, 6789: 0, 6790: 0, 6791: 0, 6792: 0, 6793: 0, 6794: 0, 6795: 0, 6796: 2, 6797: 0, 6798: 0, 6799: 2, 6800: 0, 6801: 0, 6802: 0, 6803: 0, 6804: 0, 6805: 0, 6806: 0, 6807: 0, 6808: 0, 6809: 0, 6810: 0, 6811: 0, 6812: 1, 6813: 0, 6814: 0, 6815: 1, 6816: 0, 6817: 0, 6818: 0, 6819: 0, 6820: 0, 6821: 0, 6822: 0, 6823: 0, 6824: 0, 6825: 0, 6826: 0, 6827: 0, 6828: 0, 6829: 0, 6830: 0, 6831: 0, 6832: 0, 6833: 0, 6834: 0, 6835: 0, 6836: 0, 6837: 0, 6838: 0, 6839: 0, 6840: 0, 6841: 0, 6842: 1, 6843: 0, 6844: 0, 6845: 0, 6846: 0, 6847: 0, 6848: 0, 6849: 0, 6850: 1, 6851: 1, 6852: 0, 6853: 0, 6854: 0, 6855: 0, 6856: 0, 6857: 0, 6858: 1, 6859: 0, 6860: 0, 6861: 0, 6862: 0, 6863: 0, 6864: 0, 6865: 1, 6866: 1, 6867: 0, 6868: 0, 6869: 0, 6870: 0, 6871: 0, 6872: 0, 6873: 0, 6874: 0, 6875: 0, 6876: 0, 6877: 0, 6878: 0, 6879: 0, 6880: 0, 6881: 0, 6882: 0, 6883: 0, 6884: 0, 6885: 0, 6886: 0, 6887: 0, 6888: 2, 6889: 0, 6890: 0, 6891: 0, 6892: 0, 6893: 0, 6894: 2, 6895: 0, 6896: 0, 6897: 0, 6898: 0, 6899: 0, 6900: 0, 6901: 0, 6902: 0, 6903: 0, 6904: 0, 6905: 0, 6906: 0, 6907: 0, 6908: 0, 6909: 0, 6910: 0, 6911: 0, 6912: 0, 6913: 0, 6914: 0, 6915: 0, 6916: 0, 6917: 0, 6918: 0, 6919: 0, 6920: 0, 6921: 2, 6922: 2, 6923: 2, 6924: 0, 6925: 0, 6926: 0, 6927: 0, 6928: 0, 6929: 0, 6930: 0, 6931: 0, 6932: 0, 6933: 2, 6934: 0, 6935: 0, 6936: 0, 6937: 2, 6938: 2, 6939: 2, 6940: 2, 6941: 0, 6942: 0, 6943: 0, 6944: 0, 6945: 0, 6946: 0, 6947: 1, 6948: 0, 6949: 0, 6950: 0, 6951: 0, 6952: 0, 6953: 0, 6954: 0, 6955: 0, 6956: 0, 6957: 1, 6958: 1, 6959: 1, 6960: 0, 6961: 0, 6962: 0, 6963: 0, 6964: 0, 6965: 0, 6966: 2, 6967: 0, 6968: 0, 6969: 0, 6970: 0, 6971: 0, 6972: 0, 6973: 0, 6974: 0, 6975: 1, 6976: 0, 6977: 2, 6978: 0, 6979: 0, 6980: 0, 6981: 0, 6982: 0, 6983: 2, 6984: 0, 6985: 0, 6986: 0, 6987: 0, 6988: 0, 6989: 0, 6990: 0, 6991: 0, 6992: 0, 6993: 0, 6994: 0, 6995: 0, 6996: 0, 6997: 0, 6998: 0, 6999: 0, 7000: 0, 7001: 0, 7002: 0, 7003: 0, 7004: 0, 7005: 0, 7006: 0, 7007: 0, 7008: 0, 7009: 0, 7010: 0, 7011: 0, 7012: 0, 7013: 0, 7014: 0, 7015: 0, 7016: 0, 7017: 0, 7018: 0, 7019: 2, 7020: 0, 7021: 0, 7022: 0, 7023: 0, 7024: 0, 7025: 0, 7026: 0, 7027: 0, 7028: 0, 7029: 0, 7030: 0, 7031: 0, 7032: 0, 7033: 0, 7034: 2, 7035: 0, 7036: 0, 7037: 0, 7038: 0, 7039: 0, 7040: 0, 7041: 0, 7042: 0, 7043: 0, 7044: 0, 7045: 0, 7046: 0, 7047: 1, 7048: 1, 7049: 0, 7050: 0, 7051: 0, 7052: 0, 7053: 0, 7054: 1, 7055: 1, 7056: 0, 7057: 0, 7058: 0, 7059: 0, 7060: 0, 7061: 0, 7062: 0, 7063: 0, 7064: 0, 7065: 0, 7066: 0, 7067: 0, 7068: 0, 7069: 0, 7070: 0, 7071: 2, 7072: 0, 7073: 0, 7074: 0, 7075: 0, 7076: 0, 7077: 0, 7078: 0, 7079: 0, 7080: 0, 7081: 0, 7082: 2, 7083: 0, 7084: 0, 7085: 0, 7086: 0, 7087: 0, 7088: 0, 7089: 0, 7090: 1, 7091: 0, 7092: 2, 7093: 0, 7094: 0, 7095: 0, 7096: 1, 7097: 0, 7098: 0, 7099: 1, 7100: 0, 7101: 1, 7102: 0, 7103: 0, 7104: 0, 7105: 0, 7106: 0, 7107: 0, 7108: 0, 7109: 1, 7110: 1, 7111: 0, 7112: 0, 7113: 0, 7114: 0, 7115: 0, 7116: 0, 7117: 0, 7118: 0, 7119: 0, 7120: 0, 7121: 0, 7122: 0, 7123: 0, 7124: 0, 7125: 0, 7126: 0, 7127: 0, 7128: 0, 7129: 0, 7130: 0, 7131: 0, 7132: 0, 7133: 0, 7134: 0, 7135: 0, 7136: 0, 7137: 0, 7138: 0, 7139: 0, 7140: 0, 7141: 0, 7142: 0, 7143: 0, 7144: 0, 7145: 0, 7146: 0, 7147: 0, 7148: 0, 7149: 0, 7150: 0, 7151: 0, 7152: 0, 7153: 0, 7154: 0, 7155: 0, 7156: 0, 7157: 0, 7158: 0, 7159: 2, 7160: 0, 7161: 0, 7162: 0, 7163: 0, 7164: 0, 7165: 0, 7166: 0, 7167: 0, 7168: 0, 7169: 0, 7170: 0, 7171: 0, 7172: 0, 7173: 0, 7174: 0, 7175: 0, 7176: 0, 7177: 1, 7178: 0, 7179: 0, 7180: 0, 7181: 0, 7182: 0, 7183: 0, 7184: 0, 7185: 0, 7186: 0, 7187: 0, 7188: 0, 7189: 0, 7190: 0, 7191: 0, 7192: 0, 7193: 0, 7194: 0, 7195: 0, 7196: 0, 7197: 0, 7198: 0, 7199: 1, 7200: 0, 7201: 1, 7202: 0, 7203: 1, 7204: 1, 7205: 1, 7206: 0, 7207: 0, 7208: 0, 7209: 1, 7210: 0, 7211: 0, 7212: 0, 7213: 0, 7214: 0, 7215: 0, 7216: 0, 7217: 0, 7218: 0, 7219: 0, 7220: 0, 7221: 0, 7222: 0, 7223: 0, 7224: 0, 7225: 0, 7226: 0, 7227: 0, 7228: 0, 7229: 0, 7230: 0, 7231: 0, 7232: 0, 7233: 0, 7234: 1, 7235: 0, 7236: 0, 7237: 0, 7238: 0, 7239: 0, 7240: 1, 7241: 0, 7242: 1, 7243: 0, 7244: 0, 7245: 0, 7246: 0, 7247: 0, 7248: 0, 7249: 0, 7250: 2, 7251: 0, 7252: 0, 7253: 0, 7254: 0, 7255: 0, 7256: 0, 7257: 0, 7258: 0, 7259: 0, 7260: 0, 7261: 0, 7262: 0, 7263: 0, 7264: 0, 7265: 0, 7266: 0, 7267: 0, 7268: 0, 7269: 2, 7270: 0, 7271: 0, 7272: 0, 7273: 0, 7274: 0, 7275: 0, 7276: 0, 7277: 0, 7278: 0, 7279: 0, 7280: 0, 7281: 0, 7282: 0, 7283: 0, 7284: 0, 7285: 0, 7286: 0, 7287: 0, 7288: 0, 7289: 2, 7290: 0, 7291: 0, 7292: 0, 7293: 0, 7294: 0, 7295: 0, 7296: 0, 7297: 0, 7298: 0, 7299: 0, 7300: 0, 7301: 0, 7302: 1, 7303: 0, 7304: 0, 7305: 0, 7306: 0, 7307: 2, 7308: 0, 7309: 0, 7310: 0, 7311: 0, 7312: 0, 7313: 0, 7314: 1, 7315: 0, 7316: 0, 7317: 0, 7318: 0, 7319: 0, 7320: 0, 7321: 0, 7322: 0, 7323: 0, 7324: 0, 7325: 0, 7326: 0, 7327: 0, 7328: 0, 7329: 0, 7330: 0, 7331: 1, 7332: 0, 7333: 0, 7334: 1, 7335: 0, 7336: 0, 7337: 1, 7338: 1, 7339: 0, 7340: 0, 7341: 0, 7342: 0, 7343: 0, 7344: 0, 7345: 0, 7346: 0, 7347: 0, 7348: 0, 7349: 0, 7350: 0, 7351: 0, 7352: 0, 7353: 0, 7354: 0, 7355: 1, 7356: 0, 7357: 0, 7358: 0, 7359: 1, 7360: 0, 7361: 0, 7362: 0, 7363: 0, 7364: 0, 7365: 0, 7366: 0, 7367: 0, 7368: 1, 7369: 0, 7370: 0, 7371: 0, 7372: 0, 7373: 0, 7374: 0, 7375: 1, 7376: 0, 7377: 0, 7378: 0, 7379: 0, 7380: 0, 7381: 0, 7382: 0, 7383: 0, 7384: 0, 7385: 0, 7386: 0, 7387: 0, 7388: 0, 7389: 0, 7390: 0, 7391: 0, 7392: 0, 7393: 0, 7394: 2, 7395: 0, 7396: 0, 7397: 0, 7398: 0, 7399: 0, 7400: 0, 7401: 0, 7402: 0, 7403: 0, 7404: 0, 7405: 0, 7406: 0, 7407: 0, 7408: 0, 7409: 0, 7410: 0, 7411: 0, 7412: 0, 7413: 0, 7414: 0, 7415: 0, 7416: 0, 7417: 0, 7418: 0, 7419: 0, 7420: 0, 7421: 0, 7422: 0, 7423: 1, 7424: 0, 7425: 0, 7426: 0, 7427: 0, 7428: 0, 7429: 0, 7430: 0, 7431: 0, 7432: 0, 7433: 0, 7434: 0, 7435: 0, 7436: 0, 7437: 0, 7438: 0, 7439: 0, 7440: 0, 7441: 0, 7442: 0, 7443: 0, 7444: 0, 7445: 0, 7446: 0, 7447: 0, 7448: 0, 7449: 0, 7450: 0, 7451: 0, 7452: 0, 7453: 0, 7454: 0, 7455: 0, 7456: 0, 7457: 0, 7458: 0, 7459: 0, 7460: 0, 7461: 0, 7462: 1, 7463: 0, 7464: 0, 7465: 0, 7466: 0, 7467: 0, 7468: 0, 7469: 0, 7470: 0, 7471: 0, 7472: 0, 7473: 0, 7474: 0, 7475: 0, 7476: 0, 7477: 0, 7478: 0, 7479: 0, 7480: 0, 7481: 0, 7482: 1, 7483: 0, 7484: 0, 7485: 0, 7486: 0, 7487: 0, 7488: 0, 7489: 0, 7490: 0, 7491: 0, 7492: 2, 7493: 0, 7494: 0, 7495: 0, 7496: 0, 7497: 0, 7498: 0, 7499: 0, 7500: 0, 7501: 0, 7502: 0, 7503: 0, 7504: 0, 7505: 0, 7506: 0, 7507: 0, 7508: 1, 7509: 0, 7510: 0, 7511: 1, 7512: 0, 7513: 0, 7514: 0, 7515: 1, 7516: 0, 7517: 1, 7518: 0, 7519: 0, 7520: 0, 7521: 0, 7522: 0, 7523: 0, 7524: 0, 7525: 0, 7526: 0, 7527: 1, 7528: 0, 7529: 2, 7530: 0, 7531: 1, 7532: 0, 7533: 0, 7534: 0, 7535: 0, 7536: 0, 7537: 0, 7538: 0, 7539: 0, 7540: 0, 7541: 0, 7542: 0, 7543: 0, 7544: 0, 7545: 0, 7546: 0, 7547: 0, 7548: 0, 7549: 0, 7550: 0, 7551: 0, 7552: 0, 7553: 0, 7554: 0, 7555: 0, 7556: 0, 7557: 0, 7558: 0, 7559: 0, 7560: 2, 7561: 0, 7562: 0, 7563: 0, 7564: 0, 7565: 0, 7566: 0, 7567: 0, 7568: 1, 7569: 0, 7570: 0, 7571: 0, 7572: 0, 7573: 0, 7574: 0, 7575: 0, 7576: 1, 7577: 0, 7578: 0, 7579: 1, 7580: 1, 7581: 0, 7582: 0, 7583: 0, 7584: 0, 7585: 0, 7586: 0, 7587: 0, 7588: 0, 7589: 0, 7590: 0, 7591: 0, 7592: 0, 7593: 0, 7594: 0, 7595: 0, 7596: 0, 7597: 0, 7598: 0, 7599: 0, 7600: 0, 7601: 0, 7602: 0, 7603: 0, 7604: 0, 7605: 0, 7606: 0, 7607: 0, 7608: 0, 7609: 0, 7610: 0, 7611: 0, 7612: 0, 7613: 0, 7614: 0, 7615: 0, 7616: 0, 7617: 0, 7618: 0, 7619: 0, 7620: 0, 7621: 0, 7622: 0, 7623: 0, 7624: 0, 7625: 0, 7626: 0, 7627: 0, 7628: 0, 7629: 0, 7630: 0, 7631: 1, 7632: 0, 7633: 0, 7634: 0, 7635: 0, 7636: 0, 7637: 0, 7638: 0, 7639: 0, 7640: 0, 7641: 0, 7642: 0, 7643: 0, 7644: 0, 7645: 0, 7646: 0, 7647: 0, 7648: 0, 7649: 1, 7650: 0, 7651: 0, 7652: 0, 7653: 0, 7654: 0, 7655: 0, 7656: 0, 7657: 1, 7658: 0, 7659: 0, 7660: 0, 7661: 0, 7662: 0, 7663: 0, 7664: 0, 7665: 0, 7666: 1, 7667: 0, 7668: 0, 7669: 0, 7670: 0, 7671: 0, 7672: 0, 7673: 0, 7674: 0, 7675: 0, 7676: 0, 7677: 0, 7678: 0, 7679: 0, 7680: 0, 7681: 0, 7682: 0, 7683: 0, 7684: 0, 7685: 0, 7686: 0, 7687: 0, 7688: 0, 7689: 0, 7690: 0, 7691: 0, 7692: 0, 7693: 0, 7694: 0, 7695: 0, 7696: 0, 7697: 0, 7698: 0, 7699: 0, 7700: 2, 7701: 0, 7702: 0, 7703: 1, 7704: 0, 7705: 0, 7706: 0, 7707: 0, 7708: 0, 7709: 0, 7710: 0, 7711: 0, 7712: 0, 7713: 0, 7714: 0, 7715: 0, 7716: 0, 7717: 0, 7718: 1, 7719: 0, 7720: 0, 7721: 0, 7722: 0, 7723: 0, 7724: 0, 7725: 0, 7726: 0, 7727: 0, 7728: 0, 7729: 0, 7730: 0, 7731: 0, 7732: 0, 7733: 0, 7734: 0, 7735: 0, 7736: 0, 7737: 0, 7738: 1, 7739: 0, 7740: 0, 7741: 0, 7742: 0, 7743: 0, 7744: 0, 7745: 1, 7746: 1, 7747: 1, 7748: 0, 7749: 0, 7750: 0, 7751: 0, 7752: 2, 7753: 0, 7754: 1, 7755: 1, 7756: 0, 7757: 0, 7758: 0, 7759: 0, 7760: 2, 7761: 0, 7762: 0, 7763: 2, 7764: 0, 7765: 0, 7766: 1, 7767: 0, 7768: 2, 7769: 0, 7770: 0, 7771: 1, 7772: 0, 7773: 0, 7774: 0, 7775: 0, 7776: 0, 7777: 0, 7778: 0, 7779: 0, 7780: 1, 7781: 0, 7782: 0, 7783: 0, 7784: 0, 7785: 0, 7786: 1, 7787: 1, 7788: 0, 7789: 0, 7790: 0, 7791: 0, 7792: 0, 7793: 0, 7794: 0, 7795: 0, 7796: 0, 7797: 0, 7798: 0, 7799: 1, 7800: 0, 7801: 0, 7802: 0, 7803: 0, 7804: 0, 7805: 0, 7806: 0, 7807: 0, 7808: 0, 7809: 0, 7810: 0, 7811: 0, 7812: 0, 7813: 0, 7814: 0, 7815: 0, 7816: 0, 7817: 0, 7818: 2, 7819: 0, 7820: 0, 7821: 0, 7822: 0, 7823: 0, 7824: 0, 7825: 0, 7826: 0, 7827: 2, 7828: 0, 7829: 0, 7830: 0, 7831: 0, 7832: 0, 7833: 0, 7834: 0, 7835: 0, 7836: 0, 7837: 0, 7838: 0, 7839: 0, 7840: 0, 7841: 0, 7842: 0, 7843: 0, 7844: 0, 7845: 0, 7846: 0, 7847: 0, 7848: 0, 7849: 0, 7850: 0, 7851: 0, 7852: 0, 7853: 0, 7854: 0, 7855: 0, 7856: 0, 7857: 0, 7858: 0, 7859: 0, 7860: 0, 7861: 0, 7862: 0, 7863: 0, 7864: 0, 7865: 0, 7866: 0, 7867: 0, 7868: 0, 7869: 0, 7870: 0, 7871: 0, 7872: 0, 7873: 1, 7874: 0, 7875: 0, 7876: 0, 7877: 0, 7878: 0, 7879: 1, 7880: 0, 7881: 0, 7882: 0, 7883: 0, 7884: 0, 7885: 0, 7886: 0, 7887: 0, 7888: 0, 7889: 0, 7890: 0, 7891: 2, 7892: 0, 7893: 0, 7894: 0, 7895: 0, 7896: 0, 7897: 0, 7898: 0, 7899: 1, 7900: 0, 7901: 0, 7902: 0, 7903: 0, 7904: 0, 7905: 0, 7906: 0, 7907: 1, 7908: 0, 7909: 0, 7910: 0, 7911: 0, 7912: 0, 7913: 0, 7914: 0, 7915: 0, 7916: 0, 7917: 0, 7918: 0, 7919: 0, 7920: 0, 7921: 0, 7922: 0, 7923: 0, 7924: 0, 7925: 0, 7926: 0, 7927: 0, 7928: 0, 7929: 0, 7930: 0, 7931: 0, 7932: 0, 7933: 0, 7934: 0, 7935: 0, 7936: 0, 7937: 0, 7938: 0, 7939: 0, 7940: 0, 7941: 0, 7942: 0, 7943: 0, 7944: 0, 7945: 0, 7946: 0, 7947: 0, 7948: 2, 7949: 2, 7950: 0, 7951: 0, 7952: 0, 7953: 0, 7954: 0, 7955: 0, 7956: 0, 7957: 0, 7958: 0, 7959: 0, 7960: 0, 7961: 0, 7962: 0, 7963: 0, 7964: 0, 7965: 0, 7966: 0, 7967: 0, 7968: 0, 7969: 0, 7970: 0, 7971: 0, 7972: 0, 7973: 0, 7974: 0, 7975: 0, 7976: 0, 7977: 0, 7978: 1, 7979: 0, 7980: 2, 7981: 0, 7982: 0, 7983: 0, 7984: 0, 7985: 0, 7986: 0, 7987: 0, 7988: 0, 7989: 0, 7990: 0, 7991: 0, 7992: 0, 7993: 0, 7994: 0, 7995: 0, 7996: 0, 7997: 0, 7998: 0, 7999: 0, 8000: 0, 8001: 0, 8002: 0, 8003: 0, 8004: 0, 8005: 0, 8006: 1, 8007: 0, 8008: 0, 8009: 0, 8010: 0, 8011: 0, 8012: 0, 8013: 0, 8014: 0, 8015: 0, 8016: 0, 8017: 0, 8018: 0, 8019: 0, 8020: 0, 8021: 0, 8022: 0, 8023: 0, 8024: 0, 8025: 0, 8026: 0, 8027: 0, 8028: 0, 8029: 0, 8030: 0, 8031: 1, 8032: 0, 8033: 0, 8034: 0, 8035: 0, 8036: 0, 8037: 0, 8038: 0, 8039: 0, 8040: 0, 8041: 0, 8042: 0, 8043: 0, 8044: 0, 8045: 0, 8046: 0, 8047: 0, 8048: 0, 8049: 0, 8050: 0, 8051: 0, 8052: 0, 8053: 0, 8054: 0, 8055: 1, 8056: 0, 8057: 0, 8058: 1, 8059: 0, 8060: 0, 8061: 0, 8062: 0, 8063: 1, 8064: 1, 8065: 0, 8066: 0, 8067: 0, 8068: 0, 8069: 0, 8070: 0, 8071: 0, 8072: 0, 8073: 0, 8074: 0, 8075: 0, 8076: 0, 8077: 0, 8078: 0, 8079: 0, 8080: 0, 8081: 0, 8082: 0, 8083: 0, 8084: 1, 8085: 1, 8086: 0, 8087: 0, 8088: 0, 8089: 0, 8090: 0, 8091: 0, 8092: 0, 8093: 0, 8094: 0, 8095: 0, 8096: 1, 8097: 0, 8098: 1, 8099: 0, 8100: 1, 8101: 0, 8102: 2, 8103: 0, 8104: 0, 8105: 0, 8106: 0, 8107: 2, 8108: 2, 8109: 2, 8110: 0, 8111: 0, 8112: 0, 8113: 1, 8114: 1, 8115: 0, 8116: 0, 8117: 1, 8118: 0, 8119: 0, 8120: 0, 8121: 0, 8122: 0, 8123: 0, 8124: 1, 8125: 1, 8126: 0, 8127: 2, 8128: 1, 8129: 0, 8130: 2, 8131: 0, 8132: 2, 8133: 0, 8134: 2, 8135: 0, 8136: 0, 8137: 0, 8138: 0, 8139: 0, 8140: 0, 8141: 0, 8142: 0, 8143: 0, 8144: 0, 8145: 0, 8146: 0, 8147: 0, 8148: 2, 8149: 0, 8150: 0, 8151: 0, 8152: 2, 8153: 2, 8154: 2, 8155: 1, 8156: 1, 8157: 0, 8158: 1, 8159: 0, 8160: 0, 8161: 1, 8162: 1, 8163: 1, 8164: 0, 8165: 0, 8166: 0, 8167: 0, 8168: 0, 8169: 0, 8170: 1, 8171: 0, 8172: 2, 8173: 0, 8174: 0, 8175: 0, 8176: 0, 8177: 0, 8178: 1, 8179: 0, 8180: 0, 8181: 0, 8182: 0, 8183: 0, 8184: 0, 8185: 0, 8186: 0, 8187: 0, 8188: 0, 8189: 0, 8190: 0, 8191: 0, 8192: 0, 8193: 0, 8194: 0, 8195: 0, 8196: 0, 8197: 0, 8198: 0, 8199: 0, 8200: 0, 8201: 0, 8202: 0, 8203: 0, 8204: 0, 8205: 2, 8206: 2, 8207: 0, 8208: 0, 8209: 0, 8210: 0, 8211: 0, 8212: 0, 8213: 0, 8214: 0, 8215: 0, 8216: 0, 8217: 0, 8218: 2, 8219: 2, 8220: 2, 8221: 2, 8222: 0, 8223: 0, 8224: 0, 8225: 2, 8226: 0, 8227: 0, 8228: 0, 8229: 0, 8230: 0, 8231: 0, 8232: 0, 8233: 0, 8234: 0, 8235: 0, 8236: 0, 8237: 2, 8238: 1, 8239: 0, 8240: 0, 8241: 0, 8242: 0, 8243: 2, 8244: 0, 8245: 0, 8246: 0, 8247: 0, 8248: 1, 8249: 0, 8250: 0, 8251: 0, 8252: 0, 8253: 0, 8254: 0, 8255: 0, 8256: 0, 8257: 0, 8258: 0, 8259: 0, 8260: 0, 8261: 0, 8262: 0, 8263: 0, 8264: 0, 8265: 0, 8266: 0, 8267: 0, 8268: 0, 8269: 0, 8270: 2, 8271: 0, 8272: 0, 8273: 0, 8274: 2, 8275: 0, 8276: 0, 8277: 0, 8278: 1, 8279: 0, 8280: 2, 8281: 0, 8282: 0, 8283: 0, 8284: 0, 8285: 0, 8286: 0, 8287: 0, 8288: 0, 8289: 1, 8290: 0, 8291: 0, 8292: 0, 8293: 0, 8294: 0, 8295: 0, 8296: 0, 8297: 0, 8298: 0, 8299: 0, 8300: 1, 8301: 0, 8302: 0, 8303: 0, 8304: 0, 8305: 0, 8306: 0, 8307: 0, 8308: 0, 8309: 0, 8310: 0, 8311: 1, 8312: 0, 8313: 0, 8314: 0, 8315: 0, 8316: 0, 8317: 0, 8318: 0, 8319: 0, 8320: 0, 8321: 0, 8322: 0, 8323: 0, 8324: 0, 8325: 0, 8326: 0, 8327: 0, 8328: 0, 8329: 0, 8330: 0, 8331: 0, 8332: 0, 8333: 0, 8334: 0, 8335: 2, 8336: 2, 8337: 0, 8338: 0, 8339: 0, 8340: 0, 8341: 0, 8342: 0, 8343: 0, 8344: 0, 8345: 0, 8346: 0, 8347: 0, 8348: 0, 8349: 0, 8350: 0, 8351: 0, 8352: 0, 8353: 0, 8354: 0, 8355: 0, 8356: 1, 8357: 0, 8358: 0, 8359: 0, 8360: 0, 8361: 0, 8362: 0, 8363: 0, 8364: 0, 8365: 0, 8366: 0, 8367: 0, 8368: 0, 8369: 0, 8370: 0, 8371: 0, 8372: 0, 8373: 0, 8374: 0, 8375: 0, 8376: 0, 8377: 0, 8378: 0, 8379: 0, 8380: 0, 8381: 0, 8382: 0, 8383: 0, 8384: 0, 8385: 0, 8386: 0, 8387: 0, 8388: 0, 8389: 0, 8390: 0, 8391: 0, 8392: 0, 8393: 0, 8394: 0, 8395: 0, 8396: 0, 8397: 0, 8398: 0, 8399: 0, 8400: 0, 8401: 0, 8402: 0, 8403: 0, 8404: 0, 8405: 0, 8406: 0, 8407: 0, 8408: 1, 8409: 0, 8410: 0, 8411: 0, 8412: 0, 8413: 0, 8414: 0, 8415: 0, 8416: 0, 8417: 0, 8418: 0, 8419: 0, 8420: 0, 8421: 0, 8422: 0, 8423: 0, 8424: 0, 8425: 0, 8426: 0, 8427: 0, 8428: 0, 8429: 0, 8430: 0, 8431: 0, 8432: 0, 8433: 0, 8434: 0, 8435: 0, 8436: 0, 8437: 1, 8438: 0, 8439: 1, 8440: 0, 8441: 0, 8442: 0, 8443: 1, 8444: 2, 8445: 0, 8446: 0, 8447: 0, 8448: 0, 8449: 0, 8450: 0, 8451: 0, 8452: 0, 8453: 0, 8454: 0, 8455: 0, 8456: 0, 8457: 0, 8458: 0, 8459: 0, 8460: 0, 8461: 0, 8462: 0, 8463: 0, 8464: 0, 8465: 0, 8466: 0, 8467: 2, 8468: 0, 8469: 0, 8470: 0, 8471: 0, 8472: 0, 8473: 0, 8474: 0, 8475: 0, 8476: 0, 8477: 0, 8478: 0, 8479: 0, 8480: 0, 8481: 0, 8482: 0, 8483: 0, 8484: 0, 8485: 0, 8486: 0, 8487: 0, 8488: 0, 8489: 0, 8490: 0, 8491: 0, 8492: 0, 8493: 0, 8494: 0, 8495: 0, 8496: 0, 8497: 0, 8498: 0, 8499: 0, 8500: 0, 8501: 0, 8502: 0, 8503: 0, 8504: 0, 8505: 0, 8506: 0, 8507: 0, 8508: 0, 8509: 0, 8510: 0, 8511: 0, 8512: 0, 8513: 0, 8514: 0, 8515: 0, 8516: 0, 8517: 0, 8518: 0, 8519: 0, 8520: 0, 8521: 0, 8522: 0, 8523: 0, 8524: 0, 8525: 0, 8526: 0, 8527: 0, 8528: 0, 8529: 0, 8530: 0, 8531: 0, 8532: 0, 8533: 0, 8534: 0, 8535: 0, 8536: 0, 8537: 0, 8538: 0, 8539: 0, 8540: 0, 8541: 0, 8542: 0, 8543: 0, 8544: 0, 8545: 0, 8546: 0, 8547: 0, 8548: 0, 8549: 0, 8550: 0, 8551: 0, 8552: 0, 8553: 0, 8554: 0, 8555: 0, 8556: 0, 8557: 0, 8558: 0, 8559: 1, 8560: 0, 8561: 1, 8562: 0, 8563: 0, 8564: 0, 8565: 0, 8566: 0, 8567: 2, 8568: 2, 8569: 0, 8570: 0, 8571: 0, 8572: 0, 8573: 0, 8574: 0, 8575: 0, 8576: 0, 8577: 1, 8578: 0, 8579: 0, 8580: 0, 8581: 0, 8582: 0, 8583: 0, 8584: 0, 8585: 0, 8586: 0, 8587: 0, 8588: 0, 8589: 0, 8590: 0, 8591: 2, 8592: 0, 8593: 2, 8594: 0, 8595: 0, 8596: 0, 8597: 0, 8598: 0, 8599: 0, 8600: 0, 8601: 0, 8602: 2, 8603: 0, 8604: 0, 8605: 0, 8606: 0, 8607: 0, 8608: 0, 8609: 0, 8610: 0, 8611: 0, 8612: 0, 8613: 0, 8614: 0, 8615: 1, 8616: 1, 8617: 0, 8618: 0, 8619: 0, 8620: 0, 8621: 0, 8622: 0, 8623: 0, 8624: 0, 8625: 0, 8626: 0, 8627: 0, 8628: 0, 8629: 0, 8630: 0, 8631: 0, 8632: 0, 8633: 0, 8634: 0, 8635: 0, 8636: 0, 8637: 0, 8638: 0, 8639: 0, 8640: 0, 8641: 0, 8642: 0, 8643: 0, 8644: 0, 8645: 0, 8646: 0, 8647: 0, 8648: 0, 8649: 0, 8650: 0, 8651: 0, 8652: 0, 8653: 0, 8654: 1, 8655: 0, 8656: 0, 8657: 0, 8658: 0, 8659: 0, 8660: 0, 8661: 0, 8662: 0, 8663: 0, 8664: 0, 8665: 0, 8666: 0, 8667: 0, 8668: 0, 8669: 0, 8670: 0, 8671: 0, 8672: 0, 8673: 0, 8674: 0, 8675: 0, 8676: 0, 8677: 0, 8678: 0, 8679: 0, 8680: 0, 8681: 0, 8682: 0, 8683: 0, 8684: 0, 8685: 0, 8686: 0, 8687: 0, 8688: 0, 8689: 0, 8690: 0, 8691: 0, 8692: 0, 8693: 2, 8694: 0, 8695: 0, 8696: 1, 8697: 0, 8698: 0, 8699: 0, 8700: 0, 8701: 0, 8702: 0, 8703: 1, 8704: 0, 8705: 0, 8706: 0, 8707: 0, 8708: 0, 8709: 0, 8710: 0, 8711: 0, 8712: 0, 8713: 0, 8714: 2, 8715: 0, 8716: 0, 8717: 0, 8718: 0, 8719: 0, 8720: 0, 8721: 0, 8722: 0, 8723: 0, 8724: 0, 8725: 0, 8726: 0, 8727: 0, 8728: 0, 8729: 0, 8730: 0, 8731: 0, 8732: 0, 8733: 0, 8734: 0, 8735: 1, 8736: 1, 8737: 0, 8738: 0, 8739: 0, 8740: 0, 8741: 0, 8742: 0, 8743: 0, 8744: 0, 8745: 0, 8746: 0, 8747: 0, 8748: 0, 8749: 0, 8750: 0, 8751: 0, 8752: 0, 8753: 0, 8754: 1, 8755: 0, 8756: 0, 8757: 0, 8758: 0, 8759: 0, 8760: 0, 8761: 0, 8762: 0, 8763: 0, 8764: 0, 8765: 2, 8766: 0, 8767: 0, 8768: 0, 8769: 0, 8770: 0, 8771: 1, 8772: 1, 8773: 0, 8774: 0, 8775: 0, 8776: 0, 8777: 0, 8778: 0, 8779: 0, 8780: 0, 8781: 0, 8782: 0, 8783: 0, 8784: 0, 8785: 0, 8786: 1, 8787: 0, 8788: 0, 8789: 0, 8790: 0, 8791: 0, 8792: 2, 8793: 2, 8794: 0, 8795: 0, 8796: 0, 8797: 0, 8798: 0, 8799: 0, 8800: 0, 8801: 0, 8802: 0, 8803: 0, 8804: 0, 8805: 0, 8806: 0, 8807: 0, 8808: 0, 8809: 0, 8810: 0, 8811: 0, 8812: 0, 8813: 0, 8814: 0, 8815: 0, 8816: 0, 8817: 0, 8818: 0, 8819: 0, 8820: 0, 8821: 0, 8822: 0, 8823: 0, 8824: 0, 8825: 0, 8826: 0, 8827: 0, 8828: 0, 8829: 0, 8830: 0, 8831: 0, 8832: 0, 8833: 0, 8834: 0, 8835: 0, 8836: 0, 8837: 0, 8838: 0, 8839: 0, 8840: 0, 8841: 0, 8842: 0, 8843: 0, 8844: 0, 8845: 0, 8846: 0, 8847: 0, 8848: 0, 8849: 0, 8850: 1, 8851: 0, 8852: 0, 8853: 0, 8854: 0, 8855: 0, 8856: 0, 8857: 0, 8858: 0, 8859: 0, 8860: 0, 8861: 0, 8862: 0, 8863: 0, 8864: 0, 8865: 0, 8866: 0, 8867: 0, 8868: 0, 8869: 0, 8870: 0, 8871: 0, 8872: 0, 8873: 0, 8874: 0, 8875: 0, 8876: 0, 8877: 0, 8878: 0, 8879: 0, 8880: 0, 8881: 0, 8882: 0, 8883: 0, 8884: 0, 8885: 1, 8886: 0, 8887: 0, 8888: 1, 8889: 0, 8890: 0, 8891: 0, 8892: 0, 8893: 0, 8894: 0, 8895: 0, 8896: 0, 8897: 0, 8898: 0, 8899: 0, 8900: 0, 8901: 0, 8902: 0, 8903: 0, 8904: 0, 8905: 0, 8906: 1, 8907: 0, 8908: 0, 8909: 0, 8910: 0, 8911: 1, 8912: 0, 8913: 0, 8914: 0, 8915: 0, 8916: 0, 8917: 0, 8918: 0, 8919: 0, 8920: 2, 8921: 0, 8922: 0, 8923: 0, 8924: 0, 8925: 0, 8926: 1, 8927: 1, 8928: 0, 8929: 1, 8930: 0, 8931: 0, 8932: 0, 8933: 0, 8934: 0, 8935: 0, 8936: 1, 8937: 1, 8938: 0, 8939: 1, 8940: 1, 8941: 0, 8942: 0, 8943: 0, 8944: 1, 8945: 0, 8946: 0, 8947: 0, 8948: 0, 8949: 0, 8950: 0, 8951: 0, 8952: 1, 8953: 0, 8954: 0, 8955: 2, 8956: 0, 8957: 0, 8958: 0, 8959: 0, 8960: 1, 8961: 0, 8962: 0, 8963: 1, 8964: 0, 8965: 0, 8966: 0, 8967: 1, 8968: 2, 8969: 1, 8970: 0, 8971: 1, 8972: 0, 8973: 1, 8974: 0, 8975: 0, 8976: 0, 8977: 0, 8978: 0, 8979: 0, 8980: 0, 8981: 0, 8982: 0, 8983: 0, 8984: 0, 8985: 0, 8986: 0, 8987: 0, 8988: 0, 8989: 0, 8990: 0, 8991: 0, 8992: 0, 8993: 1, 8994: 1, 8995: 0, 8996: 0, 8997: 0, 8998: 0, 8999: 0, 9000: 0, 9001: 0, 9002: 0, 9003: 0, 9004: 0, 9005: 0, 9006: 0, 9007: 0, 9008: 0, 9009: 0, 9010: 0, 9011: 0, 9012: 0, 9013: 0, 9014: 0, 9015: 2, 9016: 1, 9017: 0, 9018: 0, 9019: 0, 9020: 0, 9021: 0, 9022: 0, 9023: 0, 9024: 0, 9025: 0, 9026: 0, 9027: 0, 9028: 0, 9029: 0, 9030: 0, 9031: 0, 9032: 0, 9033: 0, 9034: 0, 9035: 0, 9036: 0, 9037: 0, 9038: 0, 9039: 0, 9040: 0, 9041: 0, 9042: 0, 9043: 0, 9044: 0, 9045: 0, 9046: 2, 9047: 0, 9048: 0, 9049: 0, 9050: 0, 9051: 0, 9052: 0, 9053: 0, 9054: 2, 9055: 0, 9056: 0, 9057: 0, 9058: 0, 9059: 0, 9060: 0, 9061: 0, 9062: 0, 9063: 0, 9064: 0, 9065: 0, 9066: 0, 9067: 0, 9068: 0, 9069: 0, 9070: 1, 9071: 0, 9072: 0, 9073: 0, 9074: 0, 9075: 0, 9076: 0, 9077: 0, 9078: 0, 9079: 0, 9080: 0, 9081: 0, 9082: 0, 9083: 0, 9084: 0, 9085: 1, 9086: 0, 9087: 0, 9088: 0, 9089: 0, 9090: 0, 9091: 0, 9092: 2, 9093: 1, 9094: 0, 9095: 1, 9096: 0, 9097: 0, 9098: 0, 9099: 0, 9100: 0, 9101: 2, 9102: 0, 9103: 0, 9104: 0, 9105: 0, 9106: 0, 9107: 0, 9108: 0, 9109: 0, 9110: 0, 9111: 0, 9112: 0, 9113: 0, 9114: 0, 9115: 0, 9116: 0, 9117: 0, 9118: 0, 9119: 0, 9120: 0, 9121: 0, 9122: 0, 9123: 0, 9124: 0, 9125: 0, 9126: 0, 9127: 0, 9128: 0, 9129: 0, 9130: 0, 9131: 0, 9132: 0, 9133: 0, 9134: 0, 9135: 0, 9136: 0, 9137: 0, 9138: 0, 9139: 0, 9140: 0, 9141: 0, 9142: 0, 9143: 0, 9144: 0, 9145: 0, 9146: 0, 9147: 0, 9148: 0, 9149: 0, 9150: 0, 9151: 0, 9152: 0, 9153: 0, 9154: 0, 9155: 1, 9156: 0, 9157: 0, 9158: 0, 9159: 0, 9160: 0, 9161: 0, 9162: 0, 9163: 0, 9164: 0, 9165: 0, 9166: 0, 9167: 0, 9168: 0, 9169: 0, 9170: 0, 9171: 0, 9172: 0, 9173: 0, 9174: 0, 9175: 0, 9176: 0, 9177: 0, 9178: 0, 9179: 0, 9180: 0, 9181: 0, 9182: 0, 9183: 0, 9184: 0, 9185: 0, 9186: 0, 9187: 1, 9188: 0, 9189: 0, 9190: 0, 9191: 0, 9192: 0, 9193: 0, 9194: 0, 9195: 0, 9196: 0, 9197: 0, 9198: 0, 9199: 0, 9200: 0, 9201: 0, 9202: 0, 9203: 0, 9204: 0, 9205: 0, 9206: 0, 9207: 0, 9208: 0, 9209: 0, 9210: 0, 9211: 0, 9212: 0, 9213: 0, 9214: 0, 9215: 0, 9216: 0, 9217: 0, 9218: 0, 9219: 0, 9220: 0, 9221: 0, 9222: 0, 9223: 0, 9224: 0, 9225: 2, 9226: 0, 9227: 0, 9228: 0, 9229: 1, 9230: 0, 9231: 0, 9232: 0, 9233: 0, 9234: 0, 9235: 0, 9236: 0, 9237: 1, 9238: 1, 9239: 1, 9240: 0, 9241: 0, 9242: 0, 9243: 0, 9244: 0, 9245: 0, 9246: 0, 9247: 0, 9248: 0, 9249: 0, 9250: 0, 9251: 0, 9252: 0, 9253: 0, 9254: 0, 9255: 1, 9256: 1, 9257: 0, 9258: 0, 9259: 0, 9260: 0, 9261: 0, 9262: 0, 9263: 0, 9264: 0, 9265: 0, 9266: 0, 9267: 0, 9268: 0, 9269: 0, 9270: 0, 9271: 0, 9272: 0, 9273: 0, 9274: 0, 9275: 1, 9276: 0, 9277: 0, 9278: 0, 9279: 0, 9280: 0, 9281: 0, 9282: 0, 9283: 0, 9284: 0, 9285: 0, 9286: 0, 9287: 0, 9288: 0, 9289: 1, 9290: 0, 9291: 0, 9292: 0, 9293: 2, 9294: 0, 9295: 0, 9296: 0, 9297: 0, 9298: 2, 9299: 0, 9300: 0, 9301: 0, 9302: 0, 9303: 0, 9304: 0, 9305: 0, 9306: 0, 9307: 0, 9308: 0, 9309: 0, 9310: 0, 9311: 0, 9312: 0, 9313: 0, 9314: 0, 9315: 0, 9316: 0, 9317: 0, 9318: 0, 9319: 0, 9320: 0, 9321: 0, 9322: 0, 9323: 0, 9324: 0, 9325: 0, 9326: 0, 9327: 0, 9328: 0, 9329: 0, 9330: 0, 9331: 0, 9332: 0, 9333: 0, 9334: 0, 9335: 0, 9336: 0, 9337: 0, 9338: 0, 9339: 0, 9340: 0, 9341: 0, 9342: 0, 9343: 0, 9344: 0, 9345: 0, 9346: 0, 9347: 0, 9348: 0, 9349: 0, 9350: 0, 9351: 0, 9352: 0, 9353: 0, 9354: 0, 9355: 0, 9356: 1, 9357: 0, 9358: 0, 9359: 0, 9360: 0, 9361: 0, 9362: 0, 9363: 0, 9364: 0, 9365: 0, 9366: 0, 9367: 0, 9368: 0, 9369: 0, 9370: 0, 9371: 0, 9372: 0, 9373: 0, 9374: 0, 9375: 0, 9376: 0, 9377: 0, 9378: 0, 9379: 1, 9380: 0, 9381: 0, 9382: 0, 9383: 0, 9384: 0, 9385: 0, 9386: 0, 9387: 0, 9388: 0, 9389: 1, 9390: 0, 9391: 2, 9392: 0, 9393: 0, 9394: 0, 9395: 0, 9396: 0, 9397: 2, 9398: 0, 9399: 0, 9400: 0, 9401: 0, 9402: 0, 9403: 0, 9404: 0, 9405: 0, 9406: 0, 9407: 0, 9408: 0, 9409: 2, 9410: 2, 9411: 0, 9412: 0, 9413: 2, 9414: 2, 9415: 0, 9416: 0, 9417: 0, 9418: 0, 9419: 0, 9420: 0, 9421: 0, 9422: 0, 9423: 0, 9424: 0, 9425: 0, 9426: 0, 9427: 0, 9428: 0, 9429: 0, 9430: 0, 9431: 0, 9432: 0, 9433: 0, 9434: 1, 9435: 0, 9436: 1, 9437: 0, 9438: 0, 9439: 0, 9440: 0, 9441: 0, 9442: 0, 9443: 0, 9444: 2, 9445: 0, 9446: 2, 9447: 0, 9448: 0, 9449: 0, 9450: 0, 9451: 0, 9452: 0, 9453: 0, 9454: 0, 9455: 0, 9456: 0, 9457: 0, 9458: 0, 9459: 0, 9460: 0, 9461: 0, 9462: 2, 9463: 2, 9464: 0, 9465: 0, 9466: 0, 9467: 0, 9468: 0, 9469: 0, 9470: 0, 9471: 0, 9472: 0, 9473: 0, 9474: 0, 9475: 0, 9476: 0, 9477: 0, 9478: 0, 9479: 0, 9480: 1, 9481: 1, 9482: 1, 9483: 1, 9484: 2, 9485: 2, 9486: 2, 9487: 0, 9488: 0, 9489: 0, 9490: 0, 9491: 0, 9492: 0, 9493: 0, 9494: 0, 9495: 2, 9496: 0, 9497: 0, 9498: 0, 9499: 0, 9500: 0, 9501: 1, 9502: 0, 9503: 0, 9504: 0, 9505: 0, 9506: 0, 9507: 0, 9508: 1, 9509: 0, 9510: 0, 9511: 0, 9512: 0, 9513: 0, 9514: 0, 9515: 0, 9516: 0, 9517: 0, 9518: 0, 9519: 0, 9520: 0, 9521: 0, 9522: 0, 9523: 0, 9524: 0, 9525: 0, 9526: 0, 9527: 0, 9528: 0, 9529: 0, 9530: 0, 9531: 0, 9532: 0, 9533: 0, 9534: 0, 9535: 0, 9536: 0, 9537: 0, 9538: 0, 9539: 0, 9540: 0, 9541: 0, 9542: 0, 9543: 0, 9544: 0, 9545: 0, 9546: 0, 9547: 0, 9548: 0, 9549: 0, 9550: 0, 9551: 0, 9552: 0, 9553: 0, 9554: 0, 9555: 0, 9556: 0, 9557: 0, 9558: 0, 9559: 0, 9560: 0, 9561: 0, 9562: 0, 9563: 0, 9564: 0, 9565: 0, 9566: 0, 9567: 0, 9568: 0, 9569: 0, 9570: 0, 9571: 0, 9572: 0, 9573: 0, 9574: 0, 9575: 0, 9576: 0, 9577: 0, 9578: 0, 9579: 2, 9580: 0, 9581: 0, 9582: 0, 9583: 0, 9584: 0, 9585: 0, 9586: 0, 9587: 0, 9588: 0, 9589: 0, 9590: 0, 9591: 0, 9592: 0, 9593: 0, 9594: 0, 9595: 0, 9596: 0, 9597: 0, 9598: 0, 9599: 0, 9600: 0, 9601: 0, 9602: 0, 9603: 0, 9604: 0, 9605: 0, 9606: 0, 9607: 0, 9608: 0, 9609: 0, 9610: 0, 9611: 0, 9612: 0, 9613: 0, 9614: 0, 9615: 0, 9616: 0, 9617: 0, 9618: 0, 9619: 0, 9620: 0, 9621: 0, 9622: 0, 9623: 0, 9624: 0, 9625: 0, 9626: 0, 9627: 0, 9628: 0, 9629: 0, 9630: 0, 9631: 0, 9632: 0, 9633: 0, 9634: 0, 9635: 0, 9636: 0, 9637: 0, 9638: 0, 9639: 0, 9640: 0, 9641: 0, 9642: 0, 9643: 0, 9644: 0, 9645: 0, 9646: 0, 9647: 0, 9648: 0, 9649: 0, 9650: 0, 9651: 0, 9652: 0, 9653: 0, 9654: 0, 9655: 0, 9656: 0, 9657: 0, 9658: 0, 9659: 0, 9660: 0, 9661: 0, 9662: 0, 9663: 0, 9664: 0, 9665: 0, 9666: 0, 9667: 0, 9668: 0, 9669: 0, 9670: 0, 9671: 0, 9672: 0, 9673: 0, 9674: 0, 9675: 0, 9676: 0, 9677: 0, 9678: 0, 9679: 0, 9680: 0, 9681: 0, 9682: 0, 9683: 0, 9684: 0, 9685: 0, 9686: 0, 9687: 0, 9688: 0, 9689: 0, 9690: 0, 9691: 0, 9692: 0, 9693: 0, 9694: 0, 9695: 0, 9696: 0, 9697: 0, 9698: 0, 9699: 0, 9700: 0, 9701: 0, 9702: 0, 9703: 0, 9704: 0, 9705: 0, 9706: 0, 9707: 0, 9708: 0, 9709: 0, 9710: 0, 9711: 0, 9712: 0, 9713: 0, 9714: 1, 9715: 0, 9716: 0, 9717: 0, 9718: 0, 9719: 0, 9720: 0, 9721: 0, 9722: 0, 9723: 0, 9724: 0, 9725: 0, 9726: 0, 9727: 0, 9728: 0, 9729: 0, 9730: 0, 9731: 0, 9732: 0, 9733: 0, 9734: 0, 9735: 0, 9736: 0, 9737: 0, 9738: 0, 9739: 0, 9740: 0, 9741: 0, 9742: 0, 9743: 0, 9744: 0, 9745: 0, 9746: 0, 9747: 0, 9748: 0, 9749: 0, 9750: 0, 9751: 0, 9752: 0, 9753: 0, 9754: 0, 9755: 0, 9756: 0, 9757: 0, 9758: 0, 9759: 0, 9760: 0, 9761: 0, 9762: 0, 9763: 0, 9764: 0, 9765: 0}\n"
          ],
          "name": "stdout"
        }
      ]
    },
    {
      "cell_type": "code",
      "metadata": {
        "colab": {
          "base_uri": "https://localhost:8080/"
        },
        "id": "v9bdLsB7jA68",
        "outputId": "5966ee20-9040-4428-9ac4-d23a81a9a003"
      },
      "source": [
        "print(word_index[\"hopeless\"])\n",
        "print(lexi_dict[3906])"
      ],
      "execution_count": null,
      "outputs": [
        {
          "output_type": "stream",
          "text": [
            "3906\n",
            "1\n"
          ],
          "name": "stdout"
        }
      ]
    },
    {
      "cell_type": "markdown",
      "metadata": {
        "id": "tlCeWT8eeLnd"
      },
      "source": [
        "## 2.3. Bi-directional RNN Sequence model"
      ]
    },
    {
      "cell_type": "markdown",
      "metadata": {
        "id": "fwA-NN3EJ4Ig"
      },
      "source": [
        "### 2.3.1. Apply/Import Word Embedding and Lexicon Embedding"
      ]
    },
    {
      "cell_type": "markdown",
      "metadata": {
        "id": "Vyr7jWAGWAS7"
      },
      "source": [
        "Adding lexicon embedding's classes into word dictionary."
      ]
    },
    {
      "cell_type": "code",
      "metadata": {
        "id": "Wqhwd8hiVVjL"
      },
      "source": [
        "word_index[9766] = 0\n",
        "word_index[9767] = 1\n",
        "word_index[9768] = 2\n"
      ],
      "execution_count": null,
      "outputs": []
    },
    {
      "cell_type": "markdown",
      "metadata": {
        "id": "WpHTrmfowLcB"
      },
      "source": [
        "#### Padding\n",
        "\n",
        "The length of each sentence in the Twitter dataset varys from 1 to 19.\n",
        "* For length = 19, there is only 0.03%.\n",
        "* For length = 18, there is only 0.05%.\n",
        "* For length = 17, there is only 0.05%\n",
        "* For length = 16, there is only 0.2%.\n",
        "* ...\n",
        "\n",
        "Below is the actual percentage data for each length of the sentence.\n",
        "\n",
        "[1.3375%, 11.8%, 15.0375%, 14.675%, 11.2%, 8.8375%, 7.375%, 7.2%, 5.525%, 5.6125%, 4.5625%, 3.1625%, 1.9%, 0.925%, 0.4375%, 0.275%, 0.05%, 0.05%, 0.0375%]\n",
        "\n",
        "\n",
        "Thus, I choose 18 as my sequence length.\n",
        "\n",
        "Because in this section, I want to combine two embeddings: lexicon embedding and word embedding. Just simplly add the lexicon embedding number to the end of the sentence. The final size of a sequence is 18+18=36.\n",
        " \n",
        "For example,\n",
        "\n",
        "['hopeless', 'tmr', 'frownsadandryorpouting']\n",
        "\n",
        "->\n",
        "\n",
        "[8635, 3056, 3909, 3, 3, 3, 3, 3, 3, 3, 3, 3, 3, 3, 3, 3, 3, 3, NEG, NOT_SURE, NOT_SURE, NOT_SURE, NOT_SURE, NOT_SURE, NOT_SURE, NOT_SURE, NOT_SURE, NOT_SURE, NOT_SURE, NOT_SURE, NOT_SURE,NOT_SURE,NOT_SURE,NOT_SURE,NOT_SURE,NOT_SURE,]"
      ]
    },
    {
      "cell_type": "code",
      "metadata": {
        "colab": {
          "base_uri": "https://localhost:8080/"
        },
        "id": "DlIJ9L95v0j2",
        "outputId": "63aaedb3-b591-41ad-bff0-61115e10326b"
      },
      "source": [
        "seq_length = 18\n",
        "\n",
        "def encode_and_add_padding(sentences, seq_length, word_index):\n",
        "    sent_encoded = []\n",
        "    for sent in sentences:\n",
        "        temp_encoded = [word_index[word] if word in word_index else word_index['[UNKOWN]'] for word in sent]\n",
        "        if len(temp_encoded) < seq_length:\n",
        "            temp_encoded += [word_index['[PAD]']] * (seq_length - len(temp_encoded))\n",
        "        else:\n",
        "            temp_encoded = temp_encoded[:seq_length]\n",
        "        for s in range(18):\n",
        "          temp_encoded.append(lexi_dict[temp_encoded[s]])\n",
        "        \n",
        "        sent_encoded.append(temp_encoded)\n",
        "\n",
        "         \n",
        "    return sent_encoded\n",
        "\n",
        "train_pad_encoded = encode_and_add_padding(text_train_le, seq_length, word_index )\n",
        "test_pad_encoded = encode_and_add_padding(text_test_le, seq_length, word_index )\n",
        "\n",
        "print(train_pad_encoded[0:100])\n",
        "print(text_train_le[0:100])"
      ],
      "execution_count": null,
      "outputs": [
        {
          "output_type": "stream",
          "text": [
            "[[3906, 8632, 3053, 0, 0, 0, 0, 0, 0, 0, 0, 0, 0, 0, 0, 0, 0, 0, 1, 0, 0, 0, 0, 0, 0, 0, 0, 0, 0, 0, 0, 0, 0, 0, 0, 0], [2608, 4600, 7393, 4068, 1898, 7517, 5733, 5529, 3053, 0, 0, 0, 0, 0, 0, 0, 0, 0, 0, 0, 0, 0, 2, 1, 0, 0, 0, 0, 0, 0, 0, 0, 0, 0, 0, 0], [3750, 7733, 9237, 686, 3053, 0, 0, 0, 0, 0, 0, 0, 0, 0, 0, 0, 0, 0, 0, 0, 1, 0, 0, 0, 0, 0, 0, 0, 0, 0, 0, 0, 0, 0, 0, 0], [3706, 4354, 1222, 643, 3053, 3080, 0, 0, 0, 0, 0, 0, 0, 0, 0, 0, 0, 0, 1, 0, 0, 0, 0, 0, 0, 0, 0, 0, 0, 0, 0, 0, 0, 0, 0, 0], [1945, 8012, 5785, 9277, 9462, 3053, 0, 0, 0, 0, 0, 0, 0, 0, 0, 0, 0, 0, 0, 0, 0, 0, 2, 0, 0, 0, 0, 0, 0, 0, 0, 0, 0, 0, 0, 0], [5996, 3322, 588, 2698, 3053, 0, 0, 0, 0, 0, 0, 0, 0, 0, 0, 0, 0, 0, 0, 0, 0, 0, 0, 0, 0, 0, 0, 0, 0, 0, 0, 0, 0, 0, 0, 0], [5167, 7760, 3053, 0, 0, 0, 0, 0, 0, 0, 0, 0, 0, 0, 0, 0, 0, 0, 0, 2, 0, 0, 0, 0, 0, 0, 0, 0, 0, 0, 0, 0, 0, 0, 0, 0], [9462, 5750, 5564, 471, 7253, 3706, 8979, 7384, 3053, 0, 0, 0, 0, 0, 0, 0, 0, 0, 2, 0, 0, 0, 0, 1, 0, 0, 0, 0, 0, 0, 0, 0, 0, 0, 0, 0], [9373, 7626, 0, 0, 0, 0, 0, 0, 0, 0, 0, 0, 0, 0, 0, 0, 0, 0, 0, 0, 0, 0, 0, 0, 0, 0, 0, 0, 0, 0, 0, 0, 0, 0, 0, 0], [497, 3297, 3053, 497, 3297, 4358, 4359, 206, 2664, 0, 0, 0, 0, 0, 0, 0, 0, 0, 0, 0, 0, 0, 0, 0, 0, 0, 0, 0, 0, 0, 0, 0, 0, 0, 0, 0], [6900, 3341, 5188, 4042, 5769, 3330, 5333, 3053, 0, 0, 0, 0, 0, 0, 0, 0, 0, 0, 0, 2, 0, 0, 0, 0, 0, 0, 0, 0, 0, 0, 0, 0, 0, 0, 0, 0], [5226, 4316, 3053, 0, 0, 0, 0, 0, 0, 0, 0, 0, 0, 0, 0, 0, 0, 0, 0, 0, 0, 0, 0, 0, 0, 0, 0, 0, 0, 0, 0, 0, 0, 0, 0, 0], [3580, 8776, 4561, 7250, 7397, 7859, 4643, 3053, 0, 0, 0, 0, 0, 0, 0, 0, 0, 0, 2, 0, 0, 2, 0, 0, 0, 0, 0, 0, 0, 0, 0, 0, 0, 0, 0, 0], [8615, 3516, 3053, 0, 0, 0, 0, 0, 0, 0, 0, 0, 0, 0, 0, 0, 0, 0, 1, 0, 0, 0, 0, 0, 0, 0, 0, 0, 0, 0, 0, 0, 0, 0, 0, 0], [4661, 7007, 3248, 288, 1978, 3053, 6129, 0, 0, 0, 0, 0, 0, 0, 0, 0, 0, 0, 0, 0, 0, 0, 0, 0, 0, 0, 0, 0, 0, 0, 0, 0, 0, 0, 0, 0], [6961, 8270, 7899, 4628, 878, 6328, 4874, 1907, 4874, 3132, 3053, 0, 0, 0, 0, 0, 0, 0, 0, 2, 1, 0, 0, 0, 0, 0, 0, 0, 0, 0, 0, 0, 0, 0, 0, 0], [6499, 3053, 0, 0, 0, 0, 0, 0, 0, 0, 0, 0, 0, 0, 0, 0, 0, 0, 0, 0, 0, 0, 0, 0, 0, 0, 0, 0, 0, 0, 0, 0, 0, 0, 0, 0], [8228, 8544, 3053, 0, 0, 0, 0, 0, 0, 0, 0, 0, 0, 0, 0, 0, 0, 0, 0, 0, 0, 0, 0, 0, 0, 0, 0, 0, 0, 0, 0, 0, 0, 0, 0, 0], [2801, 8129, 7404, 3392, 682, 2147, 6192, 5904, 7027, 3788, 3053, 0, 0, 0, 0, 0, 0, 0, 0, 0, 0, 0, 0, 0, 0, 0, 0, 2, 0, 0, 0, 0, 0, 0, 0, 0], [3341, 5009, 3053, 0, 0, 0, 0, 0, 0, 0, 0, 0, 0, 0, 0, 0, 0, 0, 2, 0, 0, 0, 0, 0, 0, 0, 0, 0, 0, 0, 0, 0, 0, 0, 0, 0], [2801, 4988, 7839, 8337, 3486, 3283, 3053, 0, 0, 0, 0, 0, 0, 0, 0, 0, 0, 0, 0, 1, 0, 0, 0, 0, 0, 0, 0, 0, 0, 0, 0, 0, 0, 0, 0, 0], [485, 6692, 3053, 6900, 0, 0, 0, 0, 0, 0, 0, 0, 0, 0, 0, 0, 0, 0, 0, 0, 0, 0, 0, 0, 0, 0, 0, 0, 0, 0, 0, 0, 0, 0, 0, 0], [6480, 9103, 3176, 5572, 7839, 3053, 0, 0, 0, 0, 0, 0, 0, 0, 0, 0, 0, 0, 0, 0, 0, 0, 0, 0, 0, 0, 0, 0, 0, 0, 0, 0, 0, 0, 0, 0], [1458, 3680, 0, 0, 0, 0, 0, 0, 0, 0, 0, 0, 0, 0, 0, 0, 0, 0, 0, 1, 0, 0, 0, 0, 0, 0, 0, 0, 0, 0, 0, 0, 0, 0, 0, 0], [2474, 4910, 8057, 7321, 4993, 541, 3053, 0, 0, 0, 0, 0, 0, 0, 0, 0, 0, 0, 0, 0, 0, 0, 0, 2, 0, 0, 0, 0, 0, 0, 0, 0, 0, 0, 0, 0], [1866, 717, 5456, 5440, 5597, 3053, 0, 0, 0, 0, 0, 0, 0, 0, 0, 0, 0, 0, 1, 0, 1, 0, 0, 0, 0, 0, 0, 0, 0, 0, 0, 0, 0, 0, 0, 0], [7879, 3053, 0, 0, 0, 0, 0, 0, 0, 0, 0, 0, 0, 0, 0, 0, 0, 0, 1, 0, 0, 0, 0, 0, 0, 0, 0, 0, 0, 0, 0, 0, 0, 0, 0, 0], [5509, 2757, 557, 3053, 0, 0, 0, 0, 0, 0, 0, 0, 0, 0, 0, 0, 0, 0, 0, 0, 0, 0, 0, 0, 0, 0, 0, 0, 0, 0, 0, 0, 0, 0, 0, 0], [8791, 7879, 3053, 7250, 2913, 0, 0, 0, 0, 0, 0, 0, 0, 0, 0, 0, 0, 0, 0, 1, 0, 2, 0, 0, 0, 0, 0, 0, 0, 0, 0, 0, 0, 0, 0, 0], [3037, 3053, 0, 0, 0, 0, 0, 0, 0, 0, 0, 0, 0, 0, 0, 0, 0, 0, 0, 0, 0, 0, 0, 0, 0, 0, 0, 0, 0, 0, 0, 0, 0, 0, 0, 0], [5996, 3053, 3706, 3574, 3248, 7234, 0, 0, 0, 0, 0, 0, 0, 0, 0, 0, 0, 0, 0, 0, 1, 0, 0, 1, 0, 0, 0, 0, 0, 0, 0, 0, 0, 0, 0, 0], [5996, 6311, 617, 3053, 1255, 5782, 0, 0, 0, 0, 0, 0, 0, 0, 0, 0, 0, 0, 0, 0, 0, 0, 0, 0, 0, 0, 0, 0, 0, 0, 0, 0, 0, 0, 0, 0], [2291, 3053, 0, 0, 0, 0, 0, 0, 0, 0, 0, 0, 0, 0, 0, 0, 0, 0, 0, 0, 0, 0, 0, 0, 0, 0, 0, 0, 0, 0, 0, 0, 0, 0, 0, 0], [4763, 3053, 0, 0, 0, 0, 0, 0, 0, 0, 0, 0, 0, 0, 0, 0, 0, 0, 0, 0, 0, 0, 0, 0, 0, 0, 0, 0, 0, 0, 0, 0, 0, 0, 0, 0], [8155, 5597, 7631, 6468, 8008, 9462, 2883, 3480, 5824, 5885, 3053, 0, 0, 0, 0, 0, 0, 0, 1, 0, 1, 0, 0, 2, 0, 0, 0, 0, 0, 0, 0, 0, 0, 0, 0, 0], [2249, 3053, 0, 0, 0, 0, 0, 0, 0, 0, 0, 0, 0, 0, 0, 0, 0, 0, 0, 0, 0, 0, 0, 0, 0, 0, 0, 0, 0, 0, 0, 0, 0, 0, 0, 0], [4925, 595, 6020, 7608, 4669, 9290, 3367, 4820, 5412, 3291, 6203, 4089, 3053, 0, 0, 0, 0, 0, 0, 0, 0, 0, 0, 0, 0, 0, 0, 0, 1, 0, 0, 0, 0, 0, 0, 0], [9307, 5261, 3124, 6858, 961, 6189, 8526, 2595, 3316, 3876, 3053, 0, 0, 0, 0, 0, 0, 0, 0, 0, 1, 1, 0, 1, 0, 0, 0, 0, 0, 0, 0, 0, 0, 0, 0, 0], [3808, 37, 3053, 0, 0, 0, 0, 0, 0, 0, 0, 0, 0, 0, 0, 0, 0, 0, 0, 0, 0, 0, 0, 0, 0, 0, 0, 0, 0, 0, 0, 0, 0, 0, 0, 0], [3384, 8544, 4662, 8426, 3053, 0, 0, 0, 0, 0, 0, 0, 0, 0, 0, 0, 0, 0, 0, 0, 0, 0, 0, 0, 0, 0, 0, 0, 0, 0, 0, 0, 0, 0, 0, 0], [1898, 5037, 5597, 9415, 9490, 7454, 3053, 0, 0, 0, 0, 0, 0, 0, 0, 0, 0, 0, 2, 2, 0, 0, 0, 0, 0, 0, 0, 0, 0, 0, 0, 0, 0, 0, 0, 0], [1176, 7348, 3053, 5785, 8600, 5037, 9566, 9549, 0, 0, 0, 0, 0, 0, 0, 0, 0, 0, 0, 0, 0, 0, 0, 2, 0, 0, 0, 0, 0, 0, 0, 0, 0, 0, 0, 0], [6149, 9413, 8420, 1617, 3053, 0, 0, 0, 0, 0, 0, 0, 0, 0, 0, 0, 0, 0, 0, 2, 0, 0, 0, 0, 0, 0, 0, 0, 0, 0, 0, 0, 0, 0, 0, 0], [3043, 1294, 6900, 3248, 3053, 0, 0, 0, 0, 0, 0, 0, 0, 0, 0, 0, 0, 0, 1, 0, 0, 0, 0, 0, 0, 0, 0, 0, 0, 0, 0, 0, 0, 0, 0, 0], [6636, 3053, 9428, 9075, 80, 2979, 2950, 5353, 8472, 4426, 3344, 0, 0, 0, 0, 0, 0, 0, 0, 0, 0, 0, 0, 0, 0, 0, 0, 0, 0, 0, 0, 0, 0, 0, 0, 0], [9685, 3367, 1342, 5037, 9749, 7447, 4132, 0, 0, 0, 0, 0, 0, 0, 0, 0, 0, 0, 0, 0, 0, 2, 0, 0, 0, 0, 0, 0, 0, 0, 0, 0, 0, 0, 0, 0], [6011, 3053, 0, 0, 0, 0, 0, 0, 0, 0, 0, 0, 0, 0, 0, 0, 0, 0, 0, 0, 0, 0, 0, 0, 0, 0, 0, 0, 0, 0, 0, 0, 0, 0, 0, 0], [3316, 9273, 3053, 0, 0, 0, 0, 0, 0, 0, 0, 0, 0, 0, 0, 0, 0, 0, 0, 0, 0, 0, 0, 0, 0, 0, 0, 0, 0, 0, 0, 0, 0, 0, 0, 0], [5247, 8586, 3053, 0, 0, 0, 0, 0, 0, 0, 0, 0, 0, 0, 0, 0, 0, 0, 2, 0, 0, 0, 0, 0, 0, 0, 0, 0, 0, 0, 0, 0, 0, 0, 0, 0], [565, 1356, 9713, 5738, 7841, 3053, 9526, 0, 0, 0, 0, 0, 0, 0, 0, 0, 0, 0, 0, 0, 0, 0, 0, 0, 0, 0, 0, 0, 0, 0, 0, 0, 0, 0, 0, 0], [9347, 884, 3053, 0, 0, 0, 0, 0, 0, 0, 0, 0, 0, 0, 0, 0, 0, 0, 0, 0, 0, 0, 0, 0, 0, 0, 0, 0, 0, 0, 0, 0, 0, 0, 0, 0], [9483, 6243, 8057, 2801, 605, 3053, 0, 0, 0, 0, 0, 0, 0, 0, 0, 0, 0, 0, 1, 0, 0, 0, 1, 0, 0, 0, 0, 0, 0, 0, 0, 0, 0, 0, 0, 0], [521, 8247, 6413, 8628, 2331, 1807, 3053, 0, 0, 0, 0, 0, 0, 0, 0, 0, 0, 0, 0, 0, 0, 0, 0, 0, 0, 0, 0, 0, 0, 0, 0, 0, 0, 0, 0, 0], [6900, 3053, 0, 0, 0, 0, 0, 0, 0, 0, 0, 0, 0, 0, 0, 0, 0, 0, 0, 0, 0, 0, 0, 0, 0, 0, 0, 0, 0, 0, 0, 0, 0, 0, 0, 0], [6556, 4886, 3777, 637, 3053, 0, 0, 0, 0, 0, 0, 0, 0, 0, 0, 0, 0, 0, 0, 2, 0, 0, 0, 0, 0, 0, 0, 0, 0, 0, 0, 0, 0, 0, 0, 0], [1537, 1314, 1221, 6597, 4162, 183, 6540, 9241, 1220, 8947, 8389, 3053, 0, 0, 0, 0, 0, 0, 0, 0, 0, 2, 2, 0, 0, 0, 0, 0, 0, 0, 0, 0, 0, 0, 0, 0], [7234, 2458, 7132, 4493, 3053, 1232, 8461, 8425, 0, 0, 0, 0, 0, 0, 0, 0, 0, 0, 1, 0, 0, 0, 0, 0, 0, 0, 0, 0, 0, 0, 0, 0, 0, 0, 0, 0], [1537, 1314, 4041, 7047, 2886, 2100, 6946, 2336, 2138, 8947, 8389, 3053, 0, 0, 0, 0, 0, 0, 0, 0, 0, 1, 0, 0, 0, 0, 0, 0, 0, 0, 0, 0, 0, 0, 0, 0], [1537, 1314, 35, 1536, 1360, 5287, 2273, 5187, 5337, 7329, 8947, 8389, 3053, 0, 0, 0, 0, 0, 0, 0, 1, 0, 0, 0, 1, 0, 0, 0, 0, 0, 0, 0, 0, 0, 0, 0], [1537, 1314, 534, 2169, 6596, 8022, 1689, 1522, 2518, 875, 8947, 8389, 3053, 0, 0, 0, 0, 0, 0, 0, 0, 0, 0, 0, 0, 2, 0, 0, 0, 0, 0, 0, 0, 0, 0, 0], [1537, 1314, 2394, 3409, 3335, 1787, 1221, 8897, 8947, 8389, 3053, 0, 0, 0, 0, 0, 0, 0, 0, 0, 2, 0, 0, 0, 0, 0, 0, 0, 0, 0, 0, 0, 0, 0, 0, 0], [9298, 8228, 9462, 1978, 3053, 0, 0, 0, 0, 0, 0, 0, 0, 0, 0, 0, 0, 0, 2, 0, 2, 0, 0, 0, 0, 0, 0, 0, 0, 0, 0, 0, 0, 0, 0, 0], [3338, 5456, 7492, 6646, 3053, 0, 0, 0, 0, 0, 0, 0, 0, 0, 0, 0, 0, 0, 0, 1, 2, 0, 0, 0, 0, 0, 0, 0, 0, 0, 0, 0, 0, 0, 0, 0], [5456, 4630, 4600, 3053, 0, 0, 0, 0, 0, 0, 0, 0, 0, 0, 0, 0, 0, 0, 1, 0, 0, 0, 0, 0, 0, 0, 0, 0, 0, 0, 0, 0, 0, 0, 0, 0], [3998, 3053, 0, 0, 0, 0, 0, 0, 0, 0, 0, 0, 0, 0, 0, 0, 0, 0, 0, 0, 0, 0, 0, 0, 0, 0, 0, 0, 0, 0, 0, 0, 0, 0, 0, 0], [1255, 2860, 982, 4561, 7289, 3053, 0, 0, 0, 0, 0, 0, 0, 0, 0, 0, 0, 0, 0, 0, 0, 0, 2, 0, 0, 0, 0, 0, 0, 0, 0, 0, 0, 0, 0, 0], [4928, 8564, 5033, 2593, 3053, 5597, 8825, 7234, 0, 0, 0, 0, 0, 0, 0, 0, 0, 0, 0, 0, 0, 0, 0, 0, 0, 1, 0, 0, 0, 0, 0, 0, 0, 0, 0, 0], [5456, 1002, 3053, 0, 0, 0, 0, 0, 0, 0, 0, 0, 0, 0, 0, 0, 0, 0, 1, 0, 0, 0, 0, 0, 0, 0, 0, 0, 0, 0, 0, 0, 0, 0, 0, 0], [5037, 3954, 3053, 0, 0, 0, 0, 0, 0, 0, 0, 0, 0, 0, 0, 0, 0, 0, 2, 0, 0, 0, 0, 0, 0, 0, 0, 0, 0, 0, 0, 0, 0, 0, 0, 0], [8789, 7865, 3053, 0, 0, 0, 0, 0, 0, 0, 0, 0, 0, 0, 0, 0, 0, 0, 0, 0, 0, 0, 0, 0, 0, 0, 0, 0, 0, 0, 0, 0, 0, 0, 0, 0], [172, 2730, 3053, 7037, 0, 0, 0, 0, 0, 0, 0, 0, 0, 0, 0, 0, 0, 0, 0, 0, 0, 0, 0, 0, 0, 0, 0, 0, 0, 0, 0, 0, 0, 0, 0, 0], [7879, 3053, 4022, 6010, 0, 0, 0, 0, 0, 0, 0, 0, 0, 0, 0, 0, 0, 0, 1, 0, 0, 0, 0, 0, 0, 0, 0, 0, 0, 0, 0, 0, 0, 0, 0, 0], [588, 8057, 4997, 8615, 3053, 0, 0, 0, 0, 0, 0, 0, 0, 0, 0, 0, 0, 0, 0, 0, 0, 1, 0, 0, 0, 0, 0, 0, 0, 0, 0, 0, 0, 0, 0, 0], [7839, 3268, 1218, 3053, 0, 0, 0, 0, 0, 0, 0, 0, 0, 0, 0, 0, 0, 0, 0, 0, 0, 0, 0, 0, 0, 0, 0, 0, 0, 0, 0, 0, 0, 0, 0, 0], [5261, 7517, 9490, 86, 3236, 1706, 3569, 3053, 0, 0, 0, 0, 0, 0, 0, 0, 0, 0, 0, 1, 0, 0, 2, 0, 0, 0, 0, 0, 0, 0, 0, 0, 0, 0, 0, 0], [3731, 256, 4005, 8025, 4763, 4950, 3053, 0, 0, 0, 0, 0, 0, 0, 0, 0, 0, 0, 0, 0, 1, 0, 0, 0, 0, 0, 0, 0, 0, 0, 0, 0, 0, 0, 0, 0], [6021, 3053, 0, 0, 0, 0, 0, 0, 0, 0, 0, 0, 0, 0, 0, 0, 0, 0, 0, 0, 0, 0, 0, 0, 0, 0, 0, 0, 0, 0, 0, 0, 0, 0, 0, 0], [596, 3053, 0, 0, 0, 0, 0, 0, 0, 0, 0, 0, 0, 0, 0, 0, 0, 0, 0, 0, 0, 0, 0, 0, 0, 0, 0, 0, 0, 0, 0, 0, 0, 0, 0, 0], [7894, 8993, 3053, 0, 0, 0, 0, 0, 0, 0, 0, 0, 0, 0, 0, 0, 0, 0, 0, 1, 0, 0, 0, 0, 0, 0, 0, 0, 0, 0, 0, 0, 0, 0, 0, 0], [5597, 5456, 3053, 0, 0, 0, 0, 0, 0, 0, 0, 0, 0, 0, 0, 0, 0, 0, 0, 1, 0, 0, 0, 0, 0, 0, 0, 0, 0, 0, 0, 0, 0, 0, 0, 0], [5456, 4156, 3053, 0, 0, 0, 0, 0, 0, 0, 0, 0, 0, 0, 0, 0, 0, 0, 1, 0, 0, 0, 0, 0, 0, 0, 0, 0, 0, 0, 0, 0, 0, 0, 0, 0], [8052, 8461, 2440, 3053, 0, 0, 0, 0, 0, 0, 0, 0, 0, 0, 0, 0, 0, 0, 0, 0, 0, 0, 0, 0, 0, 0, 0, 0, 0, 0, 0, 0, 0, 0, 0, 0], [5597, 7459, 9700, 2429, 3053, 0, 0, 0, 0, 0, 0, 0, 0, 0, 0, 0, 0, 0, 0, 0, 0, 0, 0, 0, 0, 0, 0, 0, 0, 0, 0, 0, 0, 0, 0, 0], [7163, 9247, 3927, 3053, 0, 0, 0, 0, 0, 0, 0, 0, 0, 0, 0, 0, 0, 0, 0, 0, 2, 0, 0, 0, 0, 0, 0, 0, 0, 0, 0, 0, 0, 0, 0, 0], [8057, 3716, 2995, 3562, 4329, 2312, 3053, 0, 0, 0, 0, 0, 0, 0, 0, 0, 0, 0, 0, 0, 0, 2, 0, 0, 0, 0, 0, 0, 0, 0, 0, 0, 0, 0, 0, 0], [7568, 3053, 0, 0, 0, 0, 0, 0, 0, 0, 0, 0, 0, 0, 0, 0, 0, 0, 1, 0, 0, 0, 0, 0, 0, 0, 0, 0, 0, 0, 0, 0, 0, 0, 0, 0], [1897, 2508, 3053, 611, 0, 0, 0, 0, 0, 0, 0, 0, 0, 0, 0, 0, 0, 0, 0, 0, 0, 0, 0, 0, 0, 0, 0, 0, 0, 0, 0, 0, 0, 0, 0, 0], [9415, 703, 3053, 0, 0, 0, 0, 0, 0, 0, 0, 0, 0, 0, 0, 0, 0, 0, 0, 0, 0, 0, 0, 0, 0, 0, 0, 0, 0, 0, 0, 0, 0, 0, 0, 0], [7631, 3053, 0, 0, 0, 0, 0, 0, 0, 0, 0, 0, 0, 0, 0, 0, 0, 0, 1, 0, 0, 0, 0, 0, 0, 0, 0, 0, 0, 0, 0, 0, 0, 0, 0, 0], [3018, 5475, 5456, 5597, 3053, 0, 0, 0, 0, 0, 0, 0, 0, 0, 0, 0, 0, 0, 0, 0, 1, 0, 0, 0, 0, 0, 0, 0, 0, 0, 0, 0, 0, 0, 0, 0], [9321, 9240, 560, 7008, 3053, 0, 0, 0, 0, 0, 0, 0, 0, 0, 0, 0, 0, 0, 0, 0, 2, 0, 0, 0, 0, 0, 0, 0, 0, 0, 0, 0, 0, 0, 0, 0], [3571, 3053, 0, 0, 0, 0, 0, 0, 0, 0, 0, 0, 0, 0, 0, 0, 0, 0, 0, 0, 0, 0, 0, 0, 0, 0, 0, 0, 0, 0, 0, 0, 0, 0, 0, 0], [6250, 6703, 3053, 0, 0, 0, 0, 0, 0, 0, 0, 0, 0, 0, 0, 0, 0, 0, 0, 0, 0, 0, 0, 0, 0, 0, 0, 0, 0, 0, 0, 0, 0, 0, 0, 0], [5629, 655, 2508, 256, 7591, 3053, 0, 0, 0, 0, 0, 0, 0, 0, 0, 0, 0, 0, 0, 0, 0, 0, 0, 0, 0, 0, 0, 0, 0, 0, 0, 0, 0, 0, 0, 0], [588, 1022, 3053, 0, 0, 0, 0, 0, 0, 0, 0, 0, 0, 0, 0, 0, 0, 0, 0, 0, 0, 0, 0, 0, 0, 0, 0, 0, 0, 0, 0, 0, 0, 0, 0, 0], [6095, 6911, 3970, 5732, 4997, 4886, 2056, 8638, 3053, 1667, 0, 0, 0, 0, 0, 0, 0, 0, 0, 0, 0, 0, 0, 2, 0, 0, 0, 1, 0, 0, 0, 0, 0, 0, 0, 0], [5615, 6486, 5629, 5026, 3053, 0, 0, 0, 0, 0, 0, 0, 0, 0, 0, 0, 0, 0, 0, 0, 0, 1, 0, 0, 0, 0, 0, 0, 0, 0, 0, 0, 0, 0, 0, 0], [2856, 6233, 3120, 2804, 229, 9247, 3053, 0, 0, 0, 0, 0, 0, 0, 0, 0, 0, 0, 0, 0, 0, 0, 0, 0, 0, 0, 0, 0, 0, 0, 0, 0, 0, 0, 0, 0], [9415, 3053, 9720, 0, 0, 0, 0, 0, 0, 0, 0, 0, 0, 0, 0, 0, 0, 0, 0, 0, 0, 0, 0, 0, 0, 0, 0, 0, 0, 0, 0, 0, 0, 0, 0, 0], [3341, 1197, 6250, 3053, 0, 0, 0, 0, 0, 0, 0, 0, 0, 0, 0, 0, 0, 0, 2, 0, 0, 0, 0, 0, 0, 0, 0, 0, 0, 0, 0, 0, 0, 0, 0, 0]]\n",
            "[['hopeless', 'tmr', 'frownsadandryorpouting'], ['everything', 'kid', 'section', 'ikea', 'cute', 'shame', 'nearly', 'month', 'frownsadandryorpouting'], ['heart', 'sliding', 'waste', 'basket', 'frownsadandryorpouting'], ['hate', 'japanese', 'call', 'ban', 'frownsadandryorpouting', 'frownsadandryorpoutingme'], ['dang', 'starting', 'next', 'week', 'work', 'frownsadandryorpouting'], ['oh', 'god', 'baby', 'face', 'frownsadandryorpouting'], ['make', 'smile', 'frownsadandryorpouting'], ['work', 'neighbour', 'motor', 'asked', 'said', 'hate', 'update', 'search', 'frownsadandryorpouting'], ['whyfrownsadandryorpouting', 'sialanfrownsadandryorpouting'], ['athabasca', 'glacier', 'frownsadandryorpouting', 'athabasca', 'glacier', 'jasper', 'jaspernationalpark', 'alberta', 'explorealberta'], ['really', 'good', 'mampg', 'idea', 'never', 'going', 'meet', 'frownsadandryorpouting'], ['mare', 'ivan', 'frownsadandryorpouting'], ['happy', 'trip', 'keep', 'safe', 'see', 'soon', 'kiss', 'frownsadandryorpouting'], ['tired', 'hahahah', 'frownsadandryorpouting'], ['knee', 'replacement', 'get', 'amp', 'day', 'frownsadandryorpouting', 'ouch'], ['relate', 'sweet', 'sour', 'kind', 'bipolar', 'people', 'life', 'cuz', 'life', 'full', 'frownsadandryorpouting'], ['pleasse', 'frownsadandryorpouting'], ['sure', 'tho', 'frownsadandryorpouting'], ['feel', 'stupidi', 'seem', 'grasp', 'basic', 'digital', 'painting', 'nothing', 'researching', 'helping', 'frownsadandryorpouting'], ['good', 'lord', 'frownsadandryorpouting'], ['feel', 'lonely', 'someone', 'talk', 'guy', 'girl', 'frownsadandryorpouting'], ['assignment', 'project', 'frownsadandryorpouting', 'really'], ['play', 'video', 'gameswatch', 'movie', 'someone', 'frownsadandryorpouting'], ['choreographing', 'hard'], ['email', 'link', 'still', 'say', 'longer', 'available', 'frownsadandryorpouting'], ['cry', 'bc', 'miss', 'mingming', 'much', 'frownsadandryorpouting'], ['sorry', 'frownsadandryorpouting'], ['mom', 'far', 'away', 'frownsadandryorpouting'], ['truly', 'sorry', 'frownsadandryorpouting', 'safe', 'flight'], ['friend', 'frownsadandryorpouting'], ['oh', 'frownsadandryorpouting', 'hate', 'happens', 'get', 'sad'], ['oh', 'peed', 'bag', 'frownsadandryorpouting', 'cant', 'newwine'], ['doushite', 'frownsadandryorpouting'], ['late', 'frownsadandryorpouting'], ['suck', 'much', 'sick', 'plan', 'start', 'work', 'first', 'gundam', 'night', 'nope', 'frownsadandryorpouting'], ['dollar', 'frownsadandryorpouting'], ['listening', 'back', 'old', 'show', 'know', 'weirdconfusion', 'got', 'leaving', 'might', 'give', 'pale', 'imitation', 'frownsadandryorpouting'], ['went', 'massive', 'fucking', 'rash', 'body', 'painful', 'thing', 'ever', 'go', 'home', 'frownsadandryorpouting'], ['hi', 'absent', 'frownsadandryorpouting'], ['gran', 'tho', 'knew', 'tell', 'frownsadandryorpouting'], ['cute', 'love', 'much', 'wish', 'would', 'sequel', 'frownsadandryorpouting'], ['busy', 'school', 'frownsadandryorpouting', 'next', 'time', 'love', 'yah', 'xx'], ['ouucchhh', 'wisdom', 'teeth', 'coming', 'frownsadandryorpouting'], ['frightening', 'case', 'really', 'get', 'frownsadandryorpouting'], ['pret', 'frownsadandryorpouting', 'wkwkw', 'verfied', 'active', 'forget', 'follow', 'member', 'thanks', 'join', 'goodbye'], ['you´ve', 'got', 'chain', 'love', '´', 'sentirse', 'incompleta'], ['okay', 'frownsadandryorpouting'], ['go', 'wednesday', 'frownsadandryorpouting'], ['marvellous', 'thwarting', 'frownsadandryorpouting'], ['awh', 'chance', 'zante', 'need', 'something', 'frownsadandryorpouting', 'x'], ['whens', 'birthday', 'frownsadandryorpouting'], ['worst', 'part', 'still', 'feel', 'bad', 'frownsadandryorpouting'], ['audraesar', 'sushi', 'pic', 'tl', 'driving', 'craaaazzyy', 'frownsadandryorpouting'], ['really', 'frownsadandryorpouting'], ['popped', 'like', 'helium', 'balloon', 'frownsadandryorpouting'], ['climatechange', 'cc', 'california', 'powerful', 'influential', 'air', 'pollution', 'watchdog', 'califor', 'uniteblue', 'tcot', 'frownsadandryorpouting'], ['sad', 'elhaida', 'robbed', 'jury', 'frownsadandryorpouting', 'came', 'th', 'televoting'], ['climatechange', 'cc', 'idaho', 'restrict', 'fishing', 'despite', 'regional', 'droughtlinked', 'dieof', 'uniteblue', 'tcot', 'frownsadandryorpouting'], ['climatechange', 'cc', 'abrupt', 'climate', 'change', 'may', 'doomed', 'mammoth', 'megafauna', 'sc', 'uniteblue', 'tcot', 'frownsadandryorpouting'], ['climatechange', 'cc', 'australia', 'dirtiest', 'power', 'station', 'considers', 'clean', 'energy', 'biomass', 'uniteblue', 'tcot', 'frownsadandryorpouting'], ['climatechange', 'cc', 'easy', 'green', 'golf', 'course', 'california', 'ulti', 'uniteblue', 'tcot', 'frownsadandryorpouting'], ['well', 'sure', 'work', 'day', 'frownsadandryorpouting'], ['gon', 'miss', 'sexy', 'prexy', 'frownsadandryorpouting'], ['miss', 'kindergarten', 'kid', 'frownsadandryorpouting'], ['hungry', 'frownsadandryorpouting'], ['cant', 'find', 'book', 'keep', 'sane', 'frownsadandryorpouting'], ['literally', 'three', 'lounge', 'event', 'frownsadandryorpouting', 'much', 'turn', 'sad'], ['miss', 'bos', 'frownsadandryorpouting'], ['love', 'hozier', 'frownsadandryorpouting'], ['true', 'soooooooner', 'frownsadandryorpouting'], ['ahh', 'fam', 'frownsadandryorpouting', 'respectlost'], ['sorry', 'frownsadandryorpouting', 'hypercholesteloremia', 'ok'], ['baby', 'still', 'look', 'tired', 'frownsadandryorpouting'], ['someone', 'gift', 'calibraska', 'frownsadandryorpouting'], ['massive', 'shame', 'would', 'actually', 'genuine', 'contender', 'happen', 'frownsadandryorpouting'], ['head', 'always', 'hurt', 'stay', 'late', 'lmao', 'frownsadandryorpouting'], ['older', 'frownsadandryorpouting'], ['backed', 'frownsadandryorpouting'], ['sound', 'upset', 'frownsadandryorpouting'], ['much', 'miss', 'frownsadandryorpouting'], ['miss', 'infinite', 'frownsadandryorpouting'], ['stick', 'th', 'either', 'frownsadandryorpouting'], ['much', 'serious', 'yun', 'eh', 'frownsadandryorpouting'], ['room', 'way', 'hot', 'frownsadandryorpouting'], ['still', 'havent', 'found', 'handsome', 'jack', 'drawing', 'frownsadandryorpouting'], ['shit', 'frownsadandryorpouting'], ['cut', 'encore', 'frownsadandryorpouting', 'badthwin'], ['wish', 'baymax', 'frownsadandryorpouting'], ['sick', 'frownsadandryorpouting'], ['french', 'mixer', 'miss', 'much', 'frownsadandryorpouting'], ['wft', 'watch', 'awesome', 'replay', 'frownsadandryorpouting'], ['happened', 'frownsadandryorpouting'], ['party', 'promotion', 'frownsadandryorpouting'], ['music', 'bank', 'encore', 'always', 'short', 'frownsadandryorpouting'], ['baby', 'boy', 'frownsadandryorpouting'], ['order', 'received', 'hub', 'nearest', 'look', 'like', 'delivered', 'today', 'frownsadandryorpouting', 'confusion'], ['mum', 'playing', 'music', 'loud', 'frownsadandryorpouting'], ['finale', 'parasyte', 'fucked', 'feeling', 'alllllll', 'way', 'frownsadandryorpouting'], ['wish', 'frownsadandryorpouting', 'zayniscomingbackonjuly'], ['good', 'bye', 'party', 'frownsadandryorpouting']]\n"
          ],
          "name": "stdout"
        }
      ]
    },
    {
      "cell_type": "markdown",
      "metadata": {
        "id": "1VPn7otZ0rkP"
      },
      "source": [
        "#### Embedding lookup table"
      ]
    },
    {
      "cell_type": "code",
      "metadata": {
        "colab": {
          "base_uri": "https://localhost:8080/"
        },
        "id": "yGk6U8p-1TOU",
        "outputId": "2e7c3e49-b5b6-4be4-d4ce-6639c1b3874d"
      },
      "source": [
        "import numpy as np\n",
        "emb_dim = 120\n",
        "emb_table = []\n",
        "count = 0\n",
        "for word in enumerate(word_list):\n",
        "    #print(word[1])\n",
        "    if word[1] in cbow_model.wv.vocab:\n",
        "        count = count + 1\n",
        "        emb_table.append(cbow_model.wv[word[1]])\n",
        "    else:\n",
        "        emb_table.append([0]*emb_dim)\n",
        "emb_table = np.array(emb_table)\n",
        "print(count)\n",
        "print(emb_table[2])"
      ],
      "execution_count": null,
      "outputs": [
        {
          "output_type": "stream",
          "text": [
            "5468\n",
            "[-0.28241345 -0.10544896 -0.14104694 -0.21511017  0.04580319 -0.18814008\n",
            " -0.15510978  0.14754431  0.23394822  0.32365882 -0.07999504  0.020554\n",
            "  0.25255927 -0.15511537  0.03181538 -0.12329264  0.04726523 -0.00854806\n",
            " -0.03687858 -0.01126571 -0.08283217  0.04650865 -0.08902138 -0.13999195\n",
            " -0.01687707 -0.27591351  0.00770412  0.29727647  0.07548182 -0.12989923\n",
            "  0.52068043 -0.22997883 -0.15439878  0.15712848  0.031958   -0.01015226\n",
            " -0.19919933  0.25919199  0.08236402 -0.3869144   0.16096243  0.07103205\n",
            "  0.16621841  0.00680116 -0.14871147  0.11126444  0.13826278 -0.05115153\n",
            "  0.13005637 -0.25507882 -0.30627757 -0.02346124 -0.1685731   0.24868815\n",
            "  0.10900147  0.23874912  0.0569873  -0.04031371  0.06383377  0.04026775\n",
            " -0.12827654  0.16940846 -0.02729299  0.03050441 -0.18415217 -0.02975106\n",
            "  0.0663992   0.03702991  0.20324665  0.17088893 -0.31054145  0.33265826\n",
            " -0.10887024 -0.11674632  0.50147629  0.29244736 -0.21093516 -0.02558828\n",
            "  0.29694366 -0.09039949 -0.08583562  0.33218169  0.05295656 -0.00371892\n",
            "  0.08750775 -0.02193291  0.10142273 -0.17973772 -0.08077931  0.16268356\n",
            " -0.26897135  0.10379691 -0.11987917  0.13510287 -0.16771244 -0.11180735\n",
            "  0.56420404 -0.17019986 -0.24708059  0.00547128  0.03500382  0.10159203\n",
            " -0.35927278 -0.23209983 -0.21722829 -0.09024099 -0.02636599 -0.27671418\n",
            "  0.16751967 -0.2307695   0.30469197  0.1279873   0.18675868  0.25638658\n",
            "  0.13131732 -0.17716475 -0.03081183  0.08998107  0.13513264  0.31884471]\n"
          ],
          "name": "stdout"
        }
      ]
    },
    {
      "cell_type": "code",
      "metadata": {
        "colab": {
          "base_uri": "https://localhost:8080/"
        },
        "id": "ol3oPUgZWwzt",
        "outputId": "bad5e0b7-9b43-48ad-dfd6-ea43f508cdd9"
      },
      "source": [
        "print(len(cbow_model.wv.vocab))"
      ],
      "execution_count": null,
      "outputs": [
        {
          "output_type": "stream",
          "text": [
            "29805\n"
          ],
          "name": "stdout"
        }
      ]
    },
    {
      "cell_type": "markdown",
      "metadata": {
        "id": "DpYCL17JKZxl"
      },
      "source": [
        "### 2.3.2. Build Sequence Model\n",
        "\n",
        "Use CBOW model implemented in the previous section to transform the vector.\n"
      ]
    },
    {
      "cell_type": "markdown",
      "metadata": {
        "id": "R204UIyDKhZ4"
      },
      "source": [
        "*You are required to describe how hyperparameters were decided with justification of your decision.*\n",
        "\n",
        "hyperparameters decision:\n",
        "\n",
        "* vocb_size: The dictionary size\n",
        "* n_hidden: I choose 100 as it is the best number I have tried from 10 to 300.\n",
        "* learning_rate: According to secion 3.3 Hyperparameter Testing, I choose the learning rate to be 0.001.\n",
        "* batch_size: The best batch_size to be 4000 which can improve the execution time of the training."
      ]
    },
    {
      "cell_type": "code",
      "metadata": {
        "id": "5DN9IQf3Ax7e"
      },
      "source": [
        "vocab_size = len(word_list)\n",
        "n_hidden = 100\n",
        "learning_rate = 0.001\n",
        "batch_size = 4000\n",
        "total_epoch = 14"
      ],
      "execution_count": null,
      "outputs": []
    },
    {
      "cell_type": "code",
      "metadata": {
        "id": "13eCtR_SLUG6"
      },
      "source": [
        "# Please comment your code\n",
        "import torch\n",
        "#You can enable GPU here (cuda); or just CPU\n",
        "device = torch.device(\"cuda\" if torch.cuda.is_available() else \"cpu\")\n",
        "\n",
        "import torch.nn as nn\n",
        "import torch.nn.functional as F\n",
        "from sklearn.metrics import accuracy_score\n",
        "\n",
        "\n",
        "class Bi_RNN_Model(nn.Module):\n",
        "    def __init__(self):\n",
        "        super(Bi_RNN_Model, self).__init__()\n",
        "        # A simple lookup table that stores embeddings of a fixed dictionary and size.\n",
        "        self.emb = nn.Embedding(vocab_size, emb_dim)\n",
        "        self.emb.weight.data.copy_(torch.from_numpy(emb_table))\n",
        "        self.emb.weight.requires_grad = False\n",
        "        # set the bidirectional to True\n",
        "        self.rnn = nn.RNN(emb_dim, n_hidden, batch_first=True, bidirectional=True)\n",
        "        self.linear = nn.Linear(2*n_hidden, n_class)\n",
        "\n",
        "    def forward(self, x):    \n",
        "        x = self.emb(x)    \n",
        "        x, h_n = self.rnn(x)\n",
        "        # concat the last hidden state from two direction\n",
        "        hidden_out = torch.cat((h_n[0,:,:],h_n[1,:,:]),1)\n",
        "        output = self.linear(hidden_out)\n",
        "        return output\n",
        "\n"
      ],
      "execution_count": null,
      "outputs": []
    },
    {
      "cell_type": "markdown",
      "metadata": {
        "id": "6BaOiaGRLW7R"
      },
      "source": [
        "### 2.3.3. Train Sequence Model\n",
        "\n",
        "Note that it will not be marked if you do not display the Training Loss and the Number of Epochs in the Assignment 1 ipynb.\n"
      ]
    },
    {
      "cell_type": "code",
      "metadata": {
        "id": "lVQnUSX1LZ6C",
        "colab": {
          "base_uri": "https://localhost:8080/"
        },
        "outputId": "f056f8be-2e83-413b-ff0a-05c59ca8f002"
      },
      "source": [
        "criterion = nn.CrossEntropyLoss()\n",
        "model = Bi_RNN_Model().to(device)\n",
        "optimizer = optim.Adam(model.parameters(), lr=learning_rate)\n",
        "\n",
        "for epoch in range(total_epoch):\n",
        "    train_loss = 0\n",
        "    for ind in range(0,len(train_pad_encoded),batch_size):\n",
        "        input_batch = train_pad_encoded[ind:min(ind+batch_size, len(train_pad_encoded))]\n",
        "        target_batch = label_train_encoded[ind:min(ind+batch_size, len(train_pad_encoded))]\n",
        "        input_batch_torch = torch.from_numpy(np.array(input_batch)).to(device)\n",
        "        target_batch_torch = torch.from_numpy(np.array(target_batch)).view(-1).to(device)\n",
        "\n",
        "        model.train()\n",
        "        optimizer.zero_grad()\n",
        "        outputs = model(input_batch_torch) \n",
        "        loss = criterion(outputs, target_batch_torch)\n",
        "        loss.backward()\n",
        "        optimizer.step()\n",
        "        \n",
        "        train_loss += loss.item()\n",
        "    predicted = torch.argmax(outputs, -1)\n",
        "    acc = accuracy_score(predicted.cpu().numpy(),target_batch_torch.cpu().numpy())\n",
        "    print('Epoch: %d, loss: %.5f, train_acc: %.2f' %(epoch + 1, loss.item(), acc))\n",
        "\n",
        "print('Finished Training')\n",
        "\n"
      ],
      "execution_count": null,
      "outputs": [
        {
          "output_type": "stream",
          "text": [
            "Epoch: 1, loss: 0.80775, train_acc: 0.21\n",
            "Epoch: 2, loss: 0.78768, train_acc: 0.25\n",
            "Epoch: 3, loss: 0.75641, train_acc: 0.31\n",
            "Epoch: 4, loss: 0.72558, train_acc: 0.41\n",
            "Epoch: 5, loss: 0.69826, train_acc: 0.47\n",
            "Epoch: 6, loss: 0.67512, train_acc: 0.51\n",
            "Epoch: 7, loss: 0.65595, train_acc: 0.54\n",
            "Epoch: 8, loss: 0.64033, train_acc: 0.56\n",
            "Epoch: 9, loss: 0.62777, train_acc: 0.57\n",
            "Epoch: 10, loss: 0.61784, train_acc: 0.58\n",
            "Epoch: 11, loss: 0.61017, train_acc: 0.59\n",
            "Epoch: 12, loss: 0.60443, train_acc: 0.59\n",
            "Epoch: 13, loss: 0.60033, train_acc: 0.60\n",
            "Epoch: 14, loss: 0.59763, train_acc: 0.60\n",
            "Finished Training\n"
          ],
          "name": "stdout"
        }
      ]
    },
    {
      "cell_type": "markdown",
      "metadata": {
        "id": "a4mpRpocePLN"
      },
      "source": [
        "# 3 - Evaluation\n"
      ]
    },
    {
      "cell_type": "markdown",
      "metadata": {
        "id": "lbLBzHObsvvM"
      },
      "source": [
        "## 3.1. Word Embedding Evaluation\n",
        "You are to apply Semantic-Syntactic word relationship tests for the trained word embeddings and visualise the result of Semantic-Syntactic word relationship tests.\n",
        "Note that it will not be marked if you do not display it in the ipynb file.\n"
      ]
    },
    {
      "cell_type": "markdown",
      "metadata": {
        "id": "MSIUsb7qtQEf"
      },
      "source": [
        "(*Please show your empirical evidence*)"
      ]
    },
    {
      "cell_type": "code",
      "metadata": {
        "id": "tCrcXwcGsuuo",
        "colab": {
          "base_uri": "https://localhost:8080/"
        },
        "outputId": "c7563911-9cab-43dc-d097-f49bb3a8f30c"
      },
      "source": [
        "# Please comment your code\n",
        "\n",
        "\n",
        "#The stanfordnlp glove github provides the google analogy test test questions files\n",
        "!git clone https://github.com/stanfordnlp/GloVe.git"
      ],
      "execution_count": null,
      "outputs": [
        {
          "output_type": "stream",
          "text": [
            "Cloning into 'GloVe'...\n",
            "remote: Enumerating objects: 595, done.\u001b[K\n",
            "remote: Counting objects: 100% (3/3), done.\u001b[K\n",
            "remote: Compressing objects: 100% (3/3), done.\u001b[K\n",
            "remote: Total 595 (delta 0), reused 1 (delta 0), pack-reused 592\u001b[K\n",
            "Receiving objects: 100% (595/595), 222.33 KiB | 5.70 MiB/s, done.\n",
            "Resolving deltas: 100% (338/338), done.\n"
          ],
          "name": "stdout"
        }
      ]
    },
    {
      "cell_type": "code",
      "metadata": {
        "id": "KYWfxIw64mJX"
      },
      "source": [
        "vocab_words = []\n",
        "vocab_size = 0\n",
        "vectors = {}\n",
        "vocab={}\n",
        "ivocab={}\n",
        "vector_dim = 0\n",
        "W = []\n",
        "W_norm = []\n",
        "\n",
        "def get_W(vectors_file):\n",
        "  with open(vectors_file, 'r') as f:\n",
        "    for line in f.readlines()[1:]:  \n",
        "      vals = line.rstrip().split(' ')\n",
        "      vectors[vals[0]] = [float(x) for x in vals[1:]]\n",
        "\n",
        "  vocab_words=list(vectors.keys())\n",
        "  vocab_size = len(vocab_words)\n",
        "  # print(\"Vocab size: \",str(vocab_size))\n",
        "\n",
        "  vocab = {w: idx for idx, w in enumerate(vocab_words)}\n",
        "  ivocab = {idx: w for idx, w in enumerate(vocab_words)}\n",
        "  vector_dim = len(vectors[ivocab[0]])\n",
        "  W = np.zeros((vocab_size, vector_dim))\n",
        "  for word, v in vectors.items():\n",
        "      if word == '<unk>':\n",
        "          continue\n",
        "      W[vocab[word], :] = v\n",
        "\n",
        "  # normalize each word vector to unit length\n",
        "  # Vectors are usually normalized to unit length before they are used for similarity calculation, making cosine similarity and dot-product equivalent.\n",
        "  W_norm = np.zeros(W.shape)\n",
        "  d = (np.sum(W ** 2, 1) ** (0.5))\n",
        "  W_norm = (W.T / d).T\n",
        "  return vocab, W_norm\n"
      ],
      "execution_count": null,
      "outputs": []
    },
    {
      "cell_type": "code",
      "metadata": {
        "id": "eAxc058V4tWl"
      },
      "source": [
        "def evaluate_vectors(W, vocab, prefix='./eval/question-data/'):\n",
        "    \"\"\"Evaluate the trained word vectors on a variety of tasks\"\"\"\n",
        "\n",
        "    filenames = [\n",
        "        'capital-common-countries.txt', 'capital-world.txt', 'currency.txt',\n",
        "        'city-in-state.txt', 'family.txt', 'gram1-adjective-to-adverb.txt',\n",
        "        'gram2-opposite.txt', 'gram3-comparative.txt', 'gram4-superlative.txt',\n",
        "        'gram5-present-participle.txt', 'gram6-nationality-adjective.txt',\n",
        "        'gram7-past-tense.txt', 'gram8-plural.txt', 'gram9-plural-verbs.txt',\n",
        "        ]\n",
        "\n",
        "    # to avoid memory overflow, could be increased/decreased\n",
        "    # depending on system and vocab size\n",
        "    split_size = 100\n",
        "\n",
        "    correct_sem = 0; # count correct semantic questions\n",
        "    correct_syn = 0; # count correct syntactic questions\n",
        "    correct_tot = 0 # count correct questions\n",
        "    count_sem = 0; # count all semantic questions\n",
        "    count_syn = 0; # count all syntactic questions\n",
        "    count_tot = 0 # count all questions\n",
        "    full_count = 0 # count all questions, including those with unknown words\n",
        "\n",
        "    for i in range(len(filenames)):\n",
        "        with open('%s/%s' % (prefix, filenames[i]), 'r') as f:\n",
        "            full_data = [line.rstrip().split(' ') for line in f]\n",
        "            full_count += len(full_data)\n",
        "            data = [x for x in full_data if all(word in vocab for word in x)]\n",
        "\n",
        "        if len(data) == 0:\n",
        "            print(\"ERROR: no lines of vocab kept for %s !\" % filenames[i])\n",
        "            print(\"Example missing line:\", full_data[0])\n",
        "            continue\n",
        "\n",
        "        indices = np.array([[vocab[word] for word in row] for row in data])\n",
        "        ind1, ind2, ind3, ind4 = indices.T\n",
        "\n",
        "        predictions = np.zeros((len(indices),))\n",
        "        num_iter = int(np.ceil(len(indices) / float(split_size)))\n",
        "        for j in range(num_iter):\n",
        "            subset = np.arange(j*split_size, min((j + 1)*split_size, len(ind1)))\n",
        "\n",
        "            pred_vec = (W[ind2[subset], :] - W[ind1[subset], :]\n",
        "                +  W[ind3[subset], :])\n",
        "\n",
        "            #cosine similarity if input W has been normalized\n",
        "            dist = np.dot(W, pred_vec.T)\n",
        "\n",
        "\n",
        "            for k in range(len(subset)):\n",
        "                dist[ind1[subset[k]], k] = -np.Inf\n",
        "                dist[ind2[subset[k]], k] = -np.Inf\n",
        "                dist[ind3[subset[k]], k] = -np.Inf\n",
        "\n",
        "            # predicted word index\n",
        "            predictions[subset] = np.argmax(dist, 0).flatten()\n",
        "\n",
        "        \n",
        "        val = (ind4 == predictions) # correct predictions\n",
        "        count_tot = count_tot + len(ind1)\n",
        "        correct_tot = correct_tot + sum(val)\n",
        "        if i < 5:\n",
        "            count_sem = count_sem + len(ind1)\n",
        "            correct_sem = correct_sem + sum(val)\n",
        "        else:\n",
        "            count_syn = count_syn + len(ind1)\n",
        "            correct_syn = correct_syn + sum(val)\n",
        "\n",
        "        \n",
        "\n",
        "    print('Semantic accuracy: %.2f%%  (%i/%i)' % (100 * correct_sem / float(count_sem), correct_sem, count_sem))\n",
        "    print('Syntactic accuracy: %.2f%%  (%i/%i)' % (100 * correct_syn / float(count_syn), correct_syn, count_syn))\n",
        "    print('Total accuracy: %.2f%%  (%i/%i)' % (100 * correct_tot / float(count_tot), correct_tot, count_tot))\n",
        "    return correct_tot/count_tot, correct_sem/count_tot, correct_syn/count_tot"
      ],
      "execution_count": null,
      "outputs": []
    },
    {
      "cell_type": "markdown",
      "metadata": {
        "id": "XXuKL5Z7cgf6"
      },
      "source": [
        "#### Testing accuracy on  Symmetric context with different vector dimension and window size\n",
        "\n",
        "Create 30 models with different vector dimension. Save the vectors to the specific file. \n",
        "\n",
        "Creat 16 models with different window size.\n",
        "\n",
        "\n",
        "Execution time: 35 minutes"
      ]
    },
    {
      "cell_type": "code",
      "metadata": {
        "id": "kS3GYNL8c0JP"
      },
      "source": [
        "# cbow model with different Vector Dimension from 50 to 300\n",
        "# create vector file for each model\n",
        "wv_cbow_model_vd_1 = Word2Vec(sentences=sentences, size=10, window=2, min_count=10, workers=8, sg=0)\n",
        "wv_cbow_model_vd_1.wv.save_word2vec_format('cbow_w2v_vector_1.txt', binary=False)\n",
        "wv_cbow_model_vd_2 = Word2Vec(sentences=sentences, size=20, window=2, min_count=10, workers=8, sg=0)\n",
        "wv_cbow_model_vd_2.wv.save_word2vec_format('cbow_w2v_vector_2.txt', binary=False)\n",
        "wv_cbow_model_vd_3 = Word2Vec(sentences=sentences, size=30, window=2, min_count=10, workers=8, sg=0)\n",
        "wv_cbow_model_vd_3.wv.save_word2vec_format('cbow_w2v_vector_3.txt', binary=False)\n",
        "wv_cbow_model_vd_4 = Word2Vec(sentences=sentences, size=40, window=2, min_count=10, workers=8, sg=0)\n",
        "wv_cbow_model_vd_4.wv.save_word2vec_format('cbow_w2v_vector_4.txt', binary=False)\n",
        "wv_cbow_model_vd_5 = Word2Vec(sentences=sentences, size=50, window=2, min_count=10, workers=8, sg=0)\n",
        "wv_cbow_model_vd_5.wv.save_word2vec_format('cbow_w2v_vector_5.txt', binary=False)  \n",
        "wv_cbow_model_vd_6 = Word2Vec(sentences=sentences, size=60, window=2, min_count=10, workers=8, sg=0)\n",
        "wv_cbow_model_vd_6.wv.save_word2vec_format('cbow_w2v_vector_6.txt', binary=False)\n",
        "wv_cbow_model_vd_7 = Word2Vec(sentences=sentences, size=70, window=2, min_count=10, workers=8, sg=0)\n",
        "wv_cbow_model_vd_7.wv.save_word2vec_format('cbow_w2v_vector_7.txt', binary=False)\n",
        "wv_cbow_model_vd_8 = Word2Vec(sentences=sentences, size=80, window=2, min_count=10, workers=8, sg=0)\n",
        "wv_cbow_model_vd_8.wv.save_word2vec_format('cbow_w2v_vector_8.txt', binary=False)\n",
        "wv_cbow_model_vd_9 = Word2Vec(sentences=sentences, size=90, window=2, min_count=10, workers=8, sg=0)\n",
        "wv_cbow_model_vd_9.wv.save_word2vec_format('cbow_w2v_vector_9.txt', binary=False)\n",
        "wv_cbow_model_vd_10 = Word2Vec(sentences=sentences, size=100, window=2, min_count=10, workers=8, sg=0)\n",
        "wv_cbow_model_vd_10.wv.save_word2vec_format('cbow_w2v_vector_10.txt', binary=False)\n",
        "wv_cbow_model_vd_11 = Word2Vec(sentences=sentences, size=110, window=2, min_count=10, workers=8, sg=0)\n",
        "wv_cbow_model_vd_11.wv.save_word2vec_format('cbow_w2v_vector_11.txt', binary=False)\n",
        "wv_cbow_model_vd_12 = Word2Vec(sentences=sentences, size=120, window=2, min_count=10, workers=8, sg=0)\n",
        "wv_cbow_model_vd_12.wv.save_word2vec_format('cbow_w2v_vector_12.txt', binary=False)\n",
        "wv_cbow_model_vd_13 = Word2Vec(sentences=sentences, size=130, window=2, min_count=10, workers=8, sg=0)\n",
        "wv_cbow_model_vd_13.wv.save_word2vec_format('cbow_w2v_vector_13.txt', binary=False)\n",
        "wv_cbow_model_vd_14 = Word2Vec(sentences=sentences, size=140, window=2, min_count=10, workers=8, sg=0)\n",
        "wv_cbow_model_vd_14.wv.save_word2vec_format('cbow_w2v_vector_14.txt', binary=False)\n",
        "wv_cbow_model_vd_15 = Word2Vec(sentences=sentences, size=150, window=2, min_count=10, workers=8, sg=0)\n",
        "wv_cbow_model_vd_15.wv.save_word2vec_format('cbow_w2v_vector_15.txt', binary=False)\n",
        "wv_cbow_model_vd_16 = Word2Vec(sentences=sentences, size=160, window=2, min_count=10, workers=8, sg=0)\n",
        "wv_cbow_model_vd_16.wv.save_word2vec_format('cbow_w2v_vector_16.txt', binary=False)\n",
        "wv_cbow_model_vd_17 = Word2Vec(sentences=sentences, size=170, window=2, min_count=10, workers=8, sg=0)\n",
        "wv_cbow_model_vd_17.wv.save_word2vec_format('cbow_w2v_vector_17.txt', binary=False)\n",
        "wv_cbow_model_vd_18 = Word2Vec(sentences=sentences, size=180, window=2, min_count=10, workers=8, sg=0)\n",
        "wv_cbow_model_vd_18.wv.save_word2vec_format('cbow_w2v_vector_18.txt', binary=False)\n",
        "wv_cbow_model_vd_19 = Word2Vec(sentences=sentences, size=190, window=2, min_count=10, workers=8, sg=0)\n",
        "wv_cbow_model_vd_19.wv.save_word2vec_format('cbow_w2v_vector_19.txt', binary=False)\n",
        "wv_cbow_model_vd_20 = Word2Vec(sentences=sentences, size=200, window=2, min_count=10, workers=8, sg=0)\n",
        "wv_cbow_model_vd_20.wv.save_word2vec_format('cbow_w2v_vector_20.txt', binary=False)\n",
        "wv_cbow_model_vd_21 = Word2Vec(sentences=sentences, size=210, window=2, min_count=10, workers=8, sg=0)\n",
        "wv_cbow_model_vd_21.wv.save_word2vec_format('cbow_w2v_vector_21.txt', binary=False)\n",
        "wv_cbow_model_vd_22 = Word2Vec(sentences=sentences, size=220, window=2, min_count=10, workers=8, sg=0)\n",
        "wv_cbow_model_vd_22.wv.save_word2vec_format('cbow_w2v_vector_22.txt', binary=False)\n",
        "wv_cbow_model_vd_23 = Word2Vec(sentences=sentences, size=230, window=2, min_count=10, workers=8, sg=0)\n",
        "wv_cbow_model_vd_23.wv.save_word2vec_format('cbow_w2v_vector_23.txt', binary=False)\n",
        "wv_cbow_model_vd_24 = Word2Vec(sentences=sentences, size=240, window=2, min_count=10, workers=8, sg=0)\n",
        "wv_cbow_model_vd_24.wv.save_word2vec_format('cbow_w2v_vector_24.txt', binary=False)\n",
        "wv_cbow_model_vd_25 = Word2Vec(sentences=sentences, size=250, window=2, min_count=10, workers=8, sg=0)\n",
        "wv_cbow_model_vd_25.wv.save_word2vec_format('cbow_w2v_vector_25.txt', binary=False)  \n",
        "wv_cbow_model_vd_26 = Word2Vec(sentences=sentences, size=260, window=2, min_count=10, workers=8, sg=0)\n",
        "wv_cbow_model_vd_26.wv.save_word2vec_format('cbow_w2v_vector_26.txt', binary=False)\n",
        "wv_cbow_model_vd_27 = Word2Vec(sentences=sentences, size=270, window=2, min_count=10, workers=8, sg=0)\n",
        "wv_cbow_model_vd_7.wv.save_word2vec_format('cbow_w2v_vector_27.txt', binary=False)\n",
        "wv_cbow_model_vd_28 = Word2Vec(sentences=sentences, size=280, window=2, min_count=10, workers=8, sg=0)\n",
        "wv_cbow_model_vd_28.wv.save_word2vec_format('cbow_w2v_vector_28.txt', binary=False)\n",
        "wv_cbow_model_vd_29 = Word2Vec(sentences=sentences, size=290, window=2, min_count=10, workers=8, sg=0)\n",
        "wv_cbow_model_vd_29.wv.save_word2vec_format('cbow_w2v_vector_29.txt', binary=False)\n",
        "wv_cbow_model_vd_30 = Word2Vec(sentences=sentences, size=300, window=2, min_count=10, workers=8, sg=0)\n",
        "wv_cbow_model_vd_30.wv.save_word2vec_format('cbow_w2v_vector_30.txt', binary=False)\n",
        "\n",
        "\n",
        "wv_cbow_model_wd_1 = Word2Vec(sentences=sentences, size=50, window=1, min_count=1, workers=4, sg=0)\n",
        "wv_cbow_model_wd_1.wv.save_word2vec_format('cbow_w2v_window_1.txt', binary=False)\n",
        "wv_cbow_model_wd_2 = Word2Vec(sentences=sentences, size=50, window=2, min_count=1, workers=4, sg=0)\n",
        "wv_cbow_model_wd_2.wv.save_word2vec_format('cbow_w2v_window_2.txt', binary=False)\n",
        "wv_cbow_model_wd_3 = Word2Vec(sentences=sentences, size=50, window=3, min_count=1, workers=4, sg=0)\n",
        "wv_cbow_model_wd_3.wv.save_word2vec_format('cbow_w2v_window_3.txt', binary=False)\n",
        "wv_cbow_model_wd_4 = Word2Vec(sentences=sentences, size=50, window=4, min_count=1, workers=4, sg=0)\n",
        "wv_cbow_model_wd_4.wv.save_word2vec_format('cbow_w2v_window_4.txt', binary=False)\n",
        "wv_cbow_model_wd_5 = Word2Vec(sentences=sentences, size=50, window=5, min_count=1, workers=4, sg=0)\n",
        "wv_cbow_model_wd_5.wv.save_word2vec_format('cbow_w2v_window_5.txt', binary=False)\n",
        "wv_cbow_model_wd_6 = Word2Vec(sentences=sentences, size=50, window=6, min_count=1, workers=4, sg=0)\n",
        "wv_cbow_model_wd_6.wv.save_word2vec_format('cbow_w2v_window_6.txt', binary=False)\n",
        "wv_cbow_model_wd_7 = Word2Vec(sentences=sentences, size=50, window=7, min_count=1, workers=4, sg=0)\n",
        "wv_cbow_model_wd_7.wv.save_word2vec_format('cbow_w2v_window_7.txt', binary=False)\n",
        "wv_cbow_model_wd_8 = Word2Vec(sentences=sentences, size=50, window=8, min_count=1, workers=4, sg=0)\n",
        "wv_cbow_model_wd_8.wv.save_word2vec_format('cbow_w2v_window_8.txt', binary=False)\n",
        "wv_cbow_model_wd_9 = Word2Vec(sentences=sentences, size=50, window=9, min_count=1, workers=4, sg=0)\n",
        "wv_cbow_model_wd_9.wv.save_word2vec_format('cbow_w2v_window_9.txt', binary=False)\n",
        "wv_cbow_model_wd_10 = Word2Vec(sentences=sentences, size=50, window=10, min_count=1, workers=4, sg=0)\n",
        "wv_cbow_model_wd_10.wv.save_word2vec_format('cbow_w2v_window_10.txt', binary=False)\n",
        "wv_cbow_model_wd_11 = Word2Vec(sentences=sentences, size=50, window=11, min_count=1, workers=4, sg=0)\n",
        "wv_cbow_model_wd_11.wv.save_word2vec_format('cbow_w2v_window_11.txt', binary=False)\n",
        "wv_cbow_model_wd_12 = Word2Vec(sentences=sentences, size=50, window=12, min_count=1, workers=4, sg=0)\n",
        "wv_cbow_model_wd_12.wv.save_word2vec_format('cbow_w2v_window_12.txt', binary=False)\n",
        "wv_cbow_model_wd_13 = Word2Vec(sentences=sentences, size=50, window=13, min_count=1, workers=4, sg=0)\n",
        "wv_cbow_model_wd_13.wv.save_word2vec_format('cbow_w2v_window_13.txt', binary=False)\n",
        "wv_cbow_model_wd_14 = Word2Vec(sentences=sentences, size=50, window=14, min_count=1, workers=4, sg=0)\n",
        "wv_cbow_model_wd_14.wv.save_word2vec_format('cbow_w2v_window_14.txt', binary=False)\n",
        "wv_cbow_model_wd_15 = Word2Vec(sentences=sentences, size=50, window=15, min_count=1, workers=4, sg=0)\n",
        "wv_cbow_model_wd_15.wv.save_word2vec_format('cbow_w2v_window_15.txt', binary=False)\n",
        "wv_cbow_model_wd_16 = Word2Vec(sentences=sentences, size=50, window=16, min_count=1, workers=4, sg=0)\n",
        "wv_cbow_model_wd_16.wv.save_word2vec_format('cbow_w2v_window_16.txt', binary=False)"
      ],
      "execution_count": null,
      "outputs": []
    },
    {
      "cell_type": "markdown",
      "metadata": {
        "id": "_xgbmMHnpqSe"
      },
      "source": [
        "#### Vector Size accuracy relationship diagram\n",
        "\n",
        "Draw the diagram with different vector dimensions. The x-axis would be different vector dimensions from 10 to 300, and the y-axis would be the accuracy. We can see from the testing result, when the vector dimension is 120, the accuracy score becomes the highest. Three lines basically have the same trend and shape. \n",
        "\n"
      ]
    },
    {
      "cell_type": "code",
      "metadata": {
        "colab": {
          "base_uri": "https://localhost:8080/"
        },
        "id": "FngR7nhNWphM",
        "outputId": "24a24eac-638b-47b8-f1b6-102522734c72"
      },
      "source": [
        "# Record the total accuracy of each model \n",
        "accuracy = []\n",
        "accuracy_sem = []\n",
        "accuracy_syn = []\n",
        "\n",
        "# method to update overall accuracy, semantic accuracy and syntactic accuracy to the lists\n",
        "def update_accuracy(file_name):\n",
        "  vocab, W_norm = get_W(file_name)\n",
        "  tot, sem, syn = evaluate_vectors(W_norm, vocab, prefix='/content/GloVe/eval/question-data')\n",
        "  accuracy.append(tot*100)\n",
        "  accuracy_sem.append(sem*100)\n",
        "  accuracy_syn.append(syn*100)\n",
        "\n",
        "print(\"vector dimension is 10:\")\n",
        "update_accuracy('cbow_w2v_vector_1.txt')\n",
        "print(\"\")\n",
        "print(\"vector dimension is 20:\")\n",
        "update_accuracy('cbow_w2v_vector_2.txt')\n",
        "print(\"\")\n",
        "print(\"vector dimension is 30:\")\n",
        "update_accuracy('cbow_w2v_vector_3.txt')\n",
        "print(\"\")\n",
        "print(\"vector dimension is 40:\")\n",
        "update_accuracy('cbow_w2v_vector_4.txt')\n",
        "print(\"\")\n",
        "print(\"vector dimension is 50:\")\n",
        "update_accuracy('cbow_w2v_vector_5.txt')\n",
        "print(\"\")\n",
        "print(\"vector dimension is 60:\")\n",
        "update_accuracy('cbow_w2v_vector_6.txt')\n",
        "print(\"\")\n",
        "print(\"vector dimension is 70:\")\n",
        "update_accuracy('cbow_w2v_vector_7.txt')\n",
        "print(\"\")\n",
        "print(\"vector dimension is 80:\")\n",
        "update_accuracy('cbow_w2v_vector_8.txt')\n",
        "print(\"\")\n",
        "print(\"vector dimension is 90:\")\n",
        "update_accuracy('cbow_w2v_vector_9.txt')\n",
        "print(\"\")\n",
        "print(\"vector dimension is 100:\")\n",
        "update_accuracy('cbow_w2v_vector_10.txt')\n",
        "print(\"\")\n",
        "print(\"vector dimension is 110:\")\n",
        "update_accuracy('cbow_w2v_vector_11.txt')\n",
        "print(\"\")\n",
        "print(\"vector dimension is 120:\")\n",
        "update_accuracy('cbow_w2v_vector_12.txt')\n",
        "print(\"\")\n",
        "print(\"vector dimension is 130:\")\n",
        "update_accuracy('cbow_w2v_vector_13.txt')\n",
        "print(\"\")\n",
        "print(\"vector dimension is 140:\")\n",
        "update_accuracy('cbow_w2v_vector_14.txt')\n",
        "print(\"\")\n",
        "print(\"vector dimension is 150:\")\n",
        "update_accuracy('cbow_w2v_vector_15.txt')\n",
        "print(\"\")\n",
        "print(\"vector dimension is 160:\")\n",
        "update_accuracy('cbow_w2v_vector_16.txt')\n",
        "print(\"\")\n",
        "print(\"vector dimension is 170:\")\n",
        "update_accuracy('cbow_w2v_vector_17.txt')\n",
        "print(\"\")\n",
        "print(\"vector dimension is 180:\")\n",
        "update_accuracy('cbow_w2v_vector_18.txt')\n",
        "print(\"\")\n",
        "print(\"vector dimension is 190:\")\n",
        "update_accuracy('cbow_w2v_vector_19.txt')\n",
        "print(\"\")\n",
        "print(\"vector dimension is 200:\")\n",
        "update_accuracy('cbow_w2v_vector_20.txt')\n",
        "print(\"\")\n",
        "print(\"vector dimension is 210:\")\n",
        "update_accuracy('cbow_w2v_vector_21.txt')\n",
        "print(\"\")\n",
        "print(\"vector dimension is 220:\")\n",
        "update_accuracy('cbow_w2v_vector_22.txt')\n",
        "print(\"\")\n",
        "print(\"vector dimension is 230:\")\n",
        "update_accuracy('cbow_w2v_vector_23.txt')\n",
        "print(\"\")\n",
        "print(\"vector dimension is 240:\")\n",
        "update_accuracy('cbow_w2v_vector_24.txt')\n",
        "print(\"\")\n",
        "print(\"vector dimension is 250:\")\n",
        "update_accuracy('cbow_w2v_vector_25.txt')\n",
        "print(\"\")\n",
        "print(\"vector dimension is 260:\")\n",
        "update_accuracy('cbow_w2v_vector_26.txt')\n",
        "print(\"\")\n",
        "print(\"vector dimension is 270:\")\n",
        "update_accuracy('cbow_w2v_vector_27.txt')\n",
        "print(\"\")\n",
        "print(\"vector dimension is 280:\")\n",
        "update_accuracy('cbow_w2v_vector_28.txt')\n",
        "print(\"\")\n",
        "print(\"vector dimension is 290:\")\n",
        "update_accuracy('cbow_w2v_vector_29.txt')\n",
        "print(\"\")\n",
        "print(\"vector dimension is 300:\")\n",
        "update_accuracy('cbow_w2v_vector_30.txt')\n",
        "print(\"\")"
      ],
      "execution_count": null,
      "outputs": [
        {
          "output_type": "stream",
          "text": [
            "vector dimension is 10:\n",
            "Semantic accuracy: 10.09%  (94/932)\n",
            "Syntactic accuracy: 2.62%  (187/7146)\n",
            "Total accuracy: 3.48%  (281/8078)\n",
            "\n",
            "vector dimension is 20:\n",
            "Semantic accuracy: 14.81%  (138/932)\n",
            "Syntactic accuracy: 7.67%  (548/7146)\n",
            "Total accuracy: 8.49%  (686/8078)\n",
            "\n",
            "vector dimension is 30:\n",
            "Semantic accuracy: 13.09%  (122/932)\n",
            "Syntactic accuracy: 11.57%  (827/7146)\n",
            "Total accuracy: 11.75%  (949/8078)\n",
            "\n",
            "vector dimension is 40:\n",
            "Semantic accuracy: 14.38%  (134/932)\n",
            "Syntactic accuracy: 13.98%  (999/7146)\n",
            "Total accuracy: 14.03%  (1133/8078)\n",
            "\n",
            "vector dimension is 50:\n",
            "Semantic accuracy: 16.85%  (157/932)\n",
            "Syntactic accuracy: 16.13%  (1153/7146)\n",
            "Total accuracy: 16.22%  (1310/8078)\n",
            "\n",
            "vector dimension is 60:\n",
            "Semantic accuracy: 15.99%  (149/932)\n",
            "Syntactic accuracy: 17.53%  (1253/7146)\n",
            "Total accuracy: 17.36%  (1402/8078)\n",
            "\n",
            "vector dimension is 70:\n",
            "Semantic accuracy: 17.27%  (161/932)\n",
            "Syntactic accuracy: 19.02%  (1359/7146)\n",
            "Total accuracy: 18.82%  (1520/8078)\n",
            "\n",
            "vector dimension is 80:\n",
            "Semantic accuracy: 17.92%  (167/932)\n",
            "Syntactic accuracy: 19.75%  (1411/7146)\n",
            "Total accuracy: 19.53%  (1578/8078)\n",
            "\n",
            "vector dimension is 90:\n",
            "Semantic accuracy: 17.38%  (162/932)\n",
            "Syntactic accuracy: 20.22%  (1445/7146)\n",
            "Total accuracy: 19.89%  (1607/8078)\n",
            "\n",
            "vector dimension is 100:\n",
            "Semantic accuracy: 18.03%  (168/932)\n",
            "Syntactic accuracy: 20.35%  (1454/7146)\n",
            "Total accuracy: 20.08%  (1622/8078)\n",
            "\n",
            "vector dimension is 110:\n",
            "Semantic accuracy: 17.17%  (160/932)\n",
            "Syntactic accuracy: 20.71%  (1480/7146)\n",
            "Total accuracy: 20.30%  (1640/8078)\n",
            "\n",
            "vector dimension is 120:\n",
            "Semantic accuracy: 17.92%  (167/932)\n",
            "Syntactic accuracy: 20.56%  (1469/7146)\n",
            "Total accuracy: 20.25%  (1636/8078)\n",
            "\n",
            "vector dimension is 130:\n",
            "Semantic accuracy: 18.13%  (169/932)\n",
            "Syntactic accuracy: 21.17%  (1513/7146)\n",
            "Total accuracy: 20.82%  (1682/8078)\n",
            "\n",
            "vector dimension is 140:\n",
            "Semantic accuracy: 17.81%  (166/932)\n",
            "Syntactic accuracy: 20.82%  (1488/7146)\n",
            "Total accuracy: 20.48%  (1654/8078)\n",
            "\n",
            "vector dimension is 150:\n",
            "Semantic accuracy: 17.17%  (160/932)\n",
            "Syntactic accuracy: 20.46%  (1462/7146)\n",
            "Total accuracy: 20.08%  (1622/8078)\n",
            "\n",
            "vector dimension is 160:\n",
            "Semantic accuracy: 17.27%  (161/932)\n",
            "Syntactic accuracy: 20.00%  (1429/7146)\n",
            "Total accuracy: 19.68%  (1590/8078)\n",
            "\n",
            "vector dimension is 170:\n",
            "Semantic accuracy: 17.49%  (163/932)\n",
            "Syntactic accuracy: 19.82%  (1416/7146)\n",
            "Total accuracy: 19.55%  (1579/8078)\n",
            "\n",
            "vector dimension is 180:\n",
            "Semantic accuracy: 17.27%  (161/932)\n",
            "Syntactic accuracy: 20.03%  (1431/7146)\n",
            "Total accuracy: 19.71%  (1592/8078)\n",
            "\n",
            "vector dimension is 190:\n",
            "Semantic accuracy: 16.09%  (150/932)\n",
            "Syntactic accuracy: 20.39%  (1457/7146)\n",
            "Total accuracy: 19.89%  (1607/8078)\n",
            "\n",
            "vector dimension is 200:\n",
            "Semantic accuracy: 16.74%  (156/932)\n",
            "Syntactic accuracy: 20.61%  (1473/7146)\n",
            "Total accuracy: 20.17%  (1629/8078)\n",
            "\n",
            "vector dimension is 210:\n",
            "Semantic accuracy: 19.10%  (178/932)\n",
            "Syntactic accuracy: 20.61%  (1473/7146)\n",
            "Total accuracy: 20.44%  (1651/8078)\n",
            "\n",
            "vector dimension is 220:\n",
            "Semantic accuracy: 18.03%  (168/932)\n",
            "Syntactic accuracy: 21.03%  (1503/7146)\n",
            "Total accuracy: 20.69%  (1671/8078)\n",
            "\n",
            "vector dimension is 230:\n",
            "Semantic accuracy: 17.06%  (159/932)\n",
            "Syntactic accuracy: 20.26%  (1448/7146)\n",
            "Total accuracy: 19.89%  (1607/8078)\n",
            "\n",
            "vector dimension is 240:\n",
            "Semantic accuracy: 18.88%  (176/932)\n",
            "Syntactic accuracy: 20.19%  (1443/7146)\n",
            "Total accuracy: 20.04%  (1619/8078)\n",
            "\n",
            "vector dimension is 250:\n",
            "Semantic accuracy: 17.38%  (162/932)\n",
            "Syntactic accuracy: 20.60%  (1472/7146)\n",
            "Total accuracy: 20.23%  (1634/8078)\n",
            "\n",
            "vector dimension is 260:\n",
            "Semantic accuracy: 17.38%  (162/932)\n",
            "Syntactic accuracy: 20.45%  (1461/7146)\n",
            "Total accuracy: 20.09%  (1623/8078)\n",
            "\n",
            "vector dimension is 270:\n",
            "Semantic accuracy: 17.27%  (161/932)\n",
            "Syntactic accuracy: 19.02%  (1359/7146)\n",
            "Total accuracy: 18.82%  (1520/8078)\n",
            "\n",
            "vector dimension is 280:\n",
            "Semantic accuracy: 16.52%  (154/932)\n",
            "Syntactic accuracy: 20.65%  (1476/7146)\n",
            "Total accuracy: 20.18%  (1630/8078)\n",
            "\n",
            "vector dimension is 290:\n",
            "Semantic accuracy: 18.03%  (168/932)\n",
            "Syntactic accuracy: 21.42%  (1531/7146)\n",
            "Total accuracy: 21.03%  (1699/8078)\n",
            "\n",
            "vector dimension is 300:\n",
            "Semantic accuracy: 16.63%  (155/932)\n",
            "Syntactic accuracy: 20.47%  (1463/7146)\n",
            "Total accuracy: 20.03%  (1618/8078)\n",
            "\n"
          ],
          "name": "stdout"
        }
      ]
    },
    {
      "cell_type": "code",
      "metadata": {
        "colab": {
          "base_uri": "https://localhost:8080/",
          "height": 279
        },
        "id": "x_ufuwJgpP5t",
        "outputId": "7d9e8577-e592-4fa0-dd63-67d8b43b4556"
      },
      "source": [
        "import matplotlib.pyplot as plt\n",
        "\n",
        "# data to be plotted\n",
        "x = np.arange(10, 310, 10) \n",
        "y_overall = np.array(accuracy)\n",
        "y_sem = np.array(accuracy_sem)\n",
        "y_syn = np.array(accuracy_syn)\n",
        "# plotting\n",
        "\n",
        "plt.xlabel(\"Vector Dimension\") \n",
        "plt.ylabel(\"Accurracy %\") \n",
        "plt.plot(x, y_overall, color =\"green\", label = \"overall\") \n",
        "plt.plot(x, y_sem, color =\"red\", label = \"Semantic\") \n",
        "plt.plot(x, y_syn, color =\"blue\", label = \"Syntactic\") \n",
        "plt.legend()\n",
        "plt.show()"
      ],
      "execution_count": null,
      "outputs": [
        {
          "output_type": "display_data",
          "data": {
            "image/png": "[encoded data removed]",
            "text/plain": [
              "<Figure size 432x288 with 1 Axes>"
            ]
          },
          "metadata": {
            "tags": [],
            "needs_background": "light"
          }
        }
      ]
    },
    {
      "cell_type": "markdown",
      "metadata": {
        "id": "kltfbUfxU-49"
      },
      "source": [
        "#### Window Size accuracy relationship diagram\n",
        "\n",
        "We can see from the testing result, when window size is 14, the accuracy score becomes the highest. Three lines basically have the same trend and shape. "
      ]
    },
    {
      "cell_type": "code",
      "metadata": {
        "colab": {
          "base_uri": "https://localhost:8080/"
        },
        "id": "8A1-w_rXVLJB",
        "outputId": "e2349d40-fe75-42eb-fa62-368120e477a3"
      },
      "source": [
        "#  clear the list\n",
        "accuracy.clear()\n",
        "accuracy_sem.clear()\n",
        "accuracy_syn.clear()\n",
        "\n",
        "print(\"window size is 1:\")\n",
        "update_accuracy('cbow_w2v_window_1.txt')\n",
        "print(\"\")\n",
        "print(\"window size is 2:\")\n",
        "update_accuracy('cbow_w2v_window_2.txt')\n",
        "print(\"\")\n",
        "print(\"window size is 3:\")\n",
        "update_accuracy('cbow_w2v_window_3.txt')\n",
        "print(\"\")\n",
        "print(\"window size is 4:\")\n",
        "update_accuracy('cbow_w2v_window_4.txt')\n",
        "print(\"\")\n",
        "print(\"window size is 5:\")\n",
        "update_accuracy('cbow_w2v_window_5.txt')\n",
        "print(\"\")\n",
        "print(\"window size is 6:\")\n",
        "update_accuracy('cbow_w2v_window_6.txt')\n",
        "print(\"\")\n",
        "print(\"window size is 7:\")\n",
        "update_accuracy('cbow_w2v_window_7.txt')\n",
        "print(\"\")\n",
        "print(\"window size is 8:\")\n",
        "update_accuracy('cbow_w2v_window_8.txt')\n",
        "print(\"\")\n",
        "print(\"window size is 9:\")\n",
        "update_accuracy('cbow_w2v_window_9.txt')\n",
        "print(\"\")\n",
        "print(\"window size is 10:\")\n",
        "update_accuracy('cbow_w2v_window_10.txt')\n",
        "print(\"\")\n",
        "print(\"window size is 11:\")\n",
        "update_accuracy('cbow_w2v_window_11.txt')\n",
        "print(\"\")\n",
        "print(\"window size is 12:\")\n",
        "update_accuracy('cbow_w2v_window_12.txt')\n",
        "print(\"\")\n",
        "print(\"window size is 13:\")\n",
        "update_accuracy('cbow_w2v_window_13.txt')\n",
        "print(\"\")\n",
        "print(\"window size is 14:\")\n",
        "update_accuracy('cbow_w2v_window_14.txt')\n",
        "print(\"\")\n",
        "print(\"window size is 15:\")\n",
        "update_accuracy('cbow_w2v_window_15.txt')\n",
        "print(\"\")\n",
        "print(\"window size is 16:\")\n",
        "update_accuracy('cbow_w2v_window_16.txt')"
      ],
      "execution_count": null,
      "outputs": [
        {
          "output_type": "stream",
          "text": [
            "window size is 1:\n",
            "Semantic accuracy: 5.10%  (217/4257)\n",
            "Syntactic accuracy: 11.33%  (1153/10173)\n",
            "Total accuracy: 9.49%  (1370/14430)\n",
            "\n",
            "window size is 2:\n",
            "Semantic accuracy: 5.36%  (228/4257)\n",
            "Syntactic accuracy: 11.15%  (1134/10173)\n",
            "Total accuracy: 9.44%  (1362/14430)\n",
            "\n",
            "window size is 3:\n",
            "Semantic accuracy: 4.63%  (197/4257)\n",
            "Syntactic accuracy: 11.64%  (1184/10173)\n",
            "Total accuracy: 9.57%  (1381/14430)\n",
            "\n",
            "window size is 4:\n",
            "Semantic accuracy: 4.06%  (173/4257)\n",
            "Syntactic accuracy: 11.70%  (1190/10173)\n",
            "Total accuracy: 9.45%  (1363/14430)\n",
            "\n",
            "window size is 5:\n",
            "Semantic accuracy: 4.04%  (172/4257)\n",
            "Syntactic accuracy: 11.07%  (1126/10173)\n",
            "Total accuracy: 9.00%  (1298/14430)\n",
            "\n",
            "window size is 6:\n",
            "Semantic accuracy: 4.49%  (191/4257)\n",
            "Syntactic accuracy: 11.34%  (1154/10173)\n",
            "Total accuracy: 9.32%  (1345/14430)\n",
            "\n",
            "window size is 7:\n",
            "Semantic accuracy: 5.19%  (221/4257)\n",
            "Syntactic accuracy: 10.61%  (1079/10173)\n",
            "Total accuracy: 9.01%  (1300/14430)\n",
            "\n",
            "window size is 8:\n",
            "Semantic accuracy: 3.66%  (156/4257)\n",
            "Syntactic accuracy: 11.43%  (1163/10173)\n",
            "Total accuracy: 9.14%  (1319/14430)\n",
            "\n",
            "window size is 9:\n",
            "Semantic accuracy: 4.28%  (182/4257)\n",
            "Syntactic accuracy: 11.63%  (1183/10173)\n",
            "Total accuracy: 9.46%  (1365/14430)\n",
            "\n",
            "window size is 10:\n",
            "Semantic accuracy: 4.32%  (184/4257)\n",
            "Syntactic accuracy: 10.70%  (1089/10173)\n",
            "Total accuracy: 8.82%  (1273/14430)\n",
            "\n",
            "window size is 11:\n",
            "Semantic accuracy: 4.51%  (192/4257)\n",
            "Syntactic accuracy: 11.15%  (1134/10173)\n",
            "Total accuracy: 9.19%  (1326/14430)\n",
            "\n",
            "window size is 12:\n",
            "Semantic accuracy: 3.76%  (160/4257)\n",
            "Syntactic accuracy: 10.85%  (1104/10173)\n",
            "Total accuracy: 8.76%  (1264/14430)\n",
            "\n",
            "window size is 13:\n",
            "Semantic accuracy: 4.32%  (184/4257)\n",
            "Syntactic accuracy: 11.78%  (1198/10173)\n",
            "Total accuracy: 9.58%  (1382/14430)\n",
            "\n",
            "window size is 14:\n",
            "Semantic accuracy: 3.97%  (169/4257)\n",
            "Syntactic accuracy: 11.11%  (1130/10173)\n",
            "Total accuracy: 9.00%  (1299/14430)\n",
            "\n",
            "window size is 15:\n",
            "Semantic accuracy: 3.43%  (146/4257)\n",
            "Syntactic accuracy: 11.32%  (1152/10173)\n",
            "Total accuracy: 9.00%  (1298/14430)\n",
            "\n",
            "window size is 16:\n",
            "Semantic accuracy: 3.95%  (168/4257)\n",
            "Syntactic accuracy: 10.90%  (1109/10173)\n",
            "Total accuracy: 8.85%  (1277/14430)\n"
          ],
          "name": "stdout"
        }
      ]
    },
    {
      "cell_type": "code",
      "metadata": {
        "colab": {
          "base_uri": "https://localhost:8080/",
          "height": 283
        },
        "id": "jL7aDsc9WT9K",
        "outputId": "8c22ad3b-92e9-4b0d-bdf3-4788f1e3f809"
      },
      "source": [
        "x = np.arange(1, 17, 1) \n",
        "y_overall = np.array(accuracy)\n",
        "y_sem = np.array(accuracy_sem)\n",
        "y_syn = np.array(accuracy_syn)\n",
        "# plotting\n",
        "\n",
        "plt.xlabel(\"Window Size\") \n",
        "plt.ylabel(\"Accurracy %\") \n",
        "plt.plot(x, y_overall, color =\"green\", label = \"overall\") \n",
        "plt.plot(x, y_sem, color =\"red\", label = \"Semantic\") \n",
        "plt.plot(x, y_syn, color =\"blue\", label = \"Syntactic\") \n",
        "plt.legend()\n",
        "plt.show()"
      ],
      "execution_count": null,
      "outputs": [
        {
          "output_type": "display_data",
          "data": {
            "image/png": "[encoded data removed]",
            "text/plain": [
              "<Figure size 432x288 with 1 Axes>"
            ]
          },
          "metadata": {
            "tags": [],
            "needs_background": "light"
          }
        }
      ]
    },
    {
      "cell_type": "markdown",
      "metadata": {
        "id": "KEW1zMgVMREr"
      },
      "source": [
        "## 3.2. Performance Evaluation\n",
        "\n",
        "\n",
        "The overall precision and recall accuracy looks good, there is not much difference between class 0 and class 1. f1-score is larger than 0.4 which means the model has good prediction result.\n"
      ]
    },
    {
      "cell_type": "code",
      "metadata": {
        "id": "LPHCb-bneTI9",
        "colab": {
          "base_uri": "https://localhost:8080/"
        },
        "outputId": "3ab2d3e4-26c3-47bc-c397-90f84c918fd2"
      },
      "source": [
        "model.eval()\n",
        "outputs = model(torch.from_numpy(np.array(test_pad_encoded)).to(device)) \n",
        "predicted = torch.argmax(outputs, 1)\n",
        "from sklearn.metrics import classification_report\n",
        "print(classification_report(label_test_encoded, predicted.cpu().numpy(),digits=4))"
      ],
      "execution_count": null,
      "outputs": [
        {
          "output_type": "stream",
          "text": [
            "              precision    recall  f1-score   support\n",
            "\n",
            "           0     0.6225    0.6910    0.6550      1000\n",
            "           1     0.6528    0.5810    0.6148      1000\n",
            "\n",
            "    accuracy                         0.6360      2000\n",
            "   macro avg     0.6377    0.6360    0.6349      2000\n",
            "weighted avg     0.6377    0.6360    0.6349      2000\n",
            "\n"
          ],
          "name": "stdout"
        }
      ]
    },
    {
      "cell_type": "markdown",
      "metadata": {
        "id": "P28Z1k36MZuo"
      },
      "source": [
        "## 3.3. Hyperparameter Testing\n",
        "*You are required to draw a graph(y-axis: f1, x-axis: epoch) for test set and explain the optimal number of epochs based on the learning rate you have already chosen.* Note that it will not be marked if you do not display it in the ipynb file.\n"
      ]
    },
    {
      "cell_type": "markdown",
      "metadata": {
        "id": "nysU5L9zu-0Z"
      },
      "source": [
        "According to the testing result, when learning rate is 0.001 and number of epoch is 14, it has the highest f1 score."
      ]
    },
    {
      "cell_type": "code",
      "metadata": {
        "id": "wTLyQEeZMZ2f",
        "colab": {
          "base_uri": "https://localhost:8080/",
          "height": 1000
        },
        "outputId": "8f8f3a64-b360-4839-9a02-157bc9f1f142"
      },
      "source": [
        "# Please comment your code\n",
        "from sklearn.metrics import classification_report\n",
        "from sklearn.metrics import precision_recall_fscore_support as score\n",
        "\n",
        "\n",
        "f1_array = []\n",
        "def get_f1(total_epoch, learning_rate):\n",
        "\n",
        "  criterion = nn.CrossEntropyLoss()\n",
        "  model = Bi_RNN_Model().to(device)\n",
        "  optimizer = optim.Adam(model.parameters(), lr=learning_rate)\n",
        "\n",
        "  for epoch in range(total_epoch):\n",
        "      train_loss = 0\n",
        "      for ind in range(0,len(train_pad_encoded),batch_size):\n",
        "          input_batch = train_pad_encoded[ind:min(ind+batch_size, len(train_pad_encoded))]\n",
        "          target_batch = label_train_encoded[ind:min(ind+batch_size, len(train_pad_encoded))]\n",
        "          input_batch_torch = torch.from_numpy(np.array(input_batch)).to(device)\n",
        "          target_batch_torch = torch.from_numpy(np.array(target_batch)).view(-1).to(device)\n",
        "\n",
        "          model.train()\n",
        "          optimizer.zero_grad()\n",
        "          outputs = model(input_batch_torch) \n",
        "          loss = criterion(outputs, target_batch_torch)\n",
        "          loss.backward()\n",
        "          optimizer.step()\n",
        "          \n",
        "          train_loss += loss.item()\n",
        "  model.eval()\n",
        "  outputs = model(torch.from_numpy(np.array(test_pad_encoded)).to(device)) \n",
        "  predicted = torch.argmax(outputs, 1)\n",
        "  report = classification_report(label_test_encoded, predicted.cpu().numpy(),digits=4)\n",
        "  precision,recall,fscore,support=score(label_test_encoded,predicted.cpu().numpy(),average='macro')\n",
        "  f1_array.append(fscore)\n",
        "\n",
        "\n",
        "def draw_epoch_diagram(learning_rate):\n",
        "  f1_array.clear()\n",
        "  for total_epoch in range(1,20):\n",
        "    get_f1(total_epoch, learning_rate)\n",
        "\n",
        "  x = np.arange(1, 20, 1) \n",
        "  y = np.array(f1_array)\n",
        "  # plotting\n",
        "  plt.title('learning rate: {}'.format(learning_rate))\n",
        "  plt.xlabel(\"# of epoch\") \n",
        "  plt.ylabel(\"f1\") \n",
        "  plt.plot(x, y, color =\"green\") \n",
        "  plt.show()\n",
        "\n",
        "draw_epoch_diagram(0.1)\n",
        "draw_epoch_diagram(0.01)\n",
        "draw_epoch_diagram(0.001)\n",
        "draw_epoch_diagram(0.0001)\n",
        "draw_epoch_diagram(0.00001)"
      ],
      "execution_count": null,
      "outputs": [
        {
          "output_type": "stream",
          "text": [
            "/usr/local/lib/python3.7/dist-packages/sklearn/metrics/_classification.py:1272: UndefinedMetricWarning: Precision and F-score are ill-defined and being set to 0.0 in labels with no predicted samples. Use `zero_division` parameter to control this behavior.\n",
            "  _warn_prf(average, modifier, msg_start, len(result))\n"
          ],
          "name": "stderr"
        },
        {
          "output_type": "display_data",
          "data": {
            "image/png": "[encoded data removed]",
            "text/plain": [
              "<Figure size 432x288 with 1 Axes>"
            ]
          },
          "metadata": {
            "tags": [],
            "needs_background": "light"
          }
        },
        {
          "output_type": "display_data",
          "data": {
            "image/png": "[encoded data removed]",
            "text/plain": [
              "<Figure size 432x288 with 1 Axes>"
            ]
          },
          "metadata": {
            "tags": [],
            "needs_background": "light"
          }
        },
        {
          "output_type": "display_data",
          "data": {
            "image/png": "[encoded data removed]",
            "text/plain": [
              "<Figure size 432x288 with 1 Axes>"
            ]
          },
          "metadata": {
            "tags": [],
            "needs_background": "light"
          }
        },
        {
          "output_type": "display_data",
          "data": {
            "image/png": "[encoded data removed]",
            "text/plain": [
              "<Figure size 432x288 with 1 Axes>"
            ]
          },
          "metadata": {
            "tags": [],
            "needs_background": "light"
          }
        },
        {
          "output_type": "display_data",
          "data": {
            "image/png": "[encoded data removed]",
            "text/plain": [
              "<Figure size 432x288 with 1 Axes>"
            ]
          },
          "metadata": {
            "tags": [],
            "needs_background": "light"
          }
        }
      ]
    },
    {
      "cell_type": "markdown",
      "metadata": {
        "id": "sfv8rWTKPzeb"
      },
      "source": [
        "## Object Oriented Programming codes here"
      ]
    },
    {
      "cell_type": "markdown",
      "metadata": {
        "id": "TS23AjBRSZaX"
      },
      "source": [
        "*You can use multiple code snippets. Just add more if needed* "
      ]
    },
    {
      "cell_type": "code",
      "metadata": {
        "id": "1hVmx4E52dXS"
      },
      "source": [
        "# If you used OOP style, use this section"
      ],
      "execution_count": null,
      "outputs": []
    }
  ]
}